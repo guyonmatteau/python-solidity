{
 "cells": [
  {
   "cell_type": "code",
   "execution_count": 2,
   "id": "1eff4787",
   "metadata": {},
   "outputs": [
    {
     "name": "stdout",
     "output_type": "stream",
     "text": [
      "The autoreload extension is already loaded. To reload it, use:\n",
      "  %reload_ext autoreload\n"
     ]
    }
   ],
   "source": [
    "%load_ext autoreload\n",
    "%autoreload 2"
   ]
  },
  {
   "cell_type": "code",
   "execution_count": 3,
   "id": "3ee534f5",
   "metadata": {},
   "outputs": [],
   "source": [
    "import logging\n",
    "import sys\n",
    "\n",
    "logging.basicConfig(stream=sys.stdout, level=logging.INFO)\n",
    "from dotenv import load_dotenv\n",
    "\n",
    "import urllib3\n",
    "urllib3.disable_warnings()"
   ]
  },
  {
   "cell_type": "code",
   "execution_count": 4,
   "id": "5aec4da2",
   "metadata": {},
   "outputs": [
    {
     "data": {
      "text/plain": [
       "True"
      ]
     },
     "execution_count": 4,
     "metadata": {},
     "output_type": "execute_result"
    }
   ],
   "source": [
    "load_dotenv(dotenv_path='.env.main')"
   ]
  },
  {
   "cell_type": "code",
   "execution_count": 5,
   "id": "4f9b5356",
   "metadata": {},
   "outputs": [],
   "source": [
    "from interface.w3 import Provider, Contract"
   ]
  },
  {
   "cell_type": "code",
   "execution_count": 6,
   "id": "43b0a0ab",
   "metadata": {},
   "outputs": [
    {
     "name": "stdout",
     "output_type": "stream",
     "text": [
      "INFO:interface.w3:Reading config from conf/main.ini\n",
      "INFO:interface.w3:Reading secrets from .env.main\n",
      "INFO:interface.w3:Using local fork from main\n",
      "INFO:interface.w3:RPC url: http://127.0.0.1:8545/\n",
      "INFO:interface.w3:Connected to chain main: True\n"
     ]
    }
   ],
   "source": [
    "p = Provider(chain='main', fork=True)"
   ]
  },
  {
   "cell_type": "code",
   "execution_count": 17,
   "id": "4d3ccaf0",
   "metadata": {},
   "outputs": [
    {
     "name": "stdout",
     "output_type": "stream",
     "text": [
      "INFO:interface.w3:Reading config from conf/main.ini\n",
      "INFO:interface.w3:Reading secrets from .env.main\n",
      "INFO:interface.w3:Using local fork from main\n",
      "INFO:interface.w3:RPC url: http://127.0.0.1:8545/\n",
      "INFO:interface.w3:Connected to chain main: True\n",
      "INFO:interface.w3:Getting contract ABI from source at out/Swap.sol/Swap.json\n"
     ]
    }
   ],
   "source": [
    "DEPLOYED = '0x9e7F7d0E8b8F38e3CF2b3F7dd362ba2e9E82baa4'\n",
    "swap = Contract(address=DEPLOYED, name='Swap')"
   ]
  },
  {
   "cell_type": "code",
   "execution_count": 8,
   "id": "2a581898",
   "metadata": {},
   "outputs": [
    {
     "data": {
      "text/plain": [
       "HexBytes('0x6c193a1bfc333ddd0f5427b60f8b95382a58f5914529d9f72c792c5b2f64c1c8')"
      ]
     },
     "execution_count": 8,
     "metadata": {},
     "output_type": "execute_result"
    }
   ],
   "source": [
    "contract.functions.transferETH(\n",
    "    contract.w3.to_checksum_address('0xc02aaa39b223fe8d0a0e5c4f27ead9083c756cc2'), \n",
    "    int(2e17)).transact()  # transact since we need to pay for the transaction"
   ]
  },
  {
   "cell_type": "code",
   "execution_count": null,
   "id": "4da1e7da",
   "metadata": {},
   "outputs": [],
   "source": [
    "# check weth after"
   ]
  },
  {
   "cell_type": "code",
   "execution_count": 22,
   "id": "a898422e",
   "metadata": {},
   "outputs": [
    {
     "name": "stdout",
     "output_type": "stream",
     "text": [
      "INFO:interface.w3:Reading config from conf/main.ini\n",
      "INFO:interface.w3:Reading secrets from .env.main\n",
      "INFO:interface.w3:Using local fork from main\n",
      "INFO:interface.w3:RPC url: http://127.0.0.1:8545/\n",
      "INFO:interface.w3:Connected to chain main: True\n",
      "INFO:interface.w3:Getting contract ABI for 0xc02aaa39b223fe8d0a0e5c4f27ead9083c756cc2 from https://api.etherscan.io/api/\n"
     ]
    },
    {
     "data": {
      "text/plain": [
       "1200000000000000000"
      ]
     },
     "execution_count": 22,
     "metadata": {},
     "output_type": "execute_result"
    }
   ],
   "source": [
    "weth = Contract(address='0xc02aaa39b223fe8d0a0e5c4f27ead9083c756cc2')\n",
    "weth.functions.balanceOf(DEPLOYED).call()"
   ]
  },
  {
   "cell_type": "code",
   "execution_count": 23,
   "id": "bd0d103f",
   "metadata": {},
   "outputs": [
    {
     "data": {
      "text/plain": [
       "1.2"
      ]
     },
     "execution_count": 23,
     "metadata": {},
     "output_type": "execute_result"
    }
   ],
   "source": [
    "1200000000000000000 / 1e18"
   ]
  },
  {
   "cell_type": "code",
   "execution_count": 10,
   "id": "6f3a71a6",
   "metadata": {},
   "outputs": [
    {
     "data": {
      "text/plain": [
       "{'url': {'rpc': 'https://eth-mainnet.g.alchemy.com/v2/',\n",
       "  'block_explorer': 'https://api.etherscan.io/api/',\n",
       "  'localhost': 'http://127.0.0.1:8545/'},\n",
       " 'routers': {'uniswapv2': '0x7a250d5630B4cF539739dF2C5dAcb4c659F2488D',\n",
       "  'uniswapv3': '0x68b3465833fb72A70ecDF485E0e4C7bD8665Fc45',\n",
       "  'sushiswap': '0xd9e1cE17f2641f24aE83637ab66a2cca9C378B9F'},\n",
       " 'tokens': {'usdc': '0xa0b86991c6218b36c1d19d4a2e9eb0ce3606eb48',\n",
       "  'usdt': '0xdac17f958d2ee523a2206206994597c13d831ec7',\n",
       "  'weth': '0xc02aaa39b223fe8d0a0e5c4f27ead9083c756cc2'}}"
      ]
     },
     "execution_count": 10,
     "metadata": {},
     "output_type": "execute_result"
    }
   ],
   "source": [
    "p.config._sections"
   ]
  },
  {
   "cell_type": "code",
   "execution_count": 13,
   "id": "91305026",
   "metadata": {},
   "outputs": [],
   "source": [
    "univ3_address = p.config._sections['routers']['uniswapv3']\n",
    "univ2_address = p.config._sections['routers']['uniswapv2']\n",
    "sushi_address = p.config._sections['routers']['sushiswap']\n",
    "weth_address = p.config._sections['tokens']['weth']\n",
    "usdc_address = p.config._sections['tokens']['usdc']\n",
    "usdt_address = p.config._sections['tokens']['usdt']"
   ]
  },
  {
   "cell_type": "code",
   "execution_count": 14,
   "id": "0efbdb80",
   "metadata": {},
   "outputs": [
    {
     "data": {
      "text/plain": [
       "'0xc02aaa39b223fe8d0a0e5c4f27ead9083c756cc2'"
      ]
     },
     "execution_count": 14,
     "metadata": {},
     "output_type": "execute_result"
    }
   ],
   "source": [
    "weth_address"
   ]
  },
  {
   "cell_type": "code",
   "execution_count": 15,
   "id": "efa1b6a6",
   "metadata": {},
   "outputs": [
    {
     "data": {
      "text/plain": [
       "'0xdac17f958d2ee523a2206206994597c13d831ec7'"
      ]
     },
     "execution_count": 15,
     "metadata": {},
     "output_type": "execute_result"
    }
   ],
   "source": [
    "usdt_address"
   ]
  },
  {
   "cell_type": "code",
   "execution_count": 21,
   "id": "f1088a91",
   "metadata": {},
   "outputs": [
    {
     "data": {
      "text/plain": [
       "'0x68b3465833fb72A70ecDF485E0e4C7bD8665Fc45'"
      ]
     },
     "execution_count": 21,
     "metadata": {},
     "output_type": "execute_result"
    }
   ],
   "source": [
    "univ3_address"
   ]
  },
  {
   "cell_type": "code",
   "execution_count": 30,
   "id": "b5874744",
   "metadata": {},
   "outputs": [],
   "source": [
    "account0 = '0xf39Fd6e51aad88F6F4ce6aB8827279cffFb92266'\n",
    "nonce = swap.w3.eth.get_transaction_count(swap.w3.to_checksum_address(account0))"
   ]
  },
  {
   "cell_type": "code",
   "execution_count": 31,
   "id": "0c1c00a9",
   "metadata": {},
   "outputs": [
    {
     "data": {
      "text/plain": [
       "448"
      ]
     },
     "execution_count": 31,
     "metadata": {},
     "output_type": "execute_result"
    }
   ],
   "source": [
    "nonce"
   ]
  },
  {
   "cell_type": "code",
   "execution_count": 33,
   "id": "5fca389d",
   "metadata": {},
   "outputs": [
    {
     "data": {
      "text/plain": [
       "31337"
      ]
     },
     "execution_count": 33,
     "metadata": {},
     "output_type": "execute_result"
    }
   ],
   "source": [
    "swap.w3.eth.chain_id"
   ]
  },
  {
   "cell_type": "code",
   "execution_count": 36,
   "id": "38a62e4b",
   "metadata": {},
   "outputs": [
    {
     "ename": "Web3ValidationError",
     "evalue": "\nCould not identify the intended function with name `swap`, positional arguments with type(s) `` and keyword arguments with type(s) `{}`.\nFound 1 function(s) with the name `swap`: ['swap(address,address,address,uint24,uint256)']\nFunction invocation failed due to improper number of arguments.",
     "output_type": "error",
     "traceback": [
      "\u001b[0;31m---------------------------------------------------------------------------\u001b[0m",
      "\u001b[0;31mWeb3ValidationError\u001b[0m                       Traceback (most recent call last)",
      "Cell \u001b[0;32mIn[36], line 2\u001b[0m\n\u001b[1;32m      1\u001b[0m chain_id \u001b[38;5;241m=\u001b[39m swap\u001b[38;5;241m.\u001b[39mw3\u001b[38;5;241m.\u001b[39meth\u001b[38;5;241m.\u001b[39mchain_id\n\u001b[0;32m----> 2\u001b[0m call_function \u001b[38;5;241m=\u001b[39m \u001b[43mswap\u001b[49m\u001b[38;5;241;43m.\u001b[39;49m\u001b[43mfunctions\u001b[49m\u001b[38;5;241;43m.\u001b[39;49m\u001b[43mswap\u001b[49m\u001b[43m(\u001b[49m\n\u001b[1;32m      3\u001b[0m \u001b[43m)\u001b[49m\u001b[38;5;241m.\u001b[39mbuild_transaction({\u001b[38;5;124m\"\u001b[39m\u001b[38;5;124mchainId\u001b[39m\u001b[38;5;124m\"\u001b[39m: chain_id, \u001b[38;5;124m\"\u001b[39m\u001b[38;5;124mfrom\u001b[39m\u001b[38;5;124m\"\u001b[39m: account0, \u001b[38;5;124m\"\u001b[39m\u001b[38;5;124mnonce\u001b[39m\u001b[38;5;124m\"\u001b[39m: nonce})\n",
      "File \u001b[0;32m~/.local/lib/python3.10/site-packages/web3/contract/contract.py:419\u001b[0m, in \u001b[0;36mContractFunction.__call__\u001b[0;34m(self, *args, **kwargs)\u001b[0m\n\u001b[1;32m    417\u001b[0m \u001b[38;5;28;01melse\u001b[39;00m:\n\u001b[1;32m    418\u001b[0m     clone\u001b[38;5;241m.\u001b[39mkwargs \u001b[38;5;241m=\u001b[39m kwargs\n\u001b[0;32m--> 419\u001b[0m \u001b[43mclone\u001b[49m\u001b[38;5;241;43m.\u001b[39;49m\u001b[43m_set_function_info\u001b[49m\u001b[43m(\u001b[49m\u001b[43m)\u001b[49m\n\u001b[1;32m    420\u001b[0m \u001b[38;5;28;01mreturn\u001b[39;00m clone\n",
      "File \u001b[0;32m~/.local/lib/python3.10/site-packages/web3/contract/base_contract.py:667\u001b[0m, in \u001b[0;36mBaseContractFunction._set_function_info\u001b[0;34m(self)\u001b[0m\n\u001b[1;32m    665\u001b[0m \u001b[38;5;28;01mdef\u001b[39;00m \u001b[38;5;21m_set_function_info\u001b[39m(\u001b[38;5;28mself\u001b[39m) \u001b[38;5;241m-\u001b[39m\u001b[38;5;241m>\u001b[39m \u001b[38;5;28;01mNone\u001b[39;00m:\n\u001b[1;32m    666\u001b[0m     \u001b[38;5;28;01mif\u001b[39;00m \u001b[38;5;129;01mnot\u001b[39;00m \u001b[38;5;28mself\u001b[39m\u001b[38;5;241m.\u001b[39mabi:\n\u001b[0;32m--> 667\u001b[0m         \u001b[38;5;28mself\u001b[39m\u001b[38;5;241m.\u001b[39mabi \u001b[38;5;241m=\u001b[39m \u001b[43mfind_matching_fn_abi\u001b[49m\u001b[43m(\u001b[49m\n\u001b[1;32m    668\u001b[0m \u001b[43m            \u001b[49m\u001b[38;5;28;43mself\u001b[39;49m\u001b[38;5;241;43m.\u001b[39;49m\u001b[43mcontract_abi\u001b[49m\u001b[43m,\u001b[49m\n\u001b[1;32m    669\u001b[0m \u001b[43m            \u001b[49m\u001b[38;5;28;43mself\u001b[39;49m\u001b[38;5;241;43m.\u001b[39;49m\u001b[43mw3\u001b[49m\u001b[38;5;241;43m.\u001b[39;49m\u001b[43mcodec\u001b[49m\u001b[43m,\u001b[49m\n\u001b[1;32m    670\u001b[0m \u001b[43m            \u001b[49m\u001b[38;5;28;43mself\u001b[39;49m\u001b[38;5;241;43m.\u001b[39;49m\u001b[43mfunction_identifier\u001b[49m\u001b[43m,\u001b[49m\n\u001b[1;32m    671\u001b[0m \u001b[43m            \u001b[49m\u001b[38;5;28;43mself\u001b[39;49m\u001b[38;5;241;43m.\u001b[39;49m\u001b[43margs\u001b[49m\u001b[43m,\u001b[49m\n\u001b[1;32m    672\u001b[0m \u001b[43m            \u001b[49m\u001b[38;5;28;43mself\u001b[39;49m\u001b[38;5;241;43m.\u001b[39;49m\u001b[43mkwargs\u001b[49m\u001b[43m,\u001b[49m\n\u001b[1;32m    673\u001b[0m \u001b[43m        \u001b[49m\u001b[43m)\u001b[49m\n\u001b[1;32m    674\u001b[0m     \u001b[38;5;28;01mif\u001b[39;00m \u001b[38;5;28mself\u001b[39m\u001b[38;5;241m.\u001b[39mfunction_identifier \u001b[38;5;129;01min\u001b[39;00m [FallbackFn, ReceiveFn]:\n\u001b[1;32m    675\u001b[0m         \u001b[38;5;28mself\u001b[39m\u001b[38;5;241m.\u001b[39mselector \u001b[38;5;241m=\u001b[39m encode_hex(\u001b[38;5;124mb\u001b[39m\u001b[38;5;124m\"\u001b[39m\u001b[38;5;124m\"\u001b[39m)\n",
      "File \u001b[0;32m~/.local/lib/python3.10/site-packages/web3/_utils/contracts.py:208\u001b[0m, in \u001b[0;36mfind_matching_fn_abi\u001b[0;34m(abi, abi_codec, fn_identifier, args, kwargs)\u001b[0m\n\u001b[1;32m    197\u001b[0m collapsed_kwargs \u001b[38;5;241m=\u001b[39m \u001b[38;5;28mdict\u001b[39m(\n\u001b[1;32m    198\u001b[0m     {(k, extract_argument_types([v])) \u001b[38;5;28;01mfor\u001b[39;00m k, v \u001b[38;5;129;01min\u001b[39;00m kwargs\u001b[38;5;241m.\u001b[39mitems()}\n\u001b[1;32m    199\u001b[0m )\n\u001b[1;32m    200\u001b[0m message \u001b[38;5;241m=\u001b[39m (\n\u001b[1;32m    201\u001b[0m     \u001b[38;5;124mf\u001b[39m\u001b[38;5;124m\"\u001b[39m\u001b[38;5;130;01m\\n\u001b[39;00m\u001b[38;5;124mCould not identify the intended function with name `\u001b[39m\u001b[38;5;132;01m{\u001b[39;00mfn_identifier\u001b[38;5;132;01m}\u001b[39;00m\u001b[38;5;124m`, \u001b[39m\u001b[38;5;124m\"\u001b[39m\n\u001b[1;32m    202\u001b[0m     \u001b[38;5;124mf\u001b[39m\u001b[38;5;124m\"\u001b[39m\u001b[38;5;124mpositional arguments with type(s) `\u001b[39m\u001b[38;5;132;01m{\u001b[39;00mcollapsed_args\u001b[38;5;132;01m}\u001b[39;00m\u001b[38;5;124m` and \u001b[39m\u001b[38;5;124m\"\u001b[39m\n\u001b[0;32m   (...)\u001b[0m\n\u001b[1;32m    205\u001b[0m     \u001b[38;5;124mf\u001b[39m\u001b[38;5;124m\"\u001b[39m\u001b[38;5;124mthe name `\u001b[39m\u001b[38;5;132;01m{\u001b[39;00mfn_identifier\u001b[38;5;132;01m}\u001b[39;00m\u001b[38;5;124m`: \u001b[39m\u001b[38;5;132;01m{\u001b[39;00mmatching_function_signatures\u001b[38;5;132;01m}\u001b[39;00m\u001b[38;5;132;01m{\u001b[39;00mdiagnosis\u001b[38;5;132;01m}\u001b[39;00m\u001b[38;5;124m\"\u001b[39m\n\u001b[1;32m    206\u001b[0m )\n\u001b[0;32m--> 208\u001b[0m \u001b[38;5;28;01mraise\u001b[39;00m Web3ValidationError(message)\n",
      "\u001b[0;31mWeb3ValidationError\u001b[0m: \nCould not identify the intended function with name `swap`, positional arguments with type(s) `` and keyword arguments with type(s) `{}`.\nFound 1 function(s) with the name `swap`: ['swap(address,address,address,uint24,uint256)']\nFunction invocation failed due to improper number of arguments."
     ]
    }
   ],
   "source": [
    "chain_id = swap.w3.eth.chain_id\n",
    "call_function = swap.functions.swap(\n",
    ").build_transaction({\"chainId\": chain_id, \"from\": account0, \"nonce\": nonce})"
   ]
  },
  {
   "cell_type": "code",
   "execution_count": null,
   "id": "68b05e67",
   "metadata": {},
   "outputs": [],
   "source": []
  },
  {
   "cell_type": "code",
   "execution_count": 29,
   "id": "789b16f2",
   "metadata": {},
   "outputs": [
    {
     "ename": "ContractLogicError",
     "evalue": "execution reverted: Error: Transaction reverted without a reason string",
     "output_type": "error",
     "traceback": [
      "\u001b[0;31m---------------------------------------------------------------------------\u001b[0m",
      "\u001b[0;31mContractLogicError\u001b[0m                        Traceback (most recent call last)",
      "Cell \u001b[0;32mIn[29], line 7\u001b[0m\n\u001b[1;32m      1\u001b[0m \u001b[43mswap\u001b[49m\u001b[38;5;241;43m.\u001b[39;49m\u001b[43mfunctions\u001b[49m\u001b[38;5;241;43m.\u001b[39;49m\u001b[43mswap\u001b[49m\u001b[43m(\u001b[49m\n\u001b[1;32m      2\u001b[0m \u001b[43m    \u001b[49m\u001b[43mswap\u001b[49m\u001b[38;5;241;43m.\u001b[39;49m\u001b[43mw3\u001b[49m\u001b[38;5;241;43m.\u001b[39;49m\u001b[43mto_checksum_address\u001b[49m\u001b[43m(\u001b[49m\u001b[43muniv3_address\u001b[49m\u001b[43m)\u001b[49m\u001b[43m,\u001b[49m\n\u001b[1;32m      3\u001b[0m \u001b[43m    \u001b[49m\u001b[43mswap\u001b[49m\u001b[38;5;241;43m.\u001b[39;49m\u001b[43mw3\u001b[49m\u001b[38;5;241;43m.\u001b[39;49m\u001b[43mto_checksum_address\u001b[49m\u001b[43m(\u001b[49m\u001b[43mweth_address\u001b[49m\u001b[43m)\u001b[49m\u001b[43m,\u001b[49m\n\u001b[1;32m      4\u001b[0m \u001b[43m    \u001b[49m\u001b[43mswap\u001b[49m\u001b[38;5;241;43m.\u001b[39;49m\u001b[43mw3\u001b[49m\u001b[38;5;241;43m.\u001b[39;49m\u001b[43mto_checksum_address\u001b[49m\u001b[43m(\u001b[49m\u001b[43musdt_address\u001b[49m\u001b[43m)\u001b[49m\u001b[43m,\u001b[49m\n\u001b[1;32m      5\u001b[0m \u001b[43m    \u001b[49m\u001b[38;5;241;43m3000\u001b[39;49m\u001b[43m,\u001b[49m\u001b[43m \u001b[49m\n\u001b[1;32m      6\u001b[0m \u001b[43m    \u001b[49m\u001b[38;5;28;43mint\u001b[39;49m\u001b[43m(\u001b[49m\u001b[38;5;241;43m1e17\u001b[39;49m\u001b[43m)\u001b[49m\n\u001b[0;32m----> 7\u001b[0m \u001b[43m)\u001b[49m\u001b[38;5;241;43m.\u001b[39;49m\u001b[43mtransact\u001b[49m\u001b[43m(\u001b[49m\u001b[43m)\u001b[49m\n",
      "File \u001b[0;32m~/.local/lib/python3.10/site-packages/web3/contract/contract.py:479\u001b[0m, in \u001b[0;36mContractFunction.transact\u001b[0;34m(self, transaction)\u001b[0m\n\u001b[1;32m    477\u001b[0m \u001b[38;5;28;01mdef\u001b[39;00m \u001b[38;5;21mtransact\u001b[39m(\u001b[38;5;28mself\u001b[39m, transaction: Optional[TxParams] \u001b[38;5;241m=\u001b[39m \u001b[38;5;28;01mNone\u001b[39;00m) \u001b[38;5;241m-\u001b[39m\u001b[38;5;241m>\u001b[39m HexBytes:\n\u001b[1;32m    478\u001b[0m     setup_transaction \u001b[38;5;241m=\u001b[39m \u001b[38;5;28mself\u001b[39m\u001b[38;5;241m.\u001b[39m_transact(transaction)\n\u001b[0;32m--> 479\u001b[0m     \u001b[38;5;28;01mreturn\u001b[39;00m \u001b[43mtransact_with_contract_function\u001b[49m\u001b[43m(\u001b[49m\n\u001b[1;32m    480\u001b[0m \u001b[43m        \u001b[49m\u001b[38;5;28;43mself\u001b[39;49m\u001b[38;5;241;43m.\u001b[39;49m\u001b[43maddress\u001b[49m\u001b[43m,\u001b[49m\n\u001b[1;32m    481\u001b[0m \u001b[43m        \u001b[49m\u001b[38;5;28;43mself\u001b[39;49m\u001b[38;5;241;43m.\u001b[39;49m\u001b[43mw3\u001b[49m\u001b[43m,\u001b[49m\n\u001b[1;32m    482\u001b[0m \u001b[43m        \u001b[49m\u001b[38;5;28;43mself\u001b[39;49m\u001b[38;5;241;43m.\u001b[39;49m\u001b[43mfunction_identifier\u001b[49m\u001b[43m,\u001b[49m\n\u001b[1;32m    483\u001b[0m \u001b[43m        \u001b[49m\u001b[43msetup_transaction\u001b[49m\u001b[43m,\u001b[49m\n\u001b[1;32m    484\u001b[0m \u001b[43m        \u001b[49m\u001b[38;5;28;43mself\u001b[39;49m\u001b[38;5;241;43m.\u001b[39;49m\u001b[43mcontract_abi\u001b[49m\u001b[43m,\u001b[49m\n\u001b[1;32m    485\u001b[0m \u001b[43m        \u001b[49m\u001b[38;5;28;43mself\u001b[39;49m\u001b[38;5;241;43m.\u001b[39;49m\u001b[43mabi\u001b[49m\u001b[43m,\u001b[49m\n\u001b[1;32m    486\u001b[0m \u001b[43m        \u001b[49m\u001b[38;5;241;43m*\u001b[39;49m\u001b[38;5;28;43mself\u001b[39;49m\u001b[38;5;241;43m.\u001b[39;49m\u001b[43margs\u001b[49m\u001b[43m,\u001b[49m\n\u001b[1;32m    487\u001b[0m \u001b[43m        \u001b[49m\u001b[38;5;241;43m*\u001b[39;49m\u001b[38;5;241;43m*\u001b[39;49m\u001b[38;5;28;43mself\u001b[39;49m\u001b[38;5;241;43m.\u001b[39;49m\u001b[43mkwargs\u001b[49m\u001b[43m,\u001b[49m\n\u001b[1;32m    488\u001b[0m \u001b[43m    \u001b[49m\u001b[43m)\u001b[49m\n",
      "File \u001b[0;32m~/.local/lib/python3.10/site-packages/web3/contract/utils.py:172\u001b[0m, in \u001b[0;36mtransact_with_contract_function\u001b[0;34m(address, w3, function_name, transaction, contract_abi, fn_abi, *args, **kwargs)\u001b[0m\n\u001b[1;32m    157\u001b[0m \u001b[38;5;124;03m\"\"\"\u001b[39;00m\n\u001b[1;32m    158\u001b[0m \u001b[38;5;124;03mHelper function for interacting with a contract function by sending a\u001b[39;00m\n\u001b[1;32m    159\u001b[0m \u001b[38;5;124;03mtransaction.\u001b[39;00m\n\u001b[1;32m    160\u001b[0m \u001b[38;5;124;03m\"\"\"\u001b[39;00m\n\u001b[1;32m    161\u001b[0m transact_transaction \u001b[38;5;241m=\u001b[39m prepare_transaction(\n\u001b[1;32m    162\u001b[0m     address,\n\u001b[1;32m    163\u001b[0m     w3,\n\u001b[0;32m   (...)\u001b[0m\n\u001b[1;32m    169\u001b[0m     fn_kwargs\u001b[38;5;241m=\u001b[39mkwargs,\n\u001b[1;32m    170\u001b[0m )\n\u001b[0;32m--> 172\u001b[0m txn_hash \u001b[38;5;241m=\u001b[39m \u001b[43mw3\u001b[49m\u001b[38;5;241;43m.\u001b[39;49m\u001b[43meth\u001b[49m\u001b[38;5;241;43m.\u001b[39;49m\u001b[43msend_transaction\u001b[49m\u001b[43m(\u001b[49m\u001b[43mtransact_transaction\u001b[49m\u001b[43m)\u001b[49m\n\u001b[1;32m    173\u001b[0m \u001b[38;5;28;01mreturn\u001b[39;00m txn_hash\n",
      "File \u001b[0;32m~/.local/lib/python3.10/site-packages/web3/eth/eth.py:362\u001b[0m, in \u001b[0;36mEth.send_transaction\u001b[0;34m(self, transaction)\u001b[0m\n\u001b[1;32m    361\u001b[0m \u001b[38;5;28;01mdef\u001b[39;00m \u001b[38;5;21msend_transaction\u001b[39m(\u001b[38;5;28mself\u001b[39m, transaction: TxParams) \u001b[38;5;241m-\u001b[39m\u001b[38;5;241m>\u001b[39m HexBytes:\n\u001b[0;32m--> 362\u001b[0m     \u001b[38;5;28;01mreturn\u001b[39;00m \u001b[38;5;28;43mself\u001b[39;49m\u001b[38;5;241;43m.\u001b[39;49m\u001b[43m_send_transaction\u001b[49m\u001b[43m(\u001b[49m\u001b[43mtransaction\u001b[49m\u001b[43m)\u001b[49m\n",
      "File \u001b[0;32m~/.local/lib/python3.10/site-packages/web3/module.py:68\u001b[0m, in \u001b[0;36mretrieve_blocking_method_call_fn.<locals>.caller\u001b[0;34m(*args, **kwargs)\u001b[0m\n\u001b[1;32m     62\u001b[0m     \u001b[38;5;28;01mreturn\u001b[39;00m LogFilter(eth_module\u001b[38;5;241m=\u001b[39mmodule, filter_id\u001b[38;5;241m=\u001b[39merr\u001b[38;5;241m.\u001b[39mfilter_id)\n\u001b[1;32m     63\u001b[0m (\n\u001b[1;32m     64\u001b[0m     result_formatters,\n\u001b[1;32m     65\u001b[0m     error_formatters,\n\u001b[1;32m     66\u001b[0m     null_result_formatters,\n\u001b[1;32m     67\u001b[0m ) \u001b[38;5;241m=\u001b[39m response_formatters\n\u001b[0;32m---> 68\u001b[0m result \u001b[38;5;241m=\u001b[39m \u001b[43mw3\u001b[49m\u001b[38;5;241;43m.\u001b[39;49m\u001b[43mmanager\u001b[49m\u001b[38;5;241;43m.\u001b[39;49m\u001b[43mrequest_blocking\u001b[49m\u001b[43m(\u001b[49m\n\u001b[1;32m     69\u001b[0m \u001b[43m    \u001b[49m\u001b[43mmethod_str\u001b[49m\u001b[43m,\u001b[49m\u001b[43m \u001b[49m\u001b[43mparams\u001b[49m\u001b[43m,\u001b[49m\u001b[43m \u001b[49m\u001b[43merror_formatters\u001b[49m\u001b[43m,\u001b[49m\u001b[43m \u001b[49m\u001b[43mnull_result_formatters\u001b[49m\n\u001b[1;32m     70\u001b[0m \u001b[43m\u001b[49m\u001b[43m)\u001b[49m\n\u001b[1;32m     71\u001b[0m \u001b[38;5;28;01mreturn\u001b[39;00m apply_result_formatters(result_formatters, result)\n",
      "File \u001b[0;32m~/.local/lib/python3.10/site-packages/web3/manager.py:231\u001b[0m, in \u001b[0;36mRequestManager.request_blocking\u001b[0;34m(self, method, params, error_formatters, null_result_formatters)\u001b[0m\n\u001b[1;32m    221\u001b[0m \u001b[38;5;28;01mdef\u001b[39;00m \u001b[38;5;21mrequest_blocking\u001b[39m(\n\u001b[1;32m    222\u001b[0m     \u001b[38;5;28mself\u001b[39m,\n\u001b[1;32m    223\u001b[0m     method: Union[RPCEndpoint, Callable[\u001b[38;5;241m.\u001b[39m\u001b[38;5;241m.\u001b[39m\u001b[38;5;241m.\u001b[39m, RPCEndpoint]],\n\u001b[0;32m   (...)\u001b[0m\n\u001b[1;32m    226\u001b[0m     null_result_formatters: Optional[Callable[\u001b[38;5;241m.\u001b[39m\u001b[38;5;241m.\u001b[39m\u001b[38;5;241m.\u001b[39m, Any]] \u001b[38;5;241m=\u001b[39m \u001b[38;5;28;01mNone\u001b[39;00m,\n\u001b[1;32m    227\u001b[0m ) \u001b[38;5;241m-\u001b[39m\u001b[38;5;241m>\u001b[39m Any:\n\u001b[1;32m    228\u001b[0m     \u001b[38;5;124;03m\"\"\"\u001b[39;00m\n\u001b[1;32m    229\u001b[0m \u001b[38;5;124;03m    Make a synchronous request using the provider\u001b[39;00m\n\u001b[1;32m    230\u001b[0m \u001b[38;5;124;03m    \"\"\"\u001b[39;00m\n\u001b[0;32m--> 231\u001b[0m     response \u001b[38;5;241m=\u001b[39m \u001b[38;5;28;43mself\u001b[39;49m\u001b[38;5;241;43m.\u001b[39;49m\u001b[43m_make_request\u001b[49m\u001b[43m(\u001b[49m\u001b[43mmethod\u001b[49m\u001b[43m,\u001b[49m\u001b[43m \u001b[49m\u001b[43mparams\u001b[49m\u001b[43m)\u001b[49m\n\u001b[1;32m    232\u001b[0m     \u001b[38;5;28;01mreturn\u001b[39;00m \u001b[38;5;28mself\u001b[39m\u001b[38;5;241m.\u001b[39mformatted_response(\n\u001b[1;32m    233\u001b[0m         response, params, error_formatters, null_result_formatters\n\u001b[1;32m    234\u001b[0m     )\n",
      "File \u001b[0;32m~/.local/lib/python3.10/site-packages/web3/manager.py:175\u001b[0m, in \u001b[0;36mRequestManager._make_request\u001b[0;34m(self, method, params)\u001b[0m\n\u001b[1;32m    171\u001b[0m request_func \u001b[38;5;241m=\u001b[39m provider\u001b[38;5;241m.\u001b[39mrequest_func(\n\u001b[1;32m    172\u001b[0m     cast(\u001b[38;5;124m\"\u001b[39m\u001b[38;5;124mWeb3\u001b[39m\u001b[38;5;124m\"\u001b[39m, \u001b[38;5;28mself\u001b[39m\u001b[38;5;241m.\u001b[39mw3), cast(MiddlewareOnion, \u001b[38;5;28mself\u001b[39m\u001b[38;5;241m.\u001b[39mmiddleware_onion)\n\u001b[1;32m    173\u001b[0m )\n\u001b[1;32m    174\u001b[0m \u001b[38;5;28mself\u001b[39m\u001b[38;5;241m.\u001b[39mlogger\u001b[38;5;241m.\u001b[39mdebug(\u001b[38;5;124mf\u001b[39m\u001b[38;5;124m\"\u001b[39m\u001b[38;5;124mMaking request. Method: \u001b[39m\u001b[38;5;132;01m{\u001b[39;00mmethod\u001b[38;5;132;01m}\u001b[39;00m\u001b[38;5;124m\"\u001b[39m)\n\u001b[0;32m--> 175\u001b[0m \u001b[38;5;28;01mreturn\u001b[39;00m \u001b[43mrequest_func\u001b[49m\u001b[43m(\u001b[49m\u001b[43mmethod\u001b[49m\u001b[43m,\u001b[49m\u001b[43m \u001b[49m\u001b[43mparams\u001b[49m\u001b[43m)\u001b[49m\n",
      "File \u001b[0;32m~/.local/lib/python3.10/site-packages/web3/middleware/formatting.py:99\u001b[0m, in \u001b[0;36mconstruct_web3_formatting_middleware.<locals>.formatter_middleware.<locals>.middleware\u001b[0;34m(method, params)\u001b[0m\n\u001b[1;32m     97\u001b[0m     formatter \u001b[38;5;241m=\u001b[39m request_formatters[method]\n\u001b[1;32m     98\u001b[0m     params \u001b[38;5;241m=\u001b[39m formatter(params)\n\u001b[0;32m---> 99\u001b[0m response \u001b[38;5;241m=\u001b[39m \u001b[43mmake_request\u001b[49m\u001b[43m(\u001b[49m\u001b[43mmethod\u001b[49m\u001b[43m,\u001b[49m\u001b[43m \u001b[49m\u001b[43mparams\u001b[49m\u001b[43m)\u001b[49m\n\u001b[1;32m    101\u001b[0m \u001b[38;5;28;01mreturn\u001b[39;00m _apply_response_formatters(\n\u001b[1;32m    102\u001b[0m     method\u001b[38;5;241m=\u001b[39mmethod, response\u001b[38;5;241m=\u001b[39mresponse, \u001b[38;5;241m*\u001b[39m\u001b[38;5;241m*\u001b[39mformatters\n\u001b[1;32m    103\u001b[0m )\n",
      "File \u001b[0;32m~/.local/lib/python3.10/site-packages/web3/middleware/gas_price_strategy.py:95\u001b[0m, in \u001b[0;36mgas_price_strategy_middleware.<locals>.middleware\u001b[0;34m(method, params)\u001b[0m\n\u001b[1;32m     91\u001b[0m     latest_block \u001b[38;5;241m=\u001b[39m w3\u001b[38;5;241m.\u001b[39meth\u001b[38;5;241m.\u001b[39mget_block(\u001b[38;5;124m\"\u001b[39m\u001b[38;5;124mlatest\u001b[39m\u001b[38;5;124m\"\u001b[39m)\n\u001b[1;32m     92\u001b[0m     transaction \u001b[38;5;241m=\u001b[39m validate_transaction_params(\n\u001b[1;32m     93\u001b[0m         transaction, latest_block, generated_gas_price\n\u001b[1;32m     94\u001b[0m     )\n\u001b[0;32m---> 95\u001b[0m     \u001b[38;5;28;01mreturn\u001b[39;00m \u001b[43mmake_request\u001b[49m\u001b[43m(\u001b[49m\u001b[43mmethod\u001b[49m\u001b[43m,\u001b[49m\u001b[43m \u001b[49m\u001b[43m(\u001b[49m\u001b[43mtransaction\u001b[49m\u001b[43m,\u001b[49m\u001b[43m)\u001b[49m\u001b[43m)\u001b[49m\n\u001b[1;32m     96\u001b[0m \u001b[38;5;28;01mreturn\u001b[39;00m make_request(method, params)\n",
      "File \u001b[0;32m~/.local/lib/python3.10/site-packages/web3/middleware/formatting.py:99\u001b[0m, in \u001b[0;36mconstruct_web3_formatting_middleware.<locals>.formatter_middleware.<locals>.middleware\u001b[0;34m(method, params)\u001b[0m\n\u001b[1;32m     97\u001b[0m     formatter \u001b[38;5;241m=\u001b[39m request_formatters[method]\n\u001b[1;32m     98\u001b[0m     params \u001b[38;5;241m=\u001b[39m formatter(params)\n\u001b[0;32m---> 99\u001b[0m response \u001b[38;5;241m=\u001b[39m \u001b[43mmake_request\u001b[49m\u001b[43m(\u001b[49m\u001b[43mmethod\u001b[49m\u001b[43m,\u001b[49m\u001b[43m \u001b[49m\u001b[43mparams\u001b[49m\u001b[43m)\u001b[49m\n\u001b[1;32m    101\u001b[0m \u001b[38;5;28;01mreturn\u001b[39;00m _apply_response_formatters(\n\u001b[1;32m    102\u001b[0m     method\u001b[38;5;241m=\u001b[39mmethod, response\u001b[38;5;241m=\u001b[39mresponse, \u001b[38;5;241m*\u001b[39m\u001b[38;5;241m*\u001b[39mformatters\n\u001b[1;32m    103\u001b[0m )\n",
      "File \u001b[0;32m~/.local/lib/python3.10/site-packages/web3/middleware/attrdict.py:38\u001b[0m, in \u001b[0;36mattrdict_middleware.<locals>.middleware\u001b[0;34m(method, params)\u001b[0m\n\u001b[1;32m     37\u001b[0m \u001b[38;5;28;01mdef\u001b[39;00m \u001b[38;5;21mmiddleware\u001b[39m(method: RPCEndpoint, params: Any) \u001b[38;5;241m-\u001b[39m\u001b[38;5;241m>\u001b[39m RPCResponse:\n\u001b[0;32m---> 38\u001b[0m     response \u001b[38;5;241m=\u001b[39m \u001b[43mmake_request\u001b[49m\u001b[43m(\u001b[49m\u001b[43mmethod\u001b[49m\u001b[43m,\u001b[49m\u001b[43m \u001b[49m\u001b[43mparams\u001b[49m\u001b[43m)\u001b[49m\n\u001b[1;32m     40\u001b[0m     \u001b[38;5;28;01mif\u001b[39;00m \u001b[38;5;124m\"\u001b[39m\u001b[38;5;124mresult\u001b[39m\u001b[38;5;124m\"\u001b[39m \u001b[38;5;129;01min\u001b[39;00m response:\n\u001b[1;32m     41\u001b[0m         \u001b[38;5;28;01mreturn\u001b[39;00m assoc(\n\u001b[1;32m     42\u001b[0m             response, \u001b[38;5;124m\"\u001b[39m\u001b[38;5;124mresult\u001b[39m\u001b[38;5;124m\"\u001b[39m, AttributeDict\u001b[38;5;241m.\u001b[39mrecursive(response[\u001b[38;5;124m\"\u001b[39m\u001b[38;5;124mresult\u001b[39m\u001b[38;5;124m\"\u001b[39m])\n\u001b[1;32m     43\u001b[0m         )\n",
      "File \u001b[0;32m~/.local/lib/python3.10/site-packages/web3/middleware/formatting.py:99\u001b[0m, in \u001b[0;36mconstruct_web3_formatting_middleware.<locals>.formatter_middleware.<locals>.middleware\u001b[0;34m(method, params)\u001b[0m\n\u001b[1;32m     97\u001b[0m     formatter \u001b[38;5;241m=\u001b[39m request_formatters[method]\n\u001b[1;32m     98\u001b[0m     params \u001b[38;5;241m=\u001b[39m formatter(params)\n\u001b[0;32m---> 99\u001b[0m response \u001b[38;5;241m=\u001b[39m \u001b[43mmake_request\u001b[49m\u001b[43m(\u001b[49m\u001b[43mmethod\u001b[49m\u001b[43m,\u001b[49m\u001b[43m \u001b[49m\u001b[43mparams\u001b[49m\u001b[43m)\u001b[49m\n\u001b[1;32m    101\u001b[0m \u001b[38;5;28;01mreturn\u001b[39;00m _apply_response_formatters(\n\u001b[1;32m    102\u001b[0m     method\u001b[38;5;241m=\u001b[39mmethod, response\u001b[38;5;241m=\u001b[39mresponse, \u001b[38;5;241m*\u001b[39m\u001b[38;5;241m*\u001b[39mformatters\n\u001b[1;32m    103\u001b[0m )\n",
      "File \u001b[0;32m~/.local/lib/python3.10/site-packages/web3/middleware/formatting.py:99\u001b[0m, in \u001b[0;36mconstruct_web3_formatting_middleware.<locals>.formatter_middleware.<locals>.middleware\u001b[0;34m(method, params)\u001b[0m\n\u001b[1;32m     97\u001b[0m     formatter \u001b[38;5;241m=\u001b[39m request_formatters[method]\n\u001b[1;32m     98\u001b[0m     params \u001b[38;5;241m=\u001b[39m formatter(params)\n\u001b[0;32m---> 99\u001b[0m response \u001b[38;5;241m=\u001b[39m \u001b[43mmake_request\u001b[49m\u001b[43m(\u001b[49m\u001b[43mmethod\u001b[49m\u001b[43m,\u001b[49m\u001b[43m \u001b[49m\u001b[43mparams\u001b[49m\u001b[43m)\u001b[49m\n\u001b[1;32m    101\u001b[0m \u001b[38;5;28;01mreturn\u001b[39;00m _apply_response_formatters(\n\u001b[1;32m    102\u001b[0m     method\u001b[38;5;241m=\u001b[39mmethod, response\u001b[38;5;241m=\u001b[39mresponse, \u001b[38;5;241m*\u001b[39m\u001b[38;5;241m*\u001b[39mformatters\n\u001b[1;32m    103\u001b[0m )\n",
      "File \u001b[0;32m~/.local/lib/python3.10/site-packages/web3/middleware/formatting.py:99\u001b[0m, in \u001b[0;36mconstruct_web3_formatting_middleware.<locals>.formatter_middleware.<locals>.middleware\u001b[0;34m(method, params)\u001b[0m\n\u001b[1;32m     97\u001b[0m     formatter \u001b[38;5;241m=\u001b[39m request_formatters[method]\n\u001b[1;32m     98\u001b[0m     params \u001b[38;5;241m=\u001b[39m formatter(params)\n\u001b[0;32m---> 99\u001b[0m response \u001b[38;5;241m=\u001b[39m \u001b[43mmake_request\u001b[49m\u001b[43m(\u001b[49m\u001b[43mmethod\u001b[49m\u001b[43m,\u001b[49m\u001b[43m \u001b[49m\u001b[43mparams\u001b[49m\u001b[43m)\u001b[49m\n\u001b[1;32m    101\u001b[0m \u001b[38;5;28;01mreturn\u001b[39;00m _apply_response_formatters(\n\u001b[1;32m    102\u001b[0m     method\u001b[38;5;241m=\u001b[39mmethod, response\u001b[38;5;241m=\u001b[39mresponse, \u001b[38;5;241m*\u001b[39m\u001b[38;5;241m*\u001b[39mformatters\n\u001b[1;32m    103\u001b[0m )\n",
      "File \u001b[0;32m~/.local/lib/python3.10/site-packages/web3/middleware/buffered_gas_estimate.py:40\u001b[0m, in \u001b[0;36mbuffered_gas_estimate_middleware.<locals>.middleware\u001b[0;34m(method, params)\u001b[0m\n\u001b[1;32m     35\u001b[0m     transaction \u001b[38;5;241m=\u001b[39m params[\u001b[38;5;241m0\u001b[39m]\n\u001b[1;32m     36\u001b[0m     \u001b[38;5;28;01mif\u001b[39;00m \u001b[38;5;124m\"\u001b[39m\u001b[38;5;124mgas\u001b[39m\u001b[38;5;124m\"\u001b[39m \u001b[38;5;129;01mnot\u001b[39;00m \u001b[38;5;129;01min\u001b[39;00m transaction:\n\u001b[1;32m     37\u001b[0m         transaction \u001b[38;5;241m=\u001b[39m assoc(\n\u001b[1;32m     38\u001b[0m             transaction,\n\u001b[1;32m     39\u001b[0m             \u001b[38;5;124m\"\u001b[39m\u001b[38;5;124mgas\u001b[39m\u001b[38;5;124m\"\u001b[39m,\n\u001b[0;32m---> 40\u001b[0m             \u001b[38;5;28mhex\u001b[39m(\u001b[43mget_buffered_gas_estimate\u001b[49m\u001b[43m(\u001b[49m\u001b[43mw3\u001b[49m\u001b[43m,\u001b[49m\u001b[43m \u001b[49m\u001b[43mtransaction\u001b[49m\u001b[43m)\u001b[49m),\n\u001b[1;32m     41\u001b[0m         )\n\u001b[1;32m     42\u001b[0m         \u001b[38;5;28;01mreturn\u001b[39;00m make_request(method, [transaction])\n\u001b[1;32m     43\u001b[0m \u001b[38;5;28;01mreturn\u001b[39;00m make_request(method, params)\n",
      "File \u001b[0;32m~/.local/lib/python3.10/site-packages/web3/_utils/transactions.py:150\u001b[0m, in \u001b[0;36mget_buffered_gas_estimate\u001b[0;34m(w3, transaction, gas_buffer)\u001b[0m\n\u001b[1;32m    145\u001b[0m \u001b[38;5;28;01mdef\u001b[39;00m \u001b[38;5;21mget_buffered_gas_estimate\u001b[39m(\n\u001b[1;32m    146\u001b[0m     w3: \u001b[38;5;124m\"\u001b[39m\u001b[38;5;124mWeb3\u001b[39m\u001b[38;5;124m\"\u001b[39m, transaction: TxParams, gas_buffer: \u001b[38;5;28mint\u001b[39m \u001b[38;5;241m=\u001b[39m \u001b[38;5;241m100000\u001b[39m\n\u001b[1;32m    147\u001b[0m ) \u001b[38;5;241m-\u001b[39m\u001b[38;5;241m>\u001b[39m \u001b[38;5;28mint\u001b[39m:\n\u001b[1;32m    148\u001b[0m     gas_estimate_transaction \u001b[38;5;241m=\u001b[39m cast(TxParams, \u001b[38;5;28mdict\u001b[39m(\u001b[38;5;241m*\u001b[39m\u001b[38;5;241m*\u001b[39mtransaction))\n\u001b[0;32m--> 150\u001b[0m     gas_estimate \u001b[38;5;241m=\u001b[39m \u001b[43mw3\u001b[49m\u001b[38;5;241;43m.\u001b[39;49m\u001b[43meth\u001b[49m\u001b[38;5;241;43m.\u001b[39;49m\u001b[43mestimate_gas\u001b[49m\u001b[43m(\u001b[49m\u001b[43mgas_estimate_transaction\u001b[49m\u001b[43m)\u001b[49m\n\u001b[1;32m    152\u001b[0m     gas_limit \u001b[38;5;241m=\u001b[39m get_block_gas_limit(w3)\n\u001b[1;32m    154\u001b[0m     \u001b[38;5;28;01mif\u001b[39;00m gas_estimate \u001b[38;5;241m>\u001b[39m gas_limit:\n",
      "File \u001b[0;32m~/.local/lib/python3.10/site-packages/web3/eth/eth.py:292\u001b[0m, in \u001b[0;36mEth.estimate_gas\u001b[0;34m(self, transaction, block_identifier)\u001b[0m\n\u001b[1;32m    289\u001b[0m \u001b[38;5;28;01mdef\u001b[39;00m \u001b[38;5;21mestimate_gas\u001b[39m(\n\u001b[1;32m    290\u001b[0m     \u001b[38;5;28mself\u001b[39m, transaction: TxParams, block_identifier: Optional[BlockIdentifier] \u001b[38;5;241m=\u001b[39m \u001b[38;5;28;01mNone\u001b[39;00m\n\u001b[1;32m    291\u001b[0m ) \u001b[38;5;241m-\u001b[39m\u001b[38;5;241m>\u001b[39m \u001b[38;5;28mint\u001b[39m:\n\u001b[0;32m--> 292\u001b[0m     \u001b[38;5;28;01mreturn\u001b[39;00m \u001b[38;5;28;43mself\u001b[39;49m\u001b[38;5;241;43m.\u001b[39;49m\u001b[43m_estimate_gas\u001b[49m\u001b[43m(\u001b[49m\u001b[43mtransaction\u001b[49m\u001b[43m,\u001b[49m\u001b[43m \u001b[49m\u001b[43mblock_identifier\u001b[49m\u001b[43m)\u001b[49m\n",
      "File \u001b[0;32m~/.local/lib/python3.10/site-packages/web3/module.py:68\u001b[0m, in \u001b[0;36mretrieve_blocking_method_call_fn.<locals>.caller\u001b[0;34m(*args, **kwargs)\u001b[0m\n\u001b[1;32m     62\u001b[0m     \u001b[38;5;28;01mreturn\u001b[39;00m LogFilter(eth_module\u001b[38;5;241m=\u001b[39mmodule, filter_id\u001b[38;5;241m=\u001b[39merr\u001b[38;5;241m.\u001b[39mfilter_id)\n\u001b[1;32m     63\u001b[0m (\n\u001b[1;32m     64\u001b[0m     result_formatters,\n\u001b[1;32m     65\u001b[0m     error_formatters,\n\u001b[1;32m     66\u001b[0m     null_result_formatters,\n\u001b[1;32m     67\u001b[0m ) \u001b[38;5;241m=\u001b[39m response_formatters\n\u001b[0;32m---> 68\u001b[0m result \u001b[38;5;241m=\u001b[39m \u001b[43mw3\u001b[49m\u001b[38;5;241;43m.\u001b[39;49m\u001b[43mmanager\u001b[49m\u001b[38;5;241;43m.\u001b[39;49m\u001b[43mrequest_blocking\u001b[49m\u001b[43m(\u001b[49m\n\u001b[1;32m     69\u001b[0m \u001b[43m    \u001b[49m\u001b[43mmethod_str\u001b[49m\u001b[43m,\u001b[49m\u001b[43m \u001b[49m\u001b[43mparams\u001b[49m\u001b[43m,\u001b[49m\u001b[43m \u001b[49m\u001b[43merror_formatters\u001b[49m\u001b[43m,\u001b[49m\u001b[43m \u001b[49m\u001b[43mnull_result_formatters\u001b[49m\n\u001b[1;32m     70\u001b[0m \u001b[43m\u001b[49m\u001b[43m)\u001b[49m\n\u001b[1;32m     71\u001b[0m \u001b[38;5;28;01mreturn\u001b[39;00m apply_result_formatters(result_formatters, result)\n",
      "File \u001b[0;32m~/.local/lib/python3.10/site-packages/web3/manager.py:232\u001b[0m, in \u001b[0;36mRequestManager.request_blocking\u001b[0;34m(self, method, params, error_formatters, null_result_formatters)\u001b[0m\n\u001b[1;32m    228\u001b[0m \u001b[38;5;124;03m\"\"\"\u001b[39;00m\n\u001b[1;32m    229\u001b[0m \u001b[38;5;124;03mMake a synchronous request using the provider\u001b[39;00m\n\u001b[1;32m    230\u001b[0m \u001b[38;5;124;03m\"\"\"\u001b[39;00m\n\u001b[1;32m    231\u001b[0m response \u001b[38;5;241m=\u001b[39m \u001b[38;5;28mself\u001b[39m\u001b[38;5;241m.\u001b[39m_make_request(method, params)\n\u001b[0;32m--> 232\u001b[0m \u001b[38;5;28;01mreturn\u001b[39;00m \u001b[38;5;28;43mself\u001b[39;49m\u001b[38;5;241;43m.\u001b[39;49m\u001b[43mformatted_response\u001b[49m\u001b[43m(\u001b[49m\n\u001b[1;32m    233\u001b[0m \u001b[43m    \u001b[49m\u001b[43mresponse\u001b[49m\u001b[43m,\u001b[49m\u001b[43m \u001b[49m\u001b[43mparams\u001b[49m\u001b[43m,\u001b[49m\u001b[43m \u001b[49m\u001b[43merror_formatters\u001b[49m\u001b[43m,\u001b[49m\u001b[43m \u001b[49m\u001b[43mnull_result_formatters\u001b[49m\n\u001b[1;32m    234\u001b[0m \u001b[43m\u001b[49m\u001b[43m)\u001b[49m\n",
      "File \u001b[0;32m~/.local/lib/python3.10/site-packages/web3/manager.py:197\u001b[0m, in \u001b[0;36mRequestManager.formatted_response\u001b[0;34m(response, params, error_formatters, null_result_formatters)\u001b[0m\n\u001b[1;32m    189\u001b[0m \u001b[38;5;129m@staticmethod\u001b[39m\n\u001b[1;32m    190\u001b[0m \u001b[38;5;28;01mdef\u001b[39;00m \u001b[38;5;21mformatted_response\u001b[39m(\n\u001b[1;32m    191\u001b[0m     response: RPCResponse,\n\u001b[0;32m   (...)\u001b[0m\n\u001b[1;32m    194\u001b[0m     null_result_formatters: Optional[Callable[\u001b[38;5;241m.\u001b[39m\u001b[38;5;241m.\u001b[39m\u001b[38;5;241m.\u001b[39m, Any]] \u001b[38;5;241m=\u001b[39m \u001b[38;5;28;01mNone\u001b[39;00m,\n\u001b[1;32m    195\u001b[0m ) \u001b[38;5;241m-\u001b[39m\u001b[38;5;241m>\u001b[39m Any:\n\u001b[1;32m    196\u001b[0m     \u001b[38;5;28;01mif\u001b[39;00m \u001b[38;5;124m\"\u001b[39m\u001b[38;5;124merror\u001b[39m\u001b[38;5;124m\"\u001b[39m \u001b[38;5;129;01min\u001b[39;00m response:\n\u001b[0;32m--> 197\u001b[0m         \u001b[43mapply_error_formatters\u001b[49m\u001b[43m(\u001b[49m\u001b[43merror_formatters\u001b[49m\u001b[43m,\u001b[49m\u001b[43m \u001b[49m\u001b[43mresponse\u001b[49m\u001b[43m)\u001b[49m\n\u001b[1;32m    199\u001b[0m         \u001b[38;5;66;03m# guard against eth-tester case - eth-tester returns a string\u001b[39;00m\n\u001b[1;32m    200\u001b[0m         \u001b[38;5;66;03m# with no code, so can't parse what the error is.\u001b[39;00m\n\u001b[1;32m    201\u001b[0m         \u001b[38;5;28;01mif\u001b[39;00m \u001b[38;5;28misinstance\u001b[39m(response[\u001b[38;5;124m\"\u001b[39m\u001b[38;5;124merror\u001b[39m\u001b[38;5;124m\"\u001b[39m], \u001b[38;5;28mdict\u001b[39m):\n",
      "File \u001b[0;32m~/.local/lib/python3.10/site-packages/web3/manager.py:73\u001b[0m, in \u001b[0;36mapply_error_formatters\u001b[0;34m(error_formatters, response)\u001b[0m\n\u001b[1;32m     68\u001b[0m \u001b[38;5;28;01mdef\u001b[39;00m \u001b[38;5;21mapply_error_formatters\u001b[39m(\n\u001b[1;32m     69\u001b[0m     error_formatters: Callable[\u001b[38;5;241m.\u001b[39m\u001b[38;5;241m.\u001b[39m\u001b[38;5;241m.\u001b[39m, Any],\n\u001b[1;32m     70\u001b[0m     response: RPCResponse,\n\u001b[1;32m     71\u001b[0m ) \u001b[38;5;241m-\u001b[39m\u001b[38;5;241m>\u001b[39m RPCResponse:\n\u001b[1;32m     72\u001b[0m     \u001b[38;5;28;01mif\u001b[39;00m error_formatters:\n\u001b[0;32m---> 73\u001b[0m         formatted_resp \u001b[38;5;241m=\u001b[39m \u001b[43mpipe\u001b[49m\u001b[43m(\u001b[49m\u001b[43mresponse\u001b[49m\u001b[43m,\u001b[49m\u001b[43m \u001b[49m\u001b[43merror_formatters\u001b[49m\u001b[43m)\u001b[49m\n\u001b[1;32m     74\u001b[0m         \u001b[38;5;28;01mreturn\u001b[39;00m formatted_resp\n\u001b[1;32m     75\u001b[0m     \u001b[38;5;28;01melse\u001b[39;00m:\n",
      "File \u001b[0;32m~/.local/lib/python3.10/site-packages/cytoolz/functoolz.pyx:666\u001b[0m, in \u001b[0;36mcytoolz.functoolz.pipe\u001b[0;34m()\u001b[0m\n",
      "File \u001b[0;32m~/.local/lib/python3.10/site-packages/cytoolz/functoolz.pyx:641\u001b[0m, in \u001b[0;36mcytoolz.functoolz.c_pipe\u001b[0;34m()\u001b[0m\n",
      "File \u001b[0;32m~/.local/lib/python3.10/site-packages/web3/_utils/method_formatters.py:649\u001b[0m, in \u001b[0;36mraise_contract_logic_error_on_revert\u001b[0;34m(response)\u001b[0m\n\u001b[1;32m    647\u001b[0m \u001b[38;5;66;03m# Ganache case:\u001b[39;00m\n\u001b[1;32m    648\u001b[0m \u001b[38;5;28;01mif\u001b[39;00m \u001b[38;5;28misinstance\u001b[39m(data, \u001b[38;5;28mdict\u001b[39m) \u001b[38;5;129;01mand\u001b[39;00m response[\u001b[38;5;124m\"\u001b[39m\u001b[38;5;124merror\u001b[39m\u001b[38;5;124m\"\u001b[39m]\u001b[38;5;241m.\u001b[39mget(\u001b[38;5;124m\"\u001b[39m\u001b[38;5;124mmessage\u001b[39m\u001b[38;5;124m\"\u001b[39m):\n\u001b[0;32m--> 649\u001b[0m     \u001b[38;5;28;01mraise\u001b[39;00m ContractLogicError(\u001b[38;5;124mf\u001b[39m\u001b[38;5;124m'\u001b[39m\u001b[38;5;124mexecution reverted: \u001b[39m\u001b[38;5;132;01m{\u001b[39;00mresponse[\u001b[38;5;124m\"\u001b[39m\u001b[38;5;124merror\u001b[39m\u001b[38;5;124m\"\u001b[39m][\u001b[38;5;124m\"\u001b[39m\u001b[38;5;124mmessage\u001b[39m\u001b[38;5;124m\"\u001b[39m]\u001b[38;5;132;01m}\u001b[39;00m\u001b[38;5;124m'\u001b[39m)\n\u001b[1;32m    651\u001b[0m \u001b[38;5;66;03m# Parity/OpenEthereum case:\u001b[39;00m\n\u001b[1;32m    652\u001b[0m \u001b[38;5;28;01mif\u001b[39;00m data\u001b[38;5;241m.\u001b[39mstartswith(\u001b[38;5;124m\"\u001b[39m\u001b[38;5;124mReverted \u001b[39m\u001b[38;5;124m\"\u001b[39m):\n\u001b[1;32m    653\u001b[0m     \u001b[38;5;66;03m# \"Reverted\", function selector and offset are always the same for revert errors\u001b[39;00m\n",
      "\u001b[0;31mContractLogicError\u001b[0m: execution reverted: Error: Transaction reverted without a reason string"
     ]
    }
   ],
   "source": [
    "swap.functions.swap(\n",
    "    swap.w3.to_checksum_address(univ3_address),\n",
    "    swap.w3.to_checksum_address(weth_address),\n",
    "    swap.w3.to_checksum_address(usdt_address),\n",
    "    3000, \n",
    "    int(1e17)\n",
    ").transact()"
   ]
  },
  {
   "cell_type": "code",
   "execution_count": null,
   "id": "545c4a05",
   "metadata": {},
   "outputs": [],
   "source": [
    "# call can only be used when you want to view"
   ]
  },
  {
   "cell_type": "code",
   "execution_count": null,
   "id": "a6637d97",
   "metadata": {},
   "outputs": [],
   "source": []
  },
  {
   "cell_type": "code",
   "execution_count": null,
   "id": "804e4d29",
   "metadata": {},
   "outputs": [],
   "source": []
  },
  {
   "cell_type": "code",
   "execution_count": null,
   "id": "e028a221",
   "metadata": {},
   "outputs": [],
   "source": []
  },
  {
   "cell_type": "code",
   "execution_count": null,
   "id": "ddf8f000",
   "metadata": {},
   "outputs": [],
   "source": [
    "weth = Contract(address=weth)"
   ]
  },
  {
   "cell_type": "code",
   "execution_count": null,
   "id": "bab38290",
   "metadata": {},
   "outputs": [],
   "source": [
    "weth.functions.balanceOf(DEPLOYED).call()"
   ]
  },
  {
   "cell_type": "code",
   "execution_count": null,
   "id": "3cff25e0",
   "metadata": {},
   "outputs": [],
   "source": [
    "weth.functions.transfer('0x9e7F7d0E8b8F38e3CF2b3F7dd362ba2e9E82baa4', int(1e18)).transact({'from': '0xf39Fd6e51aad88F6F4ce6aB8827279cffFb92266'})"
   ]
  },
  {
   "cell_type": "code",
   "execution_count": null,
   "id": "1c5964c2",
   "metadata": {},
   "outputs": [],
   "source": [
    "weth.functions.deposit().transact({'value': int(2e18)})"
   ]
  },
  {
   "cell_type": "code",
   "execution_count": null,
   "id": "d223b4ca",
   "metadata": {},
   "outputs": [],
   "source": [
    "DEPLOYED = '0x9e7F7d0E8b8F38e3CF2b3F7dd362ba2e9E82baa4'\n",
    "OWNER = \n"
   ]
  },
  {
   "cell_type": "code",
   "execution_count": null,
   "id": "fa34a7b7",
   "metadata": {},
   "outputs": [],
   "source": [
    "swap = Contract(address=DEPLOYED, name='Swap')"
   ]
  },
  {
   "cell_type": "code",
   "execution_count": null,
   "id": "0dd90cd1",
   "metadata": {},
   "outputs": [],
   "source": [
    "swap.functions.getAmountOutMin(\n",
    "    swap.w3.to_checksum_address(univ2_address),\n",
    "    swap.w3.to_checksum_address(weth_address),\n",
    "    swap.w3.to_checksum_address(usdt_address),\n",
    "    int(1e17)).call()"
   ]
  },
  {
   "cell_type": "code",
   "execution_count": null,
   "id": "47b36ddb",
   "metadata": {},
   "outputs": [],
   "source": [
    "weth"
   ]
  },
  {
   "cell_type": "code",
   "execution_count": null,
   "id": "a2277ffa",
   "metadata": {},
   "outputs": [],
   "source": [
    "swap"
   ]
  },
  {
   "cell_type": "code",
   "execution_count": null,
   "id": "10a7be9d",
   "metadata": {},
   "outputs": [],
   "source": [
    "trade = swap.functions.swap(\n",
    "    swap.w3.to_checksum_address(univ3_address),\n",
    "    swap.w3.to_checksum_address(weth_address),\n",
    "    swap.w3.to_checksum_address(usdt_address),\n",
    "    int(200),  # uint24\n",
    "    int(1e16)).call()"
   ]
  },
  {
   "cell_type": "code",
   "execution_count": null,
   "id": "ed65806d",
   "metadata": {},
   "outputs": [],
   "source": [
    "trade\n"
   ]
  },
  {
   "cell_type": "code",
   "execution_count": null,
   "id": "549ab361",
   "metadata": {},
   "outputs": [],
   "source": [
    "# trade is slightly less then what comes out of it, which makes sense since \n",
    "# uni and sushi are two major exchanges so already quite efficient and thus we get less than we put in\n",
    "trade / 1e18"
   ]
  },
  {
   "cell_type": "code",
   "execution_count": null,
   "id": "d127222d",
   "metadata": {},
   "outputs": [],
   "source": [
    "contract = p.w3.eth.contract(address=p.w3.to_checksum_address(contract), abi=ABI)"
   ]
  },
  {
   "cell_type": "code",
   "execution_count": null,
   "id": "fc3efb6c",
   "metadata": {},
   "outputs": [],
   "source": [
    "balance = c.w3.eth.get_balance('0xcA2713a8962677112902509Ce490Fb35f22452a2')\n"
   ]
  }
 ],
 "metadata": {
  "kernelspec": {
   "display_name": "Python 3 (ipykernel)",
   "language": "python",
   "name": "python3"
  },
  "language_info": {
   "codemirror_mode": {
    "name": "ipython",
    "version": 3
   },
   "file_extension": ".py",
   "mimetype": "text/x-python",
   "name": "python",
   "nbconvert_exporter": "python",
   "pygments_lexer": "ipython3",
   "version": "3.10.6"
  }
 },
 "nbformat": 4,
 "nbformat_minor": 5
}
