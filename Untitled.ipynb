{
 "cells": [
  {
   "cell_type": "code",
   "execution_count": 1,
   "id": "1eff4787",
   "metadata": {},
   "outputs": [],
   "source": [
    "%load_ext autoreload\n",
    "%autoreload 2"
   ]
  },
  {
   "cell_type": "code",
   "execution_count": 25,
   "id": "3ee534f5",
   "metadata": {},
   "outputs": [],
   "source": [
    "import logging\n",
    "import sys\n",
    "\n",
    "logging.basicConfig(stream=sys.stdout, level=logging.DEBUG)\n",
    "from dotenv import load_dotenv\n",
    "\n",
    "import urllib3\n",
    "urllib3.disable_warnings()"
   ]
  },
  {
   "cell_type": "code",
   "execution_count": 21,
   "id": "5aec4da2",
   "metadata": {},
   "outputs": [
    {
     "data": {
      "text/plain": [
       "True"
      ]
     },
     "execution_count": 21,
     "metadata": {},
     "output_type": "execute_result"
    }
   ],
   "source": [
    "load_dotenv(dotenv_path='.env.main')"
   ]
  },
  {
   "cell_type": "code",
   "execution_count": 22,
   "id": "4f9b5356",
   "metadata": {},
   "outputs": [],
   "source": [
    "from interface.w3 import Provider, Contract"
   ]
  },
  {
   "cell_type": "code",
   "execution_count": 24,
   "id": "43b0a0ab",
   "metadata": {},
   "outputs": [
    {
     "name": "stdout",
     "output_type": "stream",
     "text": [
      "INFO:interface.w3:Reading config from conf/main.ini\n",
      "INFO:interface.w3:Reading secrets from .env.main\n",
      "INFO:interface.w3:Using local fork from main\n",
      "INFO:interface.w3:RPC url: http://127.0.0.1:8545/\n",
      "DEBUG:web3.providers.HTTPProvider:Making request HTTP. URI: http://127.0.0.1:8545/, Method: web3_clientVersion\n",
      "DEBUG:urllib3.connectionpool:http://127.0.0.1:8545 \"POST / HTTP/1.1\" 200 94\n",
      "DEBUG:web3.providers.HTTPProvider:Getting response HTTP. URI: http://127.0.0.1:8545/, Method: web3_clientVersion, Response: {'jsonrpc': '2.0', 'id': 0, 'result': 'HardhatNetwork/2.13.0/@nomicfoundation/ethereumjs-vm/6.4.2'}\n",
      "INFO:interface.w3:Connected to chain main: True\n",
      "DEBUG:web3.providers.HTTPProvider:Making request HTTP. URI: http://127.0.0.1:8545/, Method: web3_clientVersion\n",
      "DEBUG:urllib3.connectionpool:http://127.0.0.1:8545 \"POST / HTTP/1.1\" 200 94\n",
      "DEBUG:web3.providers.HTTPProvider:Getting response HTTP. URI: http://127.0.0.1:8545/, Method: web3_clientVersion, Response: {'jsonrpc': '2.0', 'id': 1, 'result': 'HardhatNetwork/2.13.0/@nomicfoundation/ethereumjs-vm/6.4.2'}\n"
     ]
    }
   ],
   "source": [
    "p = Provider(chain='main', fork=True)"
   ]
  },
  {
   "cell_type": "code",
   "execution_count": 38,
   "id": "4d3ccaf0",
   "metadata": {},
   "outputs": [
    {
     "name": "stdout",
     "output_type": "stream",
     "text": [
      "INFO:interface.w3:Reading config from conf/main.ini\n",
      "INFO:interface.w3:Reading secrets from .env.main\n",
      "INFO:interface.w3:Using local fork from main\n",
      "INFO:interface.w3:RPC url: http://127.0.0.1:8545/\n",
      "DEBUG:web3.providers.HTTPProvider:Making request HTTP. URI: http://127.0.0.1:8545/, Method: web3_clientVersion\n",
      "DEBUG:urllib3.connectionpool:Resetting dropped connection: 127.0.0.1\n",
      "DEBUG:urllib3.connectionpool:http://127.0.0.1:8545 \"POST / HTTP/1.1\" 200 94\n",
      "DEBUG:web3.providers.HTTPProvider:Getting response HTTP. URI: http://127.0.0.1:8545/, Method: web3_clientVersion, Response: {'jsonrpc': '2.0', 'id': 0, 'result': 'HardhatNetwork/2.13.0/@nomicfoundation/ethereumjs-vm/6.4.2'}\n",
      "INFO:interface.w3:Connected to chain main: True\n",
      "DEBUG:web3.providers.HTTPProvider:Making request HTTP. URI: http://127.0.0.1:8545/, Method: web3_clientVersion\n",
      "DEBUG:urllib3.connectionpool:http://127.0.0.1:8545 \"POST / HTTP/1.1\" 200 94\n",
      "DEBUG:web3.providers.HTTPProvider:Getting response HTTP. URI: http://127.0.0.1:8545/, Method: web3_clientVersion, Response: {'jsonrpc': '2.0', 'id': 1, 'result': 'HardhatNetwork/2.13.0/@nomicfoundation/ethereumjs-vm/6.4.2'}\n",
      "INFO:interface.w3:Getting contract ABI from source at out/Swap.sol/Swap.json\n"
     ]
    }
   ],
   "source": [
    "DEPLOYED = '0x0724F18B2aA7D6413D3fDcF6c0c27458a8170Dd9'\n",
    "contract = Contract(address=DEPLOYED, name='Swap')"
   ]
  },
  {
   "cell_type": "code",
   "execution_count": 45,
   "id": "9cf5b828",
   "metadata": {},
   "outputs": [
    {
     "data": {
      "text/plain": [
       "'0x0724F18B2aA7D6413D3fDcF6c0c27458a8170Dd9'"
      ]
     },
     "execution_count": 45,
     "metadata": {},
     "output_type": "execute_result"
    }
   ],
   "source": [
    "contract.address"
   ]
  },
  {
   "cell_type": "code",
   "execution_count": 46,
   "id": "2a581898",
   "metadata": {},
   "outputs": [
    {
     "name": "stdout",
     "output_type": "stream",
     "text": [
      "DEBUG:web3.RequestManager:Making request. Method: eth_call\n",
      "DEBUG:web3.RequestManager:Making request. Method: eth_chainId\n",
      "DEBUG:web3.providers.HTTPProvider:Making request HTTP. URI: http://127.0.0.1:8545/, Method: eth_chainId\n",
      "DEBUG:urllib3.connectionpool:Resetting dropped connection: 127.0.0.1\n",
      "DEBUG:urllib3.connectionpool:http://127.0.0.1:8545 \"POST / HTTP/1.1\" 200 42\n",
      "DEBUG:web3.providers.HTTPProvider:Getting response HTTP. URI: http://127.0.0.1:8545/, Method: eth_chainId, Response: {'jsonrpc': '2.0', 'id': 4, 'result': '0x7a69'}\n",
      "DEBUG:web3.providers.HTTPProvider:Making request HTTP. URI: http://127.0.0.1:8545/, Method: eth_call\n",
      "DEBUG:urllib3.connectionpool:http://127.0.0.1:8545 \"POST / HTTP/1.1\" 200 197\n",
      "DEBUG:web3.providers.HTTPProvider:Getting response HTTP. URI: http://127.0.0.1:8545/, Method: eth_call, Response: {'jsonrpc': '2.0', 'id': 5, 'error': {'code': -32603, 'message': 'Error: Transaction reverted without a reason string', 'data': {'message': 'Error: Transaction reverted without a reason string', 'data': '0x'}}}\n"
     ]
    },
    {
     "ename": "ContractLogicError",
     "evalue": "execution reverted: Error: Transaction reverted without a reason string",
     "output_type": "error",
     "traceback": [
      "\u001b[0;31m---------------------------------------------------------------------------\u001b[0m",
      "\u001b[0;31mContractLogicError\u001b[0m                        Traceback (most recent call last)",
      "\u001b[0;32m<ipython-input-46-578bd3359948>\u001b[0m in \u001b[0;36m<module>\u001b[0;34m\u001b[0m\n\u001b[0;32m----> 1\u001b[0;31m contract.functions.transferETH(\n\u001b[0m\u001b[1;32m      2\u001b[0m     \u001b[0mcontract\u001b[0m\u001b[0;34m.\u001b[0m\u001b[0mw3\u001b[0m\u001b[0;34m.\u001b[0m\u001b[0mto_checksum_address\u001b[0m\u001b[0;34m(\u001b[0m\u001b[0;34m'0xc02aaa39b223fe8d0a0e5c4f27ead9083c756cc2'\u001b[0m\u001b[0;34m)\u001b[0m\u001b[0;34m,\u001b[0m\u001b[0;34m\u001b[0m\u001b[0;34m\u001b[0m\u001b[0m\n\u001b[1;32m      3\u001b[0m     int(1e18)).call()\n",
      "\u001b[0;32m/usr/local/anaconda3/lib/python3.8/site-packages/web3/contract/contract.py\u001b[0m in \u001b[0;36mcall\u001b[0;34m(self, transaction, block_identifier, state_override, ccip_read_enabled)\u001b[0m\n\u001b[1;32m    459\u001b[0m         \u001b[0mblock_id\u001b[0m \u001b[0;34m=\u001b[0m \u001b[0mparse_block_identifier\u001b[0m\u001b[0;34m(\u001b[0m\u001b[0mself\u001b[0m\u001b[0;34m.\u001b[0m\u001b[0mw3\u001b[0m\u001b[0;34m,\u001b[0m \u001b[0mblock_identifier\u001b[0m\u001b[0;34m)\u001b[0m\u001b[0;34m\u001b[0m\u001b[0;34m\u001b[0m\u001b[0m\n\u001b[1;32m    460\u001b[0m \u001b[0;34m\u001b[0m\u001b[0m\n\u001b[0;32m--> 461\u001b[0;31m         return call_contract_function(\n\u001b[0m\u001b[1;32m    462\u001b[0m             \u001b[0mself\u001b[0m\u001b[0;34m.\u001b[0m\u001b[0mw3\u001b[0m\u001b[0;34m,\u001b[0m\u001b[0;34m\u001b[0m\u001b[0;34m\u001b[0m\u001b[0m\n\u001b[1;32m    463\u001b[0m             \u001b[0mself\u001b[0m\u001b[0;34m.\u001b[0m\u001b[0maddress\u001b[0m\u001b[0;34m,\u001b[0m\u001b[0;34m\u001b[0m\u001b[0;34m\u001b[0m\u001b[0m\n",
      "\u001b[0;32m/usr/local/anaconda3/lib/python3.8/site-packages/web3/contract/utils.py\u001b[0m in \u001b[0;36mcall_contract_function\u001b[0;34m(w3, address, normalizers, function_identifier, transaction, block_id, contract_abi, fn_abi, state_override, ccip_read_enabled, decode_tuples, *args, **kwargs)\u001b[0m\n\u001b[1;32m     94\u001b[0m     )\n\u001b[1;32m     95\u001b[0m \u001b[0;34m\u001b[0m\u001b[0m\n\u001b[0;32m---> 96\u001b[0;31m     return_data = w3.eth.call(\n\u001b[0m\u001b[1;32m     97\u001b[0m         \u001b[0mcall_transaction\u001b[0m\u001b[0;34m,\u001b[0m\u001b[0;34m\u001b[0m\u001b[0;34m\u001b[0m\u001b[0m\n\u001b[1;32m     98\u001b[0m         \u001b[0mblock_identifier\u001b[0m\u001b[0;34m=\u001b[0m\u001b[0mblock_id\u001b[0m\u001b[0;34m,\u001b[0m\u001b[0;34m\u001b[0m\u001b[0;34m\u001b[0m\u001b[0m\n",
      "\u001b[0;32m/usr/local/anaconda3/lib/python3.8/site-packages/web3/eth/eth.py\u001b[0m in \u001b[0;36mcall\u001b[0;34m(self, transaction, block_identifier, state_override, ccip_read_enabled)\u001b[0m\n\u001b[1;32m    253\u001b[0m             \u001b[0;32mand\u001b[0m \u001b[0mccip_read_enabled\u001b[0m \u001b[0;32mis\u001b[0m \u001b[0;32mTrue\u001b[0m\u001b[0;34m\u001b[0m\u001b[0;34m\u001b[0m\u001b[0m\n\u001b[1;32m    254\u001b[0m         ):\n\u001b[0;32m--> 255\u001b[0;31m             \u001b[0;32mreturn\u001b[0m \u001b[0mself\u001b[0m\u001b[0;34m.\u001b[0m\u001b[0m_durin_call\u001b[0m\u001b[0;34m(\u001b[0m\u001b[0mtransaction\u001b[0m\u001b[0;34m,\u001b[0m \u001b[0mblock_identifier\u001b[0m\u001b[0;34m,\u001b[0m \u001b[0mstate_override\u001b[0m\u001b[0;34m)\u001b[0m\u001b[0;34m\u001b[0m\u001b[0;34m\u001b[0m\u001b[0m\n\u001b[0m\u001b[1;32m    256\u001b[0m \u001b[0;34m\u001b[0m\u001b[0m\n\u001b[1;32m    257\u001b[0m         \u001b[0;32mreturn\u001b[0m \u001b[0mself\u001b[0m\u001b[0;34m.\u001b[0m\u001b[0m_call\u001b[0m\u001b[0;34m(\u001b[0m\u001b[0mtransaction\u001b[0m\u001b[0;34m,\u001b[0m \u001b[0mblock_identifier\u001b[0m\u001b[0;34m,\u001b[0m \u001b[0mstate_override\u001b[0m\u001b[0;34m)\u001b[0m\u001b[0;34m\u001b[0m\u001b[0;34m\u001b[0m\u001b[0m\n",
      "\u001b[0;32m/usr/local/anaconda3/lib/python3.8/site-packages/web3/eth/eth.py\u001b[0m in \u001b[0;36m_durin_call\u001b[0;34m(self, transaction, block_identifier, state_override)\u001b[0m\n\u001b[1;32m    272\u001b[0m         \u001b[0;32mfor\u001b[0m \u001b[0m_\u001b[0m \u001b[0;32min\u001b[0m \u001b[0mrange\u001b[0m\u001b[0;34m(\u001b[0m\u001b[0mmax_redirects\u001b[0m\u001b[0;34m)\u001b[0m\u001b[0;34m:\u001b[0m\u001b[0;34m\u001b[0m\u001b[0;34m\u001b[0m\u001b[0m\n\u001b[1;32m    273\u001b[0m             \u001b[0;32mtry\u001b[0m\u001b[0;34m:\u001b[0m\u001b[0;34m\u001b[0m\u001b[0;34m\u001b[0m\u001b[0m\n\u001b[0;32m--> 274\u001b[0;31m                 \u001b[0;32mreturn\u001b[0m \u001b[0mself\u001b[0m\u001b[0;34m.\u001b[0m\u001b[0m_call\u001b[0m\u001b[0;34m(\u001b[0m\u001b[0mtransaction\u001b[0m\u001b[0;34m,\u001b[0m \u001b[0mblock_identifier\u001b[0m\u001b[0;34m,\u001b[0m \u001b[0mstate_override\u001b[0m\u001b[0;34m)\u001b[0m\u001b[0;34m\u001b[0m\u001b[0;34m\u001b[0m\u001b[0m\n\u001b[0m\u001b[1;32m    275\u001b[0m             \u001b[0;32mexcept\u001b[0m \u001b[0mOffchainLookup\u001b[0m \u001b[0;32mas\u001b[0m \u001b[0moffchain_lookup\u001b[0m\u001b[0;34m:\u001b[0m\u001b[0;34m\u001b[0m\u001b[0;34m\u001b[0m\u001b[0m\n\u001b[1;32m    276\u001b[0m                 durin_calldata = handle_offchain_lookup(\n",
      "\u001b[0;32m/usr/local/anaconda3/lib/python3.8/site-packages/web3/module.py\u001b[0m in \u001b[0;36mcaller\u001b[0;34m(*args, **kwargs)\u001b[0m\n\u001b[1;32m     66\u001b[0m             \u001b[0mnull_result_formatters\u001b[0m\u001b[0;34m,\u001b[0m\u001b[0;34m\u001b[0m\u001b[0;34m\u001b[0m\u001b[0m\n\u001b[1;32m     67\u001b[0m         ) = response_formatters\n\u001b[0;32m---> 68\u001b[0;31m         result = w3.manager.request_blocking(\n\u001b[0m\u001b[1;32m     69\u001b[0m             \u001b[0mmethod_str\u001b[0m\u001b[0;34m,\u001b[0m \u001b[0mparams\u001b[0m\u001b[0;34m,\u001b[0m \u001b[0merror_formatters\u001b[0m\u001b[0;34m,\u001b[0m \u001b[0mnull_result_formatters\u001b[0m\u001b[0;34m\u001b[0m\u001b[0;34m\u001b[0m\u001b[0m\n\u001b[1;32m     70\u001b[0m         )\n",
      "\u001b[0;32m/usr/local/anaconda3/lib/python3.8/site-packages/web3/manager.py\u001b[0m in \u001b[0;36mrequest_blocking\u001b[0;34m(self, method, params, error_formatters, null_result_formatters)\u001b[0m\n\u001b[1;32m    230\u001b[0m         \"\"\"\n\u001b[1;32m    231\u001b[0m         \u001b[0mresponse\u001b[0m \u001b[0;34m=\u001b[0m \u001b[0mself\u001b[0m\u001b[0;34m.\u001b[0m\u001b[0m_make_request\u001b[0m\u001b[0;34m(\u001b[0m\u001b[0mmethod\u001b[0m\u001b[0;34m,\u001b[0m \u001b[0mparams\u001b[0m\u001b[0;34m)\u001b[0m\u001b[0;34m\u001b[0m\u001b[0;34m\u001b[0m\u001b[0m\n\u001b[0;32m--> 232\u001b[0;31m         return self.formatted_response(\n\u001b[0m\u001b[1;32m    233\u001b[0m             \u001b[0mresponse\u001b[0m\u001b[0;34m,\u001b[0m \u001b[0mparams\u001b[0m\u001b[0;34m,\u001b[0m \u001b[0merror_formatters\u001b[0m\u001b[0;34m,\u001b[0m \u001b[0mnull_result_formatters\u001b[0m\u001b[0;34m\u001b[0m\u001b[0;34m\u001b[0m\u001b[0m\n\u001b[1;32m    234\u001b[0m         )\n",
      "\u001b[0;32m/usr/local/anaconda3/lib/python3.8/site-packages/web3/manager.py\u001b[0m in \u001b[0;36mformatted_response\u001b[0;34m(response, params, error_formatters, null_result_formatters)\u001b[0m\n\u001b[1;32m    195\u001b[0m     ) -> Any:\n\u001b[1;32m    196\u001b[0m         \u001b[0;32mif\u001b[0m \u001b[0;34m\"error\"\u001b[0m \u001b[0;32min\u001b[0m \u001b[0mresponse\u001b[0m\u001b[0;34m:\u001b[0m\u001b[0;34m\u001b[0m\u001b[0;34m\u001b[0m\u001b[0m\n\u001b[0;32m--> 197\u001b[0;31m             \u001b[0mapply_error_formatters\u001b[0m\u001b[0;34m(\u001b[0m\u001b[0merror_formatters\u001b[0m\u001b[0;34m,\u001b[0m \u001b[0mresponse\u001b[0m\u001b[0;34m)\u001b[0m\u001b[0;34m\u001b[0m\u001b[0;34m\u001b[0m\u001b[0m\n\u001b[0m\u001b[1;32m    198\u001b[0m \u001b[0;34m\u001b[0m\u001b[0m\n\u001b[1;32m    199\u001b[0m             \u001b[0;31m# guard against eth-tester case - eth-tester returns a string\u001b[0m\u001b[0;34m\u001b[0m\u001b[0;34m\u001b[0m\u001b[0;34m\u001b[0m\u001b[0m\n",
      "\u001b[0;32m/usr/local/anaconda3/lib/python3.8/site-packages/web3/manager.py\u001b[0m in \u001b[0;36mapply_error_formatters\u001b[0;34m(error_formatters, response)\u001b[0m\n\u001b[1;32m     71\u001b[0m ) -> RPCResponse:\n\u001b[1;32m     72\u001b[0m     \u001b[0;32mif\u001b[0m \u001b[0merror_formatters\u001b[0m\u001b[0;34m:\u001b[0m\u001b[0;34m\u001b[0m\u001b[0;34m\u001b[0m\u001b[0m\n\u001b[0;32m---> 73\u001b[0;31m         \u001b[0mformatted_resp\u001b[0m \u001b[0;34m=\u001b[0m \u001b[0mpipe\u001b[0m\u001b[0;34m(\u001b[0m\u001b[0mresponse\u001b[0m\u001b[0;34m,\u001b[0m \u001b[0merror_formatters\u001b[0m\u001b[0;34m)\u001b[0m\u001b[0;34m\u001b[0m\u001b[0;34m\u001b[0m\u001b[0m\n\u001b[0m\u001b[1;32m     74\u001b[0m         \u001b[0;32mreturn\u001b[0m \u001b[0mformatted_resp\u001b[0m\u001b[0;34m\u001b[0m\u001b[0;34m\u001b[0m\u001b[0m\n\u001b[1;32m     75\u001b[0m     \u001b[0;32melse\u001b[0m\u001b[0;34m:\u001b[0m\u001b[0;34m\u001b[0m\u001b[0;34m\u001b[0m\u001b[0m\n",
      "\u001b[0;32m/usr/local/anaconda3/lib/python3.8/site-packages/cytoolz/functoolz.pyx\u001b[0m in \u001b[0;36mcytoolz.functoolz.pipe\u001b[0;34m()\u001b[0m\n",
      "\u001b[0;32m/usr/local/anaconda3/lib/python3.8/site-packages/cytoolz/functoolz.pyx\u001b[0m in \u001b[0;36mcytoolz.functoolz.c_pipe\u001b[0;34m()\u001b[0m\n",
      "\u001b[0;32m/usr/local/anaconda3/lib/python3.8/site-packages/web3/_utils/method_formatters.py\u001b[0m in \u001b[0;36mraise_contract_logic_error_on_revert\u001b[0;34m(response)\u001b[0m\n\u001b[1;32m    647\u001b[0m     \u001b[0;31m# Ganache case:\u001b[0m\u001b[0;34m\u001b[0m\u001b[0;34m\u001b[0m\u001b[0;34m\u001b[0m\u001b[0m\n\u001b[1;32m    648\u001b[0m     \u001b[0;32mif\u001b[0m \u001b[0misinstance\u001b[0m\u001b[0;34m(\u001b[0m\u001b[0mdata\u001b[0m\u001b[0;34m,\u001b[0m \u001b[0mdict\u001b[0m\u001b[0;34m)\u001b[0m \u001b[0;32mand\u001b[0m \u001b[0mresponse\u001b[0m\u001b[0;34m[\u001b[0m\u001b[0;34m\"error\"\u001b[0m\u001b[0;34m]\u001b[0m\u001b[0;34m.\u001b[0m\u001b[0mget\u001b[0m\u001b[0;34m(\u001b[0m\u001b[0;34m\"message\"\u001b[0m\u001b[0;34m)\u001b[0m\u001b[0;34m:\u001b[0m\u001b[0;34m\u001b[0m\u001b[0;34m\u001b[0m\u001b[0m\n\u001b[0;32m--> 649\u001b[0;31m         \u001b[0;32mraise\u001b[0m \u001b[0mContractLogicError\u001b[0m\u001b[0;34m(\u001b[0m\u001b[0;34mf'execution reverted: {response[\"error\"][\"message\"]}'\u001b[0m\u001b[0;34m)\u001b[0m\u001b[0;34m\u001b[0m\u001b[0;34m\u001b[0m\u001b[0m\n\u001b[0m\u001b[1;32m    650\u001b[0m \u001b[0;34m\u001b[0m\u001b[0m\n\u001b[1;32m    651\u001b[0m     \u001b[0;31m# Parity/OpenEthereum case:\u001b[0m\u001b[0;34m\u001b[0m\u001b[0;34m\u001b[0m\u001b[0;34m\u001b[0m\u001b[0m\n",
      "\u001b[0;31mContractLogicError\u001b[0m: execution reverted: Error: Transaction reverted without a reason string"
     ]
    }
   ],
   "source": [
    "contract.functions.transferETH(\n",
    "    contract.w3.to_checksum_address('0xc02aaa39b223fe8d0a0e5c4f27ead9083c756cc2'), \n",
    "    int(1e18)).call()"
   ]
  },
  {
   "cell_type": "code",
   "execution_count": 30,
   "id": "a898422e",
   "metadata": {},
   "outputs": [
    {
     "name": "stdout",
     "output_type": "stream",
     "text": [
      "INFO:interface.w3:Reading config from conf/main.ini\n",
      "INFO:interface.w3:Reading secrets from .env.main\n",
      "INFO:interface.w3:Using local fork from main\n",
      "INFO:interface.w3:RPC url: http://127.0.0.1:8545/\n",
      "DEBUG:web3.providers.HTTPProvider:Making request HTTP. URI: http://127.0.0.1:8545/, Method: web3_clientVersion\n",
      "DEBUG:urllib3.connectionpool:Resetting dropped connection: 127.0.0.1\n",
      "DEBUG:urllib3.connectionpool:http://127.0.0.1:8545 \"POST / HTTP/1.1\" 200 94\n",
      "DEBUG:web3.providers.HTTPProvider:Getting response HTTP. URI: http://127.0.0.1:8545/, Method: web3_clientVersion, Response: {'jsonrpc': '2.0', 'id': 0, 'result': 'HardhatNetwork/2.13.0/@nomicfoundation/ethereumjs-vm/6.4.2'}\n",
      "INFO:interface.w3:Connected to chain main: True\n",
      "DEBUG:web3.providers.HTTPProvider:Making request HTTP. URI: http://127.0.0.1:8545/, Method: web3_clientVersion\n",
      "DEBUG:urllib3.connectionpool:http://127.0.0.1:8545 \"POST / HTTP/1.1\" 200 94\n",
      "DEBUG:web3.providers.HTTPProvider:Getting response HTTP. URI: http://127.0.0.1:8545/, Method: web3_clientVersion, Response: {'jsonrpc': '2.0', 'id': 1, 'result': 'HardhatNetwork/2.13.0/@nomicfoundation/ethereumjs-vm/6.4.2'}\n",
      "INFO:interface.w3:Getting contract ABI for 0xc02aaa39b223fe8d0a0e5c4f27ead9083c756cc2 from https://api.etherscan.io/api/\n",
      "DEBUG:urllib3.connectionpool:Starting new HTTPS connection (1): api.etherscan.io:443\n",
      "DEBUG:urllib3.connectionpool:https://api.etherscan.io:443 \"GET /api/ HTTP/1.1\" 200 713\n",
      "DEBUG:web3.RequestManager:Making request. Method: eth_sendTransaction\n",
      "DEBUG:web3.RequestManager:Making request. Method: eth_getBlockByNumber\n",
      "DEBUG:web3.providers.HTTPProvider:Making request HTTP. URI: http://127.0.0.1:8545/, Method: eth_getBlockByNumber\n",
      "DEBUG:urllib3.connectionpool:http://127.0.0.1:8545 \"POST / HTTP/1.1\" 200 1528\n",
      "DEBUG:web3.providers.HTTPProvider:Getting response HTTP. URI: http://127.0.0.1:8545/, Method: eth_getBlockByNumber, Response: {'jsonrpc': '2.0', 'id': 2, 'result': {'number': '0x1031d94', 'hash': '0x9d5dfab8c6382bc30cd7e69eca94d36083525b5106522219657a6671ef968615', 'parentHash': '0x6ec5494793700ad3c5480ff521e00111539122f92fd5b7b4cede419529cf2337', 'nonce': '0x0000000000000000', 'mixHash': '0xf4fbfa6c8463f342eb58838d8c6b0661faf22e7076a518bf4deaddbf3fa8a112', 'sha3Uncles': '0x1dcc4de8dec75d7aab85b567b6ccd41ad312451b948a7413f0a142fd40d49347', 'logsBloom': '0x00000000000000000000000000000000000000000000000000800000000400000000000000000000000000000000000000000000000000000004000000000000000000000000000000000000000000000001000000000000000000000000000000000000020000000000000100000800000000000000000000000000000000400000000000000000000000000000000000000000000000000000000000000000000000000000000000000000000000000000000000000000000000000000000000000000000000200000000000000000000000002000000000000000000020000000000000000000000000000000000000000000000000000000000000000000', 'transactionsRoot': '0xb0c5982aeb61cd798f7bbf540e7f3732d4d7b79b6a89e292195bae7c20c226c5', 'stateRoot': '0x4f966f7b066b2d838afab7b99705b1fbecff809f083be8a03ea1a656be14d72a', 'receiptsRoot': '0xde1c2502322e73fe9d2efb716e474d4d89da8b867bfc09e47aa79a49df6b7e7b', 'miner': '0xc014ba5ec014ba5ec014ba5ec014ba5ec014ba5e', 'difficulty': '0x0', 'totalDifficulty': '0xc70d815d562d3cfa955', 'extraData': '0x', 'size': '0xde0', 'gasLimit': '0x1c9c380', 'gasUsed': '0xa6beb', 'timestamp': '0x642d69ac', 'transactions': ['0xe5773e379a24b7bd489f2f943f2faa2d5b1c501ccbc71504c8537af28eb4060f'], 'uncles': [], 'baseFeePerGas': '0x5ab321251'}}\n",
      "DEBUG:web3.RequestManager:Making request. Method: eth_chainId\n",
      "DEBUG:web3.providers.HTTPProvider:Making request HTTP. URI: http://127.0.0.1:8545/, Method: eth_chainId\n",
      "DEBUG:urllib3.connectionpool:http://127.0.0.1:8545 \"POST / HTTP/1.1\" 200 42\n",
      "DEBUG:web3.providers.HTTPProvider:Getting response HTTP. URI: http://127.0.0.1:8545/, Method: eth_chainId, Response: {'jsonrpc': '2.0', 'id': 3, 'result': '0x7a69'}\n",
      "DEBUG:web3.RequestManager:Making request. Method: eth_estimateGas\n",
      "DEBUG:web3.RequestManager:Making request. Method: eth_chainId\n",
      "DEBUG:web3.providers.HTTPProvider:Making request HTTP. URI: http://127.0.0.1:8545/, Method: eth_chainId\n",
      "DEBUG:urllib3.connectionpool:http://127.0.0.1:8545 \"POST / HTTP/1.1\" 200 42\n",
      "DEBUG:web3.providers.HTTPProvider:Getting response HTTP. URI: http://127.0.0.1:8545/, Method: eth_chainId, Response: {'jsonrpc': '2.0', 'id': 4, 'result': '0x7a69'}\n",
      "DEBUG:web3.providers.HTTPProvider:Making request HTTP. URI: http://127.0.0.1:8545/, Method: eth_estimateGas\n",
      "DEBUG:urllib3.connectionpool:http://127.0.0.1:8545 \"POST / HTTP/1.1\" 200 42\n",
      "DEBUG:web3.providers.HTTPProvider:Getting response HTTP. URI: http://127.0.0.1:8545/, Method: eth_estimateGas, Response: {'jsonrpc': '2.0', 'id': 5, 'result': '0xafee'}\n",
      "DEBUG:web3.RequestManager:Making request. Method: eth_blockNumber\n",
      "DEBUG:web3.providers.HTTPProvider:Making request HTTP. URI: http://127.0.0.1:8545/, Method: eth_blockNumber\n",
      "DEBUG:urllib3.connectionpool:http://127.0.0.1:8545 \"POST / HTTP/1.1\" 200 45\n",
      "DEBUG:web3.providers.HTTPProvider:Getting response HTTP. URI: http://127.0.0.1:8545/, Method: eth_blockNumber, Response: {'jsonrpc': '2.0', 'id': 6, 'result': '0x1031d94'}\n",
      "DEBUG:web3.RequestManager:Making request. Method: eth_getBlockByNumber\n",
      "DEBUG:web3.providers.HTTPProvider:Making request HTTP. URI: http://127.0.0.1:8545/, Method: eth_getBlockByNumber\n",
      "DEBUG:urllib3.connectionpool:http://127.0.0.1:8545 \"POST / HTTP/1.1\" 200 1528\n",
      "DEBUG:web3.providers.HTTPProvider:Getting response HTTP. URI: http://127.0.0.1:8545/, Method: eth_getBlockByNumber, Response: {'jsonrpc': '2.0', 'id': 7, 'result': {'number': '0x1031d94', 'hash': '0x9d5dfab8c6382bc30cd7e69eca94d36083525b5106522219657a6671ef968615', 'parentHash': '0x6ec5494793700ad3c5480ff521e00111539122f92fd5b7b4cede419529cf2337', 'nonce': '0x0000000000000000', 'mixHash': '0xf4fbfa6c8463f342eb58838d8c6b0661faf22e7076a518bf4deaddbf3fa8a112', 'sha3Uncles': '0x1dcc4de8dec75d7aab85b567b6ccd41ad312451b948a7413f0a142fd40d49347', 'logsBloom': '0x00000000000000000000000000000000000000000000000000800000000400000000000000000000000000000000000000000000000000000004000000000000000000000000000000000000000000000001000000000000000000000000000000000000020000000000000100000800000000000000000000000000000000400000000000000000000000000000000000000000000000000000000000000000000000000000000000000000000000000000000000000000000000000000000000000000000000200000000000000000000000002000000000000000000020000000000000000000000000000000000000000000000000000000000000000000', 'transactionsRoot': '0xb0c5982aeb61cd798f7bbf540e7f3732d4d7b79b6a89e292195bae7c20c226c5', 'stateRoot': '0x4f966f7b066b2d838afab7b99705b1fbecff809f083be8a03ea1a656be14d72a', 'receiptsRoot': '0xde1c2502322e73fe9d2efb716e474d4d89da8b867bfc09e47aa79a49df6b7e7b', 'miner': '0xc014ba5ec014ba5ec014ba5ec014ba5ec014ba5e', 'difficulty': '0x0', 'totalDifficulty': '0xc70d815d562d3cfa955', 'extraData': '0x', 'size': '0xde0', 'gasLimit': '0x1c9c380', 'gasUsed': '0xa6beb', 'timestamp': '0x642d69ac', 'transactions': ['0xe5773e379a24b7bd489f2f943f2faa2d5b1c501ccbc71504c8537af28eb4060f'], 'uncles': [], 'baseFeePerGas': '0x5ab321251'}}\n",
      "DEBUG:web3.providers.HTTPProvider:Making request HTTP. URI: http://127.0.0.1:8545/, Method: eth_sendTransaction\n",
      "DEBUG:urllib3.connectionpool:http://127.0.0.1:8545 \"POST / HTTP/1.1\" 200 102\n",
      "DEBUG:web3.providers.HTTPProvider:Getting response HTTP. URI: http://127.0.0.1:8545/, Method: eth_sendTransaction, Response: {'jsonrpc': '2.0', 'id': 8, 'result': '0xc60439edc8e55667b7919656dd242a589b69e495fd9c0adf2b1f2d4e14ed48f8'}\n"
     ]
    },
    {
     "data": {
      "text/plain": [
       "HexBytes('0xc60439edc8e55667b7919656dd242a589b69e495fd9c0adf2b1f2d4e14ed48f8')"
      ]
     },
     "execution_count": 30,
     "metadata": {},
     "output_type": "execute_result"
    }
   ],
   "source": [
    "weth = Contract(address='0xc02aaa39b223fe8d0a0e5c4f27ead9083c756cc2')\n",
    "weth.functions.deposit().transact({'value': int(50e18)})"
   ]
  },
  {
   "cell_type": "code",
   "execution_count": 28,
   "id": "98d42afe",
   "metadata": {},
   "outputs": [
    {
     "name": "stdout",
     "output_type": "stream",
     "text": [
      "DEBUG:web3.RequestManager:Making request. Method: eth_call\n",
      "DEBUG:web3.RequestManager:Making request. Method: eth_chainId\n",
      "DEBUG:web3.providers.HTTPProvider:Making request HTTP. URI: http://127.0.0.1:8545/, Method: eth_chainId\n",
      "DEBUG:urllib3.connectionpool:Resetting dropped connection: 127.0.0.1\n",
      "DEBUG:urllib3.connectionpool:http://127.0.0.1:8545 \"POST / HTTP/1.1\" 200 42\n",
      "DEBUG:web3.providers.HTTPProvider:Getting response HTTP. URI: http://127.0.0.1:8545/, Method: eth_chainId, Response: {'jsonrpc': '2.0', 'id': 2, 'result': '0x7a69'}\n",
      "DEBUG:web3.providers.HTTPProvider:Making request HTTP. URI: http://127.0.0.1:8545/, Method: eth_call\n",
      "DEBUG:urllib3.connectionpool:http://127.0.0.1:8545 \"POST / HTTP/1.1\" 200 197\n",
      "DEBUG:web3.providers.HTTPProvider:Getting response HTTP. URI: http://127.0.0.1:8545/, Method: eth_call, Response: {'jsonrpc': '2.0', 'id': 3, 'error': {'code': -32603, 'message': 'Error: Transaction reverted without a reason string', 'data': {'message': 'Error: Transaction reverted without a reason string', 'data': '0x'}}}\n"
     ]
    },
    {
     "ename": "ContractLogicError",
     "evalue": "execution reverted: Error: Transaction reverted without a reason string",
     "output_type": "error",
     "traceback": [
      "\u001b[0;31m---------------------------------------------------------------------------\u001b[0m",
      "\u001b[0;31mContractLogicError\u001b[0m                        Traceback (most recent call last)",
      "\u001b[0;32m<ipython-input-28-973006f6dd5c>\u001b[0m in \u001b[0;36m<module>\u001b[0;34m\u001b[0m\n\u001b[0;32m----> 1\u001b[0;31m contract.functions.transferETH(\n\u001b[0m\u001b[1;32m      2\u001b[0m     \u001b[0mcontract\u001b[0m\u001b[0;34m.\u001b[0m\u001b[0mw3\u001b[0m\u001b[0;34m.\u001b[0m\u001b[0mto_checksum_address\u001b[0m\u001b[0;34m(\u001b[0m\u001b[0;34m'0xc02aaa39b223fe8d0a0e5c4f27ead9083c756cc2'\u001b[0m\u001b[0;34m)\u001b[0m\u001b[0;34m,\u001b[0m\u001b[0;34m\u001b[0m\u001b[0;34m\u001b[0m\u001b[0m\n\u001b[1;32m      3\u001b[0m     int(50e18)).call()\n",
      "\u001b[0;32m/usr/local/anaconda3/lib/python3.8/site-packages/web3/contract/contract.py\u001b[0m in \u001b[0;36mcall\u001b[0;34m(self, transaction, block_identifier, state_override, ccip_read_enabled)\u001b[0m\n\u001b[1;32m    459\u001b[0m         \u001b[0mblock_id\u001b[0m \u001b[0;34m=\u001b[0m \u001b[0mparse_block_identifier\u001b[0m\u001b[0;34m(\u001b[0m\u001b[0mself\u001b[0m\u001b[0;34m.\u001b[0m\u001b[0mw3\u001b[0m\u001b[0;34m,\u001b[0m \u001b[0mblock_identifier\u001b[0m\u001b[0;34m)\u001b[0m\u001b[0;34m\u001b[0m\u001b[0;34m\u001b[0m\u001b[0m\n\u001b[1;32m    460\u001b[0m \u001b[0;34m\u001b[0m\u001b[0m\n\u001b[0;32m--> 461\u001b[0;31m         return call_contract_function(\n\u001b[0m\u001b[1;32m    462\u001b[0m             \u001b[0mself\u001b[0m\u001b[0;34m.\u001b[0m\u001b[0mw3\u001b[0m\u001b[0;34m,\u001b[0m\u001b[0;34m\u001b[0m\u001b[0;34m\u001b[0m\u001b[0m\n\u001b[1;32m    463\u001b[0m             \u001b[0mself\u001b[0m\u001b[0;34m.\u001b[0m\u001b[0maddress\u001b[0m\u001b[0;34m,\u001b[0m\u001b[0;34m\u001b[0m\u001b[0;34m\u001b[0m\u001b[0m\n",
      "\u001b[0;32m/usr/local/anaconda3/lib/python3.8/site-packages/web3/contract/utils.py\u001b[0m in \u001b[0;36mcall_contract_function\u001b[0;34m(w3, address, normalizers, function_identifier, transaction, block_id, contract_abi, fn_abi, state_override, ccip_read_enabled, decode_tuples, *args, **kwargs)\u001b[0m\n\u001b[1;32m     94\u001b[0m     )\n\u001b[1;32m     95\u001b[0m \u001b[0;34m\u001b[0m\u001b[0m\n\u001b[0;32m---> 96\u001b[0;31m     return_data = w3.eth.call(\n\u001b[0m\u001b[1;32m     97\u001b[0m         \u001b[0mcall_transaction\u001b[0m\u001b[0;34m,\u001b[0m\u001b[0;34m\u001b[0m\u001b[0;34m\u001b[0m\u001b[0m\n\u001b[1;32m     98\u001b[0m         \u001b[0mblock_identifier\u001b[0m\u001b[0;34m=\u001b[0m\u001b[0mblock_id\u001b[0m\u001b[0;34m,\u001b[0m\u001b[0;34m\u001b[0m\u001b[0;34m\u001b[0m\u001b[0m\n",
      "\u001b[0;32m/usr/local/anaconda3/lib/python3.8/site-packages/web3/eth/eth.py\u001b[0m in \u001b[0;36mcall\u001b[0;34m(self, transaction, block_identifier, state_override, ccip_read_enabled)\u001b[0m\n\u001b[1;32m    253\u001b[0m             \u001b[0;32mand\u001b[0m \u001b[0mccip_read_enabled\u001b[0m \u001b[0;32mis\u001b[0m \u001b[0;32mTrue\u001b[0m\u001b[0;34m\u001b[0m\u001b[0;34m\u001b[0m\u001b[0m\n\u001b[1;32m    254\u001b[0m         ):\n\u001b[0;32m--> 255\u001b[0;31m             \u001b[0;32mreturn\u001b[0m \u001b[0mself\u001b[0m\u001b[0;34m.\u001b[0m\u001b[0m_durin_call\u001b[0m\u001b[0;34m(\u001b[0m\u001b[0mtransaction\u001b[0m\u001b[0;34m,\u001b[0m \u001b[0mblock_identifier\u001b[0m\u001b[0;34m,\u001b[0m \u001b[0mstate_override\u001b[0m\u001b[0;34m)\u001b[0m\u001b[0;34m\u001b[0m\u001b[0;34m\u001b[0m\u001b[0m\n\u001b[0m\u001b[1;32m    256\u001b[0m \u001b[0;34m\u001b[0m\u001b[0m\n\u001b[1;32m    257\u001b[0m         \u001b[0;32mreturn\u001b[0m \u001b[0mself\u001b[0m\u001b[0;34m.\u001b[0m\u001b[0m_call\u001b[0m\u001b[0;34m(\u001b[0m\u001b[0mtransaction\u001b[0m\u001b[0;34m,\u001b[0m \u001b[0mblock_identifier\u001b[0m\u001b[0;34m,\u001b[0m \u001b[0mstate_override\u001b[0m\u001b[0;34m)\u001b[0m\u001b[0;34m\u001b[0m\u001b[0;34m\u001b[0m\u001b[0m\n",
      "\u001b[0;32m/usr/local/anaconda3/lib/python3.8/site-packages/web3/eth/eth.py\u001b[0m in \u001b[0;36m_durin_call\u001b[0;34m(self, transaction, block_identifier, state_override)\u001b[0m\n\u001b[1;32m    272\u001b[0m         \u001b[0;32mfor\u001b[0m \u001b[0m_\u001b[0m \u001b[0;32min\u001b[0m \u001b[0mrange\u001b[0m\u001b[0;34m(\u001b[0m\u001b[0mmax_redirects\u001b[0m\u001b[0;34m)\u001b[0m\u001b[0;34m:\u001b[0m\u001b[0;34m\u001b[0m\u001b[0;34m\u001b[0m\u001b[0m\n\u001b[1;32m    273\u001b[0m             \u001b[0;32mtry\u001b[0m\u001b[0;34m:\u001b[0m\u001b[0;34m\u001b[0m\u001b[0;34m\u001b[0m\u001b[0m\n\u001b[0;32m--> 274\u001b[0;31m                 \u001b[0;32mreturn\u001b[0m \u001b[0mself\u001b[0m\u001b[0;34m.\u001b[0m\u001b[0m_call\u001b[0m\u001b[0;34m(\u001b[0m\u001b[0mtransaction\u001b[0m\u001b[0;34m,\u001b[0m \u001b[0mblock_identifier\u001b[0m\u001b[0;34m,\u001b[0m \u001b[0mstate_override\u001b[0m\u001b[0;34m)\u001b[0m\u001b[0;34m\u001b[0m\u001b[0;34m\u001b[0m\u001b[0m\n\u001b[0m\u001b[1;32m    275\u001b[0m             \u001b[0;32mexcept\u001b[0m \u001b[0mOffchainLookup\u001b[0m \u001b[0;32mas\u001b[0m \u001b[0moffchain_lookup\u001b[0m\u001b[0;34m:\u001b[0m\u001b[0;34m\u001b[0m\u001b[0;34m\u001b[0m\u001b[0m\n\u001b[1;32m    276\u001b[0m                 durin_calldata = handle_offchain_lookup(\n",
      "\u001b[0;32m/usr/local/anaconda3/lib/python3.8/site-packages/web3/module.py\u001b[0m in \u001b[0;36mcaller\u001b[0;34m(*args, **kwargs)\u001b[0m\n\u001b[1;32m     66\u001b[0m             \u001b[0mnull_result_formatters\u001b[0m\u001b[0;34m,\u001b[0m\u001b[0;34m\u001b[0m\u001b[0;34m\u001b[0m\u001b[0m\n\u001b[1;32m     67\u001b[0m         ) = response_formatters\n\u001b[0;32m---> 68\u001b[0;31m         result = w3.manager.request_blocking(\n\u001b[0m\u001b[1;32m     69\u001b[0m             \u001b[0mmethod_str\u001b[0m\u001b[0;34m,\u001b[0m \u001b[0mparams\u001b[0m\u001b[0;34m,\u001b[0m \u001b[0merror_formatters\u001b[0m\u001b[0;34m,\u001b[0m \u001b[0mnull_result_formatters\u001b[0m\u001b[0;34m\u001b[0m\u001b[0;34m\u001b[0m\u001b[0m\n\u001b[1;32m     70\u001b[0m         )\n",
      "\u001b[0;32m/usr/local/anaconda3/lib/python3.8/site-packages/web3/manager.py\u001b[0m in \u001b[0;36mrequest_blocking\u001b[0;34m(self, method, params, error_formatters, null_result_formatters)\u001b[0m\n\u001b[1;32m    230\u001b[0m         \"\"\"\n\u001b[1;32m    231\u001b[0m         \u001b[0mresponse\u001b[0m \u001b[0;34m=\u001b[0m \u001b[0mself\u001b[0m\u001b[0;34m.\u001b[0m\u001b[0m_make_request\u001b[0m\u001b[0;34m(\u001b[0m\u001b[0mmethod\u001b[0m\u001b[0;34m,\u001b[0m \u001b[0mparams\u001b[0m\u001b[0;34m)\u001b[0m\u001b[0;34m\u001b[0m\u001b[0;34m\u001b[0m\u001b[0m\n\u001b[0;32m--> 232\u001b[0;31m         return self.formatted_response(\n\u001b[0m\u001b[1;32m    233\u001b[0m             \u001b[0mresponse\u001b[0m\u001b[0;34m,\u001b[0m \u001b[0mparams\u001b[0m\u001b[0;34m,\u001b[0m \u001b[0merror_formatters\u001b[0m\u001b[0;34m,\u001b[0m \u001b[0mnull_result_formatters\u001b[0m\u001b[0;34m\u001b[0m\u001b[0;34m\u001b[0m\u001b[0m\n\u001b[1;32m    234\u001b[0m         )\n",
      "\u001b[0;32m/usr/local/anaconda3/lib/python3.8/site-packages/web3/manager.py\u001b[0m in \u001b[0;36mformatted_response\u001b[0;34m(response, params, error_formatters, null_result_formatters)\u001b[0m\n\u001b[1;32m    195\u001b[0m     ) -> Any:\n\u001b[1;32m    196\u001b[0m         \u001b[0;32mif\u001b[0m \u001b[0;34m\"error\"\u001b[0m \u001b[0;32min\u001b[0m \u001b[0mresponse\u001b[0m\u001b[0;34m:\u001b[0m\u001b[0;34m\u001b[0m\u001b[0;34m\u001b[0m\u001b[0m\n\u001b[0;32m--> 197\u001b[0;31m             \u001b[0mapply_error_formatters\u001b[0m\u001b[0;34m(\u001b[0m\u001b[0merror_formatters\u001b[0m\u001b[0;34m,\u001b[0m \u001b[0mresponse\u001b[0m\u001b[0;34m)\u001b[0m\u001b[0;34m\u001b[0m\u001b[0;34m\u001b[0m\u001b[0m\n\u001b[0m\u001b[1;32m    198\u001b[0m \u001b[0;34m\u001b[0m\u001b[0m\n\u001b[1;32m    199\u001b[0m             \u001b[0;31m# guard against eth-tester case - eth-tester returns a string\u001b[0m\u001b[0;34m\u001b[0m\u001b[0;34m\u001b[0m\u001b[0;34m\u001b[0m\u001b[0m\n",
      "\u001b[0;32m/usr/local/anaconda3/lib/python3.8/site-packages/web3/manager.py\u001b[0m in \u001b[0;36mapply_error_formatters\u001b[0;34m(error_formatters, response)\u001b[0m\n\u001b[1;32m     71\u001b[0m ) -> RPCResponse:\n\u001b[1;32m     72\u001b[0m     \u001b[0;32mif\u001b[0m \u001b[0merror_formatters\u001b[0m\u001b[0;34m:\u001b[0m\u001b[0;34m\u001b[0m\u001b[0;34m\u001b[0m\u001b[0m\n\u001b[0;32m---> 73\u001b[0;31m         \u001b[0mformatted_resp\u001b[0m \u001b[0;34m=\u001b[0m \u001b[0mpipe\u001b[0m\u001b[0;34m(\u001b[0m\u001b[0mresponse\u001b[0m\u001b[0;34m,\u001b[0m \u001b[0merror_formatters\u001b[0m\u001b[0;34m)\u001b[0m\u001b[0;34m\u001b[0m\u001b[0;34m\u001b[0m\u001b[0m\n\u001b[0m\u001b[1;32m     74\u001b[0m         \u001b[0;32mreturn\u001b[0m \u001b[0mformatted_resp\u001b[0m\u001b[0;34m\u001b[0m\u001b[0;34m\u001b[0m\u001b[0m\n\u001b[1;32m     75\u001b[0m     \u001b[0;32melse\u001b[0m\u001b[0;34m:\u001b[0m\u001b[0;34m\u001b[0m\u001b[0;34m\u001b[0m\u001b[0m\n",
      "\u001b[0;32m/usr/local/anaconda3/lib/python3.8/site-packages/cytoolz/functoolz.pyx\u001b[0m in \u001b[0;36mcytoolz.functoolz.pipe\u001b[0;34m()\u001b[0m\n",
      "\u001b[0;32m/usr/local/anaconda3/lib/python3.8/site-packages/cytoolz/functoolz.pyx\u001b[0m in \u001b[0;36mcytoolz.functoolz.c_pipe\u001b[0;34m()\u001b[0m\n",
      "\u001b[0;32m/usr/local/anaconda3/lib/python3.8/site-packages/web3/_utils/method_formatters.py\u001b[0m in \u001b[0;36mraise_contract_logic_error_on_revert\u001b[0;34m(response)\u001b[0m\n\u001b[1;32m    647\u001b[0m     \u001b[0;31m# Ganache case:\u001b[0m\u001b[0;34m\u001b[0m\u001b[0;34m\u001b[0m\u001b[0;34m\u001b[0m\u001b[0m\n\u001b[1;32m    648\u001b[0m     \u001b[0;32mif\u001b[0m \u001b[0misinstance\u001b[0m\u001b[0;34m(\u001b[0m\u001b[0mdata\u001b[0m\u001b[0;34m,\u001b[0m \u001b[0mdict\u001b[0m\u001b[0;34m)\u001b[0m \u001b[0;32mand\u001b[0m \u001b[0mresponse\u001b[0m\u001b[0;34m[\u001b[0m\u001b[0;34m\"error\"\u001b[0m\u001b[0;34m]\u001b[0m\u001b[0;34m.\u001b[0m\u001b[0mget\u001b[0m\u001b[0;34m(\u001b[0m\u001b[0;34m\"message\"\u001b[0m\u001b[0;34m)\u001b[0m\u001b[0;34m:\u001b[0m\u001b[0;34m\u001b[0m\u001b[0;34m\u001b[0m\u001b[0m\n\u001b[0;32m--> 649\u001b[0;31m         \u001b[0;32mraise\u001b[0m \u001b[0mContractLogicError\u001b[0m\u001b[0;34m(\u001b[0m\u001b[0;34mf'execution reverted: {response[\"error\"][\"message\"]}'\u001b[0m\u001b[0;34m)\u001b[0m\u001b[0;34m\u001b[0m\u001b[0;34m\u001b[0m\u001b[0m\n\u001b[0m\u001b[1;32m    650\u001b[0m \u001b[0;34m\u001b[0m\u001b[0m\n\u001b[1;32m    651\u001b[0m     \u001b[0;31m# Parity/OpenEthereum case:\u001b[0m\u001b[0;34m\u001b[0m\u001b[0;34m\u001b[0m\u001b[0;34m\u001b[0m\u001b[0m\n",
      "\u001b[0;31mContractLogicError\u001b[0m: execution reverted: Error: Transaction reverted without a reason string"
     ]
    }
   ],
   "source": [
    "contract.functions.transferETH(\n",
    "    contract.w3.to_checksum_address('0xc02aaa39b223fe8d0a0e5c4f27ead9083c756cc2'), \n",
    "    int(50e18)).call()"
   ]
  },
  {
   "cell_type": "code",
   "execution_count": 13,
   "id": "28074c4d",
   "metadata": {},
   "outputs": [
    {
     "ename": "AttributeError",
     "evalue": "'Eth' object has no attribute 'transact'",
     "output_type": "error",
     "traceback": [
      "\u001b[0;31m---------------------------------------------------------------------------\u001b[0m",
      "\u001b[0;31mAttributeError\u001b[0m                            Traceback (most recent call last)",
      "\u001b[0;32m<ipython-input-13-104b3912f611>\u001b[0m in \u001b[0;36m<module>\u001b[0;34m\u001b[0m\n\u001b[0;32m----> 1\u001b[0;31m \u001b[0mp\u001b[0m\u001b[0;34m.\u001b[0m\u001b[0mw3\u001b[0m\u001b[0;34m.\u001b[0m\u001b[0meth\u001b[0m\u001b[0;34m.\u001b[0m\u001b[0mtransact\u001b[0m\u001b[0;34m\u001b[0m\u001b[0;34m\u001b[0m\u001b[0m\n\u001b[0m",
      "\u001b[0;31mAttributeError\u001b[0m: 'Eth' object has no attribute 'transact'"
     ]
    }
   ],
   "source": [
    "p.w3.eth.transact"
   ]
  },
  {
   "cell_type": "code",
   "execution_count": 7,
   "id": "6f3a71a6",
   "metadata": {},
   "outputs": [
    {
     "data": {
      "text/plain": [
       "{'url': {'rpc': 'https://eth-mainnet.g.alchemy.com/v2/',\n",
       "  'block_explorer': 'https://api.etherscan.io/api/',\n",
       "  'localhost': 'http://127.0.0.1:8545/'},\n",
       " 'routers': {'uniswapv2': '0x7a250d5630B4cF539739dF2C5dAcb4c659F2488D',\n",
       "  'uniswapv3': '0x68b3465833fb72A70ecDF485E0e4C7bD8665Fc45',\n",
       "  'sushiswap': '0xd9e1cE17f2641f24aE83637ab66a2cca9C378B9F'},\n",
       " 'tokens': {'usdc': '0xa0b86991c6218b36c1d19d4a2e9eb0ce3606eb48',\n",
       "  'usdt': '0xdac17f958d2ee523a2206206994597c13d831ec7',\n",
       "  'weth': '0xc02aaa39b223fe8d0a0e5c4f27ead9083c756cc2'}}"
      ]
     },
     "execution_count": 7,
     "metadata": {},
     "output_type": "execute_result"
    }
   ],
   "source": [
    "p.config._sections"
   ]
  },
  {
   "cell_type": "code",
   "execution_count": 54,
   "id": "91305026",
   "metadata": {},
   "outputs": [],
   "source": [
    "univ3_address = p.config._sections['routers']['uniswapv3']\n",
    "univ2_address = p.config._sections['routers']['uniswapv2']\n",
    "sushi_address = p.config._sections['routers']['sushiswap']\n",
    "weth_address = p.config._sections['tokens']['weth']\n",
    "usdc_address = p.config._sections['tokens']['usdc']\n",
    "usdt_address = p.config._sections['tokens']['usdt']"
   ]
  },
  {
   "cell_type": "code",
   "execution_count": 25,
   "id": "ddf8f000",
   "metadata": {},
   "outputs": [
    {
     "name": "stdout",
     "output_type": "stream",
     "text": [
      "INFO:interface.w3:Reading config from conf/main.ini\n",
      "INFO:interface.w3:Reading secrets from .env.main\n",
      "INFO:interface.w3:Using local fork from main\n",
      "INFO:interface.w3:RPC url: http://127.0.0.1:8545/\n",
      "DEBUG:web3.providers.HTTPProvider:Making request HTTP. URI: http://127.0.0.1:8545/, Method: web3_clientVersion\n",
      "DEBUG:urllib3.connectionpool:Resetting dropped connection: 127.0.0.1\n",
      "DEBUG:urllib3.connectionpool:http://127.0.0.1:8545 \"POST / HTTP/1.1\" 200 94\n",
      "DEBUG:web3.providers.HTTPProvider:Getting response HTTP. URI: http://127.0.0.1:8545/, Method: web3_clientVersion, Response: {'jsonrpc': '2.0', 'id': 0, 'result': 'HardhatNetwork/2.13.0/@nomicfoundation/ethereumjs-vm/6.4.2'}\n",
      "INFO:interface.w3:Connected to chain main: True\n",
      "DEBUG:urllib3.connectionpool:Starting new HTTPS connection (1): api.etherscan.io:443\n",
      "DEBUG:urllib3.connectionpool:https://api.etherscan.io:443 \"GET /api/ HTTP/1.1\" 200 713\n"
     ]
    }
   ],
   "source": [
    "weth = Contract(address=weth)"
   ]
  },
  {
   "cell_type": "code",
   "execution_count": 49,
   "id": "bab38290",
   "metadata": {},
   "outputs": [
    {
     "name": "stdout",
     "output_type": "stream",
     "text": [
      "DEBUG:web3.RequestManager:Making request. Method: eth_call\n",
      "DEBUG:web3.RequestManager:Making request. Method: eth_chainId\n",
      "DEBUG:web3.providers.HTTPProvider:Making request HTTP. URI: http://127.0.0.1:8545/, Method: eth_chainId\n",
      "DEBUG:urllib3.connectionpool:Resetting dropped connection: 127.0.0.1\n",
      "DEBUG:urllib3.connectionpool:http://127.0.0.1:8545 \"POST / HTTP/1.1\" 200 43\n",
      "DEBUG:web3.providers.HTTPProvider:Getting response HTTP. URI: http://127.0.0.1:8545/, Method: eth_chainId, Response: {'jsonrpc': '2.0', 'id': 32, 'result': '0x7a69'}\n",
      "DEBUG:web3.providers.HTTPProvider:Making request HTTP. URI: http://127.0.0.1:8545/, Method: eth_call\n",
      "DEBUG:urllib3.connectionpool:http://127.0.0.1:8545 \"POST / HTTP/1.1\" 200 103\n",
      "DEBUG:web3.providers.HTTPProvider:Getting response HTTP. URI: http://127.0.0.1:8545/, Method: eth_call, Response: {'jsonrpc': '2.0', 'id': 33, 'result': '0x0000000000000000000000000000000000000000000000000de0b6b3a7640000'}\n"
     ]
    },
    {
     "data": {
      "text/plain": [
       "1000000000000000000"
      ]
     },
     "execution_count": 49,
     "metadata": {},
     "output_type": "execute_result"
    }
   ],
   "source": [
    "weth.functions.balanceOf(DEPLOYED).call()"
   ]
  },
  {
   "cell_type": "code",
   "execution_count": 47,
   "id": "3cff25e0",
   "metadata": {},
   "outputs": [
    {
     "name": "stdout",
     "output_type": "stream",
     "text": [
      "DEBUG:web3.RequestManager:Making request. Method: eth_sendTransaction\n",
      "DEBUG:web3.RequestManager:Making request. Method: eth_getBlockByNumber\n",
      "DEBUG:web3.providers.HTTPProvider:Making request HTTP. URI: http://127.0.0.1:8545/, Method: eth_getBlockByNumber\n",
      "DEBUG:urllib3.connectionpool:Resetting dropped connection: 127.0.0.1\n",
      "DEBUG:urllib3.connectionpool:http://127.0.0.1:8545 \"POST / HTTP/1.1\" 200 1528\n",
      "DEBUG:web3.providers.HTTPProvider:Getting response HTTP. URI: http://127.0.0.1:8545/, Method: eth_getBlockByNumber, Response: {'jsonrpc': '2.0', 'id': 25, 'result': {'number': '0x103108c', 'hash': '0x20eb9c5907d6295238fdc6028fdbb52cbc733d38d7c09f02a69adfe8c4cc5c5c', 'parentHash': '0x0952e09dbeaf86edf3375cef45936cb8ae2d68a9e41d3aa7e4de5e5e593d4424', 'nonce': '0x0000000000000000', 'mixHash': '0x36e0e2ad178d961006334c968a7f38fc9e049070a61e5b8203219acebd7bfd59', 'sha3Uncles': '0x1dcc4de8dec75d7aab85b567b6ccd41ad312451b948a7413f0a142fd40d49347', 'logsBloom': '0x00000000000000000000000000000000000000000000000000000000000000000000000000000000000000000000000002000000080000000000000000000000000000000000000000000000000000000000000000000000000000008000000000000000000000000000000100000000000000000000000000000000000000000000000000000000000000000000000000000001000000000000000000000000000000000000000000000000000000000000000000000000000000000000000000000000000000200000000000000000000000002000000000000000000000000000200000000000000000000000000000000000000000400000000000000000', 'transactionsRoot': '0x007c0a4d157fcba23d36cf42c6c82ded11aed4285ae0abfce29ddc0cb88dfbcd', 'stateRoot': '0x372a3d44e73aae9443ca680956bcd23dbdd5f790e0c5cfa45a0fcfb9ee920144', 'receiptsRoot': '0x606f9b0bba6a00e2c7611799b1bacc9d60657d1b710bfdfe3d2b25c88a278db7', 'miner': '0xc014ba5ec014ba5ec014ba5ec014ba5ec014ba5e', 'difficulty': '0x0', 'totalDifficulty': '0xc70d815d562d3cfa955', 'extraData': '0x', 'size': '0x28b', 'gasLimit': '0x1c9c380', 'gasUsed': '0xafee', 'timestamp': '0x642c9570', 'transactions': ['0xbbbaabfb847fec0f74fec6886afc19a8f40a66afdf2b3193716f9d0531e3ad54'], 'uncles': [], 'baseFeePerGas': '0x87248472c'}}\n",
      "DEBUG:web3.RequestManager:Making request. Method: eth_chainId\n",
      "DEBUG:web3.providers.HTTPProvider:Making request HTTP. URI: http://127.0.0.1:8545/, Method: eth_chainId\n",
      "DEBUG:urllib3.connectionpool:http://127.0.0.1:8545 \"POST / HTTP/1.1\" 200 43\n",
      "DEBUG:web3.providers.HTTPProvider:Getting response HTTP. URI: http://127.0.0.1:8545/, Method: eth_chainId, Response: {'jsonrpc': '2.0', 'id': 26, 'result': '0x7a69'}\n",
      "DEBUG:web3.RequestManager:Making request. Method: eth_estimateGas\n",
      "DEBUG:web3.RequestManager:Making request. Method: eth_chainId\n",
      "DEBUG:web3.providers.HTTPProvider:Making request HTTP. URI: http://127.0.0.1:8545/, Method: eth_chainId\n",
      "DEBUG:urllib3.connectionpool:http://127.0.0.1:8545 \"POST / HTTP/1.1\" 200 43\n",
      "DEBUG:web3.providers.HTTPProvider:Getting response HTTP. URI: http://127.0.0.1:8545/, Method: eth_chainId, Response: {'jsonrpc': '2.0', 'id': 27, 'result': '0x7a69'}\n",
      "DEBUG:web3.providers.HTTPProvider:Making request HTTP. URI: http://127.0.0.1:8545/, Method: eth_estimateGas\n",
      "DEBUG:urllib3.connectionpool:http://127.0.0.1:8545 \"POST / HTTP/1.1\" 200 43\n",
      "DEBUG:web3.providers.HTTPProvider:Getting response HTTP. URI: http://127.0.0.1:8545/, Method: eth_estimateGas, Response: {'jsonrpc': '2.0', 'id': 28, 'result': '0xc98a'}\n",
      "DEBUG:web3.RequestManager:Making request. Method: eth_blockNumber\n",
      "DEBUG:web3.providers.HTTPProvider:Making request HTTP. URI: http://127.0.0.1:8545/, Method: eth_blockNumber\n",
      "DEBUG:urllib3.connectionpool:http://127.0.0.1:8545 \"POST / HTTP/1.1\" 200 46\n",
      "DEBUG:web3.providers.HTTPProvider:Getting response HTTP. URI: http://127.0.0.1:8545/, Method: eth_blockNumber, Response: {'jsonrpc': '2.0', 'id': 29, 'result': '0x103108c'}\n",
      "DEBUG:web3.RequestManager:Making request. Method: eth_getBlockByNumber\n",
      "DEBUG:web3.providers.HTTPProvider:Making request HTTP. URI: http://127.0.0.1:8545/, Method: eth_getBlockByNumber\n",
      "DEBUG:urllib3.connectionpool:http://127.0.0.1:8545 \"POST / HTTP/1.1\" 200 1528\n",
      "DEBUG:web3.providers.HTTPProvider:Getting response HTTP. URI: http://127.0.0.1:8545/, Method: eth_getBlockByNumber, Response: {'jsonrpc': '2.0', 'id': 30, 'result': {'number': '0x103108c', 'hash': '0x20eb9c5907d6295238fdc6028fdbb52cbc733d38d7c09f02a69adfe8c4cc5c5c', 'parentHash': '0x0952e09dbeaf86edf3375cef45936cb8ae2d68a9e41d3aa7e4de5e5e593d4424', 'nonce': '0x0000000000000000', 'mixHash': '0x36e0e2ad178d961006334c968a7f38fc9e049070a61e5b8203219acebd7bfd59', 'sha3Uncles': '0x1dcc4de8dec75d7aab85b567b6ccd41ad312451b948a7413f0a142fd40d49347', 'logsBloom': '0x00000000000000000000000000000000000000000000000000000000000000000000000000000000000000000000000002000000080000000000000000000000000000000000000000000000000000000000000000000000000000008000000000000000000000000000000100000000000000000000000000000000000000000000000000000000000000000000000000000001000000000000000000000000000000000000000000000000000000000000000000000000000000000000000000000000000000200000000000000000000000002000000000000000000000000000200000000000000000000000000000000000000000400000000000000000', 'transactionsRoot': '0x007c0a4d157fcba23d36cf42c6c82ded11aed4285ae0abfce29ddc0cb88dfbcd', 'stateRoot': '0x372a3d44e73aae9443ca680956bcd23dbdd5f790e0c5cfa45a0fcfb9ee920144', 'receiptsRoot': '0x606f9b0bba6a00e2c7611799b1bacc9d60657d1b710bfdfe3d2b25c88a278db7', 'miner': '0xc014ba5ec014ba5ec014ba5ec014ba5ec014ba5e', 'difficulty': '0x0', 'totalDifficulty': '0xc70d815d562d3cfa955', 'extraData': '0x', 'size': '0x28b', 'gasLimit': '0x1c9c380', 'gasUsed': '0xafee', 'timestamp': '0x642c9570', 'transactions': ['0xbbbaabfb847fec0f74fec6886afc19a8f40a66afdf2b3193716f9d0531e3ad54'], 'uncles': [], 'baseFeePerGas': '0x87248472c'}}\n",
      "DEBUG:web3.providers.HTTPProvider:Making request HTTP. URI: http://127.0.0.1:8545/, Method: eth_sendTransaction\n",
      "DEBUG:urllib3.connectionpool:http://127.0.0.1:8545 \"POST / HTTP/1.1\" 200 103\n",
      "DEBUG:web3.providers.HTTPProvider:Getting response HTTP. URI: http://127.0.0.1:8545/, Method: eth_sendTransaction, Response: {'jsonrpc': '2.0', 'id': 31, 'result': '0xa4727d6303ac4bf3e8f969046989322588a272a80e40b5b829ea79992afb2eb9'}\n"
     ]
    },
    {
     "data": {
      "text/plain": [
       "HexBytes('0xa4727d6303ac4bf3e8f969046989322588a272a80e40b5b829ea79992afb2eb9')"
      ]
     },
     "execution_count": 47,
     "metadata": {},
     "output_type": "execute_result"
    }
   ],
   "source": [
    "weth.functions.transfer('0x9e7F7d0E8b8F38e3CF2b3F7dd362ba2e9E82baa4', int(1e18)).transact({'from': '0xf39Fd6e51aad88F6F4ce6aB8827279cffFb92266'})"
   ]
  },
  {
   "cell_type": "code",
   "execution_count": 44,
   "id": "1c5964c2",
   "metadata": {},
   "outputs": [
    {
     "name": "stdout",
     "output_type": "stream",
     "text": [
      "DEBUG:web3.RequestManager:Making request. Method: eth_sendTransaction\n",
      "DEBUG:web3.RequestManager:Making request. Method: eth_getBlockByNumber\n",
      "DEBUG:web3.providers.HTTPProvider:Making request HTTP. URI: http://127.0.0.1:8545/, Method: eth_getBlockByNumber\n",
      "DEBUG:urllib3.connectionpool:Resetting dropped connection: 127.0.0.1\n",
      "DEBUG:urllib3.connectionpool:http://127.0.0.1:8545 \"POST / HTTP/1.1\" 200 1528\n",
      "DEBUG:web3.providers.HTTPProvider:Getting response HTTP. URI: http://127.0.0.1:8545/, Method: eth_getBlockByNumber, Response: {'jsonrpc': '2.0', 'id': 14, 'result': {'number': '0x103108b', 'hash': '0x0952e09dbeaf86edf3375cef45936cb8ae2d68a9e41d3aa7e4de5e5e593d4424', 'parentHash': '0x2c1ec14c7d37de2658afb90f68e8e44e1ddad2d5dcdc38e1e3774a1ef95769d6', 'nonce': '0x0000000000000000', 'mixHash': '0xf4fbfa6c8463f342eb58838d8c6b0661faf22e7076a518bf4deaddbf3fa8a112', 'sha3Uncles': '0x1dcc4de8dec75d7aab85b567b6ccd41ad312451b948a7413f0a142fd40d49347', 'logsBloom': '0x00000000000000000000000000000000000000000000000000000000000000000000000000000000000000000000000002000000080000000000000000000000000000000000000000000000000000000000000000000000000000008000000000000000000000000000000100000000000000000000000000000000000000000000000000000000000000000000000000000001000000000000000000000000000000000000000000000000000000000000000000000000000000000000000000000000000000200000000000000000000000002000000000000000000000000000200000000000000000000000000000000000000000400000000000000000', 'transactionsRoot': '0x5af2e83bec7fd6e51f63c2a85d7ea7d9561bcc130677e20b4905712669c402f8', 'stateRoot': '0x42d1c99dccb35f9afa170ee24eb146903819160985f2460d7785ac4381ca037c', 'receiptsRoot': '0xf95c72379efef0682783b153a5f7a00cec73123b5a188443989afd38609677f9', 'miner': '0xc014ba5ec014ba5ec014ba5ec014ba5ec014ba5e', 'difficulty': '0x0', 'totalDifficulty': '0xc70d815d562d3cfa955', 'extraData': '0x', 'size': '0x283', 'gasLimit': '0x1c9c380', 'gasUsed': '0x6232', 'timestamp': '0x642c9544', 'transactions': ['0x49b7ee5fc44cfa103c66ec8c9acc7e36b0f3ab4c0aef0b40863fdb5f78e3abd6'], 'uncles': [], 'baseFeePerGas': '0x9a6969cce'}}\n",
      "DEBUG:web3.RequestManager:Making request. Method: eth_chainId\n",
      "DEBUG:web3.providers.HTTPProvider:Making request HTTP. URI: http://127.0.0.1:8545/, Method: eth_chainId\n",
      "DEBUG:urllib3.connectionpool:http://127.0.0.1:8545 \"POST / HTTP/1.1\" 200 43\n",
      "DEBUG:web3.providers.HTTPProvider:Getting response HTTP. URI: http://127.0.0.1:8545/, Method: eth_chainId, Response: {'jsonrpc': '2.0', 'id': 15, 'result': '0x7a69'}\n",
      "DEBUG:web3.RequestManager:Making request. Method: eth_estimateGas\n",
      "DEBUG:web3.RequestManager:Making request. Method: eth_chainId\n",
      "DEBUG:web3.providers.HTTPProvider:Making request HTTP. URI: http://127.0.0.1:8545/, Method: eth_chainId\n",
      "DEBUG:urllib3.connectionpool:http://127.0.0.1:8545 \"POST / HTTP/1.1\" 200 43\n",
      "DEBUG:web3.providers.HTTPProvider:Getting response HTTP. URI: http://127.0.0.1:8545/, Method: eth_chainId, Response: {'jsonrpc': '2.0', 'id': 16, 'result': '0x7a69'}\n",
      "DEBUG:web3.providers.HTTPProvider:Making request HTTP. URI: http://127.0.0.1:8545/, Method: eth_estimateGas\n",
      "DEBUG:urllib3.connectionpool:http://127.0.0.1:8545 \"POST / HTTP/1.1\" 200 43\n",
      "DEBUG:web3.providers.HTTPProvider:Getting response HTTP. URI: http://127.0.0.1:8545/, Method: eth_estimateGas, Response: {'jsonrpc': '2.0', 'id': 17, 'result': '0xafee'}\n",
      "DEBUG:web3.RequestManager:Making request. Method: eth_blockNumber\n",
      "DEBUG:web3.providers.HTTPProvider:Making request HTTP. URI: http://127.0.0.1:8545/, Method: eth_blockNumber\n",
      "DEBUG:urllib3.connectionpool:http://127.0.0.1:8545 \"POST / HTTP/1.1\" 200 46\n",
      "DEBUG:web3.providers.HTTPProvider:Getting response HTTP. URI: http://127.0.0.1:8545/, Method: eth_blockNumber, Response: {'jsonrpc': '2.0', 'id': 18, 'result': '0x103108b'}\n",
      "DEBUG:web3.RequestManager:Making request. Method: eth_getBlockByNumber\n",
      "DEBUG:web3.providers.HTTPProvider:Making request HTTP. URI: http://127.0.0.1:8545/, Method: eth_getBlockByNumber\n",
      "DEBUG:urllib3.connectionpool:http://127.0.0.1:8545 \"POST / HTTP/1.1\" 200 1528\n",
      "DEBUG:web3.providers.HTTPProvider:Getting response HTTP. URI: http://127.0.0.1:8545/, Method: eth_getBlockByNumber, Response: {'jsonrpc': '2.0', 'id': 19, 'result': {'number': '0x103108b', 'hash': '0x0952e09dbeaf86edf3375cef45936cb8ae2d68a9e41d3aa7e4de5e5e593d4424', 'parentHash': '0x2c1ec14c7d37de2658afb90f68e8e44e1ddad2d5dcdc38e1e3774a1ef95769d6', 'nonce': '0x0000000000000000', 'mixHash': '0xf4fbfa6c8463f342eb58838d8c6b0661faf22e7076a518bf4deaddbf3fa8a112', 'sha3Uncles': '0x1dcc4de8dec75d7aab85b567b6ccd41ad312451b948a7413f0a142fd40d49347', 'logsBloom': '0x00000000000000000000000000000000000000000000000000000000000000000000000000000000000000000000000002000000080000000000000000000000000000000000000000000000000000000000000000000000000000008000000000000000000000000000000100000000000000000000000000000000000000000000000000000000000000000000000000000001000000000000000000000000000000000000000000000000000000000000000000000000000000000000000000000000000000200000000000000000000000002000000000000000000000000000200000000000000000000000000000000000000000400000000000000000', 'transactionsRoot': '0x5af2e83bec7fd6e51f63c2a85d7ea7d9561bcc130677e20b4905712669c402f8', 'stateRoot': '0x42d1c99dccb35f9afa170ee24eb146903819160985f2460d7785ac4381ca037c', 'receiptsRoot': '0xf95c72379efef0682783b153a5f7a00cec73123b5a188443989afd38609677f9', 'miner': '0xc014ba5ec014ba5ec014ba5ec014ba5ec014ba5e', 'difficulty': '0x0', 'totalDifficulty': '0xc70d815d562d3cfa955', 'extraData': '0x', 'size': '0x283', 'gasLimit': '0x1c9c380', 'gasUsed': '0x6232', 'timestamp': '0x642c9544', 'transactions': ['0x49b7ee5fc44cfa103c66ec8c9acc7e36b0f3ab4c0aef0b40863fdb5f78e3abd6'], 'uncles': [], 'baseFeePerGas': '0x9a6969cce'}}\n",
      "DEBUG:web3.providers.HTTPProvider:Making request HTTP. URI: http://127.0.0.1:8545/, Method: eth_sendTransaction\n",
      "DEBUG:urllib3.connectionpool:http://127.0.0.1:8545 \"POST / HTTP/1.1\" 200 103\n",
      "DEBUG:web3.providers.HTTPProvider:Getting response HTTP. URI: http://127.0.0.1:8545/, Method: eth_sendTransaction, Response: {'jsonrpc': '2.0', 'id': 20, 'result': '0xbbbaabfb847fec0f74fec6886afc19a8f40a66afdf2b3193716f9d0531e3ad54'}\n"
     ]
    },
    {
     "data": {
      "text/plain": [
       "HexBytes('0xbbbaabfb847fec0f74fec6886afc19a8f40a66afdf2b3193716f9d0531e3ad54')"
      ]
     },
     "execution_count": 44,
     "metadata": {},
     "output_type": "execute_result"
    }
   ],
   "source": [
    "weth.functions.deposit().transact({'value': int(2e18)})"
   ]
  },
  {
   "cell_type": "code",
   "execution_count": 19,
   "id": "d223b4ca",
   "metadata": {},
   "outputs": [],
   "source": [
    "DEPLOYED = '0x9e7F7d0E8b8F38e3CF2b3F7dd362ba2e9E82baa4'\n",
    "OWNER = \n"
   ]
  },
  {
   "cell_type": "code",
   "execution_count": 56,
   "id": "fa34a7b7",
   "metadata": {},
   "outputs": [
    {
     "name": "stdout",
     "output_type": "stream",
     "text": [
      "INFO:interface.w3:Reading config from conf/main.ini\n",
      "INFO:interface.w3:Reading secrets from .env.main\n",
      "INFO:interface.w3:Using local fork from main\n",
      "INFO:interface.w3:RPC url: http://127.0.0.1:8545/\n",
      "DEBUG:web3.providers.HTTPProvider:Making request HTTP. URI: http://127.0.0.1:8545/, Method: web3_clientVersion\n",
      "DEBUG:urllib3.connectionpool:Resetting dropped connection: 127.0.0.1\n",
      "DEBUG:urllib3.connectionpool:http://127.0.0.1:8545 \"POST / HTTP/1.1\" 200 94\n",
      "DEBUG:web3.providers.HTTPProvider:Getting response HTTP. URI: http://127.0.0.1:8545/, Method: web3_clientVersion, Response: {'jsonrpc': '2.0', 'id': 0, 'result': 'HardhatNetwork/2.13.0/@nomicfoundation/ethereumjs-vm/6.4.2'}\n",
      "INFO:interface.w3:Connected to chain main: True\n"
     ]
    }
   ],
   "source": [
    "swap = Contract(address=DEPLOYED, name='Swap')"
   ]
  },
  {
   "cell_type": "code",
   "execution_count": 58,
   "id": "0dd90cd1",
   "metadata": {},
   "outputs": [
    {
     "name": "stdout",
     "output_type": "stream",
     "text": [
      "DEBUG:web3.RequestManager:Making request. Method: eth_call\n",
      "DEBUG:web3.RequestManager:Making request. Method: eth_chainId\n",
      "DEBUG:web3.providers.HTTPProvider:Making request HTTP. URI: http://127.0.0.1:8545/, Method: eth_chainId\n",
      "DEBUG:urllib3.connectionpool:Resetting dropped connection: 127.0.0.1\n",
      "DEBUG:urllib3.connectionpool:http://127.0.0.1:8545 \"POST / HTTP/1.1\" 200 42\n",
      "DEBUG:web3.providers.HTTPProvider:Getting response HTTP. URI: http://127.0.0.1:8545/, Method: eth_chainId, Response: {'jsonrpc': '2.0', 'id': 1, 'result': '0x7a69'}\n",
      "DEBUG:web3.providers.HTTPProvider:Making request HTTP. URI: http://127.0.0.1:8545/, Method: eth_call\n",
      "DEBUG:urllib3.connectionpool:http://127.0.0.1:8545 \"POST / HTTP/1.1\" 200 102\n",
      "DEBUG:web3.providers.HTTPProvider:Getting response HTTP. URI: http://127.0.0.1:8545/, Method: eth_call, Response: {'jsonrpc': '2.0', 'id': 2, 'result': '0x000000000000000000000000000000000000000000000000000000006f9e2270'}\n"
     ]
    },
    {
     "data": {
      "text/plain": [
       "1872634480"
      ]
     },
     "execution_count": 58,
     "metadata": {},
     "output_type": "execute_result"
    }
   ],
   "source": [
    "swap.functions.getAmountOutMin(\n",
    "    swap.w3.to_checksum_address(univ2_address),\n",
    "    swap.w3.to_checksum_address(weth_address),\n",
    "    swap.w3.to_checksum_address(usdt_address),\n",
    "    int(1e17)).call()"
   ]
  },
  {
   "cell_type": "code",
   "execution_count": 53,
   "id": "47b36ddb",
   "metadata": {},
   "outputs": [
    {
     "data": {
      "text/plain": [
       "<interface.w3.Contract at 0x7f8434e42c10>"
      ]
     },
     "execution_count": 53,
     "metadata": {},
     "output_type": "execute_result"
    }
   ],
   "source": [
    "weth"
   ]
  },
  {
   "cell_type": "code",
   "execution_count": 62,
   "id": "a2277ffa",
   "metadata": {},
   "outputs": [
    {
     "data": {
      "text/plain": [
       "<interface.w3.Contract at 0x7f8434eaafa0>"
      ]
     },
     "execution_count": 62,
     "metadata": {},
     "output_type": "execute_result"
    }
   ],
   "source": [
    "swap"
   ]
  },
  {
   "cell_type": "code",
   "execution_count": 70,
   "id": "10a7be9d",
   "metadata": {},
   "outputs": [
    {
     "name": "stdout",
     "output_type": "stream",
     "text": [
      "DEBUG:web3.RequestManager:Making request. Method: eth_call\n",
      "DEBUG:web3.RequestManager:Making request. Method: eth_chainId\n",
      "DEBUG:web3.providers.HTTPProvider:Making request HTTP. URI: http://127.0.0.1:8545/, Method: eth_chainId\n",
      "DEBUG:urllib3.connectionpool:Resetting dropped connection: 127.0.0.1\n"
     ]
    },
    {
     "ename": "ConnectionError",
     "evalue": "HTTPConnectionPool(host='127.0.0.1', port=8545): Max retries exceeded with url: / (Caused by NewConnectionError('<urllib3.connection.HTTPConnection object at 0x7f8432881b50>: Failed to establish a new connection: [Errno 61] Connection refused'))",
     "output_type": "error",
     "traceback": [
      "\u001b[0;31m---------------------------------------------------------------------------\u001b[0m",
      "\u001b[0;31mConnectionRefusedError\u001b[0m                    Traceback (most recent call last)",
      "\u001b[0;32m/usr/local/anaconda3/lib/python3.8/site-packages/urllib3/connection.py\u001b[0m in \u001b[0;36m_new_conn\u001b[0;34m(self)\u001b[0m\n\u001b[1;32m    173\u001b[0m         \u001b[0;32mtry\u001b[0m\u001b[0;34m:\u001b[0m\u001b[0;34m\u001b[0m\u001b[0;34m\u001b[0m\u001b[0m\n\u001b[0;32m--> 174\u001b[0;31m             conn = connection.create_connection(\n\u001b[0m\u001b[1;32m    175\u001b[0m                 \u001b[0;34m(\u001b[0m\u001b[0mself\u001b[0m\u001b[0;34m.\u001b[0m\u001b[0m_dns_host\u001b[0m\u001b[0;34m,\u001b[0m \u001b[0mself\u001b[0m\u001b[0;34m.\u001b[0m\u001b[0mport\u001b[0m\u001b[0;34m)\u001b[0m\u001b[0;34m,\u001b[0m \u001b[0mself\u001b[0m\u001b[0;34m.\u001b[0m\u001b[0mtimeout\u001b[0m\u001b[0;34m,\u001b[0m \u001b[0;34m**\u001b[0m\u001b[0mextra_kw\u001b[0m\u001b[0;34m\u001b[0m\u001b[0;34m\u001b[0m\u001b[0m\n",
      "\u001b[0;32m/usr/local/anaconda3/lib/python3.8/site-packages/urllib3/util/connection.py\u001b[0m in \u001b[0;36mcreate_connection\u001b[0;34m(address, timeout, source_address, socket_options)\u001b[0m\n\u001b[1;32m     94\u001b[0m     \u001b[0;32mif\u001b[0m \u001b[0merr\u001b[0m \u001b[0;32mis\u001b[0m \u001b[0;32mnot\u001b[0m \u001b[0;32mNone\u001b[0m\u001b[0;34m:\u001b[0m\u001b[0;34m\u001b[0m\u001b[0;34m\u001b[0m\u001b[0m\n\u001b[0;32m---> 95\u001b[0;31m         \u001b[0;32mraise\u001b[0m \u001b[0merr\u001b[0m\u001b[0;34m\u001b[0m\u001b[0;34m\u001b[0m\u001b[0m\n\u001b[0m\u001b[1;32m     96\u001b[0m \u001b[0;34m\u001b[0m\u001b[0m\n",
      "\u001b[0;32m/usr/local/anaconda3/lib/python3.8/site-packages/urllib3/util/connection.py\u001b[0m in \u001b[0;36mcreate_connection\u001b[0;34m(address, timeout, source_address, socket_options)\u001b[0m\n\u001b[1;32m     84\u001b[0m                 \u001b[0msock\u001b[0m\u001b[0;34m.\u001b[0m\u001b[0mbind\u001b[0m\u001b[0;34m(\u001b[0m\u001b[0msource_address\u001b[0m\u001b[0;34m)\u001b[0m\u001b[0;34m\u001b[0m\u001b[0;34m\u001b[0m\u001b[0m\n\u001b[0;32m---> 85\u001b[0;31m             \u001b[0msock\u001b[0m\u001b[0;34m.\u001b[0m\u001b[0mconnect\u001b[0m\u001b[0;34m(\u001b[0m\u001b[0msa\u001b[0m\u001b[0;34m)\u001b[0m\u001b[0;34m\u001b[0m\u001b[0;34m\u001b[0m\u001b[0m\n\u001b[0m\u001b[1;32m     86\u001b[0m             \u001b[0;32mreturn\u001b[0m \u001b[0msock\u001b[0m\u001b[0;34m\u001b[0m\u001b[0;34m\u001b[0m\u001b[0m\n",
      "\u001b[0;31mConnectionRefusedError\u001b[0m: [Errno 61] Connection refused",
      "\nDuring handling of the above exception, another exception occurred:\n",
      "\u001b[0;31mNewConnectionError\u001b[0m                        Traceback (most recent call last)",
      "\u001b[0;32m/usr/local/anaconda3/lib/python3.8/site-packages/urllib3/connectionpool.py\u001b[0m in \u001b[0;36murlopen\u001b[0;34m(self, method, url, body, headers, retries, redirect, assert_same_host, timeout, pool_timeout, release_conn, chunked, body_pos, **response_kw)\u001b[0m\n\u001b[1;32m    702\u001b[0m             \u001b[0;31m# Make the request on the httplib connection object.\u001b[0m\u001b[0;34m\u001b[0m\u001b[0;34m\u001b[0m\u001b[0;34m\u001b[0m\u001b[0m\n\u001b[0;32m--> 703\u001b[0;31m             httplib_response = self._make_request(\n\u001b[0m\u001b[1;32m    704\u001b[0m                 \u001b[0mconn\u001b[0m\u001b[0;34m,\u001b[0m\u001b[0;34m\u001b[0m\u001b[0;34m\u001b[0m\u001b[0m\n",
      "\u001b[0;32m/usr/local/anaconda3/lib/python3.8/site-packages/urllib3/connectionpool.py\u001b[0m in \u001b[0;36m_make_request\u001b[0;34m(self, conn, method, url, timeout, chunked, **httplib_request_kw)\u001b[0m\n\u001b[1;32m    397\u001b[0m             \u001b[0;32melse\u001b[0m\u001b[0;34m:\u001b[0m\u001b[0;34m\u001b[0m\u001b[0;34m\u001b[0m\u001b[0m\n\u001b[0;32m--> 398\u001b[0;31m                 \u001b[0mconn\u001b[0m\u001b[0;34m.\u001b[0m\u001b[0mrequest\u001b[0m\u001b[0;34m(\u001b[0m\u001b[0mmethod\u001b[0m\u001b[0;34m,\u001b[0m \u001b[0murl\u001b[0m\u001b[0;34m,\u001b[0m \u001b[0;34m**\u001b[0m\u001b[0mhttplib_request_kw\u001b[0m\u001b[0;34m)\u001b[0m\u001b[0;34m\u001b[0m\u001b[0;34m\u001b[0m\u001b[0m\n\u001b[0m\u001b[1;32m    399\u001b[0m \u001b[0;34m\u001b[0m\u001b[0m\n",
      "\u001b[0;32m/usr/local/anaconda3/lib/python3.8/site-packages/urllib3/connection.py\u001b[0m in \u001b[0;36mrequest\u001b[0;34m(self, method, url, body, headers)\u001b[0m\n\u001b[1;32m    238\u001b[0m             \u001b[0mheaders\u001b[0m\u001b[0;34m[\u001b[0m\u001b[0;34m\"User-Agent\"\u001b[0m\u001b[0;34m]\u001b[0m \u001b[0;34m=\u001b[0m \u001b[0m_get_default_user_agent\u001b[0m\u001b[0;34m(\u001b[0m\u001b[0;34m)\u001b[0m\u001b[0;34m\u001b[0m\u001b[0;34m\u001b[0m\u001b[0m\n\u001b[0;32m--> 239\u001b[0;31m         \u001b[0msuper\u001b[0m\u001b[0;34m(\u001b[0m\u001b[0mHTTPConnection\u001b[0m\u001b[0;34m,\u001b[0m \u001b[0mself\u001b[0m\u001b[0;34m)\u001b[0m\u001b[0;34m.\u001b[0m\u001b[0mrequest\u001b[0m\u001b[0;34m(\u001b[0m\u001b[0mmethod\u001b[0m\u001b[0;34m,\u001b[0m \u001b[0murl\u001b[0m\u001b[0;34m,\u001b[0m \u001b[0mbody\u001b[0m\u001b[0;34m=\u001b[0m\u001b[0mbody\u001b[0m\u001b[0;34m,\u001b[0m \u001b[0mheaders\u001b[0m\u001b[0;34m=\u001b[0m\u001b[0mheaders\u001b[0m\u001b[0;34m)\u001b[0m\u001b[0;34m\u001b[0m\u001b[0;34m\u001b[0m\u001b[0m\n\u001b[0m\u001b[1;32m    240\u001b[0m \u001b[0;34m\u001b[0m\u001b[0m\n",
      "\u001b[0;32m/usr/local/anaconda3/lib/python3.8/http/client.py\u001b[0m in \u001b[0;36mrequest\u001b[0;34m(self, method, url, body, headers, encode_chunked)\u001b[0m\n\u001b[1;32m   1254\u001b[0m         \u001b[0;34m\"\"\"Send a complete request to the server.\"\"\"\u001b[0m\u001b[0;34m\u001b[0m\u001b[0;34m\u001b[0m\u001b[0m\n\u001b[0;32m-> 1255\u001b[0;31m         \u001b[0mself\u001b[0m\u001b[0;34m.\u001b[0m\u001b[0m_send_request\u001b[0m\u001b[0;34m(\u001b[0m\u001b[0mmethod\u001b[0m\u001b[0;34m,\u001b[0m \u001b[0murl\u001b[0m\u001b[0;34m,\u001b[0m \u001b[0mbody\u001b[0m\u001b[0;34m,\u001b[0m \u001b[0mheaders\u001b[0m\u001b[0;34m,\u001b[0m \u001b[0mencode_chunked\u001b[0m\u001b[0;34m)\u001b[0m\u001b[0;34m\u001b[0m\u001b[0;34m\u001b[0m\u001b[0m\n\u001b[0m\u001b[1;32m   1256\u001b[0m \u001b[0;34m\u001b[0m\u001b[0m\n",
      "\u001b[0;32m/usr/local/anaconda3/lib/python3.8/http/client.py\u001b[0m in \u001b[0;36m_send_request\u001b[0;34m(self, method, url, body, headers, encode_chunked)\u001b[0m\n\u001b[1;32m   1300\u001b[0m             \u001b[0mbody\u001b[0m \u001b[0;34m=\u001b[0m \u001b[0m_encode\u001b[0m\u001b[0;34m(\u001b[0m\u001b[0mbody\u001b[0m\u001b[0;34m,\u001b[0m \u001b[0;34m'body'\u001b[0m\u001b[0;34m)\u001b[0m\u001b[0;34m\u001b[0m\u001b[0;34m\u001b[0m\u001b[0m\n\u001b[0;32m-> 1301\u001b[0;31m         \u001b[0mself\u001b[0m\u001b[0;34m.\u001b[0m\u001b[0mendheaders\u001b[0m\u001b[0;34m(\u001b[0m\u001b[0mbody\u001b[0m\u001b[0;34m,\u001b[0m \u001b[0mencode_chunked\u001b[0m\u001b[0;34m=\u001b[0m\u001b[0mencode_chunked\u001b[0m\u001b[0;34m)\u001b[0m\u001b[0;34m\u001b[0m\u001b[0;34m\u001b[0m\u001b[0m\n\u001b[0m\u001b[1;32m   1302\u001b[0m \u001b[0;34m\u001b[0m\u001b[0m\n",
      "\u001b[0;32m/usr/local/anaconda3/lib/python3.8/http/client.py\u001b[0m in \u001b[0;36mendheaders\u001b[0;34m(self, message_body, encode_chunked)\u001b[0m\n\u001b[1;32m   1249\u001b[0m             \u001b[0;32mraise\u001b[0m \u001b[0mCannotSendHeader\u001b[0m\u001b[0;34m(\u001b[0m\u001b[0;34m)\u001b[0m\u001b[0;34m\u001b[0m\u001b[0;34m\u001b[0m\u001b[0m\n\u001b[0;32m-> 1250\u001b[0;31m         \u001b[0mself\u001b[0m\u001b[0;34m.\u001b[0m\u001b[0m_send_output\u001b[0m\u001b[0;34m(\u001b[0m\u001b[0mmessage_body\u001b[0m\u001b[0;34m,\u001b[0m \u001b[0mencode_chunked\u001b[0m\u001b[0;34m=\u001b[0m\u001b[0mencode_chunked\u001b[0m\u001b[0;34m)\u001b[0m\u001b[0;34m\u001b[0m\u001b[0;34m\u001b[0m\u001b[0m\n\u001b[0m\u001b[1;32m   1251\u001b[0m \u001b[0;34m\u001b[0m\u001b[0m\n",
      "\u001b[0;32m/usr/local/anaconda3/lib/python3.8/http/client.py\u001b[0m in \u001b[0;36m_send_output\u001b[0;34m(self, message_body, encode_chunked)\u001b[0m\n\u001b[1;32m   1009\u001b[0m         \u001b[0;32mdel\u001b[0m \u001b[0mself\u001b[0m\u001b[0;34m.\u001b[0m\u001b[0m_buffer\u001b[0m\u001b[0;34m[\u001b[0m\u001b[0;34m:\u001b[0m\u001b[0;34m]\u001b[0m\u001b[0;34m\u001b[0m\u001b[0;34m\u001b[0m\u001b[0m\n\u001b[0;32m-> 1010\u001b[0;31m         \u001b[0mself\u001b[0m\u001b[0;34m.\u001b[0m\u001b[0msend\u001b[0m\u001b[0;34m(\u001b[0m\u001b[0mmsg\u001b[0m\u001b[0;34m)\u001b[0m\u001b[0;34m\u001b[0m\u001b[0;34m\u001b[0m\u001b[0m\n\u001b[0m\u001b[1;32m   1011\u001b[0m \u001b[0;34m\u001b[0m\u001b[0m\n",
      "\u001b[0;32m/usr/local/anaconda3/lib/python3.8/http/client.py\u001b[0m in \u001b[0;36msend\u001b[0;34m(self, data)\u001b[0m\n\u001b[1;32m    949\u001b[0m             \u001b[0;32mif\u001b[0m \u001b[0mself\u001b[0m\u001b[0;34m.\u001b[0m\u001b[0mauto_open\u001b[0m\u001b[0;34m:\u001b[0m\u001b[0;34m\u001b[0m\u001b[0;34m\u001b[0m\u001b[0m\n\u001b[0;32m--> 950\u001b[0;31m                 \u001b[0mself\u001b[0m\u001b[0;34m.\u001b[0m\u001b[0mconnect\u001b[0m\u001b[0;34m(\u001b[0m\u001b[0;34m)\u001b[0m\u001b[0;34m\u001b[0m\u001b[0;34m\u001b[0m\u001b[0m\n\u001b[0m\u001b[1;32m    951\u001b[0m             \u001b[0;32melse\u001b[0m\u001b[0;34m:\u001b[0m\u001b[0;34m\u001b[0m\u001b[0;34m\u001b[0m\u001b[0m\n",
      "\u001b[0;32m/usr/local/anaconda3/lib/python3.8/site-packages/urllib3/connection.py\u001b[0m in \u001b[0;36mconnect\u001b[0;34m(self)\u001b[0m\n\u001b[1;32m    204\u001b[0m     \u001b[0;32mdef\u001b[0m \u001b[0mconnect\u001b[0m\u001b[0;34m(\u001b[0m\u001b[0mself\u001b[0m\u001b[0;34m)\u001b[0m\u001b[0;34m:\u001b[0m\u001b[0;34m\u001b[0m\u001b[0;34m\u001b[0m\u001b[0m\n\u001b[0;32m--> 205\u001b[0;31m         \u001b[0mconn\u001b[0m \u001b[0;34m=\u001b[0m \u001b[0mself\u001b[0m\u001b[0;34m.\u001b[0m\u001b[0m_new_conn\u001b[0m\u001b[0;34m(\u001b[0m\u001b[0;34m)\u001b[0m\u001b[0;34m\u001b[0m\u001b[0;34m\u001b[0m\u001b[0m\n\u001b[0m\u001b[1;32m    206\u001b[0m         \u001b[0mself\u001b[0m\u001b[0;34m.\u001b[0m\u001b[0m_prepare_conn\u001b[0m\u001b[0;34m(\u001b[0m\u001b[0mconn\u001b[0m\u001b[0;34m)\u001b[0m\u001b[0;34m\u001b[0m\u001b[0;34m\u001b[0m\u001b[0m\n",
      "\u001b[0;32m/usr/local/anaconda3/lib/python3.8/site-packages/urllib3/connection.py\u001b[0m in \u001b[0;36m_new_conn\u001b[0;34m(self)\u001b[0m\n\u001b[1;32m    185\u001b[0m         \u001b[0;32mexcept\u001b[0m \u001b[0mSocketError\u001b[0m \u001b[0;32mas\u001b[0m \u001b[0me\u001b[0m\u001b[0;34m:\u001b[0m\u001b[0;34m\u001b[0m\u001b[0;34m\u001b[0m\u001b[0m\n\u001b[0;32m--> 186\u001b[0;31m             raise NewConnectionError(\n\u001b[0m\u001b[1;32m    187\u001b[0m                 \u001b[0mself\u001b[0m\u001b[0;34m,\u001b[0m \u001b[0;34m\"Failed to establish a new connection: %s\"\u001b[0m \u001b[0;34m%\u001b[0m \u001b[0me\u001b[0m\u001b[0;34m\u001b[0m\u001b[0;34m\u001b[0m\u001b[0m\n",
      "\u001b[0;31mNewConnectionError\u001b[0m: <urllib3.connection.HTTPConnection object at 0x7f8432881b50>: Failed to establish a new connection: [Errno 61] Connection refused",
      "\nDuring handling of the above exception, another exception occurred:\n",
      "\u001b[0;31mMaxRetryError\u001b[0m                             Traceback (most recent call last)",
      "\u001b[0;32m/usr/local/anaconda3/lib/python3.8/site-packages/requests/adapters.py\u001b[0m in \u001b[0;36msend\u001b[0;34m(self, request, stream, timeout, verify, cert, proxies)\u001b[0m\n\u001b[1;32m    488\u001b[0m             \u001b[0;32mif\u001b[0m \u001b[0;32mnot\u001b[0m \u001b[0mchunked\u001b[0m\u001b[0;34m:\u001b[0m\u001b[0;34m\u001b[0m\u001b[0;34m\u001b[0m\u001b[0m\n\u001b[0;32m--> 489\u001b[0;31m                 resp = conn.urlopen(\n\u001b[0m\u001b[1;32m    490\u001b[0m                     \u001b[0mmethod\u001b[0m\u001b[0;34m=\u001b[0m\u001b[0mrequest\u001b[0m\u001b[0;34m.\u001b[0m\u001b[0mmethod\u001b[0m\u001b[0;34m,\u001b[0m\u001b[0;34m\u001b[0m\u001b[0;34m\u001b[0m\u001b[0m\n",
      "\u001b[0;32m/usr/local/anaconda3/lib/python3.8/site-packages/urllib3/connectionpool.py\u001b[0m in \u001b[0;36murlopen\u001b[0;34m(self, method, url, body, headers, retries, redirect, assert_same_host, timeout, pool_timeout, release_conn, chunked, body_pos, **response_kw)\u001b[0m\n\u001b[1;32m    786\u001b[0m \u001b[0;34m\u001b[0m\u001b[0m\n\u001b[0;32m--> 787\u001b[0;31m             retries = retries.increment(\n\u001b[0m\u001b[1;32m    788\u001b[0m                 \u001b[0mmethod\u001b[0m\u001b[0;34m,\u001b[0m \u001b[0murl\u001b[0m\u001b[0;34m,\u001b[0m \u001b[0merror\u001b[0m\u001b[0;34m=\u001b[0m\u001b[0me\u001b[0m\u001b[0;34m,\u001b[0m \u001b[0m_pool\u001b[0m\u001b[0;34m=\u001b[0m\u001b[0mself\u001b[0m\u001b[0;34m,\u001b[0m \u001b[0m_stacktrace\u001b[0m\u001b[0;34m=\u001b[0m\u001b[0msys\u001b[0m\u001b[0;34m.\u001b[0m\u001b[0mexc_info\u001b[0m\u001b[0;34m(\u001b[0m\u001b[0;34m)\u001b[0m\u001b[0;34m[\u001b[0m\u001b[0;36m2\u001b[0m\u001b[0;34m]\u001b[0m\u001b[0;34m\u001b[0m\u001b[0;34m\u001b[0m\u001b[0m\n",
      "\u001b[0;32m/usr/local/anaconda3/lib/python3.8/site-packages/urllib3/util/retry.py\u001b[0m in \u001b[0;36mincrement\u001b[0;34m(self, method, url, response, error, _pool, _stacktrace)\u001b[0m\n\u001b[1;32m    591\u001b[0m         \u001b[0;32mif\u001b[0m \u001b[0mnew_retry\u001b[0m\u001b[0;34m.\u001b[0m\u001b[0mis_exhausted\u001b[0m\u001b[0;34m(\u001b[0m\u001b[0;34m)\u001b[0m\u001b[0;34m:\u001b[0m\u001b[0;34m\u001b[0m\u001b[0;34m\u001b[0m\u001b[0m\n\u001b[0;32m--> 592\u001b[0;31m             \u001b[0;32mraise\u001b[0m \u001b[0mMaxRetryError\u001b[0m\u001b[0;34m(\u001b[0m\u001b[0m_pool\u001b[0m\u001b[0;34m,\u001b[0m \u001b[0murl\u001b[0m\u001b[0;34m,\u001b[0m \u001b[0merror\u001b[0m \u001b[0;32mor\u001b[0m \u001b[0mResponseError\u001b[0m\u001b[0;34m(\u001b[0m\u001b[0mcause\u001b[0m\u001b[0;34m)\u001b[0m\u001b[0;34m)\u001b[0m\u001b[0;34m\u001b[0m\u001b[0;34m\u001b[0m\u001b[0m\n\u001b[0m\u001b[1;32m    593\u001b[0m \u001b[0;34m\u001b[0m\u001b[0m\n",
      "\u001b[0;31mMaxRetryError\u001b[0m: HTTPConnectionPool(host='127.0.0.1', port=8545): Max retries exceeded with url: / (Caused by NewConnectionError('<urllib3.connection.HTTPConnection object at 0x7f8432881b50>: Failed to establish a new connection: [Errno 61] Connection refused'))",
      "\nDuring handling of the above exception, another exception occurred:\n",
      "\u001b[0;31mConnectionError\u001b[0m                           Traceback (most recent call last)",
      "\u001b[0;32m<ipython-input-70-cb9dc4694223>\u001b[0m in \u001b[0;36m<module>\u001b[0;34m\u001b[0m\n\u001b[0;32m----> 1\u001b[0;31m trade = swap.functions.swap(\n\u001b[0m\u001b[1;32m      2\u001b[0m     \u001b[0mswap\u001b[0m\u001b[0;34m.\u001b[0m\u001b[0mw3\u001b[0m\u001b[0;34m.\u001b[0m\u001b[0mto_checksum_address\u001b[0m\u001b[0;34m(\u001b[0m\u001b[0muniv3_address\u001b[0m\u001b[0;34m)\u001b[0m\u001b[0;34m,\u001b[0m\u001b[0;34m\u001b[0m\u001b[0;34m\u001b[0m\u001b[0m\n\u001b[1;32m      3\u001b[0m     \u001b[0mswap\u001b[0m\u001b[0;34m.\u001b[0m\u001b[0mw3\u001b[0m\u001b[0;34m.\u001b[0m\u001b[0mto_checksum_address\u001b[0m\u001b[0;34m(\u001b[0m\u001b[0mweth_address\u001b[0m\u001b[0;34m)\u001b[0m\u001b[0;34m,\u001b[0m\u001b[0;34m\u001b[0m\u001b[0;34m\u001b[0m\u001b[0m\n\u001b[1;32m      4\u001b[0m     \u001b[0mswap\u001b[0m\u001b[0;34m.\u001b[0m\u001b[0mw3\u001b[0m\u001b[0;34m.\u001b[0m\u001b[0mto_checksum_address\u001b[0m\u001b[0;34m(\u001b[0m\u001b[0musdt_address\u001b[0m\u001b[0;34m)\u001b[0m\u001b[0;34m,\u001b[0m\u001b[0;34m\u001b[0m\u001b[0;34m\u001b[0m\u001b[0m\n\u001b[1;32m      5\u001b[0m     \u001b[0mint\u001b[0m\u001b[0;34m(\u001b[0m\u001b[0;36m200\u001b[0m\u001b[0;34m)\u001b[0m\u001b[0;34m,\u001b[0m  \u001b[0;31m# uint24\u001b[0m\u001b[0;34m\u001b[0m\u001b[0;34m\u001b[0m\u001b[0m\n",
      "\u001b[0;32m/usr/local/anaconda3/lib/python3.8/site-packages/web3/contract/contract.py\u001b[0m in \u001b[0;36mcall\u001b[0;34m(self, transaction, block_identifier, state_override, ccip_read_enabled)\u001b[0m\n\u001b[1;32m    459\u001b[0m         \u001b[0mblock_id\u001b[0m \u001b[0;34m=\u001b[0m \u001b[0mparse_block_identifier\u001b[0m\u001b[0;34m(\u001b[0m\u001b[0mself\u001b[0m\u001b[0;34m.\u001b[0m\u001b[0mw3\u001b[0m\u001b[0;34m,\u001b[0m \u001b[0mblock_identifier\u001b[0m\u001b[0;34m)\u001b[0m\u001b[0;34m\u001b[0m\u001b[0;34m\u001b[0m\u001b[0m\n\u001b[1;32m    460\u001b[0m \u001b[0;34m\u001b[0m\u001b[0m\n\u001b[0;32m--> 461\u001b[0;31m         return call_contract_function(\n\u001b[0m\u001b[1;32m    462\u001b[0m             \u001b[0mself\u001b[0m\u001b[0;34m.\u001b[0m\u001b[0mw3\u001b[0m\u001b[0;34m,\u001b[0m\u001b[0;34m\u001b[0m\u001b[0;34m\u001b[0m\u001b[0m\n\u001b[1;32m    463\u001b[0m             \u001b[0mself\u001b[0m\u001b[0;34m.\u001b[0m\u001b[0maddress\u001b[0m\u001b[0;34m,\u001b[0m\u001b[0;34m\u001b[0m\u001b[0;34m\u001b[0m\u001b[0m\n",
      "\u001b[0;32m/usr/local/anaconda3/lib/python3.8/site-packages/web3/contract/utils.py\u001b[0m in \u001b[0;36mcall_contract_function\u001b[0;34m(w3, address, normalizers, function_identifier, transaction, block_id, contract_abi, fn_abi, state_override, ccip_read_enabled, decode_tuples, *args, **kwargs)\u001b[0m\n\u001b[1;32m     94\u001b[0m     )\n\u001b[1;32m     95\u001b[0m \u001b[0;34m\u001b[0m\u001b[0m\n\u001b[0;32m---> 96\u001b[0;31m     return_data = w3.eth.call(\n\u001b[0m\u001b[1;32m     97\u001b[0m         \u001b[0mcall_transaction\u001b[0m\u001b[0;34m,\u001b[0m\u001b[0;34m\u001b[0m\u001b[0;34m\u001b[0m\u001b[0m\n\u001b[1;32m     98\u001b[0m         \u001b[0mblock_identifier\u001b[0m\u001b[0;34m=\u001b[0m\u001b[0mblock_id\u001b[0m\u001b[0;34m,\u001b[0m\u001b[0;34m\u001b[0m\u001b[0;34m\u001b[0m\u001b[0m\n",
      "\u001b[0;32m/usr/local/anaconda3/lib/python3.8/site-packages/web3/eth/eth.py\u001b[0m in \u001b[0;36mcall\u001b[0;34m(self, transaction, block_identifier, state_override, ccip_read_enabled)\u001b[0m\n\u001b[1;32m    253\u001b[0m             \u001b[0;32mand\u001b[0m \u001b[0mccip_read_enabled\u001b[0m \u001b[0;32mis\u001b[0m \u001b[0;32mTrue\u001b[0m\u001b[0;34m\u001b[0m\u001b[0;34m\u001b[0m\u001b[0m\n\u001b[1;32m    254\u001b[0m         ):\n\u001b[0;32m--> 255\u001b[0;31m             \u001b[0;32mreturn\u001b[0m \u001b[0mself\u001b[0m\u001b[0;34m.\u001b[0m\u001b[0m_durin_call\u001b[0m\u001b[0;34m(\u001b[0m\u001b[0mtransaction\u001b[0m\u001b[0;34m,\u001b[0m \u001b[0mblock_identifier\u001b[0m\u001b[0;34m,\u001b[0m \u001b[0mstate_override\u001b[0m\u001b[0;34m)\u001b[0m\u001b[0;34m\u001b[0m\u001b[0;34m\u001b[0m\u001b[0m\n\u001b[0m\u001b[1;32m    256\u001b[0m \u001b[0;34m\u001b[0m\u001b[0m\n\u001b[1;32m    257\u001b[0m         \u001b[0;32mreturn\u001b[0m \u001b[0mself\u001b[0m\u001b[0;34m.\u001b[0m\u001b[0m_call\u001b[0m\u001b[0;34m(\u001b[0m\u001b[0mtransaction\u001b[0m\u001b[0;34m,\u001b[0m \u001b[0mblock_identifier\u001b[0m\u001b[0;34m,\u001b[0m \u001b[0mstate_override\u001b[0m\u001b[0;34m)\u001b[0m\u001b[0;34m\u001b[0m\u001b[0;34m\u001b[0m\u001b[0m\n",
      "\u001b[0;32m/usr/local/anaconda3/lib/python3.8/site-packages/web3/eth/eth.py\u001b[0m in \u001b[0;36m_durin_call\u001b[0;34m(self, transaction, block_identifier, state_override)\u001b[0m\n\u001b[1;32m    272\u001b[0m         \u001b[0;32mfor\u001b[0m \u001b[0m_\u001b[0m \u001b[0;32min\u001b[0m \u001b[0mrange\u001b[0m\u001b[0;34m(\u001b[0m\u001b[0mmax_redirects\u001b[0m\u001b[0;34m)\u001b[0m\u001b[0;34m:\u001b[0m\u001b[0;34m\u001b[0m\u001b[0;34m\u001b[0m\u001b[0m\n\u001b[1;32m    273\u001b[0m             \u001b[0;32mtry\u001b[0m\u001b[0;34m:\u001b[0m\u001b[0;34m\u001b[0m\u001b[0;34m\u001b[0m\u001b[0m\n\u001b[0;32m--> 274\u001b[0;31m                 \u001b[0;32mreturn\u001b[0m \u001b[0mself\u001b[0m\u001b[0;34m.\u001b[0m\u001b[0m_call\u001b[0m\u001b[0;34m(\u001b[0m\u001b[0mtransaction\u001b[0m\u001b[0;34m,\u001b[0m \u001b[0mblock_identifier\u001b[0m\u001b[0;34m,\u001b[0m \u001b[0mstate_override\u001b[0m\u001b[0;34m)\u001b[0m\u001b[0;34m\u001b[0m\u001b[0;34m\u001b[0m\u001b[0m\n\u001b[0m\u001b[1;32m    275\u001b[0m             \u001b[0;32mexcept\u001b[0m \u001b[0mOffchainLookup\u001b[0m \u001b[0;32mas\u001b[0m \u001b[0moffchain_lookup\u001b[0m\u001b[0;34m:\u001b[0m\u001b[0;34m\u001b[0m\u001b[0;34m\u001b[0m\u001b[0m\n\u001b[1;32m    276\u001b[0m                 durin_calldata = handle_offchain_lookup(\n",
      "\u001b[0;32m/usr/local/anaconda3/lib/python3.8/site-packages/web3/module.py\u001b[0m in \u001b[0;36mcaller\u001b[0;34m(*args, **kwargs)\u001b[0m\n\u001b[1;32m     66\u001b[0m             \u001b[0mnull_result_formatters\u001b[0m\u001b[0;34m,\u001b[0m\u001b[0;34m\u001b[0m\u001b[0;34m\u001b[0m\u001b[0m\n\u001b[1;32m     67\u001b[0m         ) = response_formatters\n\u001b[0;32m---> 68\u001b[0;31m         result = w3.manager.request_blocking(\n\u001b[0m\u001b[1;32m     69\u001b[0m             \u001b[0mmethod_str\u001b[0m\u001b[0;34m,\u001b[0m \u001b[0mparams\u001b[0m\u001b[0;34m,\u001b[0m \u001b[0merror_formatters\u001b[0m\u001b[0;34m,\u001b[0m \u001b[0mnull_result_formatters\u001b[0m\u001b[0;34m\u001b[0m\u001b[0;34m\u001b[0m\u001b[0m\n\u001b[1;32m     70\u001b[0m         )\n",
      "\u001b[0;32m/usr/local/anaconda3/lib/python3.8/site-packages/web3/manager.py\u001b[0m in \u001b[0;36mrequest_blocking\u001b[0;34m(self, method, params, error_formatters, null_result_formatters)\u001b[0m\n\u001b[1;32m    229\u001b[0m         \u001b[0mMake\u001b[0m \u001b[0ma\u001b[0m \u001b[0msynchronous\u001b[0m \u001b[0mrequest\u001b[0m \u001b[0musing\u001b[0m \u001b[0mthe\u001b[0m \u001b[0mprovider\u001b[0m\u001b[0;34m\u001b[0m\u001b[0;34m\u001b[0m\u001b[0m\n\u001b[1;32m    230\u001b[0m         \"\"\"\n\u001b[0;32m--> 231\u001b[0;31m         \u001b[0mresponse\u001b[0m \u001b[0;34m=\u001b[0m \u001b[0mself\u001b[0m\u001b[0;34m.\u001b[0m\u001b[0m_make_request\u001b[0m\u001b[0;34m(\u001b[0m\u001b[0mmethod\u001b[0m\u001b[0;34m,\u001b[0m \u001b[0mparams\u001b[0m\u001b[0;34m)\u001b[0m\u001b[0;34m\u001b[0m\u001b[0;34m\u001b[0m\u001b[0m\n\u001b[0m\u001b[1;32m    232\u001b[0m         return self.formatted_response(\n\u001b[1;32m    233\u001b[0m             \u001b[0mresponse\u001b[0m\u001b[0;34m,\u001b[0m \u001b[0mparams\u001b[0m\u001b[0;34m,\u001b[0m \u001b[0merror_formatters\u001b[0m\u001b[0;34m,\u001b[0m \u001b[0mnull_result_formatters\u001b[0m\u001b[0;34m\u001b[0m\u001b[0;34m\u001b[0m\u001b[0m\n",
      "\u001b[0;32m/usr/local/anaconda3/lib/python3.8/site-packages/web3/manager.py\u001b[0m in \u001b[0;36m_make_request\u001b[0;34m(self, method, params)\u001b[0m\n\u001b[1;32m    173\u001b[0m         )\n\u001b[1;32m    174\u001b[0m         \u001b[0mself\u001b[0m\u001b[0;34m.\u001b[0m\u001b[0mlogger\u001b[0m\u001b[0;34m.\u001b[0m\u001b[0mdebug\u001b[0m\u001b[0;34m(\u001b[0m\u001b[0;34mf\"Making request. Method: {method}\"\u001b[0m\u001b[0;34m)\u001b[0m\u001b[0;34m\u001b[0m\u001b[0;34m\u001b[0m\u001b[0m\n\u001b[0;32m--> 175\u001b[0;31m         \u001b[0;32mreturn\u001b[0m \u001b[0mrequest_func\u001b[0m\u001b[0;34m(\u001b[0m\u001b[0mmethod\u001b[0m\u001b[0;34m,\u001b[0m \u001b[0mparams\u001b[0m\u001b[0;34m)\u001b[0m\u001b[0;34m\u001b[0m\u001b[0;34m\u001b[0m\u001b[0m\n\u001b[0m\u001b[1;32m    176\u001b[0m \u001b[0;34m\u001b[0m\u001b[0m\n\u001b[1;32m    177\u001b[0m     async def _coro_make_request(\n",
      "\u001b[0;32m/usr/local/anaconda3/lib/python3.8/site-packages/web3/middleware/formatting.py\u001b[0m in \u001b[0;36mmiddleware\u001b[0;34m(method, params)\u001b[0m\n\u001b[1;32m     97\u001b[0m                 \u001b[0mformatter\u001b[0m \u001b[0;34m=\u001b[0m \u001b[0mrequest_formatters\u001b[0m\u001b[0;34m[\u001b[0m\u001b[0mmethod\u001b[0m\u001b[0;34m]\u001b[0m\u001b[0;34m\u001b[0m\u001b[0;34m\u001b[0m\u001b[0m\n\u001b[1;32m     98\u001b[0m                 \u001b[0mparams\u001b[0m \u001b[0;34m=\u001b[0m \u001b[0mformatter\u001b[0m\u001b[0;34m(\u001b[0m\u001b[0mparams\u001b[0m\u001b[0;34m)\u001b[0m\u001b[0;34m\u001b[0m\u001b[0;34m\u001b[0m\u001b[0m\n\u001b[0;32m---> 99\u001b[0;31m             \u001b[0mresponse\u001b[0m \u001b[0;34m=\u001b[0m \u001b[0mmake_request\u001b[0m\u001b[0;34m(\u001b[0m\u001b[0mmethod\u001b[0m\u001b[0;34m,\u001b[0m \u001b[0mparams\u001b[0m\u001b[0;34m)\u001b[0m\u001b[0;34m\u001b[0m\u001b[0;34m\u001b[0m\u001b[0m\n\u001b[0m\u001b[1;32m    100\u001b[0m \u001b[0;34m\u001b[0m\u001b[0m\n\u001b[1;32m    101\u001b[0m             return _apply_response_formatters(\n",
      "\u001b[0;32m/usr/local/anaconda3/lib/python3.8/site-packages/web3/middleware/gas_price_strategy.py\u001b[0m in \u001b[0;36mmiddleware\u001b[0;34m(method, params)\u001b[0m\n\u001b[1;32m     94\u001b[0m             )\n\u001b[1;32m     95\u001b[0m             \u001b[0;32mreturn\u001b[0m \u001b[0mmake_request\u001b[0m\u001b[0;34m(\u001b[0m\u001b[0mmethod\u001b[0m\u001b[0;34m,\u001b[0m \u001b[0;34m(\u001b[0m\u001b[0mtransaction\u001b[0m\u001b[0;34m,\u001b[0m\u001b[0;34m)\u001b[0m\u001b[0;34m)\u001b[0m\u001b[0;34m\u001b[0m\u001b[0;34m\u001b[0m\u001b[0m\n\u001b[0;32m---> 96\u001b[0;31m         \u001b[0;32mreturn\u001b[0m \u001b[0mmake_request\u001b[0m\u001b[0;34m(\u001b[0m\u001b[0mmethod\u001b[0m\u001b[0;34m,\u001b[0m \u001b[0mparams\u001b[0m\u001b[0;34m)\u001b[0m\u001b[0;34m\u001b[0m\u001b[0;34m\u001b[0m\u001b[0m\n\u001b[0m\u001b[1;32m     97\u001b[0m \u001b[0;34m\u001b[0m\u001b[0m\n\u001b[1;32m     98\u001b[0m     \u001b[0;32mreturn\u001b[0m \u001b[0mmiddleware\u001b[0m\u001b[0;34m\u001b[0m\u001b[0;34m\u001b[0m\u001b[0m\n",
      "\u001b[0;32m/usr/local/anaconda3/lib/python3.8/site-packages/web3/middleware/formatting.py\u001b[0m in \u001b[0;36mmiddleware\u001b[0;34m(method, params)\u001b[0m\n\u001b[1;32m     97\u001b[0m                 \u001b[0mformatter\u001b[0m \u001b[0;34m=\u001b[0m \u001b[0mrequest_formatters\u001b[0m\u001b[0;34m[\u001b[0m\u001b[0mmethod\u001b[0m\u001b[0;34m]\u001b[0m\u001b[0;34m\u001b[0m\u001b[0;34m\u001b[0m\u001b[0m\n\u001b[1;32m     98\u001b[0m                 \u001b[0mparams\u001b[0m \u001b[0;34m=\u001b[0m \u001b[0mformatter\u001b[0m\u001b[0;34m(\u001b[0m\u001b[0mparams\u001b[0m\u001b[0;34m)\u001b[0m\u001b[0;34m\u001b[0m\u001b[0;34m\u001b[0m\u001b[0m\n\u001b[0;32m---> 99\u001b[0;31m             \u001b[0mresponse\u001b[0m \u001b[0;34m=\u001b[0m \u001b[0mmake_request\u001b[0m\u001b[0;34m(\u001b[0m\u001b[0mmethod\u001b[0m\u001b[0;34m,\u001b[0m \u001b[0mparams\u001b[0m\u001b[0;34m)\u001b[0m\u001b[0;34m\u001b[0m\u001b[0;34m\u001b[0m\u001b[0m\n\u001b[0m\u001b[1;32m    100\u001b[0m \u001b[0;34m\u001b[0m\u001b[0m\n\u001b[1;32m    101\u001b[0m             return _apply_response_formatters(\n",
      "\u001b[0;32m/usr/local/anaconda3/lib/python3.8/site-packages/web3/middleware/attrdict.py\u001b[0m in \u001b[0;36mmiddleware\u001b[0;34m(method, params)\u001b[0m\n\u001b[1;32m     36\u001b[0m \u001b[0;34m\u001b[0m\u001b[0m\n\u001b[1;32m     37\u001b[0m     \u001b[0;32mdef\u001b[0m \u001b[0mmiddleware\u001b[0m\u001b[0;34m(\u001b[0m\u001b[0mmethod\u001b[0m\u001b[0;34m:\u001b[0m \u001b[0mRPCEndpoint\u001b[0m\u001b[0;34m,\u001b[0m \u001b[0mparams\u001b[0m\u001b[0;34m:\u001b[0m \u001b[0mAny\u001b[0m\u001b[0;34m)\u001b[0m \u001b[0;34m->\u001b[0m \u001b[0mRPCResponse\u001b[0m\u001b[0;34m:\u001b[0m\u001b[0;34m\u001b[0m\u001b[0;34m\u001b[0m\u001b[0m\n\u001b[0;32m---> 38\u001b[0;31m         \u001b[0mresponse\u001b[0m \u001b[0;34m=\u001b[0m \u001b[0mmake_request\u001b[0m\u001b[0;34m(\u001b[0m\u001b[0mmethod\u001b[0m\u001b[0;34m,\u001b[0m \u001b[0mparams\u001b[0m\u001b[0;34m)\u001b[0m\u001b[0;34m\u001b[0m\u001b[0;34m\u001b[0m\u001b[0m\n\u001b[0m\u001b[1;32m     39\u001b[0m \u001b[0;34m\u001b[0m\u001b[0m\n\u001b[1;32m     40\u001b[0m         \u001b[0;32mif\u001b[0m \u001b[0;34m\"result\"\u001b[0m \u001b[0;32min\u001b[0m \u001b[0mresponse\u001b[0m\u001b[0;34m:\u001b[0m\u001b[0;34m\u001b[0m\u001b[0;34m\u001b[0m\u001b[0m\n",
      "\u001b[0;32m/usr/local/anaconda3/lib/python3.8/site-packages/web3/middleware/formatting.py\u001b[0m in \u001b[0;36mmiddleware\u001b[0;34m(method, params)\u001b[0m\n\u001b[1;32m     97\u001b[0m                 \u001b[0mformatter\u001b[0m \u001b[0;34m=\u001b[0m \u001b[0mrequest_formatters\u001b[0m\u001b[0;34m[\u001b[0m\u001b[0mmethod\u001b[0m\u001b[0;34m]\u001b[0m\u001b[0;34m\u001b[0m\u001b[0;34m\u001b[0m\u001b[0m\n\u001b[1;32m     98\u001b[0m                 \u001b[0mparams\u001b[0m \u001b[0;34m=\u001b[0m \u001b[0mformatter\u001b[0m\u001b[0;34m(\u001b[0m\u001b[0mparams\u001b[0m\u001b[0;34m)\u001b[0m\u001b[0;34m\u001b[0m\u001b[0;34m\u001b[0m\u001b[0m\n\u001b[0;32m---> 99\u001b[0;31m             \u001b[0mresponse\u001b[0m \u001b[0;34m=\u001b[0m \u001b[0mmake_request\u001b[0m\u001b[0;34m(\u001b[0m\u001b[0mmethod\u001b[0m\u001b[0;34m,\u001b[0m \u001b[0mparams\u001b[0m\u001b[0;34m)\u001b[0m\u001b[0;34m\u001b[0m\u001b[0;34m\u001b[0m\u001b[0m\n\u001b[0m\u001b[1;32m    100\u001b[0m \u001b[0;34m\u001b[0m\u001b[0m\n\u001b[1;32m    101\u001b[0m             return _apply_response_formatters(\n",
      "\u001b[0;32m/usr/local/anaconda3/lib/python3.8/site-packages/web3/middleware/formatting.py\u001b[0m in \u001b[0;36mmiddleware\u001b[0;34m(method, params)\u001b[0m\n\u001b[1;32m     90\u001b[0m             formatters = merge(\n\u001b[1;32m     91\u001b[0m                 \u001b[0mFORMATTER_DEFAULTS\u001b[0m\u001b[0;34m,\u001b[0m\u001b[0;34m\u001b[0m\u001b[0;34m\u001b[0m\u001b[0m\n\u001b[0;32m---> 92\u001b[0;31m                 \u001b[0mweb3_formatters_builder\u001b[0m\u001b[0;34m(\u001b[0m\u001b[0mw3\u001b[0m\u001b[0;34m,\u001b[0m \u001b[0mmethod\u001b[0m\u001b[0;34m)\u001b[0m\u001b[0;34m,\u001b[0m\u001b[0;34m\u001b[0m\u001b[0;34m\u001b[0m\u001b[0m\n\u001b[0m\u001b[1;32m     93\u001b[0m             )\n\u001b[1;32m     94\u001b[0m             \u001b[0mrequest_formatters\u001b[0m \u001b[0;34m=\u001b[0m \u001b[0mformatters\u001b[0m\u001b[0;34m.\u001b[0m\u001b[0mpop\u001b[0m\u001b[0;34m(\u001b[0m\u001b[0;34m\"request_formatters\"\u001b[0m\u001b[0;34m)\u001b[0m\u001b[0;34m\u001b[0m\u001b[0;34m\u001b[0m\u001b[0m\n",
      "\u001b[0;32m/usr/local/anaconda3/lib/python3.8/site-packages/web3/middleware/validation.py\u001b[0m in \u001b[0;36mbuild_method_validators\u001b[0;34m(w3, method)\u001b[0m\n\u001b[1;32m    140\u001b[0m     \u001b[0mrequest_formatters\u001b[0m \u001b[0;34m=\u001b[0m \u001b[0;34m{\u001b[0m\u001b[0;34m}\u001b[0m\u001b[0;34m\u001b[0m\u001b[0;34m\u001b[0m\u001b[0m\n\u001b[1;32m    141\u001b[0m     \u001b[0;32mif\u001b[0m \u001b[0mRPCEndpoint\u001b[0m\u001b[0;34m(\u001b[0m\u001b[0mmethod\u001b[0m\u001b[0;34m)\u001b[0m \u001b[0;32min\u001b[0m \u001b[0mMETHODS_TO_VALIDATE\u001b[0m\u001b[0;34m:\u001b[0m\u001b[0;34m\u001b[0m\u001b[0;34m\u001b[0m\u001b[0m\n\u001b[0;32m--> 142\u001b[0;31m         \u001b[0mw3_chain_id\u001b[0m \u001b[0;34m=\u001b[0m \u001b[0mw3\u001b[0m\u001b[0;34m.\u001b[0m\u001b[0meth\u001b[0m\u001b[0;34m.\u001b[0m\u001b[0mchain_id\u001b[0m\u001b[0;34m\u001b[0m\u001b[0;34m\u001b[0m\u001b[0m\n\u001b[0m\u001b[1;32m    143\u001b[0m         \u001b[0;32mfor\u001b[0m \u001b[0mmethod\u001b[0m \u001b[0;32min\u001b[0m \u001b[0mMETHODS_TO_VALIDATE\u001b[0m\u001b[0;34m:\u001b[0m\u001b[0;34m\u001b[0m\u001b[0;34m\u001b[0m\u001b[0m\n\u001b[1;32m    144\u001b[0m             \u001b[0mrequest_formatters\u001b[0m\u001b[0;34m[\u001b[0m\u001b[0mmethod\u001b[0m\u001b[0;34m]\u001b[0m \u001b[0;34m=\u001b[0m \u001b[0m_chain_id_validator\u001b[0m\u001b[0;34m(\u001b[0m\u001b[0mw3_chain_id\u001b[0m\u001b[0;34m)\u001b[0m\u001b[0;34m\u001b[0m\u001b[0;34m\u001b[0m\u001b[0m\n",
      "\u001b[0;32m/usr/local/anaconda3/lib/python3.8/site-packages/web3/eth/eth.py\u001b[0m in \u001b[0;36mchain_id\u001b[0;34m(self)\u001b[0m\n\u001b[1;32m    142\u001b[0m     \u001b[0;34m@\u001b[0m\u001b[0mproperty\u001b[0m\u001b[0;34m\u001b[0m\u001b[0;34m\u001b[0m\u001b[0m\n\u001b[1;32m    143\u001b[0m     \u001b[0;32mdef\u001b[0m \u001b[0mchain_id\u001b[0m\u001b[0;34m(\u001b[0m\u001b[0mself\u001b[0m\u001b[0;34m)\u001b[0m \u001b[0;34m->\u001b[0m \u001b[0mint\u001b[0m\u001b[0;34m:\u001b[0m\u001b[0;34m\u001b[0m\u001b[0;34m\u001b[0m\u001b[0m\n\u001b[0;32m--> 144\u001b[0;31m         \u001b[0;32mreturn\u001b[0m \u001b[0mself\u001b[0m\u001b[0;34m.\u001b[0m\u001b[0m_chain_id\u001b[0m\u001b[0;34m(\u001b[0m\u001b[0;34m)\u001b[0m\u001b[0;34m\u001b[0m\u001b[0;34m\u001b[0m\u001b[0m\n\u001b[0m\u001b[1;32m    145\u001b[0m \u001b[0;34m\u001b[0m\u001b[0m\n\u001b[1;32m    146\u001b[0m     \u001b[0;31m# eth_coinbase\u001b[0m\u001b[0;34m\u001b[0m\u001b[0;34m\u001b[0m\u001b[0;34m\u001b[0m\u001b[0m\n",
      "\u001b[0;32m/usr/local/anaconda3/lib/python3.8/site-packages/web3/module.py\u001b[0m in \u001b[0;36mcaller\u001b[0;34m(*args, **kwargs)\u001b[0m\n\u001b[1;32m     66\u001b[0m             \u001b[0mnull_result_formatters\u001b[0m\u001b[0;34m,\u001b[0m\u001b[0;34m\u001b[0m\u001b[0;34m\u001b[0m\u001b[0m\n\u001b[1;32m     67\u001b[0m         ) = response_formatters\n\u001b[0;32m---> 68\u001b[0;31m         result = w3.manager.request_blocking(\n\u001b[0m\u001b[1;32m     69\u001b[0m             \u001b[0mmethod_str\u001b[0m\u001b[0;34m,\u001b[0m \u001b[0mparams\u001b[0m\u001b[0;34m,\u001b[0m \u001b[0merror_formatters\u001b[0m\u001b[0;34m,\u001b[0m \u001b[0mnull_result_formatters\u001b[0m\u001b[0;34m\u001b[0m\u001b[0;34m\u001b[0m\u001b[0m\n\u001b[1;32m     70\u001b[0m         )\n",
      "\u001b[0;32m/usr/local/anaconda3/lib/python3.8/site-packages/web3/manager.py\u001b[0m in \u001b[0;36mrequest_blocking\u001b[0;34m(self, method, params, error_formatters, null_result_formatters)\u001b[0m\n\u001b[1;32m    229\u001b[0m         \u001b[0mMake\u001b[0m \u001b[0ma\u001b[0m \u001b[0msynchronous\u001b[0m \u001b[0mrequest\u001b[0m \u001b[0musing\u001b[0m \u001b[0mthe\u001b[0m \u001b[0mprovider\u001b[0m\u001b[0;34m\u001b[0m\u001b[0;34m\u001b[0m\u001b[0m\n\u001b[1;32m    230\u001b[0m         \"\"\"\n\u001b[0;32m--> 231\u001b[0;31m         \u001b[0mresponse\u001b[0m \u001b[0;34m=\u001b[0m \u001b[0mself\u001b[0m\u001b[0;34m.\u001b[0m\u001b[0m_make_request\u001b[0m\u001b[0;34m(\u001b[0m\u001b[0mmethod\u001b[0m\u001b[0;34m,\u001b[0m \u001b[0mparams\u001b[0m\u001b[0;34m)\u001b[0m\u001b[0;34m\u001b[0m\u001b[0;34m\u001b[0m\u001b[0m\n\u001b[0m\u001b[1;32m    232\u001b[0m         return self.formatted_response(\n\u001b[1;32m    233\u001b[0m             \u001b[0mresponse\u001b[0m\u001b[0;34m,\u001b[0m \u001b[0mparams\u001b[0m\u001b[0;34m,\u001b[0m \u001b[0merror_formatters\u001b[0m\u001b[0;34m,\u001b[0m \u001b[0mnull_result_formatters\u001b[0m\u001b[0;34m\u001b[0m\u001b[0;34m\u001b[0m\u001b[0m\n",
      "\u001b[0;32m/usr/local/anaconda3/lib/python3.8/site-packages/web3/manager.py\u001b[0m in \u001b[0;36m_make_request\u001b[0;34m(self, method, params)\u001b[0m\n\u001b[1;32m    173\u001b[0m         )\n\u001b[1;32m    174\u001b[0m         \u001b[0mself\u001b[0m\u001b[0;34m.\u001b[0m\u001b[0mlogger\u001b[0m\u001b[0;34m.\u001b[0m\u001b[0mdebug\u001b[0m\u001b[0;34m(\u001b[0m\u001b[0;34mf\"Making request. Method: {method}\"\u001b[0m\u001b[0;34m)\u001b[0m\u001b[0;34m\u001b[0m\u001b[0;34m\u001b[0m\u001b[0m\n\u001b[0;32m--> 175\u001b[0;31m         \u001b[0;32mreturn\u001b[0m \u001b[0mrequest_func\u001b[0m\u001b[0;34m(\u001b[0m\u001b[0mmethod\u001b[0m\u001b[0;34m,\u001b[0m \u001b[0mparams\u001b[0m\u001b[0;34m)\u001b[0m\u001b[0;34m\u001b[0m\u001b[0;34m\u001b[0m\u001b[0m\n\u001b[0m\u001b[1;32m    176\u001b[0m \u001b[0;34m\u001b[0m\u001b[0m\n\u001b[1;32m    177\u001b[0m     async def _coro_make_request(\n",
      "\u001b[0;32m/usr/local/anaconda3/lib/python3.8/site-packages/web3/middleware/formatting.py\u001b[0m in \u001b[0;36mmiddleware\u001b[0;34m(method, params)\u001b[0m\n\u001b[1;32m     97\u001b[0m                 \u001b[0mformatter\u001b[0m \u001b[0;34m=\u001b[0m \u001b[0mrequest_formatters\u001b[0m\u001b[0;34m[\u001b[0m\u001b[0mmethod\u001b[0m\u001b[0;34m]\u001b[0m\u001b[0;34m\u001b[0m\u001b[0;34m\u001b[0m\u001b[0m\n\u001b[1;32m     98\u001b[0m                 \u001b[0mparams\u001b[0m \u001b[0;34m=\u001b[0m \u001b[0mformatter\u001b[0m\u001b[0;34m(\u001b[0m\u001b[0mparams\u001b[0m\u001b[0;34m)\u001b[0m\u001b[0;34m\u001b[0m\u001b[0;34m\u001b[0m\u001b[0m\n\u001b[0;32m---> 99\u001b[0;31m             \u001b[0mresponse\u001b[0m \u001b[0;34m=\u001b[0m \u001b[0mmake_request\u001b[0m\u001b[0;34m(\u001b[0m\u001b[0mmethod\u001b[0m\u001b[0;34m,\u001b[0m \u001b[0mparams\u001b[0m\u001b[0;34m)\u001b[0m\u001b[0;34m\u001b[0m\u001b[0;34m\u001b[0m\u001b[0m\n\u001b[0m\u001b[1;32m    100\u001b[0m \u001b[0;34m\u001b[0m\u001b[0m\n\u001b[1;32m    101\u001b[0m             return _apply_response_formatters(\n",
      "\u001b[0;32m/usr/local/anaconda3/lib/python3.8/site-packages/web3/middleware/gas_price_strategy.py\u001b[0m in \u001b[0;36mmiddleware\u001b[0;34m(method, params)\u001b[0m\n\u001b[1;32m     94\u001b[0m             )\n\u001b[1;32m     95\u001b[0m             \u001b[0;32mreturn\u001b[0m \u001b[0mmake_request\u001b[0m\u001b[0;34m(\u001b[0m\u001b[0mmethod\u001b[0m\u001b[0;34m,\u001b[0m \u001b[0;34m(\u001b[0m\u001b[0mtransaction\u001b[0m\u001b[0;34m,\u001b[0m\u001b[0;34m)\u001b[0m\u001b[0;34m)\u001b[0m\u001b[0;34m\u001b[0m\u001b[0;34m\u001b[0m\u001b[0m\n\u001b[0;32m---> 96\u001b[0;31m         \u001b[0;32mreturn\u001b[0m \u001b[0mmake_request\u001b[0m\u001b[0;34m(\u001b[0m\u001b[0mmethod\u001b[0m\u001b[0;34m,\u001b[0m \u001b[0mparams\u001b[0m\u001b[0;34m)\u001b[0m\u001b[0;34m\u001b[0m\u001b[0;34m\u001b[0m\u001b[0m\n\u001b[0m\u001b[1;32m     97\u001b[0m \u001b[0;34m\u001b[0m\u001b[0m\n\u001b[1;32m     98\u001b[0m     \u001b[0;32mreturn\u001b[0m \u001b[0mmiddleware\u001b[0m\u001b[0;34m\u001b[0m\u001b[0;34m\u001b[0m\u001b[0m\n",
      "\u001b[0;32m/usr/local/anaconda3/lib/python3.8/site-packages/web3/middleware/formatting.py\u001b[0m in \u001b[0;36mmiddleware\u001b[0;34m(method, params)\u001b[0m\n\u001b[1;32m     97\u001b[0m                 \u001b[0mformatter\u001b[0m \u001b[0;34m=\u001b[0m \u001b[0mrequest_formatters\u001b[0m\u001b[0;34m[\u001b[0m\u001b[0mmethod\u001b[0m\u001b[0;34m]\u001b[0m\u001b[0;34m\u001b[0m\u001b[0;34m\u001b[0m\u001b[0m\n\u001b[1;32m     98\u001b[0m                 \u001b[0mparams\u001b[0m \u001b[0;34m=\u001b[0m \u001b[0mformatter\u001b[0m\u001b[0;34m(\u001b[0m\u001b[0mparams\u001b[0m\u001b[0;34m)\u001b[0m\u001b[0;34m\u001b[0m\u001b[0;34m\u001b[0m\u001b[0m\n\u001b[0;32m---> 99\u001b[0;31m             \u001b[0mresponse\u001b[0m \u001b[0;34m=\u001b[0m \u001b[0mmake_request\u001b[0m\u001b[0;34m(\u001b[0m\u001b[0mmethod\u001b[0m\u001b[0;34m,\u001b[0m \u001b[0mparams\u001b[0m\u001b[0;34m)\u001b[0m\u001b[0;34m\u001b[0m\u001b[0;34m\u001b[0m\u001b[0m\n\u001b[0m\u001b[1;32m    100\u001b[0m \u001b[0;34m\u001b[0m\u001b[0m\n\u001b[1;32m    101\u001b[0m             return _apply_response_formatters(\n",
      "\u001b[0;32m/usr/local/anaconda3/lib/python3.8/site-packages/web3/middleware/attrdict.py\u001b[0m in \u001b[0;36mmiddleware\u001b[0;34m(method, params)\u001b[0m\n\u001b[1;32m     36\u001b[0m \u001b[0;34m\u001b[0m\u001b[0m\n\u001b[1;32m     37\u001b[0m     \u001b[0;32mdef\u001b[0m \u001b[0mmiddleware\u001b[0m\u001b[0;34m(\u001b[0m\u001b[0mmethod\u001b[0m\u001b[0;34m:\u001b[0m \u001b[0mRPCEndpoint\u001b[0m\u001b[0;34m,\u001b[0m \u001b[0mparams\u001b[0m\u001b[0;34m:\u001b[0m \u001b[0mAny\u001b[0m\u001b[0;34m)\u001b[0m \u001b[0;34m->\u001b[0m \u001b[0mRPCResponse\u001b[0m\u001b[0;34m:\u001b[0m\u001b[0;34m\u001b[0m\u001b[0;34m\u001b[0m\u001b[0m\n\u001b[0;32m---> 38\u001b[0;31m         \u001b[0mresponse\u001b[0m \u001b[0;34m=\u001b[0m \u001b[0mmake_request\u001b[0m\u001b[0;34m(\u001b[0m\u001b[0mmethod\u001b[0m\u001b[0;34m,\u001b[0m \u001b[0mparams\u001b[0m\u001b[0;34m)\u001b[0m\u001b[0;34m\u001b[0m\u001b[0;34m\u001b[0m\u001b[0m\n\u001b[0m\u001b[1;32m     39\u001b[0m \u001b[0;34m\u001b[0m\u001b[0m\n\u001b[1;32m     40\u001b[0m         \u001b[0;32mif\u001b[0m \u001b[0;34m\"result\"\u001b[0m \u001b[0;32min\u001b[0m \u001b[0mresponse\u001b[0m\u001b[0;34m:\u001b[0m\u001b[0;34m\u001b[0m\u001b[0;34m\u001b[0m\u001b[0m\n",
      "\u001b[0;32m/usr/local/anaconda3/lib/python3.8/site-packages/web3/middleware/formatting.py\u001b[0m in \u001b[0;36mmiddleware\u001b[0;34m(method, params)\u001b[0m\n\u001b[1;32m     97\u001b[0m                 \u001b[0mformatter\u001b[0m \u001b[0;34m=\u001b[0m \u001b[0mrequest_formatters\u001b[0m\u001b[0;34m[\u001b[0m\u001b[0mmethod\u001b[0m\u001b[0;34m]\u001b[0m\u001b[0;34m\u001b[0m\u001b[0;34m\u001b[0m\u001b[0m\n\u001b[1;32m     98\u001b[0m                 \u001b[0mparams\u001b[0m \u001b[0;34m=\u001b[0m \u001b[0mformatter\u001b[0m\u001b[0;34m(\u001b[0m\u001b[0mparams\u001b[0m\u001b[0;34m)\u001b[0m\u001b[0;34m\u001b[0m\u001b[0;34m\u001b[0m\u001b[0m\n\u001b[0;32m---> 99\u001b[0;31m             \u001b[0mresponse\u001b[0m \u001b[0;34m=\u001b[0m \u001b[0mmake_request\u001b[0m\u001b[0;34m(\u001b[0m\u001b[0mmethod\u001b[0m\u001b[0;34m,\u001b[0m \u001b[0mparams\u001b[0m\u001b[0;34m)\u001b[0m\u001b[0;34m\u001b[0m\u001b[0;34m\u001b[0m\u001b[0m\n\u001b[0m\u001b[1;32m    100\u001b[0m \u001b[0;34m\u001b[0m\u001b[0m\n\u001b[1;32m    101\u001b[0m             return _apply_response_formatters(\n",
      "\u001b[0;32m/usr/local/anaconda3/lib/python3.8/site-packages/web3/middleware/formatting.py\u001b[0m in \u001b[0;36mmiddleware\u001b[0;34m(method, params)\u001b[0m\n\u001b[1;32m     97\u001b[0m                 \u001b[0mformatter\u001b[0m \u001b[0;34m=\u001b[0m \u001b[0mrequest_formatters\u001b[0m\u001b[0;34m[\u001b[0m\u001b[0mmethod\u001b[0m\u001b[0;34m]\u001b[0m\u001b[0;34m\u001b[0m\u001b[0;34m\u001b[0m\u001b[0m\n\u001b[1;32m     98\u001b[0m                 \u001b[0mparams\u001b[0m \u001b[0;34m=\u001b[0m \u001b[0mformatter\u001b[0m\u001b[0;34m(\u001b[0m\u001b[0mparams\u001b[0m\u001b[0;34m)\u001b[0m\u001b[0;34m\u001b[0m\u001b[0;34m\u001b[0m\u001b[0m\n\u001b[0;32m---> 99\u001b[0;31m             \u001b[0mresponse\u001b[0m \u001b[0;34m=\u001b[0m \u001b[0mmake_request\u001b[0m\u001b[0;34m(\u001b[0m\u001b[0mmethod\u001b[0m\u001b[0;34m,\u001b[0m \u001b[0mparams\u001b[0m\u001b[0;34m)\u001b[0m\u001b[0;34m\u001b[0m\u001b[0;34m\u001b[0m\u001b[0m\n\u001b[0m\u001b[1;32m    100\u001b[0m \u001b[0;34m\u001b[0m\u001b[0m\n\u001b[1;32m    101\u001b[0m             return _apply_response_formatters(\n",
      "\u001b[0;32m/usr/local/anaconda3/lib/python3.8/site-packages/web3/middleware/formatting.py\u001b[0m in \u001b[0;36mmiddleware\u001b[0;34m(method, params)\u001b[0m\n\u001b[1;32m     97\u001b[0m                 \u001b[0mformatter\u001b[0m \u001b[0;34m=\u001b[0m \u001b[0mrequest_formatters\u001b[0m\u001b[0;34m[\u001b[0m\u001b[0mmethod\u001b[0m\u001b[0;34m]\u001b[0m\u001b[0;34m\u001b[0m\u001b[0;34m\u001b[0m\u001b[0m\n\u001b[1;32m     98\u001b[0m                 \u001b[0mparams\u001b[0m \u001b[0;34m=\u001b[0m \u001b[0mformatter\u001b[0m\u001b[0;34m(\u001b[0m\u001b[0mparams\u001b[0m\u001b[0;34m)\u001b[0m\u001b[0;34m\u001b[0m\u001b[0;34m\u001b[0m\u001b[0m\n\u001b[0;32m---> 99\u001b[0;31m             \u001b[0mresponse\u001b[0m \u001b[0;34m=\u001b[0m \u001b[0mmake_request\u001b[0m\u001b[0;34m(\u001b[0m\u001b[0mmethod\u001b[0m\u001b[0;34m,\u001b[0m \u001b[0mparams\u001b[0m\u001b[0;34m)\u001b[0m\u001b[0;34m\u001b[0m\u001b[0;34m\u001b[0m\u001b[0m\n\u001b[0m\u001b[1;32m    100\u001b[0m \u001b[0;34m\u001b[0m\u001b[0m\n\u001b[1;32m    101\u001b[0m             return _apply_response_formatters(\n",
      "\u001b[0;32m/usr/local/anaconda3/lib/python3.8/site-packages/web3/middleware/buffered_gas_estimate.py\u001b[0m in \u001b[0;36mmiddleware\u001b[0;34m(method, params)\u001b[0m\n\u001b[1;32m     41\u001b[0m                 )\n\u001b[1;32m     42\u001b[0m                 \u001b[0;32mreturn\u001b[0m \u001b[0mmake_request\u001b[0m\u001b[0;34m(\u001b[0m\u001b[0mmethod\u001b[0m\u001b[0;34m,\u001b[0m \u001b[0;34m[\u001b[0m\u001b[0mtransaction\u001b[0m\u001b[0;34m]\u001b[0m\u001b[0;34m)\u001b[0m\u001b[0;34m\u001b[0m\u001b[0;34m\u001b[0m\u001b[0m\n\u001b[0;32m---> 43\u001b[0;31m         \u001b[0;32mreturn\u001b[0m \u001b[0mmake_request\u001b[0m\u001b[0;34m(\u001b[0m\u001b[0mmethod\u001b[0m\u001b[0;34m,\u001b[0m \u001b[0mparams\u001b[0m\u001b[0;34m)\u001b[0m\u001b[0;34m\u001b[0m\u001b[0;34m\u001b[0m\u001b[0m\n\u001b[0m\u001b[1;32m     44\u001b[0m \u001b[0;34m\u001b[0m\u001b[0m\n\u001b[1;32m     45\u001b[0m     \u001b[0;32mreturn\u001b[0m \u001b[0mmiddleware\u001b[0m\u001b[0;34m\u001b[0m\u001b[0;34m\u001b[0m\u001b[0m\n",
      "\u001b[0;32m/usr/local/anaconda3/lib/python3.8/site-packages/web3/middleware/exception_retry_request.py\u001b[0m in \u001b[0;36mmiddleware\u001b[0;34m(method, params)\u001b[0m\n\u001b[1;32m    113\u001b[0m             \u001b[0;32mreturn\u001b[0m \u001b[0;32mNone\u001b[0m\u001b[0;34m\u001b[0m\u001b[0;34m\u001b[0m\u001b[0m\n\u001b[1;32m    114\u001b[0m         \u001b[0;32melse\u001b[0m\u001b[0;34m:\u001b[0m\u001b[0;34m\u001b[0m\u001b[0;34m\u001b[0m\u001b[0m\n\u001b[0;32m--> 115\u001b[0;31m             \u001b[0;32mreturn\u001b[0m \u001b[0mmake_request\u001b[0m\u001b[0;34m(\u001b[0m\u001b[0mmethod\u001b[0m\u001b[0;34m,\u001b[0m \u001b[0mparams\u001b[0m\u001b[0;34m)\u001b[0m\u001b[0;34m\u001b[0m\u001b[0;34m\u001b[0m\u001b[0m\n\u001b[0m\u001b[1;32m    116\u001b[0m \u001b[0;34m\u001b[0m\u001b[0m\n\u001b[1;32m    117\u001b[0m     \u001b[0;32mreturn\u001b[0m \u001b[0mmiddleware\u001b[0m\u001b[0;34m\u001b[0m\u001b[0;34m\u001b[0m\u001b[0m\n",
      "\u001b[0;32m/usr/local/anaconda3/lib/python3.8/site-packages/web3/providers/rpc.py\u001b[0m in \u001b[0;36mmake_request\u001b[0;34m(self, method, params)\u001b[0m\n\u001b[1;32m     88\u001b[0m         )\n\u001b[1;32m     89\u001b[0m         \u001b[0mrequest_data\u001b[0m \u001b[0;34m=\u001b[0m \u001b[0mself\u001b[0m\u001b[0;34m.\u001b[0m\u001b[0mencode_rpc_request\u001b[0m\u001b[0;34m(\u001b[0m\u001b[0mmethod\u001b[0m\u001b[0;34m,\u001b[0m \u001b[0mparams\u001b[0m\u001b[0;34m)\u001b[0m\u001b[0;34m\u001b[0m\u001b[0;34m\u001b[0m\u001b[0m\n\u001b[0;32m---> 90\u001b[0;31m         raw_response = make_post_request(\n\u001b[0m\u001b[1;32m     91\u001b[0m             \u001b[0mself\u001b[0m\u001b[0;34m.\u001b[0m\u001b[0mendpoint_uri\u001b[0m\u001b[0;34m,\u001b[0m \u001b[0mrequest_data\u001b[0m\u001b[0;34m,\u001b[0m \u001b[0;34m**\u001b[0m\u001b[0mself\u001b[0m\u001b[0;34m.\u001b[0m\u001b[0mget_request_kwargs\u001b[0m\u001b[0;34m(\u001b[0m\u001b[0;34m)\u001b[0m\u001b[0;34m\u001b[0m\u001b[0;34m\u001b[0m\u001b[0m\n\u001b[1;32m     92\u001b[0m         )\n",
      "\u001b[0;32m/usr/local/anaconda3/lib/python3.8/site-packages/web3/_utils/request.py\u001b[0m in \u001b[0;36mmake_post_request\u001b[0;34m(endpoint_uri, data, *args, **kwargs)\u001b[0m\n\u001b[1;32m    112\u001b[0m     \u001b[0mendpoint_uri\u001b[0m\u001b[0;34m:\u001b[0m \u001b[0mURI\u001b[0m\u001b[0;34m,\u001b[0m \u001b[0mdata\u001b[0m\u001b[0;34m:\u001b[0m \u001b[0mUnion\u001b[0m\u001b[0;34m[\u001b[0m\u001b[0mbytes\u001b[0m\u001b[0;34m,\u001b[0m \u001b[0mDict\u001b[0m\u001b[0;34m[\u001b[0m\u001b[0mstr\u001b[0m\u001b[0;34m,\u001b[0m \u001b[0mAny\u001b[0m\u001b[0;34m]\u001b[0m\u001b[0;34m]\u001b[0m\u001b[0;34m,\u001b[0m \u001b[0;34m*\u001b[0m\u001b[0margs\u001b[0m\u001b[0;34m:\u001b[0m \u001b[0mAny\u001b[0m\u001b[0;34m,\u001b[0m \u001b[0;34m**\u001b[0m\u001b[0mkwargs\u001b[0m\u001b[0;34m:\u001b[0m \u001b[0mAny\u001b[0m\u001b[0;34m\u001b[0m\u001b[0;34m\u001b[0m\u001b[0m\n\u001b[1;32m    113\u001b[0m ) -> bytes:\n\u001b[0;32m--> 114\u001b[0;31m     \u001b[0mresponse\u001b[0m \u001b[0;34m=\u001b[0m \u001b[0mget_response_from_post_request\u001b[0m\u001b[0;34m(\u001b[0m\u001b[0mendpoint_uri\u001b[0m\u001b[0;34m,\u001b[0m \u001b[0mdata\u001b[0m\u001b[0;34m=\u001b[0m\u001b[0mdata\u001b[0m\u001b[0;34m,\u001b[0m \u001b[0;34m*\u001b[0m\u001b[0margs\u001b[0m\u001b[0;34m,\u001b[0m \u001b[0;34m**\u001b[0m\u001b[0mkwargs\u001b[0m\u001b[0;34m)\u001b[0m\u001b[0;34m\u001b[0m\u001b[0;34m\u001b[0m\u001b[0m\n\u001b[0m\u001b[1;32m    115\u001b[0m     \u001b[0mresponse\u001b[0m\u001b[0;34m.\u001b[0m\u001b[0mraise_for_status\u001b[0m\u001b[0;34m(\u001b[0m\u001b[0;34m)\u001b[0m\u001b[0;34m\u001b[0m\u001b[0;34m\u001b[0m\u001b[0m\n\u001b[1;32m    116\u001b[0m     \u001b[0;32mreturn\u001b[0m \u001b[0mresponse\u001b[0m\u001b[0;34m.\u001b[0m\u001b[0mcontent\u001b[0m\u001b[0;34m\u001b[0m\u001b[0;34m\u001b[0m\u001b[0m\n",
      "\u001b[0;32m/usr/local/anaconda3/lib/python3.8/site-packages/web3/_utils/request.py\u001b[0m in \u001b[0;36mget_response_from_post_request\u001b[0;34m(endpoint_uri, *args, **kwargs)\u001b[0m\n\u001b[1;32m    105\u001b[0m     \u001b[0mkwargs\u001b[0m\u001b[0;34m.\u001b[0m\u001b[0msetdefault\u001b[0m\u001b[0;34m(\u001b[0m\u001b[0;34m\"timeout\"\u001b[0m\u001b[0;34m,\u001b[0m \u001b[0mDEFAULT_TIMEOUT\u001b[0m\u001b[0;34m)\u001b[0m\u001b[0;34m\u001b[0m\u001b[0;34m\u001b[0m\u001b[0m\n\u001b[1;32m    106\u001b[0m     \u001b[0msession\u001b[0m \u001b[0;34m=\u001b[0m \u001b[0mcache_and_return_session\u001b[0m\u001b[0;34m(\u001b[0m\u001b[0mendpoint_uri\u001b[0m\u001b[0;34m)\u001b[0m\u001b[0;34m\u001b[0m\u001b[0;34m\u001b[0m\u001b[0m\n\u001b[0;32m--> 107\u001b[0;31m     \u001b[0mresponse\u001b[0m \u001b[0;34m=\u001b[0m \u001b[0msession\u001b[0m\u001b[0;34m.\u001b[0m\u001b[0mpost\u001b[0m\u001b[0;34m(\u001b[0m\u001b[0mendpoint_uri\u001b[0m\u001b[0;34m,\u001b[0m \u001b[0;34m*\u001b[0m\u001b[0margs\u001b[0m\u001b[0;34m,\u001b[0m \u001b[0;34m**\u001b[0m\u001b[0mkwargs\u001b[0m\u001b[0;34m)\u001b[0m\u001b[0;34m\u001b[0m\u001b[0;34m\u001b[0m\u001b[0m\n\u001b[0m\u001b[1;32m    108\u001b[0m     \u001b[0;32mreturn\u001b[0m \u001b[0mresponse\u001b[0m\u001b[0;34m\u001b[0m\u001b[0;34m\u001b[0m\u001b[0m\n\u001b[1;32m    109\u001b[0m \u001b[0;34m\u001b[0m\u001b[0m\n",
      "\u001b[0;32m/usr/local/anaconda3/lib/python3.8/site-packages/requests/sessions.py\u001b[0m in \u001b[0;36mpost\u001b[0;34m(self, url, data, json, **kwargs)\u001b[0m\n\u001b[1;32m    633\u001b[0m         \"\"\"\n\u001b[1;32m    634\u001b[0m \u001b[0;34m\u001b[0m\u001b[0m\n\u001b[0;32m--> 635\u001b[0;31m         \u001b[0;32mreturn\u001b[0m \u001b[0mself\u001b[0m\u001b[0;34m.\u001b[0m\u001b[0mrequest\u001b[0m\u001b[0;34m(\u001b[0m\u001b[0;34m\"POST\"\u001b[0m\u001b[0;34m,\u001b[0m \u001b[0murl\u001b[0m\u001b[0;34m,\u001b[0m \u001b[0mdata\u001b[0m\u001b[0;34m=\u001b[0m\u001b[0mdata\u001b[0m\u001b[0;34m,\u001b[0m \u001b[0mjson\u001b[0m\u001b[0;34m=\u001b[0m\u001b[0mjson\u001b[0m\u001b[0;34m,\u001b[0m \u001b[0;34m**\u001b[0m\u001b[0mkwargs\u001b[0m\u001b[0;34m)\u001b[0m\u001b[0;34m\u001b[0m\u001b[0;34m\u001b[0m\u001b[0m\n\u001b[0m\u001b[1;32m    636\u001b[0m \u001b[0;34m\u001b[0m\u001b[0m\n\u001b[1;32m    637\u001b[0m     \u001b[0;32mdef\u001b[0m \u001b[0mput\u001b[0m\u001b[0;34m(\u001b[0m\u001b[0mself\u001b[0m\u001b[0;34m,\u001b[0m \u001b[0murl\u001b[0m\u001b[0;34m,\u001b[0m \u001b[0mdata\u001b[0m\u001b[0;34m=\u001b[0m\u001b[0;32mNone\u001b[0m\u001b[0;34m,\u001b[0m \u001b[0;34m**\u001b[0m\u001b[0mkwargs\u001b[0m\u001b[0;34m)\u001b[0m\u001b[0;34m:\u001b[0m\u001b[0;34m\u001b[0m\u001b[0;34m\u001b[0m\u001b[0m\n",
      "\u001b[0;32m/usr/local/anaconda3/lib/python3.8/site-packages/requests/sessions.py\u001b[0m in \u001b[0;36mrequest\u001b[0;34m(self, method, url, params, data, headers, cookies, files, auth, timeout, allow_redirects, proxies, hooks, stream, verify, cert, json)\u001b[0m\n\u001b[1;32m    585\u001b[0m         }\n\u001b[1;32m    586\u001b[0m         \u001b[0msend_kwargs\u001b[0m\u001b[0;34m.\u001b[0m\u001b[0mupdate\u001b[0m\u001b[0;34m(\u001b[0m\u001b[0msettings\u001b[0m\u001b[0;34m)\u001b[0m\u001b[0;34m\u001b[0m\u001b[0;34m\u001b[0m\u001b[0m\n\u001b[0;32m--> 587\u001b[0;31m         \u001b[0mresp\u001b[0m \u001b[0;34m=\u001b[0m \u001b[0mself\u001b[0m\u001b[0;34m.\u001b[0m\u001b[0msend\u001b[0m\u001b[0;34m(\u001b[0m\u001b[0mprep\u001b[0m\u001b[0;34m,\u001b[0m \u001b[0;34m**\u001b[0m\u001b[0msend_kwargs\u001b[0m\u001b[0;34m)\u001b[0m\u001b[0;34m\u001b[0m\u001b[0;34m\u001b[0m\u001b[0m\n\u001b[0m\u001b[1;32m    588\u001b[0m \u001b[0;34m\u001b[0m\u001b[0m\n\u001b[1;32m    589\u001b[0m         \u001b[0;32mreturn\u001b[0m \u001b[0mresp\u001b[0m\u001b[0;34m\u001b[0m\u001b[0;34m\u001b[0m\u001b[0m\n",
      "\u001b[0;32m/usr/local/anaconda3/lib/python3.8/site-packages/requests/sessions.py\u001b[0m in \u001b[0;36msend\u001b[0;34m(self, request, **kwargs)\u001b[0m\n\u001b[1;32m    699\u001b[0m \u001b[0;34m\u001b[0m\u001b[0m\n\u001b[1;32m    700\u001b[0m         \u001b[0;31m# Send the request\u001b[0m\u001b[0;34m\u001b[0m\u001b[0;34m\u001b[0m\u001b[0;34m\u001b[0m\u001b[0m\n\u001b[0;32m--> 701\u001b[0;31m         \u001b[0mr\u001b[0m \u001b[0;34m=\u001b[0m \u001b[0madapter\u001b[0m\u001b[0;34m.\u001b[0m\u001b[0msend\u001b[0m\u001b[0;34m(\u001b[0m\u001b[0mrequest\u001b[0m\u001b[0;34m,\u001b[0m \u001b[0;34m**\u001b[0m\u001b[0mkwargs\u001b[0m\u001b[0;34m)\u001b[0m\u001b[0;34m\u001b[0m\u001b[0;34m\u001b[0m\u001b[0m\n\u001b[0m\u001b[1;32m    702\u001b[0m \u001b[0;34m\u001b[0m\u001b[0m\n\u001b[1;32m    703\u001b[0m         \u001b[0;31m# Total elapsed time of the request (approximately)\u001b[0m\u001b[0;34m\u001b[0m\u001b[0;34m\u001b[0m\u001b[0;34m\u001b[0m\u001b[0m\n",
      "\u001b[0;32m/usr/local/anaconda3/lib/python3.8/site-packages/requests/adapters.py\u001b[0m in \u001b[0;36msend\u001b[0;34m(self, request, stream, timeout, verify, cert, proxies)\u001b[0m\n\u001b[1;32m    563\u001b[0m                 \u001b[0;32mraise\u001b[0m \u001b[0mSSLError\u001b[0m\u001b[0;34m(\u001b[0m\u001b[0me\u001b[0m\u001b[0;34m,\u001b[0m \u001b[0mrequest\u001b[0m\u001b[0;34m=\u001b[0m\u001b[0mrequest\u001b[0m\u001b[0;34m)\u001b[0m\u001b[0;34m\u001b[0m\u001b[0;34m\u001b[0m\u001b[0m\n\u001b[1;32m    564\u001b[0m \u001b[0;34m\u001b[0m\u001b[0m\n\u001b[0;32m--> 565\u001b[0;31m             \u001b[0;32mraise\u001b[0m \u001b[0mConnectionError\u001b[0m\u001b[0;34m(\u001b[0m\u001b[0me\u001b[0m\u001b[0;34m,\u001b[0m \u001b[0mrequest\u001b[0m\u001b[0;34m=\u001b[0m\u001b[0mrequest\u001b[0m\u001b[0;34m)\u001b[0m\u001b[0;34m\u001b[0m\u001b[0;34m\u001b[0m\u001b[0m\n\u001b[0m\u001b[1;32m    566\u001b[0m \u001b[0;34m\u001b[0m\u001b[0m\n\u001b[1;32m    567\u001b[0m         \u001b[0;32mexcept\u001b[0m \u001b[0mClosedPoolError\u001b[0m \u001b[0;32mas\u001b[0m \u001b[0me\u001b[0m\u001b[0;34m:\u001b[0m\u001b[0;34m\u001b[0m\u001b[0;34m\u001b[0m\u001b[0m\n",
      "\u001b[0;31mConnectionError\u001b[0m: HTTPConnectionPool(host='127.0.0.1', port=8545): Max retries exceeded with url: / (Caused by NewConnectionError('<urllib3.connection.HTTPConnection object at 0x7f8432881b50>: Failed to establish a new connection: [Errno 61] Connection refused'))"
     ]
    }
   ],
   "source": [
    "trade = swap.functions.swap(\n",
    "    swap.w3.to_checksum_address(univ3_address),\n",
    "    swap.w3.to_checksum_address(weth_address),\n",
    "    swap.w3.to_checksum_address(usdt_address),\n",
    "    int(200),  # uint24\n",
    "    int(1e16)).call()"
   ]
  },
  {
   "cell_type": "code",
   "execution_count": null,
   "id": "ed65806d",
   "metadata": {},
   "outputs": [],
   "source": [
    "trade\n"
   ]
  },
  {
   "cell_type": "code",
   "execution_count": null,
   "id": "549ab361",
   "metadata": {},
   "outputs": [],
   "source": [
    "# trade is slightly less then what comes out of it, which makes sense since \n",
    "# uni and sushi are two major exchanges so already quite efficient and thus we get less than we put in\n",
    "trade / 1e18"
   ]
  },
  {
   "cell_type": "code",
   "execution_count": null,
   "id": "d127222d",
   "metadata": {},
   "outputs": [],
   "source": [
    "contract = p.w3.eth.contract(address=p.w3.to_checksum_address(contract), abi=ABI)"
   ]
  },
  {
   "cell_type": "code",
   "execution_count": null,
   "id": "fc3efb6c",
   "metadata": {},
   "outputs": [],
   "source": [
    "balance = c.w3.eth.get_balance('0xcA2713a8962677112902509Ce490Fb35f22452a2')\n"
   ]
  }
 ],
 "metadata": {
  "kernelspec": {
   "display_name": "Python 3",
   "language": "python",
   "name": "python3"
  },
  "language_info": {
   "codemirror_mode": {
    "name": "ipython",
    "version": 3
   },
   "file_extension": ".py",
   "mimetype": "text/x-python",
   "name": "python",
   "nbconvert_exporter": "python",
   "pygments_lexer": "ipython3",
   "version": "3.8.8"
  }
 },
 "nbformat": 4,
 "nbformat_minor": 5
}
