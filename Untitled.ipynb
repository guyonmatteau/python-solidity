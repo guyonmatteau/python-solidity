{
 "cells": [
  {
   "cell_type": "code",
   "execution_count": 3,
   "id": "1eff4787",
   "metadata": {},
   "outputs": [
    {
     "name": "stdout",
     "output_type": "stream",
     "text": [
      "The autoreload extension is already loaded. To reload it, use:\n",
      "  %reload_ext autoreload\n"
     ]
    }
   ],
   "source": [
    "%load_ext autoreload\n",
    "%autoreload 2"
   ]
  },
  {
   "cell_type": "code",
   "execution_count": 5,
   "id": "3ee534f5",
   "metadata": {},
   "outputs": [],
   "source": [
    "import logging\n",
    "import sys\n",
    "\n",
    "logging.basicConfig(stream=sys.stdout, level=logging.INFO)\n",
    "from dotenv import load_dotenv\n",
    "\n",
    "import urllib3\n",
    "urllib3.disable_warnings()"
   ]
  },
  {
   "cell_type": "code",
   "execution_count": 28,
   "id": "5aec4da2",
   "metadata": {},
   "outputs": [
    {
     "data": {
      "text/plain": [
       "True"
      ]
     },
     "execution_count": 28,
     "metadata": {},
     "output_type": "execute_result"
    }
   ],
   "source": [
    "load_dotenv(dotenv_path='.env.main')"
   ]
  },
  {
   "cell_type": "code",
   "execution_count": 7,
   "id": "0a0a9fdf",
   "metadata": {},
   "outputs": [],
   "source": [
    "import solcx"
   ]
  },
  {
   "cell_type": "code",
   "execution_count": 8,
   "id": "4f9b5356",
   "metadata": {},
   "outputs": [],
   "source": [
    "from interface.w3 import Provider, Contract"
   ]
  },
  {
   "cell_type": "code",
   "execution_count": null,
   "id": "43b0a0ab",
   "metadata": {},
   "outputs": [],
   "source": [
    "p = Provider(chain='main', fork=True)"
   ]
  },
  {
   "cell_type": "code",
   "execution_count": null,
   "id": "4d3ccaf0",
   "metadata": {},
   "outputs": [],
   "source": [
    "DEPLOYED = '0x9e7F7d0E8b8F38e3CF2b3F7dd362ba2e9E82baa4'\n",
    "swap = Contract(address=DEPLOYED, name='Swap')"
   ]
  },
  {
   "cell_type": "code",
   "execution_count": null,
   "id": "2a581898",
   "metadata": {},
   "outputs": [],
   "source": [
    "contract.functions.transferETH(\n",
    "    contract.w3.to_checksum_address('0xc02aaa39b223fe8d0a0e5c4f27ead9083c756cc2'), \n",
    "    int(2e17)).transact()  # transact since we need to pay for the transaction"
   ]
  },
  {
   "cell_type": "code",
   "execution_count": null,
   "id": "4da1e7da",
   "metadata": {},
   "outputs": [],
   "source": [
    "# check weth after"
   ]
  },
  {
   "cell_type": "code",
   "execution_count": null,
   "id": "a898422e",
   "metadata": {},
   "outputs": [],
   "source": [
    "weth = Contract(address='0xc02aaa39b223fe8d0a0e5c4f27ead9083c756cc2')\n",
    "weth.functions.balanceOf(DEPLOYED).call()"
   ]
  },
  {
   "cell_type": "code",
   "execution_count": null,
   "id": "bd0d103f",
   "metadata": {},
   "outputs": [],
   "source": [
    "1200000000000000000 / 1e18"
   ]
  },
  {
   "cell_type": "code",
   "execution_count": null,
   "id": "6f3a71a6",
   "metadata": {},
   "outputs": [],
   "source": [
    "p.config._sections"
   ]
  },
  {
   "cell_type": "code",
   "execution_count": null,
   "id": "91305026",
   "metadata": {},
   "outputs": [],
   "source": [
    "univ3_address = p.config._sections['routers']['uniswapv3']\n",
    "univ2_address = p.config._sections['routers']['uniswapv2']\n",
    "sushi_address = p.config._sections['routers']['sushiswap']\n",
    "weth_address = p.config._sections['tokens']['weth']\n",
    "usdc_address = p.config._sections['tokens']['usdc']\n",
    "usdt_address = p.config._sections['tokens']['usdt']"
   ]
  },
  {
   "cell_type": "code",
   "execution_count": null,
   "id": "0efbdb80",
   "metadata": {},
   "outputs": [],
   "source": [
    "weth_address"
   ]
  },
  {
   "cell_type": "code",
   "execution_count": null,
   "id": "efa1b6a6",
   "metadata": {},
   "outputs": [],
   "source": [
    "usdt_address"
   ]
  },
  {
   "cell_type": "code",
   "execution_count": null,
   "id": "f1088a91",
   "metadata": {},
   "outputs": [],
   "source": [
    "univ3_address"
   ]
  },
  {
   "cell_type": "code",
   "execution_count": null,
   "id": "b5874744",
   "metadata": {},
   "outputs": [],
   "source": [
    "account0 = '0xf39Fd6e51aad88F6F4ce6aB8827279cffFb92266'\n",
    "nonce = swap.w3.eth.get_transaction_count(swap.w3.to_checksum_address(account0))"
   ]
  },
  {
   "cell_type": "code",
   "execution_count": null,
   "id": "0c1c00a9",
   "metadata": {},
   "outputs": [],
   "source": [
    "nonce"
   ]
  },
  {
   "cell_type": "code",
   "execution_count": null,
   "id": "5fca389d",
   "metadata": {},
   "outputs": [],
   "source": [
    "swap.w3.eth.chain_id"
   ]
  },
  {
   "cell_type": "code",
   "execution_count": null,
   "id": "38a62e4b",
   "metadata": {},
   "outputs": [],
   "source": [
    "chain_id = swap.w3.eth.chain_id\n",
    "call_function = swap.functions.swap(\n",
    ").build_transaction({\"chainId\": chain_id, \"from\": account0, \"nonce\": nonce})"
   ]
  },
  {
   "cell_type": "code",
   "execution_count": null,
   "id": "68b05e67",
   "metadata": {},
   "outputs": [],
   "source": []
  },
  {
   "cell_type": "code",
   "execution_count": null,
   "id": "789b16f2",
   "metadata": {},
   "outputs": [],
   "source": [
    "swap.functions.swap(\n",
    "    swap.w3.to_checksum_address(univ3_address),\n",
    "    swap.w3.to_checksum_address(weth_address),\n",
    "    swap.w3.to_checksum_address(usdt_address),\n",
    "    3000, \n",
    "    int(1e17)\n",
    ").transact()"
   ]
  },
  {
   "cell_type": "code",
   "execution_count": null,
   "id": "545c4a05",
   "metadata": {},
   "outputs": [],
   "source": [
    "# call can only be used when you want to view"
   ]
  },
  {
   "cell_type": "code",
   "execution_count": 9,
   "id": "a6637d97",
   "metadata": {},
   "outputs": [],
   "source": [
    "from solcx import compile_standard, compile_files, install_solc"
   ]
  },
  {
   "cell_type": "code",
   "execution_count": 10,
   "id": "0c7de5bf",
   "metadata": {},
   "outputs": [],
   "source": [
    "remappings = open('remappings.txt').read().split('\\n')[:-1]"
   ]
  },
  {
   "cell_type": "code",
   "execution_count": 11,
   "id": "804e4d29",
   "metadata": {},
   "outputs": [
    {
     "name": "stdout",
     "output_type": "stream",
     "text": [
      "INFO:solcx:solc 0.8.17 already installed at: /Users/annelohmeijer/.solcx/solc-v0.8.17\n"
     ]
    }
   ],
   "source": [
    "compiler_version = \"0.8.17\"\n",
    "install_solc(compiler_version)\n",
    "\n",
    "with open('src/Swap.sol') as f:\n",
    "    file = f.read()"
   ]
  },
  {
   "cell_type": "code",
   "execution_count": 12,
   "id": "badec8c8",
   "metadata": {},
   "outputs": [],
   "source": [
    "compiled_contracts = compile_files(source_files=['src/Swap.sol'], \n",
    "              output_values=[\"abi\", \"bin\"],\n",
    "              import_remappings=remappings,\n",
    "              solc_version=compiler_version)"
   ]
  },
  {
   "cell_type": "code",
   "execution_count": 23,
   "id": "67516943",
   "metadata": {},
   "outputs": [],
   "source": [
    "swap_contract = compiled_contracts[\"src/Swap.sol:Swap\"]"
   ]
  },
  {
   "cell_type": "code",
   "execution_count": 15,
   "id": "e7f80e6b",
   "metadata": {},
   "outputs": [],
   "source": [
    "from interface.w3 import Provider"
   ]
  },
  {
   "cell_type": "code",
   "execution_count": 17,
   "id": "dd447c6e",
   "metadata": {},
   "outputs": [
    {
     "name": "stdout",
     "output_type": "stream",
     "text": [
      "INFO:interface.w3:Reading config from conf/main.ini\n",
      "INFO:interface.w3:Reading secrets from .env.main\n",
      "INFO:interface.w3:Using local fork from main\n",
      "INFO:interface.w3:RPC url: http://127.0.0.1:8545/\n",
      "INFO:interface.w3:Connected to chain main: True\n"
     ]
    }
   ],
   "source": [
    "p = Provider(chain='main', fork=True) "
   ]
  },
  {
   "cell_type": "code",
   "execution_count": 18,
   "id": "3d3e5558",
   "metadata": {},
   "outputs": [
    {
     "data": {
      "text/plain": [
       "<web3.main.Web3 at 0x109b9f210>"
      ]
     },
     "execution_count": 18,
     "metadata": {},
     "output_type": "execute_result"
    }
   ],
   "source": [
    "p.w3"
   ]
  },
  {
   "cell_type": "code",
   "execution_count": 20,
   "id": "cd3ca199",
   "metadata": {},
   "outputs": [
    {
     "data": {
      "text/plain": [
       "'0xac0974bec39a17e36ba4a6b4d238ff944bacb478cbed5efcae784d7bf4f2ff80'"
      ]
     },
     "execution_count": 20,
     "metadata": {},
     "output_type": "execute_result"
    }
   ],
   "source": [
    "import os\n",
    "os.environ[\"PRIVATE_KEY\"]"
   ]
  },
  {
   "cell_type": "code",
   "execution_count": 48,
   "id": "63d843d2",
   "metadata": {},
   "outputs": [],
   "source": [
    "import json\n",
    "\n",
    "contract = p.w3.eth.contract(abi=swap_contract['abi'], bytecode=swap_contract['bin'])"
   ]
  },
  {
   "cell_type": "code",
   "execution_count": 49,
   "id": "ccc9f6f9",
   "metadata": {},
   "outputs": [
    {
     "data": {
      "text/plain": [
       "web3._utils.datatypes.Contract"
      ]
     },
     "execution_count": 49,
     "metadata": {},
     "output_type": "execute_result"
    }
   ],
   "source": [
    "contract"
   ]
  },
  {
   "cell_type": "code",
   "execution_count": 50,
   "id": "be51c411",
   "metadata": {},
   "outputs": [],
   "source": [
    "address = os.environ[\"ACCOUNT\"]"
   ]
  },
  {
   "cell_type": "code",
   "execution_count": 68,
   "id": "9725f76b",
   "metadata": {},
   "outputs": [],
   "source": [
    "nonce = p.w3.eth.get_transaction_count(address)"
   ]
  },
  {
   "cell_type": "code",
   "execution_count": 69,
   "id": "fc4eb2dd",
   "metadata": {},
   "outputs": [
    {
     "data": {
      "text/plain": [
       "446"
      ]
     },
     "execution_count": 69,
     "metadata": {},
     "output_type": "execute_result"
    }
   ],
   "source": [
    "nonce\n"
   ]
  },
  {
   "cell_type": "code",
   "execution_count": 70,
   "id": "2672357f",
   "metadata": {},
   "outputs": [
    {
     "data": {
      "text/plain": [
       "31337"
      ]
     },
     "execution_count": 70,
     "metadata": {},
     "output_type": "execute_result"
    }
   ],
   "source": [
    "p.w3.eth.chain_id"
   ]
  },
  {
   "cell_type": "code",
   "execution_count": 73,
   "id": "185dd805",
   "metadata": {},
   "outputs": [],
   "source": [
    "tx_data = {\n",
    "    \"chainId\": p.w3.eth.chain_id,\n",
    "     \"gasPrice\": p.w3.eth.gas_price,\n",
    "    \"gas\": 2000000,\n",
    "     \"from\": address,\n",
    "     \"nonce\": nonce}\n",
    "\n"
   ]
  },
  {
   "cell_type": "code",
   "execution_count": 74,
   "id": "c568c334",
   "metadata": {},
   "outputs": [],
   "source": [
    "tx = contract.constructor().build_transaction(tx_data)"
   ]
  },
  {
   "cell_type": "code",
   "execution_count": 75,
   "id": "36ae3bbb",
   "metadata": {},
   "outputs": [],
   "source": [
    "signed_tx = p.w3.eth.account.sign_transaction(tx, \n",
    "                                              private_key=os.environ[\"PRIVATE_KEY\"])"
   ]
  },
  {
   "cell_type": "code",
   "execution_count": 76,
   "id": "f3316e28",
   "metadata": {},
   "outputs": [
    {
     "data": {
      "text/plain": [
       "SignedTransaction(rawTransaction=HexBytes('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'), hash=HexBytes('0x59672335fe5fc16deb560bd9fa5f9e9a970a2271f9a415cdc63cf24f3e03f6bc'), r=94268292561125895896639948348310965112667941212260633143655483589773453434748, s=15554865637252933182274879518652382865885948362525500173313244481354120736152, v=62709)"
      ]
     },
     "execution_count": 76,
     "metadata": {},
     "output_type": "execute_result"
    }
   ],
   "source": [
    "signed_tx"
   ]
  },
  {
   "cell_type": "code",
   "execution_count": 77,
   "id": "38e5e2d4",
   "metadata": {},
   "outputs": [],
   "source": [
    "tx_hash = p.w3.eth.send_raw_transaction(signed_tx.rawTransaction)"
   ]
  },
  {
   "cell_type": "code",
   "execution_count": 64,
   "id": "a5bccfe9",
   "metadata": {},
   "outputs": [],
   "source": [
    "tx = contract.constructor().build_transaction(tx)"
   ]
  },
  {
   "cell_type": "code",
   "execution_count": 84,
   "id": "2fe94f8d",
   "metadata": {},
   "outputs": [
    {
     "name": "stdout",
     "output_type": "stream",
     "text": [
      "INFO:blockchain.provider:Reading config from conf/main.ini\n",
      "INFO:blockchain.provider:Reading secrets from .env.main\n",
      "INFO:blockchain.provider:Using local fork from main\n",
      "INFO:blockchain.provider:RPC url: http://127.0.0.1:8545/\n",
      "INFO:blockchain.provider:Connected to chain main: True\n"
     ]
    }
   ],
   "source": [
    "from blockchain.provider import Provider\n",
    "\n",
    "p = Provider(chain='main', fork=True)"
   ]
  },
  {
   "cell_type": "code",
   "execution_count": 85,
   "id": "8d4d8297",
   "metadata": {},
   "outputs": [
    {
     "name": "stdout",
     "output_type": "stream",
     "text": [
      "INFO:solcx:solc 0.8.17 already installed at: /Users/annelohmeijer/.solcx/solc-v0.8.17\n",
      "INFO:blockchain.provider:Contract deployment transaction hash: 0x5fd2ff49fecf7d9084d8157f0a142ab7eef4ee8fd7309077fad2a6f04d728a94\n",
      "INFO:blockchain.provider:Transaction receipt: AttributeDict({'transactionHash': HexBytes('0x5fd2ff49fecf7d9084d8157f0a142ab7eef4ee8fd7309077fad2a6f04d728a94'), 'transactionIndex': 0, 'blockHash': HexBytes('0xc301ac4a105945ccf1aa369e2d2a1fd9218c9430c7f4e5f17312a053f4b1fa3f'), 'blockNumber': 16989972, 'from': '0xf39Fd6e51aad88F6F4ce6aB8827279cffFb92266', 'to': None, 'cumulativeGasUsed': 910105, 'gasUsed': 910105, 'contractAddress': '0x3de00f44ce68FC56DB0e0E33aD4015C6e78eCB39', 'logs': [AttributeDict({'removed': False, 'logIndex': 0, 'transactionIndex': 0, 'transactionHash': HexBytes('0x5fd2ff49fecf7d9084d8157f0a142ab7eef4ee8fd7309077fad2a6f04d728a94'), 'blockHash': HexBytes('0xc301ac4a105945ccf1aa369e2d2a1fd9218c9430c7f4e5f17312a053f4b1fa3f'), 'blockNumber': 16989972, 'address': '0x3de00f44ce68FC56DB0e0E33aD4015C6e78eCB39', 'data': HexBytes('0x'), 'topics': [HexBytes('0x8be0079c531659141344cd1fd0a4f28419497f9722a3daafe3b4186f6b6457e0'), HexBytes('0x0000000000000000000000000000000000000000000000000000000000000000'), HexBytes('0x000000000000000000000000f39fd6e51aad88f6f4ce6ab8827279cfffb92266')]})], 'logsBloom': HexBytes('0x00000000000000000000000000000000000000000000000000800000000000000000000000000000000000000000000000000000000000000000000000000000000000000000000000000000000000000001000000000000000000000000000000000000020000000000000100000800000000000000000000000000000000400000000000000000000000000000000000000000400000000000000000000000000000000000000000000000000000000000000000000000000000000000000000000000200100200000000000000000000000002000000000000000000020000000000000000000000000000000000000000000000000000000000000000000'), 'type': 0, 'status': 1, 'effectiveGasPrice': 17768818580})\n"
     ]
    }
   ],
   "source": [
    "p.deploy(contract='Swap')"
   ]
  },
  {
   "cell_type": "code",
   "execution_count": 113,
   "id": "7fb9d6d1",
   "metadata": {},
   "outputs": [
    {
     "ename": "SyntaxError",
     "evalue": "invalid decimal literal (2901855422.py, line 1)",
     "output_type": "error",
     "traceback": [
      "\u001b[0;36m  Cell \u001b[0;32mIn[113], line 1\u001b[0;36m\u001b[0m\n\u001b[0;31m    6080604052348015600f57600080fd5b50605680601d6000396000f3fe6080604052348015600f57600080fd5b506000366060915050805190602001f3fea2646970667358fe1220fe05fe6360025c0641645358a0cef11157f0fe63edb271751848fe67fbf055f864736f6c63430008110033'\u001b[0m\n\u001b[0m                      ^\u001b[0m\n\u001b[0;31mSyntaxError\u001b[0m\u001b[0;31m:\u001b[0m invalid decimal literal\n"
     ]
    }
   ],
   "source": [
    "6080604052348015600f57600080fd5b50605680601d6000396000f3fe6080604052348015600f57600080fd5b506000366060915050805190602001f3fea2646970667358fe1220fe05fe6360025c0641645358a0cef11157f0fe63edb271751848fe67fbf055f864736f6c63430008110033'"
   ]
  },
  {
   "cell_type": "code",
   "execution_count": 120,
   "id": "e6b29df0",
   "metadata": {},
   "outputs": [],
   "source": [
    "b = 'fe6080604052600080fdfea2646970667358fe1220fe30fefefefefefe6ea36edbc3e055bd36bc0d8a58083a1dfefe3b6c9898acd664736f6c63430008110033'"
   ]
  },
  {
   "cell_type": "code",
   "execution_count": 121,
   "id": "c658f39d",
   "metadata": {},
   "outputs": [
    {
     "data": {
      "text/plain": [
       "64.0"
      ]
     },
     "execution_count": 121,
     "metadata": {},
     "output_type": "execute_result"
    }
   ],
   "source": [
    "len(b) /2 "
   ]
  },
  {
   "cell_type": "code",
   "execution_count": null,
   "id": "62a66cd9",
   "metadata": {},
   "outputs": [],
   "source": []
  }
 ],
 "metadata": {
  "kernelspec": {
   "display_name": "Python 3 (ipykernel)",
   "language": "python",
   "name": "python3"
  },
  "language_info": {
   "codemirror_mode": {
    "name": "ipython",
    "version": 3
   },
   "file_extension": ".py",
   "mimetype": "text/x-python",
   "name": "python",
   "nbconvert_exporter": "python",
   "pygments_lexer": "ipython3",
   "version": "3.11.2"
  }
 },
 "nbformat": 4,
 "nbformat_minor": 5
}
