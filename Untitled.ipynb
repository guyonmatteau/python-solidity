{
 "cells": [
  {
   "cell_type": "code",
   "execution_count": 89,
   "id": "1eff4787",
   "metadata": {},
   "outputs": [
    {
     "name": "stdout",
     "output_type": "stream",
     "text": [
      "The autoreload extension is already loaded. To reload it, use:\n",
      "  %reload_ext autoreload\n"
     ]
    }
   ],
   "source": [
    "%load_ext autoreload\n",
    "%autoreload 2"
   ]
  },
  {
   "cell_type": "code",
   "execution_count": 90,
   "id": "3ee534f5",
   "metadata": {},
   "outputs": [],
   "source": [
    "import logging\n",
    "import sys\n",
    "\n",
    "logging.basicConfig(stream=sys.stdout, level=logging.INFO)\n",
    "from dotenv import load_dotenv\n",
    "\n",
    "import urllib3\n",
    "urllib3.disable_warnings()"
   ]
  },
  {
   "cell_type": "code",
   "execution_count": 9,
   "id": "5aec4da2",
   "metadata": {},
   "outputs": [
    {
     "data": {
      "text/plain": [
       "True"
      ]
     },
     "execution_count": 9,
     "metadata": {},
     "output_type": "execute_result"
    }
   ],
   "source": [
    "load_dotenv(dotenv_path='.env.main')"
   ]
  },
  {
   "cell_type": "code",
   "execution_count": 91,
   "id": "4f9b5356",
   "metadata": {},
   "outputs": [],
   "source": [
    "from blockchain.provider import Provider\n",
    "from blockchain.contract import Contract\n",
    "from blockchain.utils import get_config"
   ]
  },
  {
   "cell_type": "code",
   "execution_count": 93,
   "id": "f42908d5",
   "metadata": {},
   "outputs": [],
   "source": [
    "conf = get_config(path='conf/main.toml')"
   ]
  },
  {
   "cell_type": "code",
   "execution_count": 94,
   "id": "666e03fa",
   "metadata": {},
   "outputs": [
    {
     "data": {
      "text/plain": [
       "{'url': {'rpc': 'https://eth-mainnet.g.alchemy.com/v2/',\n",
       "  'block_explorer': 'https://api.etherscan.io/api/',\n",
       "  'localhost': 'http://127.0.0.1:8545/'},\n",
       " 'routers': {'uniswapv2': '0x7a250d5630B4cF539739dF2C5dAcb4c659F2488D',\n",
       "  'uniswapv3': '0xE592427A0AEce92De3Edee1F18E0157C05861564',\n",
       "  'sushiswap': '0xd9e1cE17f2641f24aE83637ab66a2cca9C378B9F'},\n",
       " 'tokens': {'usdc': '0xa0b86991c6218b36c1d19d4a2e9eb0ce3606eb48',\n",
       "  'usdt': '0xdac17f958d2ee523a2206206994597c13d831ec7',\n",
       "  'weth': '0xc02aaa39b223fe8d0a0e5c4f27ead9083c756cc2'}}"
      ]
     },
     "execution_count": 94,
     "metadata": {},
     "output_type": "execute_result"
    }
   ],
   "source": [
    "conf"
   ]
  },
  {
   "cell_type": "code",
   "execution_count": 12,
   "id": "4d3ccaf0",
   "metadata": {},
   "outputs": [
    {
     "name": "stdout",
     "output_type": "stream",
     "text": [
      "INFO:blockchain.provider:Reading config from conf/main.toml\n",
      "INFO:blockchain.provider:Reading secrets from .env.main\n",
      "INFO:blockchain.provider:Using local fork from main\n",
      "INFO:blockchain.provider:RPC url: http://127.0.0.1:8545/\n",
      "INFO:blockchain.provider:Connected to chain main: True\n",
      "INFO:blockchain.contract:Getting contract ABI from source at out/Swap.sol/Swap.json\n"
     ]
    }
   ],
   "source": [
    "DEPLOYED = '0x92A00fc48Ad3dD4A8b5266a8F467a52Ac784fC83'\n",
    "swap = Contract(address=DEPLOYED, name='Swap')"
   ]
  },
  {
   "cell_type": "code",
   "execution_count": 18,
   "id": "77608929",
   "metadata": {},
   "outputs": [
    {
     "name": "stdout",
     "output_type": "stream",
     "text": [
      "INFO:blockchain.provider:Reading config from conf/main.toml\n",
      "INFO:blockchain.provider:Reading secrets from .env.main\n",
      "INFO:blockchain.provider:Using local fork from main\n",
      "INFO:blockchain.provider:RPC url: http://127.0.0.1:8545/\n",
      "INFO:blockchain.provider:Connected to chain main: True\n"
     ]
    }
   ],
   "source": [
    "provider = Provider(chain='main', fork=True)"
   ]
  },
  {
   "cell_type": "code",
   "execution_count": 59,
   "id": "2c6b3c04",
   "metadata": {},
   "outputs": [
    {
     "name": "stdout",
     "output_type": "stream",
     "text": [
      "INFO:blockchain.provider:Nonce of 0xf39Fd6e51aad88F6F4ce6aB8827279cffFb92266: 460\n",
      "INFO:blockchain.provider:0x667bf05d504ce29293a426fd387fe91c948ad19e1f8b93a362c9962b4a76ba7e\n"
     ]
    }
   ],
   "source": [
    "import os\n",
    "value = 20  # ETH\n",
    "provider.transfer(\n",
    "    sender=os.environ[\"ACCOUNT\"],\n",
    "    to=DEPLOYED,\n",
    "    amount=value,\n",
    ")\n"
   ]
  },
  {
   "cell_type": "code",
   "execution_count": 64,
   "id": "2a581898",
   "metadata": {},
   "outputs": [
    {
     "data": {
      "text/plain": [
       "HexBytes('0x92a5d1e50640d07ce874d7da41a801c09315699acdd19900a6c798aa5fe2e9ad')"
      ]
     },
     "execution_count": 64,
     "metadata": {},
     "output_type": "execute_result"
    }
   ],
   "source": [
    "swap.functions.transferETH(\n",
    "    swap.w3.to_checksum_address('0xc02aaa39b223fe8d0a0e5c4f27ead9083c756cc2'), \n",
    "    int(10e18)).transact()  # transact since we need to pay for the transaction"
   ]
  },
  {
   "cell_type": "code",
   "execution_count": null,
   "id": "4da1e7da",
   "metadata": {},
   "outputs": [],
   "source": [
    "# check weth after"
   ]
  },
  {
   "cell_type": "code",
   "execution_count": 65,
   "id": "a898422e",
   "metadata": {},
   "outputs": [
    {
     "name": "stdout",
     "output_type": "stream",
     "text": [
      "INFO:blockchain.provider:Reading config from conf/main.toml\n",
      "INFO:blockchain.provider:Reading secrets from .env.main\n",
      "INFO:blockchain.provider:Using local fork from main\n",
      "INFO:blockchain.provider:RPC url: http://127.0.0.1:8545/\n",
      "INFO:blockchain.provider:Connected to chain main: True\n",
      "INFO:blockchain.contract:Getting contract ABI for 0xC02aaA39b223FE8D0A0e5C4F27eAD9083C756Cc2 from https://api.etherscan.io/api/\n"
     ]
    },
    {
     "data": {
      "text/plain": [
       "20200000000000000000"
      ]
     },
     "execution_count": 65,
     "metadata": {},
     "output_type": "execute_result"
    }
   ],
   "source": [
    "weth = Contract(address='0xc02aaa39b223fe8d0a0e5c4f27ead9083c756cc2')\n",
    "weth.functions.balanceOf(swap.address).call()"
   ]
  },
  {
   "cell_type": "code",
   "execution_count": 66,
   "id": "1614256e",
   "metadata": {},
   "outputs": [
    {
     "data": {
      "text/plain": [
       "20.2"
      ]
     },
     "execution_count": 66,
     "metadata": {},
     "output_type": "execute_result"
    }
   ],
   "source": [
    "20200000000000000000 / 1e18"
   ]
  },
  {
   "cell_type": "code",
   "execution_count": 96,
   "id": "91305026",
   "metadata": {},
   "outputs": [],
   "source": [
    "univ3_address = conf['routers']['uniswapv3']\n",
    "sushi_address = conf['routers']['sushiswap']\n",
    "weth_address = conf['tokens']['weth']\n",
    "usdc_address = conf['tokens']['usdc']\n",
    "usdt_address = conf['tokens']['usdt']"
   ]
  },
  {
   "cell_type": "code",
   "execution_count": 143,
   "id": "fc166994",
   "metadata": {},
   "outputs": [
    {
     "name": "stdout",
     "output_type": "stream",
     "text": [
      "INFO:blockchain.provider:Reading config from conf/main.toml\n",
      "INFO:blockchain.provider:Reading secrets from .env.main\n",
      "INFO:blockchain.provider:Using local fork from main\n",
      "INFO:blockchain.provider:RPC url: http://127.0.0.1:8545/\n",
      "INFO:blockchain.provider:Connected to chain main: True\n"
     ]
    },
    {
     "data": {
      "text/plain": [
       "7321061967"
      ]
     },
     "execution_count": 143,
     "metadata": {},
     "output_type": "execute_result"
    }
   ],
   "source": [
    "from blockchain.abi import ERC20\n",
    "usdc = Contract(address='0xa0b86991c6218b36c1d19d4a2e9eb0ce3606eb48', abi=ERC20)\n",
    "usdc.functions.balanceOf(swap.address).call()"
   ]
  },
  {
   "cell_type": "code",
   "execution_count": 145,
   "id": "55243114",
   "metadata": {},
   "outputs": [
    {
     "name": "stdout",
     "output_type": "stream",
     "text": [
      "INFO:blockchain.provider:Reading config from conf/main.toml\n",
      "INFO:blockchain.provider:Reading secrets from .env.main\n",
      "INFO:blockchain.provider:Using local fork from main\n",
      "INFO:blockchain.provider:RPC url: http://127.0.0.1:8545/\n",
      "INFO:blockchain.provider:Connected to chain main: True\n"
     ]
    },
    {
     "data": {
      "text/plain": [
       "16200000000000000000"
      ]
     },
     "execution_count": 145,
     "metadata": {},
     "output_type": "execute_result"
    }
   ],
   "source": [
    "from blockchain.abi import ERC20\n",
    "weth = Contract(address=weth_address, abi=ERC20)\n",
    "weth.functions.balanceOf(swap.address).call()"
   ]
  },
  {
   "cell_type": "code",
   "execution_count": 144,
   "id": "713d17cb",
   "metadata": {},
   "outputs": [
    {
     "data": {
      "text/plain": [
       "7321136368"
      ]
     },
     "execution_count": 144,
     "metadata": {},
     "output_type": "execute_result"
    }
   ],
   "source": [
    "3660568184 * 2"
   ]
  },
  {
   "cell_type": "code",
   "execution_count": 62,
   "id": "bf9ed7f0",
   "metadata": {},
   "outputs": [
    {
     "data": {
      "text/plain": [
       "'0xf39Fd6e51aad88F6F4ce6aB8827279cffFb92266'"
      ]
     },
     "execution_count": 62,
     "metadata": {},
     "output_type": "execute_result"
    }
   ],
   "source": [
    "swap.functions.owner().call()"
   ]
  },
  {
   "cell_type": "code",
   "execution_count": null,
   "id": "c645fc13",
   "metadata": {},
   "outputs": [],
   "source": [
    "increment_tx = Incrementer.functions.increment(value).buildTransaction(\n",
    "    {\n",
    "        'from': os.environ[\"ACCOUNT\"],\n",
    "        'nonce': web3.eth.get_transaction_count(account_from['address']),\n",
    "    }\n",
    ")\n",
    "\n",
    "# 6. Sign tx with PK\n",
    "tx_create = web3.eth.account.sign_transaction(increment_tx, account_from['private_key'])\n",
    "\n",
    "# 7. Send tx and wait for receipt\n",
    "tx_hash = web3.eth.send_raw_transaction(tx_create.rawTransaction)\n",
    "tx_receipt = web3.eth.wait_for_transaction_receipt(tx_hash)"
   ]
  },
  {
   "cell_type": "code",
   "execution_count": 131,
   "id": "e00b3d6a",
   "metadata": {},
   "outputs": [],
   "source": [
    "nonce = provider.w3.eth.get_transaction_count(os.environ[\"ACCOUNT\"])"
   ]
  },
  {
   "cell_type": "code",
   "execution_count": 132,
   "id": "78f2bc5a",
   "metadata": {},
   "outputs": [
    {
     "data": {
      "text/plain": [
       "479"
      ]
     },
     "execution_count": 132,
     "metadata": {},
     "output_type": "execute_result"
    }
   ],
   "source": [
    "nonce"
   ]
  },
  {
   "cell_type": "code",
   "execution_count": 83,
   "id": "2a8dd6eb",
   "metadata": {},
   "outputs": [
    {
     "data": {
      "text/plain": [
       "1"
      ]
     },
     "execution_count": 83,
     "metadata": {},
     "output_type": "execute_result"
    }
   ],
   "source": [
    "provider.w3.eth.get_transaction_count(swap.address)"
   ]
  },
  {
   "cell_type": "code",
   "execution_count": 81,
   "id": "650dff05",
   "metadata": {},
   "outputs": [
    {
     "data": {
      "text/plain": [
       "'0x92A00fc48Ad3dD4A8b5266a8F467a52Ac784fC83'"
      ]
     },
     "execution_count": 81,
     "metadata": {},
     "output_type": "execute_result"
    }
   ],
   "source": [
    "swap.address"
   ]
  },
  {
   "cell_type": "code",
   "execution_count": 102,
   "id": "227484f5",
   "metadata": {},
   "outputs": [],
   "source": [
    "from_ = os.environ[\"ACCOUNT\"]"
   ]
  },
  {
   "cell_type": "code",
   "execution_count": 133,
   "id": "fa4af666",
   "metadata": {},
   "outputs": [],
   "source": [
    "gas = 2000000\n",
    "tx_data = {\n",
    "            \"chainId\": swap.w3.eth.chain_id,\n",
    "            \"gasPrice\": swap.w3.eth.gas_price,\n",
    "#             \"gas\": gas,\n",
    "            \"from\": from_,\n",
    "            \"nonce\": nonce,\n",
    "        }"
   ]
  },
  {
   "cell_type": "code",
   "execution_count": 134,
   "id": "64ad3a64",
   "metadata": {},
   "outputs": [],
   "source": [
    "trx = swap.functions.swap(\n",
    "    swap.w3.to_checksum_address(univ3_address),\n",
    "    swap.w3.to_checksum_address(weth_address),\n",
    "    swap.w3.to_checksum_address('0xa0b86991c6218b36c1d19d4a2e9eb0ce3606eb48'),\n",
    "    3000, \n",
    "    int(2e18)\n",
    ").build_transaction(tx_data)"
   ]
  },
  {
   "cell_type": "code",
   "execution_count": 142,
   "id": "9b173513",
   "metadata": {},
   "outputs": [
    {
     "data": {
      "text/plain": [
       "HexBytes('0x1c9ecce1e61f07778063366363e41ab2849746b8b4c869bb4feda8445d861d15')"
      ]
     },
     "execution_count": 142,
     "metadata": {},
     "output_type": "execute_result"
    }
   ],
   "source": [
    "swap.functions.swap(\n",
    "    swap.w3.to_checksum_address(univ3_address),\n",
    "    swap.w3.to_checksum_address(weth_address),\n",
    "    swap.w3.to_checksum_address('0xa0b86991c6218b36c1d19d4a2e9eb0ce3606eb48'),\n",
    "    3000, \n",
    "    int(2e18)\n",
    ").transact()"
   ]
  },
  {
   "cell_type": "code",
   "execution_count": 135,
   "id": "52a57d28",
   "metadata": {},
   "outputs": [],
   "source": [
    "tx_create = swap.w3.eth.account.sign_transaction(trx, os.environ[\"PRIVATE_KEY\"])\n"
   ]
  },
  {
   "cell_type": "code",
   "execution_count": 136,
   "id": "50c3c06a",
   "metadata": {},
   "outputs": [
    {
     "data": {
      "text/plain": [
       "SignedTransaction(rawTransaction=HexBytes('0xf9010d8201df844ba7a9d58302af7c9492a00fc48ad3dd4a8b5266a8f467a52ac784fc8380b8a484130cac000000000000000000000000e592427a0aece92de3edee1f18e0157c05861564000000000000000000000000c02aaa39b223fe8d0a0e5c4f27ead9083c756cc2000000000000000000000000a0b86991c6218b36c1d19d4a2e9eb0ce3606eb480000000000000000000000000000000000000000000000000000000000000bb80000000000000000000000000000000000000000000000001bc16d674ec8000082f4f5a001d5b94d286b94da2840f28fa0fe0145954a414c12691ef5c3db0bbd99295b72a0317c96ba87d18f33183d8a73778eef75c78d9e66fea124fbfe9efb2b6c9bf294'), hash=HexBytes('0xa9d475cc625afff12fd20fe2dc80b0a163b67b3783ec50a6e81f46d13e747a05'), r=829930176627859985350882402625570504317274663433068139952548535237071166322, s=22383458907418038462990473248734233740795415185040254668614303204070074872468, v=62709)"
      ]
     },
     "execution_count": 136,
     "metadata": {},
     "output_type": "execute_result"
    }
   ],
   "source": [
    "tx_create"
   ]
  },
  {
   "cell_type": "code",
   "execution_count": 137,
   "id": "b25bbb23",
   "metadata": {},
   "outputs": [],
   "source": [
    "tx_hash = swap.w3.eth.send_raw_transaction(tx_create.rawTransaction)\n",
    "tx_receipt = swap.w3.eth.wait_for_transaction_receipt(tx_hash)"
   ]
  },
  {
   "cell_type": "code",
   "execution_count": 139,
   "id": "b7fe18e8",
   "metadata": {},
   "outputs": [
    {
     "data": {
      "text/plain": [
       "AttributeDict({'transactionHash': HexBytes('0xa9d475cc625afff12fd20fe2dc80b0a163b67b3783ec50a6e81f46d13e747a05'),\n",
       " 'transactionIndex': 0,\n",
       " 'blockHash': HexBytes('0x9ebdcbedf6f489ae336bf56e80de9a4471e052bd79eb33667bdbe75f7c9bac7f'),\n",
       " 'blockNumber': 17010686,\n",
       " 'from': '0xf39Fd6e51aad88F6F4ce6aB8827279cffFb92266',\n",
       " 'to': '0x92A00fc48Ad3dD4A8b5266a8F467a52Ac784fC83',\n",
       " 'cumulativeGasUsed': 150687,\n",
       " 'gasUsed': 150687,\n",
       " 'contractAddress': None,\n",
       " 'logs': [AttributeDict({'removed': False,\n",
       "   'logIndex': 0,\n",
       "   'transactionIndex': 0,\n",
       "   'transactionHash': HexBytes('0xa9d475cc625afff12fd20fe2dc80b0a163b67b3783ec50a6e81f46d13e747a05'),\n",
       "   'blockHash': HexBytes('0x9ebdcbedf6f489ae336bf56e80de9a4471e052bd79eb33667bdbe75f7c9bac7f'),\n",
       "   'blockNumber': 17010686,\n",
       "   'address': '0xC02aaA39b223FE8D0A0e5C4F27eAD9083C756Cc2',\n",
       "   'data': HexBytes('0x0000000000000000000000000000000000000000000000001bc16d674ec80000'),\n",
       "   'topics': [HexBytes('0x8c5be1e5ebec7d5bd14f71427d1e84f3dd0314c0f7b2291e5b200ac8c7c3b925'),\n",
       "    HexBytes('0x00000000000000000000000092a00fc48ad3dd4a8b5266a8f467a52ac784fc83'),\n",
       "    HexBytes('0x000000000000000000000000e592427a0aece92de3edee1f18e0157c05861564')]}),\n",
       "  AttributeDict({'removed': False,\n",
       "   'logIndex': 1,\n",
       "   'transactionIndex': 0,\n",
       "   'transactionHash': HexBytes('0xa9d475cc625afff12fd20fe2dc80b0a163b67b3783ec50a6e81f46d13e747a05'),\n",
       "   'blockHash': HexBytes('0x9ebdcbedf6f489ae336bf56e80de9a4471e052bd79eb33667bdbe75f7c9bac7f'),\n",
       "   'blockNumber': 17010686,\n",
       "   'address': '0xA0b86991c6218b36c1d19D4a2e9Eb0cE3606eB48',\n",
       "   'data': HexBytes('0x00000000000000000000000000000000000000000000000000000000da2fd678'),\n",
       "   'topics': [HexBytes('0xddf252ad1be2c89b69c2b068fc378daa952ba7f163c4a11628f55a4df523b3ef'),\n",
       "    HexBytes('0x0000000000000000000000008ad599c3a0ff1de082011efddc58f1908eb6e6d8'),\n",
       "    HexBytes('0x00000000000000000000000092a00fc48ad3dd4a8b5266a8f467a52ac784fc83')]}),\n",
       "  AttributeDict({'removed': False,\n",
       "   'logIndex': 2,\n",
       "   'transactionIndex': 0,\n",
       "   'transactionHash': HexBytes('0xa9d475cc625afff12fd20fe2dc80b0a163b67b3783ec50a6e81f46d13e747a05'),\n",
       "   'blockHash': HexBytes('0x9ebdcbedf6f489ae336bf56e80de9a4471e052bd79eb33667bdbe75f7c9bac7f'),\n",
       "   'blockNumber': 17010686,\n",
       "   'address': '0xC02aaA39b223FE8D0A0e5C4F27eAD9083C756Cc2',\n",
       "   'data': HexBytes('0x0000000000000000000000000000000000000000000000001bc16d674ec80000'),\n",
       "   'topics': [HexBytes('0xddf252ad1be2c89b69c2b068fc378daa952ba7f163c4a11628f55a4df523b3ef'),\n",
       "    HexBytes('0x00000000000000000000000092a00fc48ad3dd4a8b5266a8f467a52ac784fc83'),\n",
       "    HexBytes('0x0000000000000000000000008ad599c3a0ff1de082011efddc58f1908eb6e6d8')]}),\n",
       "  AttributeDict({'removed': False,\n",
       "   'logIndex': 3,\n",
       "   'transactionIndex': 0,\n",
       "   'transactionHash': HexBytes('0xa9d475cc625afff12fd20fe2dc80b0a163b67b3783ec50a6e81f46d13e747a05'),\n",
       "   'blockHash': HexBytes('0x9ebdcbedf6f489ae336bf56e80de9a4471e052bd79eb33667bdbe75f7c9bac7f'),\n",
       "   'blockNumber': 17010686,\n",
       "   'address': '0x8ad599c3A0ff1De082011EFDDc58f1908eb6e6D8',\n",
       "   'data': HexBytes('0xffffffffffffffffffffffffffffffffffffffffffffffffffffffff25d029880000000000000000000000000000000000000000000000001bc16d674ec800000000000000000000000000000000000000005b2b720ab7126dcacc753fff71b200000000000000000000000000000000000000000000000074ab29f54dcc76fa00000000000000000000000000000000000000000000000000000000000311d0'),\n",
       "   'topics': [HexBytes('0xc42079f94a6350d7e6235f29174924f928cc2ac818eb64fed8004e115fbcca67'),\n",
       "    HexBytes('0x000000000000000000000000e592427a0aece92de3edee1f18e0157c05861564'),\n",
       "    HexBytes('0x00000000000000000000000092a00fc48ad3dd4a8b5266a8f467a52ac784fc83')]})],\n",
       " 'logsBloom': HexBytes('0x00000002400000000000000000000000000000000000000000000000000800001000000000000000000000000000000082000000080020000000000000200000000000000000000808000008000000000000000000000000000000000000000000000000000000000000100000000002000000000000000000000010000800000000000000000000000000000000000400000000010000000000000000000000020200000000200000001000800000000000000000000000000000000000000000000002000000000000000000000000000000000000000000000000000000000010200000000000000000000000000000010000000000000000000000000000'),\n",
       " 'type': 0,\n",
       " 'status': 1,\n",
       " 'effectiveGasPrice': 1269279189})"
      ]
     },
     "execution_count": 139,
     "metadata": {},
     "output_type": "execute_result"
    }
   ],
   "source": [
    "tx_receipt"
   ]
  },
  {
   "cell_type": "code",
   "execution_count": null,
   "id": "9fe7ce80",
   "metadata": {},
   "outputs": [],
   "source": []
  },
  {
   "cell_type": "code",
   "execution_count": 28,
   "id": "c5963851",
   "metadata": {},
   "outputs": [
    {
     "data": {
      "text/plain": [
       "'0x92A00fc48Ad3dD4A8b5266a8F467a52Ac784fC83'"
      ]
     },
     "execution_count": 28,
     "metadata": {},
     "output_type": "execute_result"
    }
   ],
   "source": [
    "swap.address"
   ]
  },
  {
   "cell_type": "code",
   "execution_count": null,
   "id": "3e91a70a",
   "metadata": {},
   "outputs": [],
   "source": []
  },
  {
   "cell_type": "code",
   "execution_count": 39,
   "id": "0efbdb80",
   "metadata": {},
   "outputs": [
    {
     "data": {
      "text/plain": [
       "'0xc02aaa39b223fe8d0a0e5c4f27ead9083c756cc2'"
      ]
     },
     "execution_count": 39,
     "metadata": {},
     "output_type": "execute_result"
    }
   ],
   "source": [
    "weth_address"
   ]
  },
  {
   "cell_type": "code",
   "execution_count": 40,
   "id": "efa1b6a6",
   "metadata": {},
   "outputs": [
    {
     "data": {
      "text/plain": [
       "'0xdac17f958d2ee523a2206206994597c13d831ec7'"
      ]
     },
     "execution_count": 40,
     "metadata": {},
     "output_type": "execute_result"
    }
   ],
   "source": [
    "usdt_address"
   ]
  },
  {
   "cell_type": "code",
   "execution_count": 41,
   "id": "f1088a91",
   "metadata": {},
   "outputs": [
    {
     "data": {
      "text/plain": [
       "'0x68b3465833fb72A70ecDF485E0e4C7bD8665Fc45'"
      ]
     },
     "execution_count": 41,
     "metadata": {},
     "output_type": "execute_result"
    }
   ],
   "source": [
    "univ3_address"
   ]
  },
  {
   "cell_type": "code",
   "execution_count": 78,
   "id": "b5874744",
   "metadata": {},
   "outputs": [],
   "source": [
    "account0 = '0xf39Fd6e51aad88F6F4ce6aB8827279cffFb92266'\n",
    "nonce = swap.w3.eth.get_transaction_count(swap.w3.to_checksum_address(account0))\n"
   ]
  },
  {
   "cell_type": "code",
   "execution_count": 80,
   "id": "223e7537",
   "metadata": {},
   "outputs": [
    {
     "data": {
      "text/plain": [
       "463"
      ]
     },
     "execution_count": 80,
     "metadata": {},
     "output_type": "execute_result"
    }
   ],
   "source": [
    "nonce"
   ]
  },
  {
   "cell_type": "code",
   "execution_count": 79,
   "id": "55a3eb14",
   "metadata": {},
   "outputs": [
    {
     "data": {
      "text/plain": [
       "20200000000000000000"
      ]
     },
     "execution_count": 79,
     "metadata": {},
     "output_type": "execute_result"
    }
   ],
   "source": [
    "swap.functions.getTokenBalance(swap.w3.to_checksum_address(weth_address)).call()"
   ]
  },
  {
   "cell_type": "code",
   "execution_count": null,
   "id": "0c1c00a9",
   "metadata": {},
   "outputs": [],
   "source": [
    "nonce"
   ]
  },
  {
   "cell_type": "code",
   "execution_count": 37,
   "id": "5fca389d",
   "metadata": {},
   "outputs": [
    {
     "data": {
      "text/plain": [
       "31337"
      ]
     },
     "execution_count": 37,
     "metadata": {},
     "output_type": "execute_result"
    }
   ],
   "source": [
    "swap.w3.eth.chain_id"
   ]
  },
  {
   "cell_type": "code",
   "execution_count": 49,
   "id": "018430a7",
   "metadata": {},
   "outputs": [
    {
     "data": {
      "text/plain": [
       "'0x68b3465833fb72A70ecDF485E0e4C7bD8665Fc45'"
      ]
     },
     "execution_count": 49,
     "metadata": {},
     "output_type": "execute_result"
    }
   ],
   "source": [
    "univ3_address"
   ]
  },
  {
   "cell_type": "code",
   "execution_count": 50,
   "id": "9db6748e",
   "metadata": {},
   "outputs": [
    {
     "data": {
      "text/plain": [
       "'0xc02aaa39b223fe8d0a0e5c4f27ead9083c756cc2'"
      ]
     },
     "execution_count": 50,
     "metadata": {},
     "output_type": "execute_result"
    }
   ],
   "source": [
    "weth_address"
   ]
  },
  {
   "cell_type": "code",
   "execution_count": 51,
   "id": "b16bccf9",
   "metadata": {},
   "outputs": [
    {
     "data": {
      "text/plain": [
       "'0xdac17f958d2ee523a2206206994597c13d831ec7'"
      ]
     },
     "execution_count": 51,
     "metadata": {},
     "output_type": "execute_result"
    }
   ],
   "source": [
    "usdt_address"
   ]
  },
  {
   "cell_type": "code",
   "execution_count": 56,
   "id": "38a62e4b",
   "metadata": {},
   "outputs": [
    {
     "ename": "ContractLogicError",
     "evalue": "execution reverted: Error: Transaction reverted without a reason string",
     "output_type": "error",
     "traceback": [
      "\u001b[0;31m---------------------------------------------------------------------------\u001b[0m",
      "\u001b[0;31mContractLogicError\u001b[0m                        Traceback (most recent call last)",
      "Cell \u001b[0;32mIn[56], line 8\u001b[0m\n\u001b[1;32m      1\u001b[0m chain_id \u001b[38;5;241m=\u001b[39m swap\u001b[38;5;241m.\u001b[39mw3\u001b[38;5;241m.\u001b[39meth\u001b[38;5;241m.\u001b[39mchain_id\n\u001b[1;32m      2\u001b[0m call_function \u001b[38;5;241m=\u001b[39m \u001b[43mswap\u001b[49m\u001b[38;5;241;43m.\u001b[39;49m\u001b[43mfunctions\u001b[49m\u001b[38;5;241;43m.\u001b[39;49m\u001b[43mswap\u001b[49m\u001b[43m(\u001b[49m\n\u001b[1;32m      3\u001b[0m \u001b[43m    \u001b[49m\u001b[43mswap\u001b[49m\u001b[38;5;241;43m.\u001b[39;49m\u001b[43mw3\u001b[49m\u001b[38;5;241;43m.\u001b[39;49m\u001b[43mto_checksum_address\u001b[49m\u001b[43m(\u001b[49m\u001b[43muniv3_address\u001b[49m\u001b[43m)\u001b[49m\u001b[43m,\u001b[49m\n\u001b[1;32m      4\u001b[0m \u001b[43m    \u001b[49m\u001b[43mswap\u001b[49m\u001b[38;5;241;43m.\u001b[39;49m\u001b[43mw3\u001b[49m\u001b[38;5;241;43m.\u001b[39;49m\u001b[43mto_checksum_address\u001b[49m\u001b[43m(\u001b[49m\u001b[43mweth_address\u001b[49m\u001b[43m)\u001b[49m\u001b[43m,\u001b[49m\n\u001b[1;32m      5\u001b[0m \u001b[43m    \u001b[49m\u001b[43mswap\u001b[49m\u001b[38;5;241;43m.\u001b[39;49m\u001b[43mw3\u001b[49m\u001b[38;5;241;43m.\u001b[39;49m\u001b[43mto_checksum_address\u001b[49m\u001b[43m(\u001b[49m\u001b[43musdt_address\u001b[49m\u001b[43m)\u001b[49m\u001b[43m,\u001b[49m\n\u001b[1;32m      6\u001b[0m \u001b[43m    \u001b[49m\u001b[38;5;241;43m5000\u001b[39;49m\u001b[43m,\u001b[49m\u001b[43m \u001b[49m\n\u001b[1;32m      7\u001b[0m \u001b[43m    \u001b[49m\u001b[38;5;28;43mint\u001b[39;49m\u001b[43m(\u001b[49m\u001b[38;5;241;43m1e16\u001b[39;49m\u001b[43m)\u001b[49m\n\u001b[0;32m----> 8\u001b[0m \u001b[43m)\u001b[49m\u001b[38;5;241;43m.\u001b[39;49m\u001b[43mtransact\u001b[49m\u001b[43m(\u001b[49m\u001b[43m)\u001b[49m\n",
      "File \u001b[0;32m/usr/local/anaconda3/envs/arbitrage/lib/python3.11/site-packages/web3/contract/contract.py:479\u001b[0m, in \u001b[0;36mContractFunction.transact\u001b[0;34m(self, transaction)\u001b[0m\n\u001b[1;32m    477\u001b[0m \u001b[38;5;28;01mdef\u001b[39;00m \u001b[38;5;21mtransact\u001b[39m(\u001b[38;5;28mself\u001b[39m, transaction: Optional[TxParams] \u001b[38;5;241m=\u001b[39m \u001b[38;5;28;01mNone\u001b[39;00m) \u001b[38;5;241m-\u001b[39m\u001b[38;5;241m>\u001b[39m HexBytes:\n\u001b[1;32m    478\u001b[0m     setup_transaction \u001b[38;5;241m=\u001b[39m \u001b[38;5;28mself\u001b[39m\u001b[38;5;241m.\u001b[39m_transact(transaction)\n\u001b[0;32m--> 479\u001b[0m     \u001b[38;5;28;01mreturn\u001b[39;00m \u001b[43mtransact_with_contract_function\u001b[49m\u001b[43m(\u001b[49m\n\u001b[1;32m    480\u001b[0m \u001b[43m        \u001b[49m\u001b[38;5;28;43mself\u001b[39;49m\u001b[38;5;241;43m.\u001b[39;49m\u001b[43maddress\u001b[49m\u001b[43m,\u001b[49m\n\u001b[1;32m    481\u001b[0m \u001b[43m        \u001b[49m\u001b[38;5;28;43mself\u001b[39;49m\u001b[38;5;241;43m.\u001b[39;49m\u001b[43mw3\u001b[49m\u001b[43m,\u001b[49m\n\u001b[1;32m    482\u001b[0m \u001b[43m        \u001b[49m\u001b[38;5;28;43mself\u001b[39;49m\u001b[38;5;241;43m.\u001b[39;49m\u001b[43mfunction_identifier\u001b[49m\u001b[43m,\u001b[49m\n\u001b[1;32m    483\u001b[0m \u001b[43m        \u001b[49m\u001b[43msetup_transaction\u001b[49m\u001b[43m,\u001b[49m\n\u001b[1;32m    484\u001b[0m \u001b[43m        \u001b[49m\u001b[38;5;28;43mself\u001b[39;49m\u001b[38;5;241;43m.\u001b[39;49m\u001b[43mcontract_abi\u001b[49m\u001b[43m,\u001b[49m\n\u001b[1;32m    485\u001b[0m \u001b[43m        \u001b[49m\u001b[38;5;28;43mself\u001b[39;49m\u001b[38;5;241;43m.\u001b[39;49m\u001b[43mabi\u001b[49m\u001b[43m,\u001b[49m\n\u001b[1;32m    486\u001b[0m \u001b[43m        \u001b[49m\u001b[38;5;241;43m*\u001b[39;49m\u001b[38;5;28;43mself\u001b[39;49m\u001b[38;5;241;43m.\u001b[39;49m\u001b[43margs\u001b[49m\u001b[43m,\u001b[49m\n\u001b[1;32m    487\u001b[0m \u001b[43m        \u001b[49m\u001b[38;5;241;43m*\u001b[39;49m\u001b[38;5;241;43m*\u001b[39;49m\u001b[38;5;28;43mself\u001b[39;49m\u001b[38;5;241;43m.\u001b[39;49m\u001b[43mkwargs\u001b[49m\u001b[43m,\u001b[49m\n\u001b[1;32m    488\u001b[0m \u001b[43m    \u001b[49m\u001b[43m)\u001b[49m\n",
      "File \u001b[0;32m/usr/local/anaconda3/envs/arbitrage/lib/python3.11/site-packages/web3/contract/utils.py:172\u001b[0m, in \u001b[0;36mtransact_with_contract_function\u001b[0;34m(address, w3, function_name, transaction, contract_abi, fn_abi, *args, **kwargs)\u001b[0m\n\u001b[1;32m    157\u001b[0m \u001b[38;5;250m\u001b[39m\u001b[38;5;124;03m\"\"\"\u001b[39;00m\n\u001b[1;32m    158\u001b[0m \u001b[38;5;124;03mHelper function for interacting with a contract function by sending a\u001b[39;00m\n\u001b[1;32m    159\u001b[0m \u001b[38;5;124;03mtransaction.\u001b[39;00m\n\u001b[1;32m    160\u001b[0m \u001b[38;5;124;03m\"\"\"\u001b[39;00m\n\u001b[1;32m    161\u001b[0m transact_transaction \u001b[38;5;241m=\u001b[39m prepare_transaction(\n\u001b[1;32m    162\u001b[0m     address,\n\u001b[1;32m    163\u001b[0m     w3,\n\u001b[0;32m   (...)\u001b[0m\n\u001b[1;32m    169\u001b[0m     fn_kwargs\u001b[38;5;241m=\u001b[39mkwargs,\n\u001b[1;32m    170\u001b[0m )\n\u001b[0;32m--> 172\u001b[0m txn_hash \u001b[38;5;241m=\u001b[39m \u001b[43mw3\u001b[49m\u001b[38;5;241;43m.\u001b[39;49m\u001b[43meth\u001b[49m\u001b[38;5;241;43m.\u001b[39;49m\u001b[43msend_transaction\u001b[49m\u001b[43m(\u001b[49m\u001b[43mtransact_transaction\u001b[49m\u001b[43m)\u001b[49m\n\u001b[1;32m    173\u001b[0m \u001b[38;5;28;01mreturn\u001b[39;00m txn_hash\n",
      "File \u001b[0;32m/usr/local/anaconda3/envs/arbitrage/lib/python3.11/site-packages/web3/eth/eth.py:362\u001b[0m, in \u001b[0;36mEth.send_transaction\u001b[0;34m(self, transaction)\u001b[0m\n\u001b[1;32m    361\u001b[0m \u001b[38;5;28;01mdef\u001b[39;00m \u001b[38;5;21msend_transaction\u001b[39m(\u001b[38;5;28mself\u001b[39m, transaction: TxParams) \u001b[38;5;241m-\u001b[39m\u001b[38;5;241m>\u001b[39m HexBytes:\n\u001b[0;32m--> 362\u001b[0m     \u001b[38;5;28;01mreturn\u001b[39;00m \u001b[38;5;28;43mself\u001b[39;49m\u001b[38;5;241;43m.\u001b[39;49m\u001b[43m_send_transaction\u001b[49m\u001b[43m(\u001b[49m\u001b[43mtransaction\u001b[49m\u001b[43m)\u001b[49m\n",
      "File \u001b[0;32m/usr/local/anaconda3/envs/arbitrage/lib/python3.11/site-packages/web3/module.py:68\u001b[0m, in \u001b[0;36mretrieve_blocking_method_call_fn.<locals>.caller\u001b[0;34m(*args, **kwargs)\u001b[0m\n\u001b[1;32m     62\u001b[0m     \u001b[38;5;28;01mreturn\u001b[39;00m LogFilter(eth_module\u001b[38;5;241m=\u001b[39mmodule, filter_id\u001b[38;5;241m=\u001b[39merr\u001b[38;5;241m.\u001b[39mfilter_id)\n\u001b[1;32m     63\u001b[0m (\n\u001b[1;32m     64\u001b[0m     result_formatters,\n\u001b[1;32m     65\u001b[0m     error_formatters,\n\u001b[1;32m     66\u001b[0m     null_result_formatters,\n\u001b[1;32m     67\u001b[0m ) \u001b[38;5;241m=\u001b[39m response_formatters\n\u001b[0;32m---> 68\u001b[0m result \u001b[38;5;241m=\u001b[39m \u001b[43mw3\u001b[49m\u001b[38;5;241;43m.\u001b[39;49m\u001b[43mmanager\u001b[49m\u001b[38;5;241;43m.\u001b[39;49m\u001b[43mrequest_blocking\u001b[49m\u001b[43m(\u001b[49m\n\u001b[1;32m     69\u001b[0m \u001b[43m    \u001b[49m\u001b[43mmethod_str\u001b[49m\u001b[43m,\u001b[49m\u001b[43m \u001b[49m\u001b[43mparams\u001b[49m\u001b[43m,\u001b[49m\u001b[43m \u001b[49m\u001b[43merror_formatters\u001b[49m\u001b[43m,\u001b[49m\u001b[43m \u001b[49m\u001b[43mnull_result_formatters\u001b[49m\n\u001b[1;32m     70\u001b[0m \u001b[43m\u001b[49m\u001b[43m)\u001b[49m\n\u001b[1;32m     71\u001b[0m \u001b[38;5;28;01mreturn\u001b[39;00m apply_result_formatters(result_formatters, result)\n",
      "File \u001b[0;32m/usr/local/anaconda3/envs/arbitrage/lib/python3.11/site-packages/web3/manager.py:231\u001b[0m, in \u001b[0;36mRequestManager.request_blocking\u001b[0;34m(self, method, params, error_formatters, null_result_formatters)\u001b[0m\n\u001b[1;32m    221\u001b[0m \u001b[38;5;28;01mdef\u001b[39;00m \u001b[38;5;21mrequest_blocking\u001b[39m(\n\u001b[1;32m    222\u001b[0m     \u001b[38;5;28mself\u001b[39m,\n\u001b[1;32m    223\u001b[0m     method: Union[RPCEndpoint, Callable[\u001b[38;5;241m.\u001b[39m\u001b[38;5;241m.\u001b[39m\u001b[38;5;241m.\u001b[39m, RPCEndpoint]],\n\u001b[0;32m   (...)\u001b[0m\n\u001b[1;32m    226\u001b[0m     null_result_formatters: Optional[Callable[\u001b[38;5;241m.\u001b[39m\u001b[38;5;241m.\u001b[39m\u001b[38;5;241m.\u001b[39m, Any]] \u001b[38;5;241m=\u001b[39m \u001b[38;5;28;01mNone\u001b[39;00m,\n\u001b[1;32m    227\u001b[0m ) \u001b[38;5;241m-\u001b[39m\u001b[38;5;241m>\u001b[39m Any:\n\u001b[1;32m    228\u001b[0m \u001b[38;5;250m    \u001b[39m\u001b[38;5;124;03m\"\"\"\u001b[39;00m\n\u001b[1;32m    229\u001b[0m \u001b[38;5;124;03m    Make a synchronous request using the provider\u001b[39;00m\n\u001b[1;32m    230\u001b[0m \u001b[38;5;124;03m    \"\"\"\u001b[39;00m\n\u001b[0;32m--> 231\u001b[0m     response \u001b[38;5;241m=\u001b[39m \u001b[38;5;28;43mself\u001b[39;49m\u001b[38;5;241;43m.\u001b[39;49m\u001b[43m_make_request\u001b[49m\u001b[43m(\u001b[49m\u001b[43mmethod\u001b[49m\u001b[43m,\u001b[49m\u001b[43m \u001b[49m\u001b[43mparams\u001b[49m\u001b[43m)\u001b[49m\n\u001b[1;32m    232\u001b[0m     \u001b[38;5;28;01mreturn\u001b[39;00m \u001b[38;5;28mself\u001b[39m\u001b[38;5;241m.\u001b[39mformatted_response(\n\u001b[1;32m    233\u001b[0m         response, params, error_formatters, null_result_formatters\n\u001b[1;32m    234\u001b[0m     )\n",
      "File \u001b[0;32m/usr/local/anaconda3/envs/arbitrage/lib/python3.11/site-packages/web3/manager.py:175\u001b[0m, in \u001b[0;36mRequestManager._make_request\u001b[0;34m(self, method, params)\u001b[0m\n\u001b[1;32m    171\u001b[0m request_func \u001b[38;5;241m=\u001b[39m provider\u001b[38;5;241m.\u001b[39mrequest_func(\n\u001b[1;32m    172\u001b[0m     cast(\u001b[38;5;124m\"\u001b[39m\u001b[38;5;124mWeb3\u001b[39m\u001b[38;5;124m\"\u001b[39m, \u001b[38;5;28mself\u001b[39m\u001b[38;5;241m.\u001b[39mw3), cast(MiddlewareOnion, \u001b[38;5;28mself\u001b[39m\u001b[38;5;241m.\u001b[39mmiddleware_onion)\n\u001b[1;32m    173\u001b[0m )\n\u001b[1;32m    174\u001b[0m \u001b[38;5;28mself\u001b[39m\u001b[38;5;241m.\u001b[39mlogger\u001b[38;5;241m.\u001b[39mdebug(\u001b[38;5;124mf\u001b[39m\u001b[38;5;124m\"\u001b[39m\u001b[38;5;124mMaking request. Method: \u001b[39m\u001b[38;5;132;01m{\u001b[39;00mmethod\u001b[38;5;132;01m}\u001b[39;00m\u001b[38;5;124m\"\u001b[39m)\n\u001b[0;32m--> 175\u001b[0m \u001b[38;5;28;01mreturn\u001b[39;00m \u001b[43mrequest_func\u001b[49m\u001b[43m(\u001b[49m\u001b[43mmethod\u001b[49m\u001b[43m,\u001b[49m\u001b[43m \u001b[49m\u001b[43mparams\u001b[49m\u001b[43m)\u001b[49m\n",
      "File \u001b[0;32m/usr/local/anaconda3/envs/arbitrage/lib/python3.11/site-packages/web3/middleware/formatting.py:99\u001b[0m, in \u001b[0;36mconstruct_web3_formatting_middleware.<locals>.formatter_middleware.<locals>.middleware\u001b[0;34m(method, params)\u001b[0m\n\u001b[1;32m     97\u001b[0m     formatter \u001b[38;5;241m=\u001b[39m request_formatters[method]\n\u001b[1;32m     98\u001b[0m     params \u001b[38;5;241m=\u001b[39m formatter(params)\n\u001b[0;32m---> 99\u001b[0m response \u001b[38;5;241m=\u001b[39m \u001b[43mmake_request\u001b[49m\u001b[43m(\u001b[49m\u001b[43mmethod\u001b[49m\u001b[43m,\u001b[49m\u001b[43m \u001b[49m\u001b[43mparams\u001b[49m\u001b[43m)\u001b[49m\n\u001b[1;32m    101\u001b[0m \u001b[38;5;28;01mreturn\u001b[39;00m _apply_response_formatters(\n\u001b[1;32m    102\u001b[0m     method\u001b[38;5;241m=\u001b[39mmethod, response\u001b[38;5;241m=\u001b[39mresponse, \u001b[38;5;241m*\u001b[39m\u001b[38;5;241m*\u001b[39mformatters\n\u001b[1;32m    103\u001b[0m )\n",
      "File \u001b[0;32m/usr/local/anaconda3/envs/arbitrage/lib/python3.11/site-packages/web3/middleware/gas_price_strategy.py:95\u001b[0m, in \u001b[0;36mgas_price_strategy_middleware.<locals>.middleware\u001b[0;34m(method, params)\u001b[0m\n\u001b[1;32m     91\u001b[0m     latest_block \u001b[38;5;241m=\u001b[39m w3\u001b[38;5;241m.\u001b[39meth\u001b[38;5;241m.\u001b[39mget_block(\u001b[38;5;124m\"\u001b[39m\u001b[38;5;124mlatest\u001b[39m\u001b[38;5;124m\"\u001b[39m)\n\u001b[1;32m     92\u001b[0m     transaction \u001b[38;5;241m=\u001b[39m validate_transaction_params(\n\u001b[1;32m     93\u001b[0m         transaction, latest_block, generated_gas_price\n\u001b[1;32m     94\u001b[0m     )\n\u001b[0;32m---> 95\u001b[0m     \u001b[38;5;28;01mreturn\u001b[39;00m \u001b[43mmake_request\u001b[49m\u001b[43m(\u001b[49m\u001b[43mmethod\u001b[49m\u001b[43m,\u001b[49m\u001b[43m \u001b[49m\u001b[43m(\u001b[49m\u001b[43mtransaction\u001b[49m\u001b[43m,\u001b[49m\u001b[43m)\u001b[49m\u001b[43m)\u001b[49m\n\u001b[1;32m     96\u001b[0m \u001b[38;5;28;01mreturn\u001b[39;00m make_request(method, params)\n",
      "File \u001b[0;32m/usr/local/anaconda3/envs/arbitrage/lib/python3.11/site-packages/web3/middleware/formatting.py:99\u001b[0m, in \u001b[0;36mconstruct_web3_formatting_middleware.<locals>.formatter_middleware.<locals>.middleware\u001b[0;34m(method, params)\u001b[0m\n\u001b[1;32m     97\u001b[0m     formatter \u001b[38;5;241m=\u001b[39m request_formatters[method]\n\u001b[1;32m     98\u001b[0m     params \u001b[38;5;241m=\u001b[39m formatter(params)\n\u001b[0;32m---> 99\u001b[0m response \u001b[38;5;241m=\u001b[39m \u001b[43mmake_request\u001b[49m\u001b[43m(\u001b[49m\u001b[43mmethod\u001b[49m\u001b[43m,\u001b[49m\u001b[43m \u001b[49m\u001b[43mparams\u001b[49m\u001b[43m)\u001b[49m\n\u001b[1;32m    101\u001b[0m \u001b[38;5;28;01mreturn\u001b[39;00m _apply_response_formatters(\n\u001b[1;32m    102\u001b[0m     method\u001b[38;5;241m=\u001b[39mmethod, response\u001b[38;5;241m=\u001b[39mresponse, \u001b[38;5;241m*\u001b[39m\u001b[38;5;241m*\u001b[39mformatters\n\u001b[1;32m    103\u001b[0m )\n",
      "File \u001b[0;32m/usr/local/anaconda3/envs/arbitrage/lib/python3.11/site-packages/web3/middleware/attrdict.py:38\u001b[0m, in \u001b[0;36mattrdict_middleware.<locals>.middleware\u001b[0;34m(method, params)\u001b[0m\n\u001b[1;32m     37\u001b[0m \u001b[38;5;28;01mdef\u001b[39;00m \u001b[38;5;21mmiddleware\u001b[39m(method: RPCEndpoint, params: Any) \u001b[38;5;241m-\u001b[39m\u001b[38;5;241m>\u001b[39m RPCResponse:\n\u001b[0;32m---> 38\u001b[0m     response \u001b[38;5;241m=\u001b[39m \u001b[43mmake_request\u001b[49m\u001b[43m(\u001b[49m\u001b[43mmethod\u001b[49m\u001b[43m,\u001b[49m\u001b[43m \u001b[49m\u001b[43mparams\u001b[49m\u001b[43m)\u001b[49m\n\u001b[1;32m     40\u001b[0m     \u001b[38;5;28;01mif\u001b[39;00m \u001b[38;5;124m\"\u001b[39m\u001b[38;5;124mresult\u001b[39m\u001b[38;5;124m\"\u001b[39m \u001b[38;5;129;01min\u001b[39;00m response:\n\u001b[1;32m     41\u001b[0m         \u001b[38;5;28;01mreturn\u001b[39;00m assoc(\n\u001b[1;32m     42\u001b[0m             response, \u001b[38;5;124m\"\u001b[39m\u001b[38;5;124mresult\u001b[39m\u001b[38;5;124m\"\u001b[39m, AttributeDict\u001b[38;5;241m.\u001b[39mrecursive(response[\u001b[38;5;124m\"\u001b[39m\u001b[38;5;124mresult\u001b[39m\u001b[38;5;124m\"\u001b[39m])\n\u001b[1;32m     43\u001b[0m         )\n",
      "File \u001b[0;32m/usr/local/anaconda3/envs/arbitrage/lib/python3.11/site-packages/web3/middleware/formatting.py:99\u001b[0m, in \u001b[0;36mconstruct_web3_formatting_middleware.<locals>.formatter_middleware.<locals>.middleware\u001b[0;34m(method, params)\u001b[0m\n\u001b[1;32m     97\u001b[0m     formatter \u001b[38;5;241m=\u001b[39m request_formatters[method]\n\u001b[1;32m     98\u001b[0m     params \u001b[38;5;241m=\u001b[39m formatter(params)\n\u001b[0;32m---> 99\u001b[0m response \u001b[38;5;241m=\u001b[39m \u001b[43mmake_request\u001b[49m\u001b[43m(\u001b[49m\u001b[43mmethod\u001b[49m\u001b[43m,\u001b[49m\u001b[43m \u001b[49m\u001b[43mparams\u001b[49m\u001b[43m)\u001b[49m\n\u001b[1;32m    101\u001b[0m \u001b[38;5;28;01mreturn\u001b[39;00m _apply_response_formatters(\n\u001b[1;32m    102\u001b[0m     method\u001b[38;5;241m=\u001b[39mmethod, response\u001b[38;5;241m=\u001b[39mresponse, \u001b[38;5;241m*\u001b[39m\u001b[38;5;241m*\u001b[39mformatters\n\u001b[1;32m    103\u001b[0m )\n",
      "File \u001b[0;32m/usr/local/anaconda3/envs/arbitrage/lib/python3.11/site-packages/web3/middleware/formatting.py:99\u001b[0m, in \u001b[0;36mconstruct_web3_formatting_middleware.<locals>.formatter_middleware.<locals>.middleware\u001b[0;34m(method, params)\u001b[0m\n\u001b[1;32m     97\u001b[0m     formatter \u001b[38;5;241m=\u001b[39m request_formatters[method]\n\u001b[1;32m     98\u001b[0m     params \u001b[38;5;241m=\u001b[39m formatter(params)\n\u001b[0;32m---> 99\u001b[0m response \u001b[38;5;241m=\u001b[39m \u001b[43mmake_request\u001b[49m\u001b[43m(\u001b[49m\u001b[43mmethod\u001b[49m\u001b[43m,\u001b[49m\u001b[43m \u001b[49m\u001b[43mparams\u001b[49m\u001b[43m)\u001b[49m\n\u001b[1;32m    101\u001b[0m \u001b[38;5;28;01mreturn\u001b[39;00m _apply_response_formatters(\n\u001b[1;32m    102\u001b[0m     method\u001b[38;5;241m=\u001b[39mmethod, response\u001b[38;5;241m=\u001b[39mresponse, \u001b[38;5;241m*\u001b[39m\u001b[38;5;241m*\u001b[39mformatters\n\u001b[1;32m    103\u001b[0m )\n",
      "File \u001b[0;32m/usr/local/anaconda3/envs/arbitrage/lib/python3.11/site-packages/web3/middleware/formatting.py:99\u001b[0m, in \u001b[0;36mconstruct_web3_formatting_middleware.<locals>.formatter_middleware.<locals>.middleware\u001b[0;34m(method, params)\u001b[0m\n\u001b[1;32m     97\u001b[0m     formatter \u001b[38;5;241m=\u001b[39m request_formatters[method]\n\u001b[1;32m     98\u001b[0m     params \u001b[38;5;241m=\u001b[39m formatter(params)\n\u001b[0;32m---> 99\u001b[0m response \u001b[38;5;241m=\u001b[39m \u001b[43mmake_request\u001b[49m\u001b[43m(\u001b[49m\u001b[43mmethod\u001b[49m\u001b[43m,\u001b[49m\u001b[43m \u001b[49m\u001b[43mparams\u001b[49m\u001b[43m)\u001b[49m\n\u001b[1;32m    101\u001b[0m \u001b[38;5;28;01mreturn\u001b[39;00m _apply_response_formatters(\n\u001b[1;32m    102\u001b[0m     method\u001b[38;5;241m=\u001b[39mmethod, response\u001b[38;5;241m=\u001b[39mresponse, \u001b[38;5;241m*\u001b[39m\u001b[38;5;241m*\u001b[39mformatters\n\u001b[1;32m    103\u001b[0m )\n",
      "File \u001b[0;32m/usr/local/anaconda3/envs/arbitrage/lib/python3.11/site-packages/web3/middleware/buffered_gas_estimate.py:40\u001b[0m, in \u001b[0;36mbuffered_gas_estimate_middleware.<locals>.middleware\u001b[0;34m(method, params)\u001b[0m\n\u001b[1;32m     35\u001b[0m     transaction \u001b[38;5;241m=\u001b[39m params[\u001b[38;5;241m0\u001b[39m]\n\u001b[1;32m     36\u001b[0m     \u001b[38;5;28;01mif\u001b[39;00m \u001b[38;5;124m\"\u001b[39m\u001b[38;5;124mgas\u001b[39m\u001b[38;5;124m\"\u001b[39m \u001b[38;5;129;01mnot\u001b[39;00m \u001b[38;5;129;01min\u001b[39;00m transaction:\n\u001b[1;32m     37\u001b[0m         transaction \u001b[38;5;241m=\u001b[39m assoc(\n\u001b[1;32m     38\u001b[0m             transaction,\n\u001b[1;32m     39\u001b[0m             \u001b[38;5;124m\"\u001b[39m\u001b[38;5;124mgas\u001b[39m\u001b[38;5;124m\"\u001b[39m,\n\u001b[0;32m---> 40\u001b[0m             \u001b[38;5;28mhex\u001b[39m(\u001b[43mget_buffered_gas_estimate\u001b[49m\u001b[43m(\u001b[49m\u001b[43mw3\u001b[49m\u001b[43m,\u001b[49m\u001b[43m \u001b[49m\u001b[43mtransaction\u001b[49m\u001b[43m)\u001b[49m),\n\u001b[1;32m     41\u001b[0m         )\n\u001b[1;32m     42\u001b[0m         \u001b[38;5;28;01mreturn\u001b[39;00m make_request(method, [transaction])\n\u001b[1;32m     43\u001b[0m \u001b[38;5;28;01mreturn\u001b[39;00m make_request(method, params)\n",
      "File \u001b[0;32m/usr/local/anaconda3/envs/arbitrage/lib/python3.11/site-packages/web3/_utils/transactions.py:150\u001b[0m, in \u001b[0;36mget_buffered_gas_estimate\u001b[0;34m(w3, transaction, gas_buffer)\u001b[0m\n\u001b[1;32m    145\u001b[0m \u001b[38;5;28;01mdef\u001b[39;00m \u001b[38;5;21mget_buffered_gas_estimate\u001b[39m(\n\u001b[1;32m    146\u001b[0m     w3: \u001b[38;5;124m\"\u001b[39m\u001b[38;5;124mWeb3\u001b[39m\u001b[38;5;124m\"\u001b[39m, transaction: TxParams, gas_buffer: \u001b[38;5;28mint\u001b[39m \u001b[38;5;241m=\u001b[39m \u001b[38;5;241m100000\u001b[39m\n\u001b[1;32m    147\u001b[0m ) \u001b[38;5;241m-\u001b[39m\u001b[38;5;241m>\u001b[39m \u001b[38;5;28mint\u001b[39m:\n\u001b[1;32m    148\u001b[0m     gas_estimate_transaction \u001b[38;5;241m=\u001b[39m cast(TxParams, \u001b[38;5;28mdict\u001b[39m(\u001b[38;5;241m*\u001b[39m\u001b[38;5;241m*\u001b[39mtransaction))\n\u001b[0;32m--> 150\u001b[0m     gas_estimate \u001b[38;5;241m=\u001b[39m \u001b[43mw3\u001b[49m\u001b[38;5;241;43m.\u001b[39;49m\u001b[43meth\u001b[49m\u001b[38;5;241;43m.\u001b[39;49m\u001b[43mestimate_gas\u001b[49m\u001b[43m(\u001b[49m\u001b[43mgas_estimate_transaction\u001b[49m\u001b[43m)\u001b[49m\n\u001b[1;32m    152\u001b[0m     gas_limit \u001b[38;5;241m=\u001b[39m get_block_gas_limit(w3)\n\u001b[1;32m    154\u001b[0m     \u001b[38;5;28;01mif\u001b[39;00m gas_estimate \u001b[38;5;241m>\u001b[39m gas_limit:\n",
      "File \u001b[0;32m/usr/local/anaconda3/envs/arbitrage/lib/python3.11/site-packages/web3/eth/eth.py:292\u001b[0m, in \u001b[0;36mEth.estimate_gas\u001b[0;34m(self, transaction, block_identifier)\u001b[0m\n\u001b[1;32m    289\u001b[0m \u001b[38;5;28;01mdef\u001b[39;00m \u001b[38;5;21mestimate_gas\u001b[39m(\n\u001b[1;32m    290\u001b[0m     \u001b[38;5;28mself\u001b[39m, transaction: TxParams, block_identifier: Optional[BlockIdentifier] \u001b[38;5;241m=\u001b[39m \u001b[38;5;28;01mNone\u001b[39;00m\n\u001b[1;32m    291\u001b[0m ) \u001b[38;5;241m-\u001b[39m\u001b[38;5;241m>\u001b[39m \u001b[38;5;28mint\u001b[39m:\n\u001b[0;32m--> 292\u001b[0m     \u001b[38;5;28;01mreturn\u001b[39;00m \u001b[38;5;28;43mself\u001b[39;49m\u001b[38;5;241;43m.\u001b[39;49m\u001b[43m_estimate_gas\u001b[49m\u001b[43m(\u001b[49m\u001b[43mtransaction\u001b[49m\u001b[43m,\u001b[49m\u001b[43m \u001b[49m\u001b[43mblock_identifier\u001b[49m\u001b[43m)\u001b[49m\n",
      "File \u001b[0;32m/usr/local/anaconda3/envs/arbitrage/lib/python3.11/site-packages/web3/module.py:68\u001b[0m, in \u001b[0;36mretrieve_blocking_method_call_fn.<locals>.caller\u001b[0;34m(*args, **kwargs)\u001b[0m\n\u001b[1;32m     62\u001b[0m     \u001b[38;5;28;01mreturn\u001b[39;00m LogFilter(eth_module\u001b[38;5;241m=\u001b[39mmodule, filter_id\u001b[38;5;241m=\u001b[39merr\u001b[38;5;241m.\u001b[39mfilter_id)\n\u001b[1;32m     63\u001b[0m (\n\u001b[1;32m     64\u001b[0m     result_formatters,\n\u001b[1;32m     65\u001b[0m     error_formatters,\n\u001b[1;32m     66\u001b[0m     null_result_formatters,\n\u001b[1;32m     67\u001b[0m ) \u001b[38;5;241m=\u001b[39m response_formatters\n\u001b[0;32m---> 68\u001b[0m result \u001b[38;5;241m=\u001b[39m \u001b[43mw3\u001b[49m\u001b[38;5;241;43m.\u001b[39;49m\u001b[43mmanager\u001b[49m\u001b[38;5;241;43m.\u001b[39;49m\u001b[43mrequest_blocking\u001b[49m\u001b[43m(\u001b[49m\n\u001b[1;32m     69\u001b[0m \u001b[43m    \u001b[49m\u001b[43mmethod_str\u001b[49m\u001b[43m,\u001b[49m\u001b[43m \u001b[49m\u001b[43mparams\u001b[49m\u001b[43m,\u001b[49m\u001b[43m \u001b[49m\u001b[43merror_formatters\u001b[49m\u001b[43m,\u001b[49m\u001b[43m \u001b[49m\u001b[43mnull_result_formatters\u001b[49m\n\u001b[1;32m     70\u001b[0m \u001b[43m\u001b[49m\u001b[43m)\u001b[49m\n\u001b[1;32m     71\u001b[0m \u001b[38;5;28;01mreturn\u001b[39;00m apply_result_formatters(result_formatters, result)\n",
      "File \u001b[0;32m/usr/local/anaconda3/envs/arbitrage/lib/python3.11/site-packages/web3/manager.py:232\u001b[0m, in \u001b[0;36mRequestManager.request_blocking\u001b[0;34m(self, method, params, error_formatters, null_result_formatters)\u001b[0m\n\u001b[1;32m    228\u001b[0m \u001b[38;5;250m\u001b[39m\u001b[38;5;124;03m\"\"\"\u001b[39;00m\n\u001b[1;32m    229\u001b[0m \u001b[38;5;124;03mMake a synchronous request using the provider\u001b[39;00m\n\u001b[1;32m    230\u001b[0m \u001b[38;5;124;03m\"\"\"\u001b[39;00m\n\u001b[1;32m    231\u001b[0m response \u001b[38;5;241m=\u001b[39m \u001b[38;5;28mself\u001b[39m\u001b[38;5;241m.\u001b[39m_make_request(method, params)\n\u001b[0;32m--> 232\u001b[0m \u001b[38;5;28;01mreturn\u001b[39;00m \u001b[38;5;28;43mself\u001b[39;49m\u001b[38;5;241;43m.\u001b[39;49m\u001b[43mformatted_response\u001b[49m\u001b[43m(\u001b[49m\n\u001b[1;32m    233\u001b[0m \u001b[43m    \u001b[49m\u001b[43mresponse\u001b[49m\u001b[43m,\u001b[49m\u001b[43m \u001b[49m\u001b[43mparams\u001b[49m\u001b[43m,\u001b[49m\u001b[43m \u001b[49m\u001b[43merror_formatters\u001b[49m\u001b[43m,\u001b[49m\u001b[43m \u001b[49m\u001b[43mnull_result_formatters\u001b[49m\n\u001b[1;32m    234\u001b[0m \u001b[43m\u001b[49m\u001b[43m)\u001b[49m\n",
      "File \u001b[0;32m/usr/local/anaconda3/envs/arbitrage/lib/python3.11/site-packages/web3/manager.py:197\u001b[0m, in \u001b[0;36mRequestManager.formatted_response\u001b[0;34m(response, params, error_formatters, null_result_formatters)\u001b[0m\n\u001b[1;32m    189\u001b[0m \u001b[38;5;129m@staticmethod\u001b[39m\n\u001b[1;32m    190\u001b[0m \u001b[38;5;28;01mdef\u001b[39;00m \u001b[38;5;21mformatted_response\u001b[39m(\n\u001b[1;32m    191\u001b[0m     response: RPCResponse,\n\u001b[0;32m   (...)\u001b[0m\n\u001b[1;32m    194\u001b[0m     null_result_formatters: Optional[Callable[\u001b[38;5;241m.\u001b[39m\u001b[38;5;241m.\u001b[39m\u001b[38;5;241m.\u001b[39m, Any]] \u001b[38;5;241m=\u001b[39m \u001b[38;5;28;01mNone\u001b[39;00m,\n\u001b[1;32m    195\u001b[0m ) \u001b[38;5;241m-\u001b[39m\u001b[38;5;241m>\u001b[39m Any:\n\u001b[1;32m    196\u001b[0m     \u001b[38;5;28;01mif\u001b[39;00m \u001b[38;5;124m\"\u001b[39m\u001b[38;5;124merror\u001b[39m\u001b[38;5;124m\"\u001b[39m \u001b[38;5;129;01min\u001b[39;00m response:\n\u001b[0;32m--> 197\u001b[0m         \u001b[43mapply_error_formatters\u001b[49m\u001b[43m(\u001b[49m\u001b[43merror_formatters\u001b[49m\u001b[43m,\u001b[49m\u001b[43m \u001b[49m\u001b[43mresponse\u001b[49m\u001b[43m)\u001b[49m\n\u001b[1;32m    199\u001b[0m         \u001b[38;5;66;03m# guard against eth-tester case - eth-tester returns a string\u001b[39;00m\n\u001b[1;32m    200\u001b[0m         \u001b[38;5;66;03m# with no code, so can't parse what the error is.\u001b[39;00m\n\u001b[1;32m    201\u001b[0m         \u001b[38;5;28;01mif\u001b[39;00m \u001b[38;5;28misinstance\u001b[39m(response[\u001b[38;5;124m\"\u001b[39m\u001b[38;5;124merror\u001b[39m\u001b[38;5;124m\"\u001b[39m], \u001b[38;5;28mdict\u001b[39m):\n",
      "File \u001b[0;32m/usr/local/anaconda3/envs/arbitrage/lib/python3.11/site-packages/web3/manager.py:73\u001b[0m, in \u001b[0;36mapply_error_formatters\u001b[0;34m(error_formatters, response)\u001b[0m\n\u001b[1;32m     68\u001b[0m \u001b[38;5;28;01mdef\u001b[39;00m \u001b[38;5;21mapply_error_formatters\u001b[39m(\n\u001b[1;32m     69\u001b[0m     error_formatters: Callable[\u001b[38;5;241m.\u001b[39m\u001b[38;5;241m.\u001b[39m\u001b[38;5;241m.\u001b[39m, Any],\n\u001b[1;32m     70\u001b[0m     response: RPCResponse,\n\u001b[1;32m     71\u001b[0m ) \u001b[38;5;241m-\u001b[39m\u001b[38;5;241m>\u001b[39m RPCResponse:\n\u001b[1;32m     72\u001b[0m     \u001b[38;5;28;01mif\u001b[39;00m error_formatters:\n\u001b[0;32m---> 73\u001b[0m         formatted_resp \u001b[38;5;241m=\u001b[39m \u001b[43mpipe\u001b[49m\u001b[43m(\u001b[49m\u001b[43mresponse\u001b[49m\u001b[43m,\u001b[49m\u001b[43m \u001b[49m\u001b[43merror_formatters\u001b[49m\u001b[43m)\u001b[49m\n\u001b[1;32m     74\u001b[0m         \u001b[38;5;28;01mreturn\u001b[39;00m formatted_resp\n\u001b[1;32m     75\u001b[0m     \u001b[38;5;28;01melse\u001b[39;00m:\n",
      "File \u001b[0;32m/usr/local/anaconda3/envs/arbitrage/lib/python3.11/site-packages/cytoolz/functoolz.pyx:666\u001b[0m, in \u001b[0;36mcytoolz.functoolz.pipe\u001b[0;34m()\u001b[0m\n",
      "File \u001b[0;32m/usr/local/anaconda3/envs/arbitrage/lib/python3.11/site-packages/cytoolz/functoolz.pyx:641\u001b[0m, in \u001b[0;36mcytoolz.functoolz.c_pipe\u001b[0;34m()\u001b[0m\n",
      "File \u001b[0;32m/usr/local/anaconda3/envs/arbitrage/lib/python3.11/site-packages/web3/_utils/method_formatters.py:649\u001b[0m, in \u001b[0;36mraise_contract_logic_error_on_revert\u001b[0;34m(response)\u001b[0m\n\u001b[1;32m    647\u001b[0m \u001b[38;5;66;03m# Ganache case:\u001b[39;00m\n\u001b[1;32m    648\u001b[0m \u001b[38;5;28;01mif\u001b[39;00m \u001b[38;5;28misinstance\u001b[39m(data, \u001b[38;5;28mdict\u001b[39m) \u001b[38;5;129;01mand\u001b[39;00m response[\u001b[38;5;124m\"\u001b[39m\u001b[38;5;124merror\u001b[39m\u001b[38;5;124m\"\u001b[39m]\u001b[38;5;241m.\u001b[39mget(\u001b[38;5;124m\"\u001b[39m\u001b[38;5;124mmessage\u001b[39m\u001b[38;5;124m\"\u001b[39m):\n\u001b[0;32m--> 649\u001b[0m     \u001b[38;5;28;01mraise\u001b[39;00m ContractLogicError(\u001b[38;5;124mf\u001b[39m\u001b[38;5;124m'\u001b[39m\u001b[38;5;124mexecution reverted: \u001b[39m\u001b[38;5;132;01m{\u001b[39;00mresponse[\u001b[38;5;124m\"\u001b[39m\u001b[38;5;124merror\u001b[39m\u001b[38;5;124m\"\u001b[39m][\u001b[38;5;124m\"\u001b[39m\u001b[38;5;124mmessage\u001b[39m\u001b[38;5;124m\"\u001b[39m]\u001b[38;5;132;01m}\u001b[39;00m\u001b[38;5;124m'\u001b[39m)\n\u001b[1;32m    651\u001b[0m \u001b[38;5;66;03m# Parity/OpenEthereum case:\u001b[39;00m\n\u001b[1;32m    652\u001b[0m \u001b[38;5;28;01mif\u001b[39;00m data\u001b[38;5;241m.\u001b[39mstartswith(\u001b[38;5;124m\"\u001b[39m\u001b[38;5;124mReverted \u001b[39m\u001b[38;5;124m\"\u001b[39m):\n\u001b[1;32m    653\u001b[0m     \u001b[38;5;66;03m# \"Reverted\", function selector and offset are always the same for revert errors\u001b[39;00m\n",
      "\u001b[0;31mContractLogicError\u001b[0m: execution reverted: Error: Transaction reverted without a reason string"
     ]
    }
   ],
   "source": [
    "chain_id = swap.w3.eth.chain_id\n",
    "call_function = swap.functions.swap(\n",
    "    swap.w3.to_checksum_address(univ3_address),\n",
    "    swap.w3.to_checksum_address(weth_address),\n",
    "    swap.w3.to_checksum_address(usdt_address),\n",
    "    5000, \n",
    "    int(1e16)\n",
    ").transact()"
   ]
  },
  {
   "cell_type": "code",
   "execution_count": null,
   "id": "68b05e67",
   "metadata": {},
   "outputs": [],
   "source": []
  },
  {
   "cell_type": "code",
   "execution_count": null,
   "id": "789b16f2",
   "metadata": {},
   "outputs": [],
   "source": [
    "swap.functions.swap(\n",
    "    swap.w3.to_checksum_address(univ3_address),\n",
    "    swap.w3.to_checksum_address(weth_address),\n",
    "    swap.w3.to_checksum_address(usdt_address),\n",
    "    3000, \n",
    "    int(1e17)\n",
    ").transact()"
   ]
  },
  {
   "cell_type": "code",
   "execution_count": null,
   "id": "545c4a05",
   "metadata": {},
   "outputs": [],
   "source": [
    "# call can only be used when you want to view"
   ]
  },
  {
   "cell_type": "code",
   "execution_count": null,
   "id": "2672357f",
   "metadata": {},
   "outputs": [],
   "source": [
    "p.w3.eth.chain_id"
   ]
  },
  {
   "cell_type": "code",
   "execution_count": null,
   "id": "185dd805",
   "metadata": {},
   "outputs": [],
   "source": [
    "tx_data = {\n",
    "    \"chainId\": p.w3.eth.chain_id,\n",
    "     \"gasPrice\": p.w3.eth.gas_price,\n",
    "    \"gas\": 2000000,\n",
    "     \"from\": address,\n",
    "     \"nonce\": nonce}\n",
    "\n"
   ]
  },
  {
   "cell_type": "code",
   "execution_count": 38,
   "id": "c568c334",
   "metadata": {},
   "outputs": [
    {
     "ename": "NameError",
     "evalue": "name 'contract' is not defined",
     "output_type": "error",
     "traceback": [
      "\u001b[0;31m---------------------------------------------------------------------------\u001b[0m",
      "\u001b[0;31mNameError\u001b[0m                                 Traceback (most recent call last)",
      "Cell \u001b[0;32mIn[38], line 1\u001b[0m\n\u001b[0;32m----> 1\u001b[0m tx \u001b[38;5;241m=\u001b[39m \u001b[43mcontract\u001b[49m\u001b[38;5;241m.\u001b[39mconstructor()\u001b[38;5;241m.\u001b[39mbuild_transaction(tx_data)\n",
      "\u001b[0;31mNameError\u001b[0m: name 'contract' is not defined"
     ]
    }
   ],
   "source": [
    "tx = contract.constructor().build_transaction(tx_data)"
   ]
  },
  {
   "cell_type": "code",
   "execution_count": null,
   "id": "36ae3bbb",
   "metadata": {},
   "outputs": [],
   "source": [
    "signed_tx = p.w3.eth.account.sign_transaction(tx, \n",
    "                                              private_key=os.environ[\"PRIVATE_KEY\"])"
   ]
  },
  {
   "cell_type": "code",
   "execution_count": null,
   "id": "f3316e28",
   "metadata": {},
   "outputs": [],
   "source": [
    "signed_tx"
   ]
  },
  {
   "cell_type": "code",
   "execution_count": null,
   "id": "38e5e2d4",
   "metadata": {},
   "outputs": [],
   "source": [
    "tx_hash = p.w3.eth.send_raw_transaction(signed_tx.rawTransaction)"
   ]
  },
  {
   "cell_type": "code",
   "execution_count": null,
   "id": "a5bccfe9",
   "metadata": {},
   "outputs": [],
   "source": [
    "tx = contract.constructor().build_transaction(tx)"
   ]
  },
  {
   "cell_type": "code",
   "execution_count": null,
   "id": "2fe94f8d",
   "metadata": {},
   "outputs": [],
   "source": [
    "from blockchain.provider import Provider\n",
    "\n",
    "p = Provider(chain='main', fork=True)"
   ]
  },
  {
   "cell_type": "code",
   "execution_count": null,
   "id": "8d4d8297",
   "metadata": {},
   "outputs": [],
   "source": [
    "p.deploy(contract='Swap')"
   ]
  },
  {
   "cell_type": "code",
   "execution_count": null,
   "id": "7fb9d6d1",
   "metadata": {},
   "outputs": [],
   "source": [
    "6080604052348015600f57600080fd5b50605680601d6000396000f3fe6080604052348015600f57600080fd5b506000366060915050805190602001f3fea2646970667358fe1220fe05fe6360025c0641645358a0cef11157f0fe63edb271751848fe67fbf055f864736f6c63430008110033'"
   ]
  },
  {
   "cell_type": "code",
   "execution_count": null,
   "id": "e6b29df0",
   "metadata": {},
   "outputs": [],
   "source": [
    "b = 'fe6080604052600080fdfea2646970667358fe1220fe30fefefefefefe6ea36edbc3e055bd36bc0d8a58083a1dfefe3b6c9898acd664736f6c63430008110033'"
   ]
  },
  {
   "cell_type": "code",
   "execution_count": null,
   "id": "c658f39d",
   "metadata": {},
   "outputs": [],
   "source": [
    "len(b) /2 "
   ]
  },
  {
   "cell_type": "code",
   "execution_count": null,
   "id": "62a66cd9",
   "metadata": {},
   "outputs": [],
   "source": []
  }
 ],
 "metadata": {
  "kernelspec": {
   "display_name": "Python 3 (ipykernel)",
   "language": "python",
   "name": "python3"
  },
  "language_info": {
   "codemirror_mode": {
    "name": "ipython",
    "version": 3
   },
   "file_extension": ".py",
   "mimetype": "text/x-python",
   "name": "python",
   "nbconvert_exporter": "python",
   "pygments_lexer": "ipython3",
   "version": "3.11.2"
  }
 },
 "nbformat": 4,
 "nbformat_minor": 5
}
