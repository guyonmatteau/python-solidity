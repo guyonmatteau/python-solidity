{
 "cells": [
  {
   "cell_type": "code",
   "execution_count": 1,
   "id": "1eff4787",
   "metadata": {},
   "outputs": [],
   "source": [
    "%load_ext autoreload\n",
    "%autoreload 2"
   ]
  },
  {
   "cell_type": "code",
   "execution_count": 4,
   "id": "7fa033f3",
   "metadata": {},
   "outputs": [
    {
     "name": "stdout",
     "output_type": "stream",
     "text": [
      "\u001b[33mDEPRECATION: Configuring installation scheme with distutils config files is deprecated and will no longer work in the near future. If you are using a Homebrew or Linuxbrew Python, please see discussion at https://github.com/Homebrew/homebrew-core/issues/76621\u001b[0m\u001b[33m\n",
      "\u001b[0mLooking in indexes: https://p-nexus-3.development.nl.eu.abnamro.com:8443/repository/python-group/simple, https://p-nexus-3.development.nl.eu.abnamro.com:8443/repository/python-group/simple/\n",
      "Requirement already satisfied: web3==6.0.0 in /usr/local/lib/python3.9/site-packages (from -r requirements.txt (line 1)) (6.0.0)\n",
      "Requirement already satisfied: python-dotenv==1.0.0 in /usr/local/lib/python3.9/site-packages (from -r requirements.txt (line 2)) (1.0.0)\n",
      "Requirement already satisfied: black==22.12.0 in /usr/local/lib/python3.9/site-packages (from -r requirements.txt (line 3)) (22.12.0)\n",
      "Requirement already satisfied: py-solc-x==1.1.1 in /usr/local/lib/python3.9/site-packages (from -r requirements.txt (line 4)) (1.1.1)\n",
      "Requirement already satisfied: hexbytes>=0.1.0 in /usr/local/lib/python3.9/site-packages (from web3==6.0.0->-r requirements.txt (line 1)) (0.3.0)\n",
      "Requirement already satisfied: eth-account>=0.8.0 in /usr/local/lib/python3.9/site-packages (from web3==6.0.0->-r requirements.txt (line 1)) (0.8.0)\n",
      "Requirement already satisfied: parsimonious==0.9.0 in /usr/local/lib/python3.9/site-packages (from web3==6.0.0->-r requirements.txt (line 1)) (0.9.0)\n",
      "Requirement already satisfied: lru-dict>=1.1.6 in /usr/local/lib/python3.9/site-packages (from web3==6.0.0->-r requirements.txt (line 1)) (1.1.8)\n",
      "Requirement already satisfied: eth-hash[pycryptodome]>=0.5.1 in /usr/local/lib/python3.9/site-packages (from web3==6.0.0->-r requirements.txt (line 1)) (0.5.1)\n",
      "Requirement already satisfied: aiohttp>=3.7.4.post0 in /usr/local/lib/python3.9/site-packages (from web3==6.0.0->-r requirements.txt (line 1)) (3.7.4.post0)\n",
      "Requirement already satisfied: jsonschema>=4.0.0 in /usr/local/lib/python3.9/site-packages (from web3==6.0.0->-r requirements.txt (line 1)) (4.6.2)\n",
      "Requirement already satisfied: protobuf>=4.21.6 in /usr/local/lib/python3.9/site-packages (from web3==6.0.0->-r requirements.txt (line 1)) (4.22.1)\n",
      "Requirement already satisfied: websockets>=10.0.0 in /usr/local/lib/python3.9/site-packages (from web3==6.0.0->-r requirements.txt (line 1)) (11.0.1)\n",
      "Requirement already satisfied: eth-typing>=3.0.0 in /usr/local/lib/python3.9/site-packages (from web3==6.0.0->-r requirements.txt (line 1)) (3.3.0)\n",
      "Requirement already satisfied: eth-abi>=4.0.0-b.2 in /usr/local/lib/python3.9/site-packages (from web3==6.0.0->-r requirements.txt (line 1)) (4.0.0)\n",
      "Requirement already satisfied: eth-utils>=2.1.0 in /usr/local/lib/python3.9/site-packages (from web3==6.0.0->-r requirements.txt (line 1)) (2.1.0)\n",
      "Requirement already satisfied: requests>=2.16.0 in /usr/local/lib/python3.9/site-packages (from web3==6.0.0->-r requirements.txt (line 1)) (2.26.0)\n",
      "Requirement already satisfied: typing-extensions>=3.10.0.0 in /usr/local/lib/python3.9/site-packages (from black==22.12.0->-r requirements.txt (line 3)) (3.10.0.2)\n",
      "Requirement already satisfied: platformdirs>=2 in /usr/local/lib/python3.9/site-packages (from black==22.12.0->-r requirements.txt (line 3)) (2.5.1)\n",
      "Requirement already satisfied: pathspec>=0.9.0 in /usr/local/lib/python3.9/site-packages (from black==22.12.0->-r requirements.txt (line 3)) (0.9.0)\n",
      "Requirement already satisfied: mypy-extensions>=0.4.3 in /usr/local/lib/python3.9/site-packages (from black==22.12.0->-r requirements.txt (line 3)) (0.4.3)\n",
      "Requirement already satisfied: click>=8.0.0 in /usr/local/lib/python3.9/site-packages (from black==22.12.0->-r requirements.txt (line 3)) (8.0.3)\n",
      "Requirement already satisfied: tomli>=1.1.0 in /usr/local/lib/python3.9/site-packages (from black==22.12.0->-r requirements.txt (line 3)) (2.0.1)\n",
      "Requirement already satisfied: semantic-version<3,>=2.8.1 in /usr/local/lib/python3.9/site-packages (from py-solc-x==1.1.1->-r requirements.txt (line 4)) (2.10.0)\n",
      "Requirement already satisfied: regex>=2022.3.15 in /usr/local/lib/python3.9/site-packages (from parsimonious==0.9.0->web3==6.0.0->-r requirements.txt (line 1)) (2023.3.23)\n",
      "Requirement already satisfied: async-timeout<4.0,>=3.0 in /usr/local/lib/python3.9/site-packages (from aiohttp>=3.7.4.post0->web3==6.0.0->-r requirements.txt (line 1)) (3.0.1)\n",
      "Requirement already satisfied: attrs>=17.3.0 in /usr/local/lib/python3.9/site-packages (from aiohttp>=3.7.4.post0->web3==6.0.0->-r requirements.txt (line 1)) (21.2.0)\n",
      "Requirement already satisfied: yarl<2.0,>=1.0 in /usr/local/lib/python3.9/site-packages (from aiohttp>=3.7.4.post0->web3==6.0.0->-r requirements.txt (line 1)) (1.7.0)\n",
      "Requirement already satisfied: chardet<5.0,>=2.0 in /usr/local/lib/python3.9/site-packages (from aiohttp>=3.7.4.post0->web3==6.0.0->-r requirements.txt (line 1)) (4.0.0)\n",
      "Requirement already satisfied: multidict<7.0,>=4.5 in /usr/local/lib/python3.9/site-packages (from aiohttp>=3.7.4.post0->web3==6.0.0->-r requirements.txt (line 1)) (5.2.0)\n",
      "Requirement already satisfied: eth-rlp<1,>=0.3.0 in /usr/local/lib/python3.9/site-packages (from eth-account>=0.8.0->web3==6.0.0->-r requirements.txt (line 1)) (0.3.0)\n",
      "Requirement already satisfied: bitarray<3,>=2.4.0 in /usr/local/lib/python3.9/site-packages (from eth-account>=0.8.0->web3==6.0.0->-r requirements.txt (line 1)) (2.7.3)\n",
      "Requirement already satisfied: rlp<4,>=1.0.0 in /usr/local/lib/python3.9/site-packages (from eth-account>=0.8.0->web3==6.0.0->-r requirements.txt (line 1)) (3.0.0)\n",
      "Requirement already satisfied: eth-keys<0.5,>=0.4.0 in /usr/local/lib/python3.9/site-packages (from eth-account>=0.8.0->web3==6.0.0->-r requirements.txt (line 1)) (0.4.0)\n",
      "Requirement already satisfied: eth-keyfile<0.7.0,>=0.6.0 in /usr/local/lib/python3.9/site-packages (from eth-account>=0.8.0->web3==6.0.0->-r requirements.txt (line 1)) (0.6.1)\n",
      "Requirement already satisfied: pycryptodome<4,>=3.6.6 in /usr/local/lib/python3.9/site-packages (from eth-hash[pycryptodome]>=0.5.1->web3==6.0.0->-r requirements.txt (line 1)) (3.17)\n",
      "Requirement already satisfied: cytoolz>=0.10.1 in /usr/local/lib/python3.9/site-packages (from eth-utils>=2.1.0->web3==6.0.0->-r requirements.txt (line 1)) (0.12.1)\n",
      "Requirement already satisfied: pyrsistent!=0.17.0,!=0.17.1,!=0.17.2,>=0.14.0 in /usr/local/lib/python3.9/site-packages (from jsonschema>=4.0.0->web3==6.0.0->-r requirements.txt (line 1)) (0.18.1)\n",
      "Requirement already satisfied: certifi>=2017.4.17 in /usr/local/lib/python3.9/site-packages (from requests>=2.16.0->web3==6.0.0->-r requirements.txt (line 1)) (2021.10.8)\n",
      "Requirement already satisfied: idna<4,>=2.5 in /usr/local/lib/python3.9/site-packages (from requests>=2.16.0->web3==6.0.0->-r requirements.txt (line 1)) (3.3)\n",
      "Requirement already satisfied: charset-normalizer~=2.0.0 in /usr/local/lib/python3.9/site-packages (from requests>=2.16.0->web3==6.0.0->-r requirements.txt (line 1)) (2.0.7)\n",
      "Requirement already satisfied: urllib3<1.27,>=1.21.1 in /usr/local/lib/python3.9/site-packages (from requests>=2.16.0->web3==6.0.0->-r requirements.txt (line 1)) (1.26.7)\n",
      "Requirement already satisfied: toolz>=0.8.0 in /usr/local/lib/python3.9/site-packages (from cytoolz>=0.10.1->eth-utils>=2.1.0->web3==6.0.0->-r requirements.txt (line 1)) (0.11.2)\n",
      "\u001b[33mDEPRECATION: Configuring installation scheme with distutils config files is deprecated and will no longer work in the near future. If you are using a Homebrew or Linuxbrew Python, please see discussion at https://github.com/Homebrew/homebrew-core/issues/76621\u001b[0m\u001b[33m\n",
      "\u001b[0m\n",
      "\u001b[1m[\u001b[0m\u001b[34;49mnotice\u001b[0m\u001b[1;39;49m]\u001b[0m\u001b[39;49m A new release of pip available: \u001b[0m\u001b[31;49m22.3.1\u001b[0m\u001b[39;49m -> \u001b[0m\u001b[32;49m23.0.1\u001b[0m\n",
      "\u001b[1m[\u001b[0m\u001b[34;49mnotice\u001b[0m\u001b[1;39;49m]\u001b[0m\u001b[39;49m To update, run: \u001b[0m\u001b[32;49mpython3.9 -m pip install --upgrade pip\u001b[0m\n"
     ]
    }
   ],
   "source": [
    "# not sure why this suddenly is needed\n",
    "import sys\n",
    "!{sys.executable} -m pip install -r requirements.txt"
   ]
  },
  {
   "cell_type": "code",
   "execution_count": 6,
   "id": "3ee534f5",
   "metadata": {},
   "outputs": [],
   "source": [
    "import logging\n",
    "import sys\n",
    "\n",
    "logging.basicConfig(stream=sys.stdout, level=logging.INFO)\n",
    "from dotenv import load_dotenv\n",
    "\n",
    "import urllib3\n",
    "urllib3.disable_warnings()"
   ]
  },
  {
   "cell_type": "code",
   "execution_count": 7,
   "id": "5aec4da2",
   "metadata": {},
   "outputs": [
    {
     "data": {
      "text/plain": [
       "True"
      ]
     },
     "execution_count": 7,
     "metadata": {},
     "output_type": "execute_result"
    }
   ],
   "source": [
    "load_dotenv(dotenv_path='.env.main')"
   ]
  },
  {
   "cell_type": "code",
   "execution_count": 3,
   "id": "0a0a9fdf",
   "metadata": {},
   "outputs": [],
   "source": [
    "import solcx"
   ]
  },
  {
   "cell_type": "code",
   "execution_count": 5,
   "id": "4f9b5356",
   "metadata": {},
   "outputs": [],
   "source": [
    "from interface.w3 import Provider, Contract"
   ]
  },
  {
   "cell_type": "code",
   "execution_count": 6,
   "id": "43b0a0ab",
   "metadata": {},
   "outputs": [
    {
     "name": "stdout",
     "output_type": "stream",
     "text": [
      "INFO:interface.w3:Reading config from conf/main.ini\n",
      "INFO:interface.w3:Reading secrets from .env.main\n",
      "INFO:interface.w3:Using local fork from main\n",
      "INFO:interface.w3:RPC url: http://127.0.0.1:8545/\n",
      "INFO:interface.w3:Connected to chain main: True\n"
     ]
    }
   ],
   "source": [
    "p = Provider(chain='main', fork=True)"
   ]
  },
  {
   "cell_type": "code",
   "execution_count": 17,
   "id": "4d3ccaf0",
   "metadata": {},
   "outputs": [
    {
     "name": "stdout",
     "output_type": "stream",
     "text": [
      "INFO:interface.w3:Reading config from conf/main.ini\n",
      "INFO:interface.w3:Reading secrets from .env.main\n",
      "INFO:interface.w3:Using local fork from main\n",
      "INFO:interface.w3:RPC url: http://127.0.0.1:8545/\n",
      "INFO:interface.w3:Connected to chain main: True\n",
      "INFO:interface.w3:Getting contract ABI from source at out/Swap.sol/Swap.json\n"
     ]
    }
   ],
   "source": [
    "DEPLOYED = '0x9e7F7d0E8b8F38e3CF2b3F7dd362ba2e9E82baa4'\n",
    "swap = Contract(address=DEPLOYED, name='Swap')"
   ]
  },
  {
   "cell_type": "code",
   "execution_count": 8,
   "id": "2a581898",
   "metadata": {},
   "outputs": [
    {
     "data": {
      "text/plain": [
       "HexBytes('0x6c193a1bfc333ddd0f5427b60f8b95382a58f5914529d9f72c792c5b2f64c1c8')"
      ]
     },
     "execution_count": 8,
     "metadata": {},
     "output_type": "execute_result"
    }
   ],
   "source": [
    "contract.functions.transferETH(\n",
    "    contract.w3.to_checksum_address('0xc02aaa39b223fe8d0a0e5c4f27ead9083c756cc2'), \n",
    "    int(2e17)).transact()  # transact since we need to pay for the transaction"
   ]
  },
  {
   "cell_type": "code",
   "execution_count": null,
   "id": "4da1e7da",
   "metadata": {},
   "outputs": [],
   "source": [
    "# check weth after"
   ]
  },
  {
   "cell_type": "code",
   "execution_count": 22,
   "id": "a898422e",
   "metadata": {},
   "outputs": [
    {
     "name": "stdout",
     "output_type": "stream",
     "text": [
      "INFO:interface.w3:Reading config from conf/main.ini\n",
      "INFO:interface.w3:Reading secrets from .env.main\n",
      "INFO:interface.w3:Using local fork from main\n",
      "INFO:interface.w3:RPC url: http://127.0.0.1:8545/\n",
      "INFO:interface.w3:Connected to chain main: True\n",
      "INFO:interface.w3:Getting contract ABI for 0xc02aaa39b223fe8d0a0e5c4f27ead9083c756cc2 from https://api.etherscan.io/api/\n"
     ]
    },
    {
     "data": {
      "text/plain": [
       "1200000000000000000"
      ]
     },
     "execution_count": 22,
     "metadata": {},
     "output_type": "execute_result"
    }
   ],
   "source": [
    "weth = Contract(address='0xc02aaa39b223fe8d0a0e5c4f27ead9083c756cc2')\n",
    "weth.functions.balanceOf(DEPLOYED).call()"
   ]
  },
  {
   "cell_type": "code",
   "execution_count": 23,
   "id": "bd0d103f",
   "metadata": {},
   "outputs": [
    {
     "data": {
      "text/plain": [
       "1.2"
      ]
     },
     "execution_count": 23,
     "metadata": {},
     "output_type": "execute_result"
    }
   ],
   "source": [
    "1200000000000000000 / 1e18"
   ]
  },
  {
   "cell_type": "code",
   "execution_count": 10,
   "id": "6f3a71a6",
   "metadata": {},
   "outputs": [
    {
     "data": {
      "text/plain": [
       "{'url': {'rpc': 'https://eth-mainnet.g.alchemy.com/v2/',\n",
       "  'block_explorer': 'https://api.etherscan.io/api/',\n",
       "  'localhost': 'http://127.0.0.1:8545/'},\n",
       " 'routers': {'uniswapv2': '0x7a250d5630B4cF539739dF2C5dAcb4c659F2488D',\n",
       "  'uniswapv3': '0x68b3465833fb72A70ecDF485E0e4C7bD8665Fc45',\n",
       "  'sushiswap': '0xd9e1cE17f2641f24aE83637ab66a2cca9C378B9F'},\n",
       " 'tokens': {'usdc': '0xa0b86991c6218b36c1d19d4a2e9eb0ce3606eb48',\n",
       "  'usdt': '0xdac17f958d2ee523a2206206994597c13d831ec7',\n",
       "  'weth': '0xc02aaa39b223fe8d0a0e5c4f27ead9083c756cc2'}}"
      ]
     },
     "execution_count": 10,
     "metadata": {},
     "output_type": "execute_result"
    }
   ],
   "source": [
    "p.config._sections"
   ]
  },
  {
   "cell_type": "code",
   "execution_count": 13,
   "id": "91305026",
   "metadata": {},
   "outputs": [],
   "source": [
    "univ3_address = p.config._sections['routers']['uniswapv3']\n",
    "univ2_address = p.config._sections['routers']['uniswapv2']\n",
    "sushi_address = p.config._sections['routers']['sushiswap']\n",
    "weth_address = p.config._sections['tokens']['weth']\n",
    "usdc_address = p.config._sections['tokens']['usdc']\n",
    "usdt_address = p.config._sections['tokens']['usdt']"
   ]
  },
  {
   "cell_type": "code",
   "execution_count": 14,
   "id": "0efbdb80",
   "metadata": {},
   "outputs": [
    {
     "data": {
      "text/plain": [
       "'0xc02aaa39b223fe8d0a0e5c4f27ead9083c756cc2'"
      ]
     },
     "execution_count": 14,
     "metadata": {},
     "output_type": "execute_result"
    }
   ],
   "source": [
    "weth_address"
   ]
  },
  {
   "cell_type": "code",
   "execution_count": 15,
   "id": "efa1b6a6",
   "metadata": {},
   "outputs": [
    {
     "data": {
      "text/plain": [
       "'0xdac17f958d2ee523a2206206994597c13d831ec7'"
      ]
     },
     "execution_count": 15,
     "metadata": {},
     "output_type": "execute_result"
    }
   ],
   "source": [
    "usdt_address"
   ]
  },
  {
   "cell_type": "code",
   "execution_count": 21,
   "id": "f1088a91",
   "metadata": {},
   "outputs": [
    {
     "data": {
      "text/plain": [
       "'0x68b3465833fb72A70ecDF485E0e4C7bD8665Fc45'"
      ]
     },
     "execution_count": 21,
     "metadata": {},
     "output_type": "execute_result"
    }
   ],
   "source": [
    "univ3_address"
   ]
  },
  {
   "cell_type": "code",
   "execution_count": 30,
   "id": "b5874744",
   "metadata": {},
   "outputs": [],
   "source": [
    "account0 = '0xf39Fd6e51aad88F6F4ce6aB8827279cffFb92266'\n",
    "nonce = swap.w3.eth.get_transaction_count(swap.w3.to_checksum_address(account0))"
   ]
  },
  {
   "cell_type": "code",
   "execution_count": 31,
   "id": "0c1c00a9",
   "metadata": {},
   "outputs": [
    {
     "data": {
      "text/plain": [
       "448"
      ]
     },
     "execution_count": 31,
     "metadata": {},
     "output_type": "execute_result"
    }
   ],
   "source": [
    "nonce"
   ]
  },
  {
   "cell_type": "code",
   "execution_count": 33,
   "id": "5fca389d",
   "metadata": {},
   "outputs": [
    {
     "data": {
      "text/plain": [
       "31337"
      ]
     },
     "execution_count": 33,
     "metadata": {},
     "output_type": "execute_result"
    }
   ],
   "source": [
    "swap.w3.eth.chain_id"
   ]
  },
  {
   "cell_type": "code",
   "execution_count": 36,
   "id": "38a62e4b",
   "metadata": {},
   "outputs": [
    {
     "ename": "Web3ValidationError",
     "evalue": "\nCould not identify the intended function with name `swap`, positional arguments with type(s) `` and keyword arguments with type(s) `{}`.\nFound 1 function(s) with the name `swap`: ['swap(address,address,address,uint24,uint256)']\nFunction invocation failed due to improper number of arguments.",
     "output_type": "error",
     "traceback": [
      "\u001b[0;31m---------------------------------------------------------------------------\u001b[0m",
      "\u001b[0;31mWeb3ValidationError\u001b[0m                       Traceback (most recent call last)",
      "Cell \u001b[0;32mIn[36], line 2\u001b[0m\n\u001b[1;32m      1\u001b[0m chain_id \u001b[38;5;241m=\u001b[39m swap\u001b[38;5;241m.\u001b[39mw3\u001b[38;5;241m.\u001b[39meth\u001b[38;5;241m.\u001b[39mchain_id\n\u001b[0;32m----> 2\u001b[0m call_function \u001b[38;5;241m=\u001b[39m \u001b[43mswap\u001b[49m\u001b[38;5;241;43m.\u001b[39;49m\u001b[43mfunctions\u001b[49m\u001b[38;5;241;43m.\u001b[39;49m\u001b[43mswap\u001b[49m\u001b[43m(\u001b[49m\n\u001b[1;32m      3\u001b[0m \u001b[43m)\u001b[49m\u001b[38;5;241m.\u001b[39mbuild_transaction({\u001b[38;5;124m\"\u001b[39m\u001b[38;5;124mchainId\u001b[39m\u001b[38;5;124m\"\u001b[39m: chain_id, \u001b[38;5;124m\"\u001b[39m\u001b[38;5;124mfrom\u001b[39m\u001b[38;5;124m\"\u001b[39m: account0, \u001b[38;5;124m\"\u001b[39m\u001b[38;5;124mnonce\u001b[39m\u001b[38;5;124m\"\u001b[39m: nonce})\n",
      "File \u001b[0;32m~/.local/lib/python3.10/site-packages/web3/contract/contract.py:419\u001b[0m, in \u001b[0;36mContractFunction.__call__\u001b[0;34m(self, *args, **kwargs)\u001b[0m\n\u001b[1;32m    417\u001b[0m \u001b[38;5;28;01melse\u001b[39;00m:\n\u001b[1;32m    418\u001b[0m     clone\u001b[38;5;241m.\u001b[39mkwargs \u001b[38;5;241m=\u001b[39m kwargs\n\u001b[0;32m--> 419\u001b[0m \u001b[43mclone\u001b[49m\u001b[38;5;241;43m.\u001b[39;49m\u001b[43m_set_function_info\u001b[49m\u001b[43m(\u001b[49m\u001b[43m)\u001b[49m\n\u001b[1;32m    420\u001b[0m \u001b[38;5;28;01mreturn\u001b[39;00m clone\n",
      "File \u001b[0;32m~/.local/lib/python3.10/site-packages/web3/contract/base_contract.py:667\u001b[0m, in \u001b[0;36mBaseContractFunction._set_function_info\u001b[0;34m(self)\u001b[0m\n\u001b[1;32m    665\u001b[0m \u001b[38;5;28;01mdef\u001b[39;00m \u001b[38;5;21m_set_function_info\u001b[39m(\u001b[38;5;28mself\u001b[39m) \u001b[38;5;241m-\u001b[39m\u001b[38;5;241m>\u001b[39m \u001b[38;5;28;01mNone\u001b[39;00m:\n\u001b[1;32m    666\u001b[0m     \u001b[38;5;28;01mif\u001b[39;00m \u001b[38;5;129;01mnot\u001b[39;00m \u001b[38;5;28mself\u001b[39m\u001b[38;5;241m.\u001b[39mabi:\n\u001b[0;32m--> 667\u001b[0m         \u001b[38;5;28mself\u001b[39m\u001b[38;5;241m.\u001b[39mabi \u001b[38;5;241m=\u001b[39m \u001b[43mfind_matching_fn_abi\u001b[49m\u001b[43m(\u001b[49m\n\u001b[1;32m    668\u001b[0m \u001b[43m            \u001b[49m\u001b[38;5;28;43mself\u001b[39;49m\u001b[38;5;241;43m.\u001b[39;49m\u001b[43mcontract_abi\u001b[49m\u001b[43m,\u001b[49m\n\u001b[1;32m    669\u001b[0m \u001b[43m            \u001b[49m\u001b[38;5;28;43mself\u001b[39;49m\u001b[38;5;241;43m.\u001b[39;49m\u001b[43mw3\u001b[49m\u001b[38;5;241;43m.\u001b[39;49m\u001b[43mcodec\u001b[49m\u001b[43m,\u001b[49m\n\u001b[1;32m    670\u001b[0m \u001b[43m            \u001b[49m\u001b[38;5;28;43mself\u001b[39;49m\u001b[38;5;241;43m.\u001b[39;49m\u001b[43mfunction_identifier\u001b[49m\u001b[43m,\u001b[49m\n\u001b[1;32m    671\u001b[0m \u001b[43m            \u001b[49m\u001b[38;5;28;43mself\u001b[39;49m\u001b[38;5;241;43m.\u001b[39;49m\u001b[43margs\u001b[49m\u001b[43m,\u001b[49m\n\u001b[1;32m    672\u001b[0m \u001b[43m            \u001b[49m\u001b[38;5;28;43mself\u001b[39;49m\u001b[38;5;241;43m.\u001b[39;49m\u001b[43mkwargs\u001b[49m\u001b[43m,\u001b[49m\n\u001b[1;32m    673\u001b[0m \u001b[43m        \u001b[49m\u001b[43m)\u001b[49m\n\u001b[1;32m    674\u001b[0m     \u001b[38;5;28;01mif\u001b[39;00m \u001b[38;5;28mself\u001b[39m\u001b[38;5;241m.\u001b[39mfunction_identifier \u001b[38;5;129;01min\u001b[39;00m [FallbackFn, ReceiveFn]:\n\u001b[1;32m    675\u001b[0m         \u001b[38;5;28mself\u001b[39m\u001b[38;5;241m.\u001b[39mselector \u001b[38;5;241m=\u001b[39m encode_hex(\u001b[38;5;124mb\u001b[39m\u001b[38;5;124m\"\u001b[39m\u001b[38;5;124m\"\u001b[39m)\n",
      "File \u001b[0;32m~/.local/lib/python3.10/site-packages/web3/_utils/contracts.py:208\u001b[0m, in \u001b[0;36mfind_matching_fn_abi\u001b[0;34m(abi, abi_codec, fn_identifier, args, kwargs)\u001b[0m\n\u001b[1;32m    197\u001b[0m collapsed_kwargs \u001b[38;5;241m=\u001b[39m \u001b[38;5;28mdict\u001b[39m(\n\u001b[1;32m    198\u001b[0m     {(k, extract_argument_types([v])) \u001b[38;5;28;01mfor\u001b[39;00m k, v \u001b[38;5;129;01min\u001b[39;00m kwargs\u001b[38;5;241m.\u001b[39mitems()}\n\u001b[1;32m    199\u001b[0m )\n\u001b[1;32m    200\u001b[0m message \u001b[38;5;241m=\u001b[39m (\n\u001b[1;32m    201\u001b[0m     \u001b[38;5;124mf\u001b[39m\u001b[38;5;124m\"\u001b[39m\u001b[38;5;130;01m\\n\u001b[39;00m\u001b[38;5;124mCould not identify the intended function with name `\u001b[39m\u001b[38;5;132;01m{\u001b[39;00mfn_identifier\u001b[38;5;132;01m}\u001b[39;00m\u001b[38;5;124m`, \u001b[39m\u001b[38;5;124m\"\u001b[39m\n\u001b[1;32m    202\u001b[0m     \u001b[38;5;124mf\u001b[39m\u001b[38;5;124m\"\u001b[39m\u001b[38;5;124mpositional arguments with type(s) `\u001b[39m\u001b[38;5;132;01m{\u001b[39;00mcollapsed_args\u001b[38;5;132;01m}\u001b[39;00m\u001b[38;5;124m` and \u001b[39m\u001b[38;5;124m\"\u001b[39m\n\u001b[0;32m   (...)\u001b[0m\n\u001b[1;32m    205\u001b[0m     \u001b[38;5;124mf\u001b[39m\u001b[38;5;124m\"\u001b[39m\u001b[38;5;124mthe name `\u001b[39m\u001b[38;5;132;01m{\u001b[39;00mfn_identifier\u001b[38;5;132;01m}\u001b[39;00m\u001b[38;5;124m`: \u001b[39m\u001b[38;5;132;01m{\u001b[39;00mmatching_function_signatures\u001b[38;5;132;01m}\u001b[39;00m\u001b[38;5;132;01m{\u001b[39;00mdiagnosis\u001b[38;5;132;01m}\u001b[39;00m\u001b[38;5;124m\"\u001b[39m\n\u001b[1;32m    206\u001b[0m )\n\u001b[0;32m--> 208\u001b[0m \u001b[38;5;28;01mraise\u001b[39;00m Web3ValidationError(message)\n",
      "\u001b[0;31mWeb3ValidationError\u001b[0m: \nCould not identify the intended function with name `swap`, positional arguments with type(s) `` and keyword arguments with type(s) `{}`.\nFound 1 function(s) with the name `swap`: ['swap(address,address,address,uint24,uint256)']\nFunction invocation failed due to improper number of arguments."
     ]
    }
   ],
   "source": [
    "chain_id = swap.w3.eth.chain_id\n",
    "call_function = swap.functions.swap(\n",
    ").build_transaction({\"chainId\": chain_id, \"from\": account0, \"nonce\": nonce})"
   ]
  },
  {
   "cell_type": "code",
   "execution_count": null,
   "id": "68b05e67",
   "metadata": {},
   "outputs": [],
   "source": []
  },
  {
   "cell_type": "code",
   "execution_count": 29,
   "id": "789b16f2",
   "metadata": {},
   "outputs": [
    {
     "ename": "ContractLogicError",
     "evalue": "execution reverted: Error: Transaction reverted without a reason string",
     "output_type": "error",
     "traceback": [
      "\u001b[0;31m---------------------------------------------------------------------------\u001b[0m",
      "\u001b[0;31mContractLogicError\u001b[0m                        Traceback (most recent call last)",
      "Cell \u001b[0;32mIn[29], line 7\u001b[0m\n\u001b[1;32m      1\u001b[0m \u001b[43mswap\u001b[49m\u001b[38;5;241;43m.\u001b[39;49m\u001b[43mfunctions\u001b[49m\u001b[38;5;241;43m.\u001b[39;49m\u001b[43mswap\u001b[49m\u001b[43m(\u001b[49m\n\u001b[1;32m      2\u001b[0m \u001b[43m    \u001b[49m\u001b[43mswap\u001b[49m\u001b[38;5;241;43m.\u001b[39;49m\u001b[43mw3\u001b[49m\u001b[38;5;241;43m.\u001b[39;49m\u001b[43mto_checksum_address\u001b[49m\u001b[43m(\u001b[49m\u001b[43muniv3_address\u001b[49m\u001b[43m)\u001b[49m\u001b[43m,\u001b[49m\n\u001b[1;32m      3\u001b[0m \u001b[43m    \u001b[49m\u001b[43mswap\u001b[49m\u001b[38;5;241;43m.\u001b[39;49m\u001b[43mw3\u001b[49m\u001b[38;5;241;43m.\u001b[39;49m\u001b[43mto_checksum_address\u001b[49m\u001b[43m(\u001b[49m\u001b[43mweth_address\u001b[49m\u001b[43m)\u001b[49m\u001b[43m,\u001b[49m\n\u001b[1;32m      4\u001b[0m \u001b[43m    \u001b[49m\u001b[43mswap\u001b[49m\u001b[38;5;241;43m.\u001b[39;49m\u001b[43mw3\u001b[49m\u001b[38;5;241;43m.\u001b[39;49m\u001b[43mto_checksum_address\u001b[49m\u001b[43m(\u001b[49m\u001b[43musdt_address\u001b[49m\u001b[43m)\u001b[49m\u001b[43m,\u001b[49m\n\u001b[1;32m      5\u001b[0m \u001b[43m    \u001b[49m\u001b[38;5;241;43m3000\u001b[39;49m\u001b[43m,\u001b[49m\u001b[43m \u001b[49m\n\u001b[1;32m      6\u001b[0m \u001b[43m    \u001b[49m\u001b[38;5;28;43mint\u001b[39;49m\u001b[43m(\u001b[49m\u001b[38;5;241;43m1e17\u001b[39;49m\u001b[43m)\u001b[49m\n\u001b[0;32m----> 7\u001b[0m \u001b[43m)\u001b[49m\u001b[38;5;241;43m.\u001b[39;49m\u001b[43mtransact\u001b[49m\u001b[43m(\u001b[49m\u001b[43m)\u001b[49m\n",
      "File \u001b[0;32m~/.local/lib/python3.10/site-packages/web3/contract/contract.py:479\u001b[0m, in \u001b[0;36mContractFunction.transact\u001b[0;34m(self, transaction)\u001b[0m\n\u001b[1;32m    477\u001b[0m \u001b[38;5;28;01mdef\u001b[39;00m \u001b[38;5;21mtransact\u001b[39m(\u001b[38;5;28mself\u001b[39m, transaction: Optional[TxParams] \u001b[38;5;241m=\u001b[39m \u001b[38;5;28;01mNone\u001b[39;00m) \u001b[38;5;241m-\u001b[39m\u001b[38;5;241m>\u001b[39m HexBytes:\n\u001b[1;32m    478\u001b[0m     setup_transaction \u001b[38;5;241m=\u001b[39m \u001b[38;5;28mself\u001b[39m\u001b[38;5;241m.\u001b[39m_transact(transaction)\n\u001b[0;32m--> 479\u001b[0m     \u001b[38;5;28;01mreturn\u001b[39;00m \u001b[43mtransact_with_contract_function\u001b[49m\u001b[43m(\u001b[49m\n\u001b[1;32m    480\u001b[0m \u001b[43m        \u001b[49m\u001b[38;5;28;43mself\u001b[39;49m\u001b[38;5;241;43m.\u001b[39;49m\u001b[43maddress\u001b[49m\u001b[43m,\u001b[49m\n\u001b[1;32m    481\u001b[0m \u001b[43m        \u001b[49m\u001b[38;5;28;43mself\u001b[39;49m\u001b[38;5;241;43m.\u001b[39;49m\u001b[43mw3\u001b[49m\u001b[43m,\u001b[49m\n\u001b[1;32m    482\u001b[0m \u001b[43m        \u001b[49m\u001b[38;5;28;43mself\u001b[39;49m\u001b[38;5;241;43m.\u001b[39;49m\u001b[43mfunction_identifier\u001b[49m\u001b[43m,\u001b[49m\n\u001b[1;32m    483\u001b[0m \u001b[43m        \u001b[49m\u001b[43msetup_transaction\u001b[49m\u001b[43m,\u001b[49m\n\u001b[1;32m    484\u001b[0m \u001b[43m        \u001b[49m\u001b[38;5;28;43mself\u001b[39;49m\u001b[38;5;241;43m.\u001b[39;49m\u001b[43mcontract_abi\u001b[49m\u001b[43m,\u001b[49m\n\u001b[1;32m    485\u001b[0m \u001b[43m        \u001b[49m\u001b[38;5;28;43mself\u001b[39;49m\u001b[38;5;241;43m.\u001b[39;49m\u001b[43mabi\u001b[49m\u001b[43m,\u001b[49m\n\u001b[1;32m    486\u001b[0m \u001b[43m        \u001b[49m\u001b[38;5;241;43m*\u001b[39;49m\u001b[38;5;28;43mself\u001b[39;49m\u001b[38;5;241;43m.\u001b[39;49m\u001b[43margs\u001b[49m\u001b[43m,\u001b[49m\n\u001b[1;32m    487\u001b[0m \u001b[43m        \u001b[49m\u001b[38;5;241;43m*\u001b[39;49m\u001b[38;5;241;43m*\u001b[39;49m\u001b[38;5;28;43mself\u001b[39;49m\u001b[38;5;241;43m.\u001b[39;49m\u001b[43mkwargs\u001b[49m\u001b[43m,\u001b[49m\n\u001b[1;32m    488\u001b[0m \u001b[43m    \u001b[49m\u001b[43m)\u001b[49m\n",
      "File \u001b[0;32m~/.local/lib/python3.10/site-packages/web3/contract/utils.py:172\u001b[0m, in \u001b[0;36mtransact_with_contract_function\u001b[0;34m(address, w3, function_name, transaction, contract_abi, fn_abi, *args, **kwargs)\u001b[0m\n\u001b[1;32m    157\u001b[0m \u001b[38;5;124;03m\"\"\"\u001b[39;00m\n\u001b[1;32m    158\u001b[0m \u001b[38;5;124;03mHelper function for interacting with a contract function by sending a\u001b[39;00m\n\u001b[1;32m    159\u001b[0m \u001b[38;5;124;03mtransaction.\u001b[39;00m\n\u001b[1;32m    160\u001b[0m \u001b[38;5;124;03m\"\"\"\u001b[39;00m\n\u001b[1;32m    161\u001b[0m transact_transaction \u001b[38;5;241m=\u001b[39m prepare_transaction(\n\u001b[1;32m    162\u001b[0m     address,\n\u001b[1;32m    163\u001b[0m     w3,\n\u001b[0;32m   (...)\u001b[0m\n\u001b[1;32m    169\u001b[0m     fn_kwargs\u001b[38;5;241m=\u001b[39mkwargs,\n\u001b[1;32m    170\u001b[0m )\n\u001b[0;32m--> 172\u001b[0m txn_hash \u001b[38;5;241m=\u001b[39m \u001b[43mw3\u001b[49m\u001b[38;5;241;43m.\u001b[39;49m\u001b[43meth\u001b[49m\u001b[38;5;241;43m.\u001b[39;49m\u001b[43msend_transaction\u001b[49m\u001b[43m(\u001b[49m\u001b[43mtransact_transaction\u001b[49m\u001b[43m)\u001b[49m\n\u001b[1;32m    173\u001b[0m \u001b[38;5;28;01mreturn\u001b[39;00m txn_hash\n",
      "File \u001b[0;32m~/.local/lib/python3.10/site-packages/web3/eth/eth.py:362\u001b[0m, in \u001b[0;36mEth.send_transaction\u001b[0;34m(self, transaction)\u001b[0m\n\u001b[1;32m    361\u001b[0m \u001b[38;5;28;01mdef\u001b[39;00m \u001b[38;5;21msend_transaction\u001b[39m(\u001b[38;5;28mself\u001b[39m, transaction: TxParams) \u001b[38;5;241m-\u001b[39m\u001b[38;5;241m>\u001b[39m HexBytes:\n\u001b[0;32m--> 362\u001b[0m     \u001b[38;5;28;01mreturn\u001b[39;00m \u001b[38;5;28;43mself\u001b[39;49m\u001b[38;5;241;43m.\u001b[39;49m\u001b[43m_send_transaction\u001b[49m\u001b[43m(\u001b[49m\u001b[43mtransaction\u001b[49m\u001b[43m)\u001b[49m\n",
      "File \u001b[0;32m~/.local/lib/python3.10/site-packages/web3/module.py:68\u001b[0m, in \u001b[0;36mretrieve_blocking_method_call_fn.<locals>.caller\u001b[0;34m(*args, **kwargs)\u001b[0m\n\u001b[1;32m     62\u001b[0m     \u001b[38;5;28;01mreturn\u001b[39;00m LogFilter(eth_module\u001b[38;5;241m=\u001b[39mmodule, filter_id\u001b[38;5;241m=\u001b[39merr\u001b[38;5;241m.\u001b[39mfilter_id)\n\u001b[1;32m     63\u001b[0m (\n\u001b[1;32m     64\u001b[0m     result_formatters,\n\u001b[1;32m     65\u001b[0m     error_formatters,\n\u001b[1;32m     66\u001b[0m     null_result_formatters,\n\u001b[1;32m     67\u001b[0m ) \u001b[38;5;241m=\u001b[39m response_formatters\n\u001b[0;32m---> 68\u001b[0m result \u001b[38;5;241m=\u001b[39m \u001b[43mw3\u001b[49m\u001b[38;5;241;43m.\u001b[39;49m\u001b[43mmanager\u001b[49m\u001b[38;5;241;43m.\u001b[39;49m\u001b[43mrequest_blocking\u001b[49m\u001b[43m(\u001b[49m\n\u001b[1;32m     69\u001b[0m \u001b[43m    \u001b[49m\u001b[43mmethod_str\u001b[49m\u001b[43m,\u001b[49m\u001b[43m \u001b[49m\u001b[43mparams\u001b[49m\u001b[43m,\u001b[49m\u001b[43m \u001b[49m\u001b[43merror_formatters\u001b[49m\u001b[43m,\u001b[49m\u001b[43m \u001b[49m\u001b[43mnull_result_formatters\u001b[49m\n\u001b[1;32m     70\u001b[0m \u001b[43m\u001b[49m\u001b[43m)\u001b[49m\n\u001b[1;32m     71\u001b[0m \u001b[38;5;28;01mreturn\u001b[39;00m apply_result_formatters(result_formatters, result)\n",
      "File \u001b[0;32m~/.local/lib/python3.10/site-packages/web3/manager.py:231\u001b[0m, in \u001b[0;36mRequestManager.request_blocking\u001b[0;34m(self, method, params, error_formatters, null_result_formatters)\u001b[0m\n\u001b[1;32m    221\u001b[0m \u001b[38;5;28;01mdef\u001b[39;00m \u001b[38;5;21mrequest_blocking\u001b[39m(\n\u001b[1;32m    222\u001b[0m     \u001b[38;5;28mself\u001b[39m,\n\u001b[1;32m    223\u001b[0m     method: Union[RPCEndpoint, Callable[\u001b[38;5;241m.\u001b[39m\u001b[38;5;241m.\u001b[39m\u001b[38;5;241m.\u001b[39m, RPCEndpoint]],\n\u001b[0;32m   (...)\u001b[0m\n\u001b[1;32m    226\u001b[0m     null_result_formatters: Optional[Callable[\u001b[38;5;241m.\u001b[39m\u001b[38;5;241m.\u001b[39m\u001b[38;5;241m.\u001b[39m, Any]] \u001b[38;5;241m=\u001b[39m \u001b[38;5;28;01mNone\u001b[39;00m,\n\u001b[1;32m    227\u001b[0m ) \u001b[38;5;241m-\u001b[39m\u001b[38;5;241m>\u001b[39m Any:\n\u001b[1;32m    228\u001b[0m     \u001b[38;5;124;03m\"\"\"\u001b[39;00m\n\u001b[1;32m    229\u001b[0m \u001b[38;5;124;03m    Make a synchronous request using the provider\u001b[39;00m\n\u001b[1;32m    230\u001b[0m \u001b[38;5;124;03m    \"\"\"\u001b[39;00m\n\u001b[0;32m--> 231\u001b[0m     response \u001b[38;5;241m=\u001b[39m \u001b[38;5;28;43mself\u001b[39;49m\u001b[38;5;241;43m.\u001b[39;49m\u001b[43m_make_request\u001b[49m\u001b[43m(\u001b[49m\u001b[43mmethod\u001b[49m\u001b[43m,\u001b[49m\u001b[43m \u001b[49m\u001b[43mparams\u001b[49m\u001b[43m)\u001b[49m\n\u001b[1;32m    232\u001b[0m     \u001b[38;5;28;01mreturn\u001b[39;00m \u001b[38;5;28mself\u001b[39m\u001b[38;5;241m.\u001b[39mformatted_response(\n\u001b[1;32m    233\u001b[0m         response, params, error_formatters, null_result_formatters\n\u001b[1;32m    234\u001b[0m     )\n",
      "File \u001b[0;32m~/.local/lib/python3.10/site-packages/web3/manager.py:175\u001b[0m, in \u001b[0;36mRequestManager._make_request\u001b[0;34m(self, method, params)\u001b[0m\n\u001b[1;32m    171\u001b[0m request_func \u001b[38;5;241m=\u001b[39m provider\u001b[38;5;241m.\u001b[39mrequest_func(\n\u001b[1;32m    172\u001b[0m     cast(\u001b[38;5;124m\"\u001b[39m\u001b[38;5;124mWeb3\u001b[39m\u001b[38;5;124m\"\u001b[39m, \u001b[38;5;28mself\u001b[39m\u001b[38;5;241m.\u001b[39mw3), cast(MiddlewareOnion, \u001b[38;5;28mself\u001b[39m\u001b[38;5;241m.\u001b[39mmiddleware_onion)\n\u001b[1;32m    173\u001b[0m )\n\u001b[1;32m    174\u001b[0m \u001b[38;5;28mself\u001b[39m\u001b[38;5;241m.\u001b[39mlogger\u001b[38;5;241m.\u001b[39mdebug(\u001b[38;5;124mf\u001b[39m\u001b[38;5;124m\"\u001b[39m\u001b[38;5;124mMaking request. Method: \u001b[39m\u001b[38;5;132;01m{\u001b[39;00mmethod\u001b[38;5;132;01m}\u001b[39;00m\u001b[38;5;124m\"\u001b[39m)\n\u001b[0;32m--> 175\u001b[0m \u001b[38;5;28;01mreturn\u001b[39;00m \u001b[43mrequest_func\u001b[49m\u001b[43m(\u001b[49m\u001b[43mmethod\u001b[49m\u001b[43m,\u001b[49m\u001b[43m \u001b[49m\u001b[43mparams\u001b[49m\u001b[43m)\u001b[49m\n",
      "File \u001b[0;32m~/.local/lib/python3.10/site-packages/web3/middleware/formatting.py:99\u001b[0m, in \u001b[0;36mconstruct_web3_formatting_middleware.<locals>.formatter_middleware.<locals>.middleware\u001b[0;34m(method, params)\u001b[0m\n\u001b[1;32m     97\u001b[0m     formatter \u001b[38;5;241m=\u001b[39m request_formatters[method]\n\u001b[1;32m     98\u001b[0m     params \u001b[38;5;241m=\u001b[39m formatter(params)\n\u001b[0;32m---> 99\u001b[0m response \u001b[38;5;241m=\u001b[39m \u001b[43mmake_request\u001b[49m\u001b[43m(\u001b[49m\u001b[43mmethod\u001b[49m\u001b[43m,\u001b[49m\u001b[43m \u001b[49m\u001b[43mparams\u001b[49m\u001b[43m)\u001b[49m\n\u001b[1;32m    101\u001b[0m \u001b[38;5;28;01mreturn\u001b[39;00m _apply_response_formatters(\n\u001b[1;32m    102\u001b[0m     method\u001b[38;5;241m=\u001b[39mmethod, response\u001b[38;5;241m=\u001b[39mresponse, \u001b[38;5;241m*\u001b[39m\u001b[38;5;241m*\u001b[39mformatters\n\u001b[1;32m    103\u001b[0m )\n",
      "File \u001b[0;32m~/.local/lib/python3.10/site-packages/web3/middleware/gas_price_strategy.py:95\u001b[0m, in \u001b[0;36mgas_price_strategy_middleware.<locals>.middleware\u001b[0;34m(method, params)\u001b[0m\n\u001b[1;32m     91\u001b[0m     latest_block \u001b[38;5;241m=\u001b[39m w3\u001b[38;5;241m.\u001b[39meth\u001b[38;5;241m.\u001b[39mget_block(\u001b[38;5;124m\"\u001b[39m\u001b[38;5;124mlatest\u001b[39m\u001b[38;5;124m\"\u001b[39m)\n\u001b[1;32m     92\u001b[0m     transaction \u001b[38;5;241m=\u001b[39m validate_transaction_params(\n\u001b[1;32m     93\u001b[0m         transaction, latest_block, generated_gas_price\n\u001b[1;32m     94\u001b[0m     )\n\u001b[0;32m---> 95\u001b[0m     \u001b[38;5;28;01mreturn\u001b[39;00m \u001b[43mmake_request\u001b[49m\u001b[43m(\u001b[49m\u001b[43mmethod\u001b[49m\u001b[43m,\u001b[49m\u001b[43m \u001b[49m\u001b[43m(\u001b[49m\u001b[43mtransaction\u001b[49m\u001b[43m,\u001b[49m\u001b[43m)\u001b[49m\u001b[43m)\u001b[49m\n\u001b[1;32m     96\u001b[0m \u001b[38;5;28;01mreturn\u001b[39;00m make_request(method, params)\n",
      "File \u001b[0;32m~/.local/lib/python3.10/site-packages/web3/middleware/formatting.py:99\u001b[0m, in \u001b[0;36mconstruct_web3_formatting_middleware.<locals>.formatter_middleware.<locals>.middleware\u001b[0;34m(method, params)\u001b[0m\n\u001b[1;32m     97\u001b[0m     formatter \u001b[38;5;241m=\u001b[39m request_formatters[method]\n\u001b[1;32m     98\u001b[0m     params \u001b[38;5;241m=\u001b[39m formatter(params)\n\u001b[0;32m---> 99\u001b[0m response \u001b[38;5;241m=\u001b[39m \u001b[43mmake_request\u001b[49m\u001b[43m(\u001b[49m\u001b[43mmethod\u001b[49m\u001b[43m,\u001b[49m\u001b[43m \u001b[49m\u001b[43mparams\u001b[49m\u001b[43m)\u001b[49m\n\u001b[1;32m    101\u001b[0m \u001b[38;5;28;01mreturn\u001b[39;00m _apply_response_formatters(\n\u001b[1;32m    102\u001b[0m     method\u001b[38;5;241m=\u001b[39mmethod, response\u001b[38;5;241m=\u001b[39mresponse, \u001b[38;5;241m*\u001b[39m\u001b[38;5;241m*\u001b[39mformatters\n\u001b[1;32m    103\u001b[0m )\n",
      "File \u001b[0;32m~/.local/lib/python3.10/site-packages/web3/middleware/attrdict.py:38\u001b[0m, in \u001b[0;36mattrdict_middleware.<locals>.middleware\u001b[0;34m(method, params)\u001b[0m\n\u001b[1;32m     37\u001b[0m \u001b[38;5;28;01mdef\u001b[39;00m \u001b[38;5;21mmiddleware\u001b[39m(method: RPCEndpoint, params: Any) \u001b[38;5;241m-\u001b[39m\u001b[38;5;241m>\u001b[39m RPCResponse:\n\u001b[0;32m---> 38\u001b[0m     response \u001b[38;5;241m=\u001b[39m \u001b[43mmake_request\u001b[49m\u001b[43m(\u001b[49m\u001b[43mmethod\u001b[49m\u001b[43m,\u001b[49m\u001b[43m \u001b[49m\u001b[43mparams\u001b[49m\u001b[43m)\u001b[49m\n\u001b[1;32m     40\u001b[0m     \u001b[38;5;28;01mif\u001b[39;00m \u001b[38;5;124m\"\u001b[39m\u001b[38;5;124mresult\u001b[39m\u001b[38;5;124m\"\u001b[39m \u001b[38;5;129;01min\u001b[39;00m response:\n\u001b[1;32m     41\u001b[0m         \u001b[38;5;28;01mreturn\u001b[39;00m assoc(\n\u001b[1;32m     42\u001b[0m             response, \u001b[38;5;124m\"\u001b[39m\u001b[38;5;124mresult\u001b[39m\u001b[38;5;124m\"\u001b[39m, AttributeDict\u001b[38;5;241m.\u001b[39mrecursive(response[\u001b[38;5;124m\"\u001b[39m\u001b[38;5;124mresult\u001b[39m\u001b[38;5;124m\"\u001b[39m])\n\u001b[1;32m     43\u001b[0m         )\n",
      "File \u001b[0;32m~/.local/lib/python3.10/site-packages/web3/middleware/formatting.py:99\u001b[0m, in \u001b[0;36mconstruct_web3_formatting_middleware.<locals>.formatter_middleware.<locals>.middleware\u001b[0;34m(method, params)\u001b[0m\n\u001b[1;32m     97\u001b[0m     formatter \u001b[38;5;241m=\u001b[39m request_formatters[method]\n\u001b[1;32m     98\u001b[0m     params \u001b[38;5;241m=\u001b[39m formatter(params)\n\u001b[0;32m---> 99\u001b[0m response \u001b[38;5;241m=\u001b[39m \u001b[43mmake_request\u001b[49m\u001b[43m(\u001b[49m\u001b[43mmethod\u001b[49m\u001b[43m,\u001b[49m\u001b[43m \u001b[49m\u001b[43mparams\u001b[49m\u001b[43m)\u001b[49m\n\u001b[1;32m    101\u001b[0m \u001b[38;5;28;01mreturn\u001b[39;00m _apply_response_formatters(\n\u001b[1;32m    102\u001b[0m     method\u001b[38;5;241m=\u001b[39mmethod, response\u001b[38;5;241m=\u001b[39mresponse, \u001b[38;5;241m*\u001b[39m\u001b[38;5;241m*\u001b[39mformatters\n\u001b[1;32m    103\u001b[0m )\n",
      "File \u001b[0;32m~/.local/lib/python3.10/site-packages/web3/middleware/formatting.py:99\u001b[0m, in \u001b[0;36mconstruct_web3_formatting_middleware.<locals>.formatter_middleware.<locals>.middleware\u001b[0;34m(method, params)\u001b[0m\n\u001b[1;32m     97\u001b[0m     formatter \u001b[38;5;241m=\u001b[39m request_formatters[method]\n\u001b[1;32m     98\u001b[0m     params \u001b[38;5;241m=\u001b[39m formatter(params)\n\u001b[0;32m---> 99\u001b[0m response \u001b[38;5;241m=\u001b[39m \u001b[43mmake_request\u001b[49m\u001b[43m(\u001b[49m\u001b[43mmethod\u001b[49m\u001b[43m,\u001b[49m\u001b[43m \u001b[49m\u001b[43mparams\u001b[49m\u001b[43m)\u001b[49m\n\u001b[1;32m    101\u001b[0m \u001b[38;5;28;01mreturn\u001b[39;00m _apply_response_formatters(\n\u001b[1;32m    102\u001b[0m     method\u001b[38;5;241m=\u001b[39mmethod, response\u001b[38;5;241m=\u001b[39mresponse, \u001b[38;5;241m*\u001b[39m\u001b[38;5;241m*\u001b[39mformatters\n\u001b[1;32m    103\u001b[0m )\n",
      "File \u001b[0;32m~/.local/lib/python3.10/site-packages/web3/middleware/formatting.py:99\u001b[0m, in \u001b[0;36mconstruct_web3_formatting_middleware.<locals>.formatter_middleware.<locals>.middleware\u001b[0;34m(method, params)\u001b[0m\n\u001b[1;32m     97\u001b[0m     formatter \u001b[38;5;241m=\u001b[39m request_formatters[method]\n\u001b[1;32m     98\u001b[0m     params \u001b[38;5;241m=\u001b[39m formatter(params)\n\u001b[0;32m---> 99\u001b[0m response \u001b[38;5;241m=\u001b[39m \u001b[43mmake_request\u001b[49m\u001b[43m(\u001b[49m\u001b[43mmethod\u001b[49m\u001b[43m,\u001b[49m\u001b[43m \u001b[49m\u001b[43mparams\u001b[49m\u001b[43m)\u001b[49m\n\u001b[1;32m    101\u001b[0m \u001b[38;5;28;01mreturn\u001b[39;00m _apply_response_formatters(\n\u001b[1;32m    102\u001b[0m     method\u001b[38;5;241m=\u001b[39mmethod, response\u001b[38;5;241m=\u001b[39mresponse, \u001b[38;5;241m*\u001b[39m\u001b[38;5;241m*\u001b[39mformatters\n\u001b[1;32m    103\u001b[0m )\n",
      "File \u001b[0;32m~/.local/lib/python3.10/site-packages/web3/middleware/buffered_gas_estimate.py:40\u001b[0m, in \u001b[0;36mbuffered_gas_estimate_middleware.<locals>.middleware\u001b[0;34m(method, params)\u001b[0m\n\u001b[1;32m     35\u001b[0m     transaction \u001b[38;5;241m=\u001b[39m params[\u001b[38;5;241m0\u001b[39m]\n\u001b[1;32m     36\u001b[0m     \u001b[38;5;28;01mif\u001b[39;00m \u001b[38;5;124m\"\u001b[39m\u001b[38;5;124mgas\u001b[39m\u001b[38;5;124m\"\u001b[39m \u001b[38;5;129;01mnot\u001b[39;00m \u001b[38;5;129;01min\u001b[39;00m transaction:\n\u001b[1;32m     37\u001b[0m         transaction \u001b[38;5;241m=\u001b[39m assoc(\n\u001b[1;32m     38\u001b[0m             transaction,\n\u001b[1;32m     39\u001b[0m             \u001b[38;5;124m\"\u001b[39m\u001b[38;5;124mgas\u001b[39m\u001b[38;5;124m\"\u001b[39m,\n\u001b[0;32m---> 40\u001b[0m             \u001b[38;5;28mhex\u001b[39m(\u001b[43mget_buffered_gas_estimate\u001b[49m\u001b[43m(\u001b[49m\u001b[43mw3\u001b[49m\u001b[43m,\u001b[49m\u001b[43m \u001b[49m\u001b[43mtransaction\u001b[49m\u001b[43m)\u001b[49m),\n\u001b[1;32m     41\u001b[0m         )\n\u001b[1;32m     42\u001b[0m         \u001b[38;5;28;01mreturn\u001b[39;00m make_request(method, [transaction])\n\u001b[1;32m     43\u001b[0m \u001b[38;5;28;01mreturn\u001b[39;00m make_request(method, params)\n",
      "File \u001b[0;32m~/.local/lib/python3.10/site-packages/web3/_utils/transactions.py:150\u001b[0m, in \u001b[0;36mget_buffered_gas_estimate\u001b[0;34m(w3, transaction, gas_buffer)\u001b[0m\n\u001b[1;32m    145\u001b[0m \u001b[38;5;28;01mdef\u001b[39;00m \u001b[38;5;21mget_buffered_gas_estimate\u001b[39m(\n\u001b[1;32m    146\u001b[0m     w3: \u001b[38;5;124m\"\u001b[39m\u001b[38;5;124mWeb3\u001b[39m\u001b[38;5;124m\"\u001b[39m, transaction: TxParams, gas_buffer: \u001b[38;5;28mint\u001b[39m \u001b[38;5;241m=\u001b[39m \u001b[38;5;241m100000\u001b[39m\n\u001b[1;32m    147\u001b[0m ) \u001b[38;5;241m-\u001b[39m\u001b[38;5;241m>\u001b[39m \u001b[38;5;28mint\u001b[39m:\n\u001b[1;32m    148\u001b[0m     gas_estimate_transaction \u001b[38;5;241m=\u001b[39m cast(TxParams, \u001b[38;5;28mdict\u001b[39m(\u001b[38;5;241m*\u001b[39m\u001b[38;5;241m*\u001b[39mtransaction))\n\u001b[0;32m--> 150\u001b[0m     gas_estimate \u001b[38;5;241m=\u001b[39m \u001b[43mw3\u001b[49m\u001b[38;5;241;43m.\u001b[39;49m\u001b[43meth\u001b[49m\u001b[38;5;241;43m.\u001b[39;49m\u001b[43mestimate_gas\u001b[49m\u001b[43m(\u001b[49m\u001b[43mgas_estimate_transaction\u001b[49m\u001b[43m)\u001b[49m\n\u001b[1;32m    152\u001b[0m     gas_limit \u001b[38;5;241m=\u001b[39m get_block_gas_limit(w3)\n\u001b[1;32m    154\u001b[0m     \u001b[38;5;28;01mif\u001b[39;00m gas_estimate \u001b[38;5;241m>\u001b[39m gas_limit:\n",
      "File \u001b[0;32m~/.local/lib/python3.10/site-packages/web3/eth/eth.py:292\u001b[0m, in \u001b[0;36mEth.estimate_gas\u001b[0;34m(self, transaction, block_identifier)\u001b[0m\n\u001b[1;32m    289\u001b[0m \u001b[38;5;28;01mdef\u001b[39;00m \u001b[38;5;21mestimate_gas\u001b[39m(\n\u001b[1;32m    290\u001b[0m     \u001b[38;5;28mself\u001b[39m, transaction: TxParams, block_identifier: Optional[BlockIdentifier] \u001b[38;5;241m=\u001b[39m \u001b[38;5;28;01mNone\u001b[39;00m\n\u001b[1;32m    291\u001b[0m ) \u001b[38;5;241m-\u001b[39m\u001b[38;5;241m>\u001b[39m \u001b[38;5;28mint\u001b[39m:\n\u001b[0;32m--> 292\u001b[0m     \u001b[38;5;28;01mreturn\u001b[39;00m \u001b[38;5;28;43mself\u001b[39;49m\u001b[38;5;241;43m.\u001b[39;49m\u001b[43m_estimate_gas\u001b[49m\u001b[43m(\u001b[49m\u001b[43mtransaction\u001b[49m\u001b[43m,\u001b[49m\u001b[43m \u001b[49m\u001b[43mblock_identifier\u001b[49m\u001b[43m)\u001b[49m\n",
      "File \u001b[0;32m~/.local/lib/python3.10/site-packages/web3/module.py:68\u001b[0m, in \u001b[0;36mretrieve_blocking_method_call_fn.<locals>.caller\u001b[0;34m(*args, **kwargs)\u001b[0m\n\u001b[1;32m     62\u001b[0m     \u001b[38;5;28;01mreturn\u001b[39;00m LogFilter(eth_module\u001b[38;5;241m=\u001b[39mmodule, filter_id\u001b[38;5;241m=\u001b[39merr\u001b[38;5;241m.\u001b[39mfilter_id)\n\u001b[1;32m     63\u001b[0m (\n\u001b[1;32m     64\u001b[0m     result_formatters,\n\u001b[1;32m     65\u001b[0m     error_formatters,\n\u001b[1;32m     66\u001b[0m     null_result_formatters,\n\u001b[1;32m     67\u001b[0m ) \u001b[38;5;241m=\u001b[39m response_formatters\n\u001b[0;32m---> 68\u001b[0m result \u001b[38;5;241m=\u001b[39m \u001b[43mw3\u001b[49m\u001b[38;5;241;43m.\u001b[39;49m\u001b[43mmanager\u001b[49m\u001b[38;5;241;43m.\u001b[39;49m\u001b[43mrequest_blocking\u001b[49m\u001b[43m(\u001b[49m\n\u001b[1;32m     69\u001b[0m \u001b[43m    \u001b[49m\u001b[43mmethod_str\u001b[49m\u001b[43m,\u001b[49m\u001b[43m \u001b[49m\u001b[43mparams\u001b[49m\u001b[43m,\u001b[49m\u001b[43m \u001b[49m\u001b[43merror_formatters\u001b[49m\u001b[43m,\u001b[49m\u001b[43m \u001b[49m\u001b[43mnull_result_formatters\u001b[49m\n\u001b[1;32m     70\u001b[0m \u001b[43m\u001b[49m\u001b[43m)\u001b[49m\n\u001b[1;32m     71\u001b[0m \u001b[38;5;28;01mreturn\u001b[39;00m apply_result_formatters(result_formatters, result)\n",
      "File \u001b[0;32m~/.local/lib/python3.10/site-packages/web3/manager.py:232\u001b[0m, in \u001b[0;36mRequestManager.request_blocking\u001b[0;34m(self, method, params, error_formatters, null_result_formatters)\u001b[0m\n\u001b[1;32m    228\u001b[0m \u001b[38;5;124;03m\"\"\"\u001b[39;00m\n\u001b[1;32m    229\u001b[0m \u001b[38;5;124;03mMake a synchronous request using the provider\u001b[39;00m\n\u001b[1;32m    230\u001b[0m \u001b[38;5;124;03m\"\"\"\u001b[39;00m\n\u001b[1;32m    231\u001b[0m response \u001b[38;5;241m=\u001b[39m \u001b[38;5;28mself\u001b[39m\u001b[38;5;241m.\u001b[39m_make_request(method, params)\n\u001b[0;32m--> 232\u001b[0m \u001b[38;5;28;01mreturn\u001b[39;00m \u001b[38;5;28;43mself\u001b[39;49m\u001b[38;5;241;43m.\u001b[39;49m\u001b[43mformatted_response\u001b[49m\u001b[43m(\u001b[49m\n\u001b[1;32m    233\u001b[0m \u001b[43m    \u001b[49m\u001b[43mresponse\u001b[49m\u001b[43m,\u001b[49m\u001b[43m \u001b[49m\u001b[43mparams\u001b[49m\u001b[43m,\u001b[49m\u001b[43m \u001b[49m\u001b[43merror_formatters\u001b[49m\u001b[43m,\u001b[49m\u001b[43m \u001b[49m\u001b[43mnull_result_formatters\u001b[49m\n\u001b[1;32m    234\u001b[0m \u001b[43m\u001b[49m\u001b[43m)\u001b[49m\n",
      "File \u001b[0;32m~/.local/lib/python3.10/site-packages/web3/manager.py:197\u001b[0m, in \u001b[0;36mRequestManager.formatted_response\u001b[0;34m(response, params, error_formatters, null_result_formatters)\u001b[0m\n\u001b[1;32m    189\u001b[0m \u001b[38;5;129m@staticmethod\u001b[39m\n\u001b[1;32m    190\u001b[0m \u001b[38;5;28;01mdef\u001b[39;00m \u001b[38;5;21mformatted_response\u001b[39m(\n\u001b[1;32m    191\u001b[0m     response: RPCResponse,\n\u001b[0;32m   (...)\u001b[0m\n\u001b[1;32m    194\u001b[0m     null_result_formatters: Optional[Callable[\u001b[38;5;241m.\u001b[39m\u001b[38;5;241m.\u001b[39m\u001b[38;5;241m.\u001b[39m, Any]] \u001b[38;5;241m=\u001b[39m \u001b[38;5;28;01mNone\u001b[39;00m,\n\u001b[1;32m    195\u001b[0m ) \u001b[38;5;241m-\u001b[39m\u001b[38;5;241m>\u001b[39m Any:\n\u001b[1;32m    196\u001b[0m     \u001b[38;5;28;01mif\u001b[39;00m \u001b[38;5;124m\"\u001b[39m\u001b[38;5;124merror\u001b[39m\u001b[38;5;124m\"\u001b[39m \u001b[38;5;129;01min\u001b[39;00m response:\n\u001b[0;32m--> 197\u001b[0m         \u001b[43mapply_error_formatters\u001b[49m\u001b[43m(\u001b[49m\u001b[43merror_formatters\u001b[49m\u001b[43m,\u001b[49m\u001b[43m \u001b[49m\u001b[43mresponse\u001b[49m\u001b[43m)\u001b[49m\n\u001b[1;32m    199\u001b[0m         \u001b[38;5;66;03m# guard against eth-tester case - eth-tester returns a string\u001b[39;00m\n\u001b[1;32m    200\u001b[0m         \u001b[38;5;66;03m# with no code, so can't parse what the error is.\u001b[39;00m\n\u001b[1;32m    201\u001b[0m         \u001b[38;5;28;01mif\u001b[39;00m \u001b[38;5;28misinstance\u001b[39m(response[\u001b[38;5;124m\"\u001b[39m\u001b[38;5;124merror\u001b[39m\u001b[38;5;124m\"\u001b[39m], \u001b[38;5;28mdict\u001b[39m):\n",
      "File \u001b[0;32m~/.local/lib/python3.10/site-packages/web3/manager.py:73\u001b[0m, in \u001b[0;36mapply_error_formatters\u001b[0;34m(error_formatters, response)\u001b[0m\n\u001b[1;32m     68\u001b[0m \u001b[38;5;28;01mdef\u001b[39;00m \u001b[38;5;21mapply_error_formatters\u001b[39m(\n\u001b[1;32m     69\u001b[0m     error_formatters: Callable[\u001b[38;5;241m.\u001b[39m\u001b[38;5;241m.\u001b[39m\u001b[38;5;241m.\u001b[39m, Any],\n\u001b[1;32m     70\u001b[0m     response: RPCResponse,\n\u001b[1;32m     71\u001b[0m ) \u001b[38;5;241m-\u001b[39m\u001b[38;5;241m>\u001b[39m RPCResponse:\n\u001b[1;32m     72\u001b[0m     \u001b[38;5;28;01mif\u001b[39;00m error_formatters:\n\u001b[0;32m---> 73\u001b[0m         formatted_resp \u001b[38;5;241m=\u001b[39m \u001b[43mpipe\u001b[49m\u001b[43m(\u001b[49m\u001b[43mresponse\u001b[49m\u001b[43m,\u001b[49m\u001b[43m \u001b[49m\u001b[43merror_formatters\u001b[49m\u001b[43m)\u001b[49m\n\u001b[1;32m     74\u001b[0m         \u001b[38;5;28;01mreturn\u001b[39;00m formatted_resp\n\u001b[1;32m     75\u001b[0m     \u001b[38;5;28;01melse\u001b[39;00m:\n",
      "File \u001b[0;32m~/.local/lib/python3.10/site-packages/cytoolz/functoolz.pyx:666\u001b[0m, in \u001b[0;36mcytoolz.functoolz.pipe\u001b[0;34m()\u001b[0m\n",
      "File \u001b[0;32m~/.local/lib/python3.10/site-packages/cytoolz/functoolz.pyx:641\u001b[0m, in \u001b[0;36mcytoolz.functoolz.c_pipe\u001b[0;34m()\u001b[0m\n",
      "File \u001b[0;32m~/.local/lib/python3.10/site-packages/web3/_utils/method_formatters.py:649\u001b[0m, in \u001b[0;36mraise_contract_logic_error_on_revert\u001b[0;34m(response)\u001b[0m\n\u001b[1;32m    647\u001b[0m \u001b[38;5;66;03m# Ganache case:\u001b[39;00m\n\u001b[1;32m    648\u001b[0m \u001b[38;5;28;01mif\u001b[39;00m \u001b[38;5;28misinstance\u001b[39m(data, \u001b[38;5;28mdict\u001b[39m) \u001b[38;5;129;01mand\u001b[39;00m response[\u001b[38;5;124m\"\u001b[39m\u001b[38;5;124merror\u001b[39m\u001b[38;5;124m\"\u001b[39m]\u001b[38;5;241m.\u001b[39mget(\u001b[38;5;124m\"\u001b[39m\u001b[38;5;124mmessage\u001b[39m\u001b[38;5;124m\"\u001b[39m):\n\u001b[0;32m--> 649\u001b[0m     \u001b[38;5;28;01mraise\u001b[39;00m ContractLogicError(\u001b[38;5;124mf\u001b[39m\u001b[38;5;124m'\u001b[39m\u001b[38;5;124mexecution reverted: \u001b[39m\u001b[38;5;132;01m{\u001b[39;00mresponse[\u001b[38;5;124m\"\u001b[39m\u001b[38;5;124merror\u001b[39m\u001b[38;5;124m\"\u001b[39m][\u001b[38;5;124m\"\u001b[39m\u001b[38;5;124mmessage\u001b[39m\u001b[38;5;124m\"\u001b[39m]\u001b[38;5;132;01m}\u001b[39;00m\u001b[38;5;124m'\u001b[39m)\n\u001b[1;32m    651\u001b[0m \u001b[38;5;66;03m# Parity/OpenEthereum case:\u001b[39;00m\n\u001b[1;32m    652\u001b[0m \u001b[38;5;28;01mif\u001b[39;00m data\u001b[38;5;241m.\u001b[39mstartswith(\u001b[38;5;124m\"\u001b[39m\u001b[38;5;124mReverted \u001b[39m\u001b[38;5;124m\"\u001b[39m):\n\u001b[1;32m    653\u001b[0m     \u001b[38;5;66;03m# \"Reverted\", function selector and offset are always the same for revert errors\u001b[39;00m\n",
      "\u001b[0;31mContractLogicError\u001b[0m: execution reverted: Error: Transaction reverted without a reason string"
     ]
    }
   ],
   "source": [
    "swap.functions.swap(\n",
    "    swap.w3.to_checksum_address(univ3_address),\n",
    "    swap.w3.to_checksum_address(weth_address),\n",
    "    swap.w3.to_checksum_address(usdt_address),\n",
    "    3000, \n",
    "    int(1e17)\n",
    ").transact()"
   ]
  },
  {
   "cell_type": "code",
   "execution_count": null,
   "id": "545c4a05",
   "metadata": {},
   "outputs": [],
   "source": [
    "# call can only be used when you want to view"
   ]
  },
  {
   "cell_type": "code",
   "execution_count": 15,
   "id": "a6637d97",
   "metadata": {},
   "outputs": [],
   "source": [
    "from solcx import compile_standard, compile_files, install_solc"
   ]
  },
  {
   "cell_type": "code",
   "execution_count": 16,
   "id": "0c7de5bf",
   "metadata": {},
   "outputs": [],
   "source": [
    "remappings = open('remappings.txt').read().split('\\n')[:-1]"
   ]
  },
  {
   "cell_type": "code",
   "execution_count": 17,
   "id": "804e4d29",
   "metadata": {},
   "outputs": [
    {
     "name": "stdout",
     "output_type": "stream",
     "text": [
      "INFO:solcx:solc 0.8.17 already installed at: /Users/annelohmeijer/.solcx/solc-v0.8.17\n"
     ]
    }
   ],
   "source": [
    "compiler_version = \"0.8.17\"\n",
    "install_solc(compiler_version)\n",
    "\n",
    "with open('src/Swap.sol') as f:\n",
    "    file = f.read()"
   ]
  },
  {
   "cell_type": "code",
   "execution_count": 19,
   "id": "badec8c8",
   "metadata": {},
   "outputs": [],
   "source": [
    "compiled_contracts = compile_files(source_files=['src/Swap.sol'], \n",
    "              output_values=[\"abi\", \"bin\"],\n",
    "              import_remappings=remappings,\n",
    "              solc_version=compiler_version)"
   ]
  },
  {
   "cell_type": "code",
   "execution_count": 20,
   "id": "67516943",
   "metadata": {},
   "outputs": [
    {
     "data": {
      "text/plain": [
       "{'abi': [{'anonymous': False,\n",
       "   'inputs': [{'indexed': True,\n",
       "     'internalType': 'address',\n",
       "     'name': 'previousOwner',\n",
       "     'type': 'address'},\n",
       "    {'indexed': True,\n",
       "     'internalType': 'address',\n",
       "     'name': 'newOwner',\n",
       "     'type': 'address'}],\n",
       "   'name': 'OwnershipTransferred',\n",
       "   'type': 'event'},\n",
       "  {'inputs': [{'internalType': 'address',\n",
       "     'name': 'tokenAddress',\n",
       "     'type': 'address'}],\n",
       "   'name': 'getTokenBalance',\n",
       "   'outputs': [{'internalType': 'uint256', 'name': '', 'type': 'uint256'}],\n",
       "   'stateMutability': 'view',\n",
       "   'type': 'function'},\n",
       "  {'inputs': [],\n",
       "   'name': 'owner',\n",
       "   'outputs': [{'internalType': 'address', 'name': '', 'type': 'address'}],\n",
       "   'stateMutability': 'view',\n",
       "   'type': 'function'},\n",
       "  {'inputs': [],\n",
       "   'name': 'renounceOwnership',\n",
       "   'outputs': [],\n",
       "   'stateMutability': 'nonpayable',\n",
       "   'type': 'function'},\n",
       "  {'inputs': [{'internalType': 'address',\n",
       "     'name': '_router',\n",
       "     'type': 'address'},\n",
       "    {'internalType': 'address', 'name': 'tokenIn', 'type': 'address'},\n",
       "    {'internalType': 'address', 'name': 'tokenOut', 'type': 'address'},\n",
       "    {'internalType': 'uint24', 'name': 'poolFee', 'type': 'uint24'},\n",
       "    {'internalType': 'uint256', 'name': 'amountIn', 'type': 'uint256'}],\n",
       "   'name': 'swap',\n",
       "   'outputs': [{'internalType': 'uint256',\n",
       "     'name': 'amountOut',\n",
       "     'type': 'uint256'}],\n",
       "   'stateMutability': 'nonpayable',\n",
       "   'type': 'function'},\n",
       "  {'inputs': [{'internalType': 'address', 'name': 'to', 'type': 'address'},\n",
       "    {'internalType': 'uint256', 'name': 'amount', 'type': 'uint256'}],\n",
       "   'name': 'transferETH',\n",
       "   'outputs': [],\n",
       "   'stateMutability': 'nonpayable',\n",
       "   'type': 'function'},\n",
       "  {'inputs': [{'internalType': 'address',\n",
       "     'name': 'newOwner',\n",
       "     'type': 'address'}],\n",
       "   'name': 'transferOwnership',\n",
       "   'outputs': [],\n",
       "   'stateMutability': 'nonpayable',\n",
       "   'type': 'function'},\n",
       "  {'inputs': [{'internalType': 'address',\n",
       "     'name': 'tokenAddress',\n",
       "     'type': 'address'},\n",
       "    {'internalType': 'uint256', 'name': 'amount', 'type': 'uint256'}],\n",
       "   'name': 'withdrawERC20',\n",
       "   'outputs': [],\n",
       "   'stateMutability': 'nonpayable',\n",
       "   'type': 'function'},\n",
       "  {'inputs': [],\n",
       "   'name': 'withdrawETH',\n",
       "   'outputs': [],\n",
       "   'stateMutability': 'nonpayable',\n",
       "   'type': 'function'},\n",
       "  {'stateMutability': 'payable', 'type': 'receive'}],\n",
       " 'bin': '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'}"
      ]
     },
     "execution_count": 20,
     "metadata": {},
     "output_type": "execute_result"
    }
   ],
   "source": [
    "compiled_contracts[\"src/Swap.sol:Swap\"]"
   ]
  },
  {
   "cell_type": "code",
   "execution_count": 104,
   "id": "8496b7ff",
   "metadata": {},
   "outputs": [
    {
     "data": {
      "text/plain": [
       "'lib/v3-core/contracts/interfaces/callback/IUniswapV3SwapCallback.sol:IUniswapV3SwapCallback'"
      ]
     },
     "execution_count": 104,
     "metadata": {},
     "output_type": "execute_result"
    }
   ],
   "source": [
    "abi"
   ]
  },
  {
   "cell_type": "code",
   "execution_count": 102,
   "id": "c2512193",
   "metadata": {},
   "outputs": [
    {
     "data": {
      "text/plain": [
       "{'abi': [{'inputs': [{'components': [{'internalType': 'bytes',\n",
       "       'name': 'path',\n",
       "       'type': 'bytes'},\n",
       "      {'internalType': 'address', 'name': 'recipient', 'type': 'address'},\n",
       "      {'internalType': 'uint256', 'name': 'deadline', 'type': 'uint256'},\n",
       "      {'internalType': 'uint256', 'name': 'amountIn', 'type': 'uint256'},\n",
       "      {'internalType': 'uint256',\n",
       "       'name': 'amountOutMinimum',\n",
       "       'type': 'uint256'}],\n",
       "     'internalType': 'struct ISwapRouter.ExactInputParams',\n",
       "     'name': 'params',\n",
       "     'type': 'tuple'}],\n",
       "   'name': 'exactInput',\n",
       "   'outputs': [{'internalType': 'uint256',\n",
       "     'name': 'amountOut',\n",
       "     'type': 'uint256'}],\n",
       "   'stateMutability': 'payable',\n",
       "   'type': 'function'},\n",
       "  {'inputs': [{'components': [{'internalType': 'address',\n",
       "       'name': 'tokenIn',\n",
       "       'type': 'address'},\n",
       "      {'internalType': 'address', 'name': 'tokenOut', 'type': 'address'},\n",
       "      {'internalType': 'uint24', 'name': 'fee', 'type': 'uint24'},\n",
       "      {'internalType': 'address', 'name': 'recipient', 'type': 'address'},\n",
       "      {'internalType': 'uint256', 'name': 'deadline', 'type': 'uint256'},\n",
       "      {'internalType': 'uint256', 'name': 'amountIn', 'type': 'uint256'},\n",
       "      {'internalType': 'uint256',\n",
       "       'name': 'amountOutMinimum',\n",
       "       'type': 'uint256'},\n",
       "      {'internalType': 'uint160',\n",
       "       'name': 'sqrtPriceLimitX96',\n",
       "       'type': 'uint160'}],\n",
       "     'internalType': 'struct ISwapRouter.ExactInputSingleParams',\n",
       "     'name': 'params',\n",
       "     'type': 'tuple'}],\n",
       "   'name': 'exactInputSingle',\n",
       "   'outputs': [{'internalType': 'uint256',\n",
       "     'name': 'amountOut',\n",
       "     'type': 'uint256'}],\n",
       "   'stateMutability': 'payable',\n",
       "   'type': 'function'},\n",
       "  {'inputs': [{'components': [{'internalType': 'bytes',\n",
       "       'name': 'path',\n",
       "       'type': 'bytes'},\n",
       "      {'internalType': 'address', 'name': 'recipient', 'type': 'address'},\n",
       "      {'internalType': 'uint256', 'name': 'deadline', 'type': 'uint256'},\n",
       "      {'internalType': 'uint256', 'name': 'amountOut', 'type': 'uint256'},\n",
       "      {'internalType': 'uint256',\n",
       "       'name': 'amountInMaximum',\n",
       "       'type': 'uint256'}],\n",
       "     'internalType': 'struct ISwapRouter.ExactOutputParams',\n",
       "     'name': 'params',\n",
       "     'type': 'tuple'}],\n",
       "   'name': 'exactOutput',\n",
       "   'outputs': [{'internalType': 'uint256',\n",
       "     'name': 'amountIn',\n",
       "     'type': 'uint256'}],\n",
       "   'stateMutability': 'payable',\n",
       "   'type': 'function'},\n",
       "  {'inputs': [{'components': [{'internalType': 'address',\n",
       "       'name': 'tokenIn',\n",
       "       'type': 'address'},\n",
       "      {'internalType': 'address', 'name': 'tokenOut', 'type': 'address'},\n",
       "      {'internalType': 'uint24', 'name': 'fee', 'type': 'uint24'},\n",
       "      {'internalType': 'address', 'name': 'recipient', 'type': 'address'},\n",
       "      {'internalType': 'uint256', 'name': 'deadline', 'type': 'uint256'},\n",
       "      {'internalType': 'uint256', 'name': 'amountOut', 'type': 'uint256'},\n",
       "      {'internalType': 'uint256',\n",
       "       'name': 'amountInMaximum',\n",
       "       'type': 'uint256'},\n",
       "      {'internalType': 'uint160',\n",
       "       'name': 'sqrtPriceLimitX96',\n",
       "       'type': 'uint160'}],\n",
       "     'internalType': 'struct ISwapRouter.ExactOutputSingleParams',\n",
       "     'name': 'params',\n",
       "     'type': 'tuple'}],\n",
       "   'name': 'exactOutputSingle',\n",
       "   'outputs': [{'internalType': 'uint256',\n",
       "     'name': 'amountIn',\n",
       "     'type': 'uint256'}],\n",
       "   'stateMutability': 'payable',\n",
       "   'type': 'function'},\n",
       "  {'inputs': [{'internalType': 'int256',\n",
       "     'name': 'amount0Delta',\n",
       "     'type': 'int256'},\n",
       "    {'internalType': 'int256', 'name': 'amount1Delta', 'type': 'int256'},\n",
       "    {'internalType': 'bytes', 'name': 'data', 'type': 'bytes'}],\n",
       "   'name': 'uniswapV3SwapCallback',\n",
       "   'outputs': [],\n",
       "   'stateMutability': 'nonpayable',\n",
       "   'type': 'function'}],\n",
       " 'bin': ''}"
      ]
     },
     "execution_count": 102,
     "metadata": {},
     "output_type": "execute_result"
    }
   ],
   "source": [
    "bytecode"
   ]
  },
  {
   "cell_type": "code",
   "execution_count": 21,
   "id": "e7f80e6b",
   "metadata": {},
   "outputs": [
    {
     "ename": "ContextualVersionConflict",
     "evalue": "(regex 2021.10.23 (/usr/local/lib/python3.9/site-packages), Requirement.parse('regex>=2022.3.15'), {'parsimonious'})",
     "output_type": "error",
     "traceback": [
      "\u001b[0;31m---------------------------------------------------------------------------\u001b[0m",
      "\u001b[0;31mContextualVersionConflict\u001b[0m                 Traceback (most recent call last)",
      "Input \u001b[0;32mIn [21]\u001b[0m, in \u001b[0;36m<cell line: 1>\u001b[0;34m()\u001b[0m\n\u001b[0;32m----> 1\u001b[0m \u001b[38;5;28;01mfrom\u001b[39;00m \u001b[38;5;21;01minterface\u001b[39;00m\u001b[38;5;21;01m.\u001b[39;00m\u001b[38;5;21;01mw3\u001b[39;00m \u001b[38;5;28;01mimport\u001b[39;00m Provider\n",
      "File \u001b[0;32m~/Solidity/defi-case/interface/w3.py:9\u001b[0m, in \u001b[0;36m<module>\u001b[0;34m\u001b[0m\n\u001b[1;32m      7\u001b[0m \u001b[38;5;28;01mimport\u001b[39;00m \u001b[38;5;21;01mrequests\u001b[39;00m\n\u001b[1;32m      8\u001b[0m \u001b[38;5;28;01mfrom\u001b[39;00m \u001b[38;5;21;01mdotenv\u001b[39;00m \u001b[38;5;28;01mimport\u001b[39;00m load_dotenv\n\u001b[0;32m----> 9\u001b[0m \u001b[38;5;28;01mfrom\u001b[39;00m \u001b[38;5;21;01mweb3\u001b[39;00m \u001b[38;5;28;01mimport\u001b[39;00m Web3\n\u001b[1;32m     11\u001b[0m logging\u001b[38;5;241m.\u001b[39mbasicConfig(stream\u001b[38;5;241m=\u001b[39msys\u001b[38;5;241m.\u001b[39mstdout, level\u001b[38;5;241m=\u001b[39mlogging\u001b[38;5;241m.\u001b[39mINFO)\n\u001b[1;32m     12\u001b[0m logger \u001b[38;5;241m=\u001b[39m logging\u001b[38;5;241m.\u001b[39mgetLogger(\u001b[38;5;18m__name__\u001b[39m)\n",
      "File \u001b[0;32m/usr/local/lib/python3.9/site-packages/web3/__init__.py:1\u001b[0m, in \u001b[0;36m<module>\u001b[0;34m\u001b[0m\n\u001b[0;32m----> 1\u001b[0m \u001b[38;5;28;01mfrom\u001b[39;00m \u001b[38;5;21;01meth_account\u001b[39;00m \u001b[38;5;28;01mimport\u001b[39;00m Account  \u001b[38;5;66;03m# noqa: E402,\u001b[39;00m\n\u001b[1;32m      2\u001b[0m \u001b[38;5;28;01mimport\u001b[39;00m \u001b[38;5;21;01mpkg_resources\u001b[39;00m\n\u001b[1;32m      4\u001b[0m \u001b[38;5;28;01mfrom\u001b[39;00m \u001b[38;5;21;01mweb3\u001b[39;00m\u001b[38;5;21;01m.\u001b[39;00m\u001b[38;5;21;01mmain\u001b[39;00m \u001b[38;5;28;01mimport\u001b[39;00m (\n\u001b[1;32m      5\u001b[0m     AsyncWeb3,\n\u001b[1;32m      6\u001b[0m     Web3,\n\u001b[1;32m      7\u001b[0m )\n",
      "File \u001b[0;32m/usr/local/lib/python3.9/site-packages/eth_account/__init__.py:1\u001b[0m, in \u001b[0;36m<module>\u001b[0;34m\u001b[0m\n\u001b[0;32m----> 1\u001b[0m \u001b[38;5;28;01mfrom\u001b[39;00m \u001b[38;5;21;01meth_account\u001b[39;00m\u001b[38;5;21;01m.\u001b[39;00m\u001b[38;5;21;01maccount\u001b[39;00m \u001b[38;5;28;01mimport\u001b[39;00m (\n\u001b[1;32m      2\u001b[0m     Account,\n\u001b[1;32m      3\u001b[0m )\n\u001b[1;32m      5\u001b[0m __all__ \u001b[38;5;241m=\u001b[39m [\u001b[38;5;124m\"\u001b[39m\u001b[38;5;124mAccount\u001b[39m\u001b[38;5;124m\"\u001b[39m]\n",
      "File \u001b[0;32m/usr/local/lib/python3.9/site-packages/eth_account/account.py:71\u001b[0m, in \u001b[0;36m<module>\u001b[0;34m\u001b[0m\n\u001b[1;32m     61\u001b[0m \u001b[38;5;28;01mfrom\u001b[39;00m \u001b[38;5;21;01meth_account\u001b[39;00m\u001b[38;5;21;01m.\u001b[39;00m\u001b[38;5;21;01mdatastructures\u001b[39;00m \u001b[38;5;28;01mimport\u001b[39;00m (\n\u001b[1;32m     62\u001b[0m     SignedMessage,\n\u001b[1;32m     63\u001b[0m     SignedTransaction,\n\u001b[1;32m     64\u001b[0m )\n\u001b[1;32m     65\u001b[0m \u001b[38;5;28;01mfrom\u001b[39;00m \u001b[38;5;21;01meth_account\u001b[39;00m\u001b[38;5;21;01m.\u001b[39;00m\u001b[38;5;21;01mhdaccount\u001b[39;00m \u001b[38;5;28;01mimport\u001b[39;00m (\n\u001b[1;32m     66\u001b[0m     ETHEREUM_DEFAULT_PATH,\n\u001b[1;32m     67\u001b[0m     generate_mnemonic,\n\u001b[1;32m     68\u001b[0m     key_from_seed,\n\u001b[1;32m     69\u001b[0m     seed_from_mnemonic,\n\u001b[1;32m     70\u001b[0m )\n\u001b[0;32m---> 71\u001b[0m \u001b[38;5;28;01mfrom\u001b[39;00m \u001b[38;5;21;01meth_account\u001b[39;00m\u001b[38;5;21;01m.\u001b[39;00m\u001b[38;5;21;01mmessages\u001b[39;00m \u001b[38;5;28;01mimport\u001b[39;00m (\n\u001b[1;32m     72\u001b[0m     SignableMessage,\n\u001b[1;32m     73\u001b[0m     _hash_eip191_message,\n\u001b[1;32m     74\u001b[0m )\n\u001b[1;32m     75\u001b[0m \u001b[38;5;28;01mfrom\u001b[39;00m \u001b[38;5;21;01meth_account\u001b[39;00m\u001b[38;5;21;01m.\u001b[39;00m\u001b[38;5;21;01msigners\u001b[39;00m\u001b[38;5;21;01m.\u001b[39;00m\u001b[38;5;21;01mlocal\u001b[39;00m \u001b[38;5;28;01mimport\u001b[39;00m (\n\u001b[1;32m     76\u001b[0m     LocalAccount,\n\u001b[1;32m     77\u001b[0m )\n\u001b[1;32m     79\u001b[0m VRS \u001b[38;5;241m=\u001b[39m TypeVar(\u001b[38;5;124m\"\u001b[39m\u001b[38;5;124mVRS\u001b[39m\u001b[38;5;124m\"\u001b[39m, \u001b[38;5;28mbytes\u001b[39m, HexStr, \u001b[38;5;28mint\u001b[39m)\n",
      "File \u001b[0;32m/usr/local/lib/python3.9/site-packages/eth_account/messages.py:25\u001b[0m, in \u001b[0;36m<module>\u001b[0;34m\u001b[0m\n\u001b[1;32m     13\u001b[0m \u001b[38;5;28;01mfrom\u001b[39;00m \u001b[38;5;21;01meth_utils\u001b[39;00m\u001b[38;5;21;01m.\u001b[39;00m\u001b[38;5;21;01mcurried\u001b[39;00m \u001b[38;5;28;01mimport\u001b[39;00m (\n\u001b[1;32m     14\u001b[0m     ValidationError,\n\u001b[1;32m     15\u001b[0m     keccak,\n\u001b[0;32m   (...)\u001b[0m\n\u001b[1;32m     19\u001b[0m     to_text,\n\u001b[1;32m     20\u001b[0m )\n\u001b[1;32m     21\u001b[0m \u001b[38;5;28;01mfrom\u001b[39;00m \u001b[38;5;21;01mhexbytes\u001b[39;00m \u001b[38;5;28;01mimport\u001b[39;00m (\n\u001b[1;32m     22\u001b[0m     HexBytes,\n\u001b[1;32m     23\u001b[0m )\n\u001b[0;32m---> 25\u001b[0m \u001b[38;5;28;01mfrom\u001b[39;00m \u001b[38;5;21;01meth_account\u001b[39;00m\u001b[38;5;21;01m.\u001b[39;00m\u001b[38;5;21;01m_utils\u001b[39;00m\u001b[38;5;21;01m.\u001b[39;00m\u001b[38;5;21;01mstructured_data\u001b[39;00m\u001b[38;5;21;01m.\u001b[39;00m\u001b[38;5;21;01mhashing\u001b[39;00m \u001b[38;5;28;01mimport\u001b[39;00m (\n\u001b[1;32m     26\u001b[0m     hash_domain,\n\u001b[1;32m     27\u001b[0m     hash_message \u001b[38;5;28;01mas\u001b[39;00m hash_eip712_message,\n\u001b[1;32m     28\u001b[0m     load_and_validate_structured_message,\n\u001b[1;32m     29\u001b[0m )\n\u001b[1;32m     30\u001b[0m \u001b[38;5;28;01mfrom\u001b[39;00m \u001b[38;5;21;01meth_account\u001b[39;00m\u001b[38;5;21;01m.\u001b[39;00m\u001b[38;5;21;01m_utils\u001b[39;00m\u001b[38;5;21;01m.\u001b[39;00m\u001b[38;5;21;01mstructured_data\u001b[39;00m\u001b[38;5;21;01m.\u001b[39;00m\u001b[38;5;21;01mvalidation\u001b[39;00m \u001b[38;5;28;01mimport\u001b[39;00m (\n\u001b[1;32m     31\u001b[0m     validate_structured_data,\n\u001b[1;32m     32\u001b[0m )\n\u001b[1;32m     33\u001b[0m \u001b[38;5;28;01mfrom\u001b[39;00m \u001b[38;5;21;01meth_account\u001b[39;00m\u001b[38;5;21;01m.\u001b[39;00m\u001b[38;5;21;01m_utils\u001b[39;00m\u001b[38;5;21;01m.\u001b[39;00m\u001b[38;5;21;01mvalidation\u001b[39;00m \u001b[38;5;28;01mimport\u001b[39;00m (\n\u001b[1;32m     34\u001b[0m     is_valid_address,\n\u001b[1;32m     35\u001b[0m )\n",
      "File \u001b[0;32m/usr/local/lib/python3.9/site-packages/eth_account/_utils/structured_data/hashing.py:9\u001b[0m, in \u001b[0;36m<module>\u001b[0;34m\u001b[0m\n\u001b[1;32m      4\u001b[0m \u001b[38;5;28;01mimport\u001b[39;00m \u001b[38;5;21;01mjson\u001b[39;00m\n\u001b[1;32m      5\u001b[0m \u001b[38;5;28;01mfrom\u001b[39;00m \u001b[38;5;21;01moperator\u001b[39;00m \u001b[38;5;28;01mimport\u001b[39;00m (\n\u001b[1;32m      6\u001b[0m     itemgetter,\n\u001b[1;32m      7\u001b[0m )\n\u001b[0;32m----> 9\u001b[0m \u001b[38;5;28;01mfrom\u001b[39;00m \u001b[38;5;21;01meth_abi\u001b[39;00m \u001b[38;5;28;01mimport\u001b[39;00m (\n\u001b[1;32m     10\u001b[0m     encode,\n\u001b[1;32m     11\u001b[0m     is_encodable,\n\u001b[1;32m     12\u001b[0m     is_encodable_type,\n\u001b[1;32m     13\u001b[0m )\n\u001b[1;32m     14\u001b[0m \u001b[38;5;28;01mfrom\u001b[39;00m \u001b[38;5;21;01meth_abi\u001b[39;00m\u001b[38;5;21;01m.\u001b[39;00m\u001b[38;5;21;01mgrammar\u001b[39;00m \u001b[38;5;28;01mimport\u001b[39;00m (\n\u001b[1;32m     15\u001b[0m     parse,\n\u001b[1;32m     16\u001b[0m )\n\u001b[1;32m     17\u001b[0m \u001b[38;5;28;01mfrom\u001b[39;00m \u001b[38;5;21;01meth_utils\u001b[39;00m \u001b[38;5;28;01mimport\u001b[39;00m (\n\u001b[1;32m     18\u001b[0m     keccak,\n\u001b[1;32m     19\u001b[0m     to_tuple,\n\u001b[1;32m     20\u001b[0m )\n",
      "File \u001b[0;32m/usr/local/lib/python3.9/site-packages/eth_abi/__init__.py:10\u001b[0m, in \u001b[0;36m<module>\u001b[0;34m\u001b[0m\n\u001b[1;32m      1\u001b[0m \u001b[38;5;28;01mimport\u001b[39;00m \u001b[38;5;21;01mpkg_resources\u001b[39;00m\n\u001b[1;32m      3\u001b[0m \u001b[38;5;28;01mfrom\u001b[39;00m \u001b[38;5;21;01meth_abi\u001b[39;00m\u001b[38;5;21;01m.\u001b[39;00m\u001b[38;5;21;01mabi\u001b[39;00m \u001b[38;5;28;01mimport\u001b[39;00m (  \u001b[38;5;66;03m# NOQA\u001b[39;00m\n\u001b[1;32m      4\u001b[0m     decode,\n\u001b[1;32m      5\u001b[0m     encode,\n\u001b[1;32m      6\u001b[0m     is_encodable,\n\u001b[1;32m      7\u001b[0m     is_encodable_type,\n\u001b[1;32m      8\u001b[0m )\n\u001b[0;32m---> 10\u001b[0m __version__ \u001b[38;5;241m=\u001b[39m \u001b[43mpkg_resources\u001b[49m\u001b[38;5;241;43m.\u001b[39;49m\u001b[43mget_distribution\u001b[49m\u001b[43m(\u001b[49m\u001b[38;5;124;43m\"\u001b[39;49m\u001b[38;5;124;43meth-abi\u001b[39;49m\u001b[38;5;124;43m\"\u001b[39;49m\u001b[43m)\u001b[49m\u001b[38;5;241m.\u001b[39mversion\n",
      "File \u001b[0;32m/usr/local/lib/python3.9/site-packages/pkg_resources/__init__.py:478\u001b[0m, in \u001b[0;36mget_distribution\u001b[0;34m(dist)\u001b[0m\n\u001b[1;32m    476\u001b[0m     dist \u001b[38;5;241m=\u001b[39m Requirement\u001b[38;5;241m.\u001b[39mparse(dist)\n\u001b[1;32m    477\u001b[0m \u001b[38;5;28;01mif\u001b[39;00m \u001b[38;5;28misinstance\u001b[39m(dist, Requirement):\n\u001b[0;32m--> 478\u001b[0m     dist \u001b[38;5;241m=\u001b[39m \u001b[43mget_provider\u001b[49m\u001b[43m(\u001b[49m\u001b[43mdist\u001b[49m\u001b[43m)\u001b[49m\n\u001b[1;32m    479\u001b[0m \u001b[38;5;28;01mif\u001b[39;00m \u001b[38;5;129;01mnot\u001b[39;00m \u001b[38;5;28misinstance\u001b[39m(dist, Distribution):\n\u001b[1;32m    480\u001b[0m     \u001b[38;5;28;01mraise\u001b[39;00m \u001b[38;5;167;01mTypeError\u001b[39;00m(\u001b[38;5;124m\"\u001b[39m\u001b[38;5;124mExpected string, Requirement, or Distribution\u001b[39m\u001b[38;5;124m\"\u001b[39m, dist)\n",
      "File \u001b[0;32m/usr/local/lib/python3.9/site-packages/pkg_resources/__init__.py:354\u001b[0m, in \u001b[0;36mget_provider\u001b[0;34m(moduleOrReq)\u001b[0m\n\u001b[1;32m    352\u001b[0m \u001b[38;5;124;03m\"\"\"Return an IResourceProvider for the named module or requirement\"\"\"\u001b[39;00m\n\u001b[1;32m    353\u001b[0m \u001b[38;5;28;01mif\u001b[39;00m \u001b[38;5;28misinstance\u001b[39m(moduleOrReq, Requirement):\n\u001b[0;32m--> 354\u001b[0m     \u001b[38;5;28;01mreturn\u001b[39;00m working_set\u001b[38;5;241m.\u001b[39mfind(moduleOrReq) \u001b[38;5;129;01mor\u001b[39;00m \u001b[43mrequire\u001b[49m\u001b[43m(\u001b[49m\u001b[38;5;28;43mstr\u001b[39;49m\u001b[43m(\u001b[49m\u001b[43mmoduleOrReq\u001b[49m\u001b[43m)\u001b[49m\u001b[43m)\u001b[49m[\u001b[38;5;241m0\u001b[39m]\n\u001b[1;32m    355\u001b[0m \u001b[38;5;28;01mtry\u001b[39;00m:\n\u001b[1;32m    356\u001b[0m     module \u001b[38;5;241m=\u001b[39m sys\u001b[38;5;241m.\u001b[39mmodules[moduleOrReq]\n",
      "File \u001b[0;32m/usr/local/lib/python3.9/site-packages/pkg_resources/__init__.py:909\u001b[0m, in \u001b[0;36mWorkingSet.require\u001b[0;34m(self, *requirements)\u001b[0m\n\u001b[1;32m    900\u001b[0m \u001b[38;5;28;01mdef\u001b[39;00m \u001b[38;5;21mrequire\u001b[39m(\u001b[38;5;28mself\u001b[39m, \u001b[38;5;241m*\u001b[39mrequirements):\n\u001b[1;32m    901\u001b[0m     \u001b[38;5;124;03m\"\"\"Ensure that distributions matching `requirements` are activated\u001b[39;00m\n\u001b[1;32m    902\u001b[0m \n\u001b[1;32m    903\u001b[0m \u001b[38;5;124;03m    `requirements` must be a string or a (possibly-nested) sequence\u001b[39;00m\n\u001b[0;32m   (...)\u001b[0m\n\u001b[1;32m    907\u001b[0m \u001b[38;5;124;03m    included, even if they were already activated in this working set.\u001b[39;00m\n\u001b[1;32m    908\u001b[0m \u001b[38;5;124;03m    \"\"\"\u001b[39;00m\n\u001b[0;32m--> 909\u001b[0m     needed \u001b[38;5;241m=\u001b[39m \u001b[38;5;28;43mself\u001b[39;49m\u001b[38;5;241;43m.\u001b[39;49m\u001b[43mresolve\u001b[49m\u001b[43m(\u001b[49m\u001b[43mparse_requirements\u001b[49m\u001b[43m(\u001b[49m\u001b[43mrequirements\u001b[49m\u001b[43m)\u001b[49m\u001b[43m)\u001b[49m\n\u001b[1;32m    911\u001b[0m     \u001b[38;5;28;01mfor\u001b[39;00m dist \u001b[38;5;129;01min\u001b[39;00m needed:\n\u001b[1;32m    912\u001b[0m         \u001b[38;5;28mself\u001b[39m\u001b[38;5;241m.\u001b[39madd(dist)\n",
      "File \u001b[0;32m/usr/local/lib/python3.9/site-packages/pkg_resources/__init__.py:800\u001b[0m, in \u001b[0;36mWorkingSet.resolve\u001b[0;34m(self, requirements, env, installer, replace_conflicting, extras)\u001b[0m\n\u001b[1;32m    797\u001b[0m \u001b[38;5;28;01mif\u001b[39;00m dist \u001b[38;5;129;01mnot\u001b[39;00m \u001b[38;5;129;01min\u001b[39;00m req:\n\u001b[1;32m    798\u001b[0m     \u001b[38;5;66;03m# Oops, the \"best\" so far conflicts with a dependency\u001b[39;00m\n\u001b[1;32m    799\u001b[0m     dependent_req \u001b[38;5;241m=\u001b[39m required_by[req]\n\u001b[0;32m--> 800\u001b[0m     \u001b[38;5;28;01mraise\u001b[39;00m VersionConflict(dist, req)\u001b[38;5;241m.\u001b[39mwith_context(dependent_req)\n\u001b[1;32m    802\u001b[0m \u001b[38;5;66;03m# push the new requirements onto the stack\u001b[39;00m\n\u001b[1;32m    803\u001b[0m new_requirements \u001b[38;5;241m=\u001b[39m dist\u001b[38;5;241m.\u001b[39mrequires(req\u001b[38;5;241m.\u001b[39mextras)[::\u001b[38;5;241m-\u001b[39m\u001b[38;5;241m1\u001b[39m]\n",
      "\u001b[0;31mContextualVersionConflict\u001b[0m: (regex 2021.10.23 (/usr/local/lib/python3.9/site-packages), Requirement.parse('regex>=2022.3.15'), {'parsimonious'})"
     ]
    }
   ],
   "source": [
    "from interface.w3 import Provider"
   ]
  },
  {
   "cell_type": "code",
   "execution_count": null,
   "id": "dd447c6e",
   "metadata": {},
   "outputs": [],
   "source": [
    "p = Provider() "
   ]
  },
  {
   "cell_type": "code",
   "execution_count": null,
   "id": "3d3e5558",
   "metadata": {},
   "outputs": [],
   "source": [
    "p"
   ]
  },
  {
   "cell_type": "code",
   "execution_count": null,
   "id": "cd3ca199",
   "metadata": {},
   "outputs": [],
   "source": []
  }
 ],
 "metadata": {
  "kernelspec": {
   "display_name": "Python 3 (ipykernel)",
   "language": "python",
   "name": "python3"
  },
  "language_info": {
   "codemirror_mode": {
    "name": "ipython",
    "version": 3
   },
   "file_extension": ".py",
   "mimetype": "text/x-python",
   "name": "python",
   "nbconvert_exporter": "python",
   "pygments_lexer": "ipython3",
   "version": "3.9.16"
  }
 },
 "nbformat": 4,
 "nbformat_minor": 5
}
