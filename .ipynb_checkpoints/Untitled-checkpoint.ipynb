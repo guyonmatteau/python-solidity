{
 "cells": [
  {
   "cell_type": "code",
   "execution_count": 1,
   "id": "1eff4787",
   "metadata": {},
   "outputs": [],
   "source": [
    "%load_ext autoreload\n",
    "%autoreload 2"
   ]
  },
  {
   "cell_type": "code",
   "execution_count": 2,
   "id": "3ee534f5",
   "metadata": {},
   "outputs": [],
   "source": [
    "import logging\n",
    "import sys\n",
    "\n",
    "logging.basicConfig(stream=sys.stdout, level=logging.DEBUG)\n",
    "from dotenv import load_dotenv"
   ]
  },
  {
   "cell_type": "code",
   "execution_count": 3,
   "id": "5aec4da2",
   "metadata": {},
   "outputs": [
    {
     "data": {
      "text/plain": [
       "True"
      ]
     },
     "execution_count": 3,
     "metadata": {},
     "output_type": "execute_result"
    }
   ],
   "source": [
    "load_dotenv(dotenv_path='.env.localhost')"
   ]
  },
  {
   "cell_type": "code",
   "execution_count": 5,
   "id": "5eb17bf8",
   "metadata": {},
   "outputs": [],
   "source": [
    "from configparser import ConfigParser"
   ]
  },
  {
   "cell_type": "code",
   "execution_count": 6,
   "id": "45c069c2",
   "metadata": {},
   "outputs": [
    {
     "data": {
      "text/plain": [
       "['conf/localhost.ini']"
      ]
     },
     "execution_count": 6,
     "metadata": {},
     "output_type": "execute_result"
    }
   ],
   "source": [
    "conf = ConfigParser()\n",
    "conf.read('conf/localhost.ini')"
   ]
  },
  {
   "cell_type": "code",
   "execution_count": 7,
   "id": "cae031b5",
   "metadata": {},
   "outputs": [
    {
     "data": {
      "text/plain": [
       "{'rpc': {'url': 'http://127.0.0.1:8545'},\n",
       " 'routers': {'uniswapv3': '0x7a250d5630B4cF539739dF2C5dAcb4c659F2488D',\n",
       "  'sushiswap': '0xd9e1cE17f2641f24aE83637ab66a2cca9C378B9F'},\n",
       " 'tokens': {'usdc': '0xAb5801a7D398351b8bE11C439e05C5B3259aeC9B',\n",
       "  'usdt': '0xdac17f958d2ee523a2206206994597c13d831ec7',\n",
       "  'weth': '0xc02aaa39b223fe8d0a0e5c4f27ead9083c756cc2'}}"
      ]
     },
     "execution_count": 7,
     "metadata": {},
     "output_type": "execute_result"
    }
   ],
   "source": [
    "conf._sections"
   ]
  },
  {
   "cell_type": "code",
   "execution_count": 8,
   "id": "113e4716",
   "metadata": {},
   "outputs": [],
   "source": [
    "contract = '0x0724F18B2aA7D6413D3fDcF6c0c27458a8170Dd9'"
   ]
  },
  {
   "cell_type": "code",
   "execution_count": null,
   "id": "1d90b02d",
   "metadata": {},
   "outputs": [],
   "source": [
    "import json\n",
    "\n",
    "with open('out/Swap.sol/Swap.json', 'r') as f:\n",
    "  data = json.load(f)"
   ]
  },
  {
   "cell_type": "code",
   "execution_count": 11,
   "id": "379c54d6",
   "metadata": {},
   "outputs": [],
   "source": [
    "from arbitrage.etherscan import get_abi"
   ]
  },
  {
   "cell_type": "code",
   "execution_count": 12,
   "id": "ef148dc7",
   "metadata": {},
   "outputs": [
    {
     "name": "stdout",
     "output_type": "stream",
     "text": [
      "DEBUG:urllib3.connectionpool:Starting new HTTPS connection (1): api.polygonscan.com:443\n"
     ]
    },
    {
     "name": "stderr",
     "output_type": "stream",
     "text": [
      "/usr/local/anaconda3/lib/python3.8/site-packages/urllib3/connectionpool.py:1045: InsecureRequestWarning: Unverified HTTPS request is being made to host 'api.polygonscan.com'. Adding certificate verification is strongly advised. See: https://urllib3.readthedocs.io/en/1.26.x/advanced-usage.html#ssl-warnings\n",
      "  warnings.warn(\n"
     ]
    },
    {
     "name": "stdout",
     "output_type": "stream",
     "text": [
      "DEBUG:urllib3.connectionpool:https://api.polygonscan.com:443 \"GET /api HTTP/1.1\" 200 536\n"
     ]
    }
   ],
   "source": [
    "ABI = get_abi(address='0x7B07cfD8649E2643E225445995ACbAE43C9c029A')"
   ]
  },
  {
   "cell_type": "code",
   "execution_count": 13,
   "id": "75051a36",
   "metadata": {},
   "outputs": [
    {
     "data": {
      "text/plain": [
       "'[{\"anonymous\":false,\"inputs\":[{\"indexed\":true,\"internalType\":\"address\",\"name\":\"previousOwner\",\"type\":\"address\"},{\"indexed\":true,\"internalType\":\"address\",\"name\":\"newOwner\",\"type\":\"address\"}],\"name\":\"OwnershipTransferred\",\"type\":\"event\"},{\"inputs\":[{\"internalType\":\"address\",\"name\":\"router1\",\"type\":\"address\"},{\"internalType\":\"address\",\"name\":\"router2\",\"type\":\"address\"},{\"internalType\":\"address\",\"name\":\"token1\",\"type\":\"address\"},{\"internalType\":\"address\",\"name\":\"token2\",\"type\":\"address\"},{\"internalType\":\"uint256\",\"name\":\"amount\",\"type\":\"uint256\"}],\"name\":\"estimateTrade\",\"outputs\":[{\"internalType\":\"uint256\",\"name\":\"\",\"type\":\"uint256\"}],\"stateMutability\":\"view\",\"type\":\"function\"},{\"inputs\":[{\"internalType\":\"address\",\"name\":\"router\",\"type\":\"address\"},{\"internalType\":\"address\",\"name\":\"tokenIn\",\"type\":\"address\"},{\"internalType\":\"address\",\"name\":\"tokenOut\",\"type\":\"address\"},{\"internalType\":\"uint256\",\"name\":\"amount\",\"type\":\"uint256\"}],\"name\":\"getAmountOutMin\",\"outputs\":[{\"internalType\":\"uint256\",\"name\":\"\",\"type\":\"uint256\"}],\"stateMutability\":\"view\",\"type\":\"function\"},{\"inputs\":[],\"name\":\"owner\",\"outputs\":[{\"internalType\":\"address\",\"name\":\"\",\"type\":\"address\"}],\"stateMutability\":\"view\",\"type\":\"function\"},{\"inputs\":[],\"name\":\"renounceOwnership\",\"outputs\":[],\"stateMutability\":\"nonpayable\",\"type\":\"function\"},{\"inputs\":[{\"internalType\":\"address\",\"name\":\"newOwner\",\"type\":\"address\"}],\"name\":\"transferOwnership\",\"outputs\":[],\"stateMutability\":\"nonpayable\",\"type\":\"function\"}]'"
      ]
     },
     "execution_count": 13,
     "metadata": {},
     "output_type": "execute_result"
    }
   ],
   "source": [
    "ABI"
   ]
  },
  {
   "cell_type": "code",
   "execution_count": 14,
   "id": "4f9b5356",
   "metadata": {},
   "outputs": [
    {
     "name": "stdout",
     "output_type": "stream",
     "text": [
      "DEBUG:rlp.codec:Consider installing rusty-rlp to improve pyrlp performance with a rust based backend\n"
     ]
    }
   ],
   "source": [
    "from arbitrage.w3 import Chain"
   ]
  },
  {
   "cell_type": "code",
   "execution_count": 15,
   "id": "43b0a0ab",
   "metadata": {},
   "outputs": [
    {
     "name": "stdout",
     "output_type": "stream",
     "text": [
      "INFO:arbitrage.w3:Reading config from conf/polygon.ini\n",
      "INFO:arbitrage.w3:Reading secrets from .env and .env.polygon\n",
      "INFO:arbitrage.w3:RPC root: https://polygon-mainnet.g.alchemy.com/v2/\n",
      "DEBUG:web3._utils.request:Session cached: https://polygon-mainnet.g.alchemy.com/v2/gAqrZMYw25fyl7R7kJvSGUaXmzpDNM-d, <requests.sessions.Session object at 0x7fa544285940>\n",
      "DEBUG:web3.providers.HTTPProvider:Making request HTTP. URI: https://polygon-mainnet.g.alchemy.com/v2/gAqrZMYw25fyl7R7kJvSGUaXmzpDNM-d, Method: web3_clientVersion\n",
      "DEBUG:urllib3.connectionpool:Starting new HTTPS connection (1): polygon-mainnet.g.alchemy.com:443\n",
      "DEBUG:urllib3.connectionpool:https://polygon-mainnet.g.alchemy.com:443 \"POST /v2/gAqrZMYw25fyl7R7kJvSGUaXmzpDNM-d HTTP/1.1\" 200 None\n",
      "DEBUG:web3.providers.HTTPProvider:Getting response HTTP. URI: https://polygon-mainnet.g.alchemy.com/v2/gAqrZMYw25fyl7R7kJvSGUaXmzpDNM-d, Method: web3_clientVersion, Response: {'jsonrpc': '2.0', 'id': 0, 'result': 'bor/v0.3.5-stable/linux-amd64/go1.19.1'}\n",
      "INFO:arbitrage.w3:Connected to chain polygon: True\n"
     ]
    }
   ],
   "source": [
    "c = Chain(chain='polygon')"
   ]
  },
  {
   "cell_type": "code",
   "execution_count": 16,
   "id": "fd79e50a",
   "metadata": {},
   "outputs": [
    {
     "data": {
      "text/plain": [
       "{'chain': 'polygon',\n",
       " 'config': <configparser.ConfigParser at 0x7fa544278df0>,\n",
       " 'rpc_root': 'https://polygon-mainnet.g.alchemy.com/v2/',\n",
       " 'rpc_url': 'https://polygon-mainnet.g.alchemy.com/v2/gAqrZMYw25fyl7R7kJvSGUaXmzpDNM-d',\n",
       " 'w3': <web3.main.Web3 at 0x7fa5452f7eb0>}"
      ]
     },
     "execution_count": 16,
     "metadata": {},
     "output_type": "execute_result"
    }
   ],
   "source": [
    "c.__dict__"
   ]
  },
  {
   "cell_type": "code",
   "execution_count": 17,
   "id": "d127222d",
   "metadata": {},
   "outputs": [],
   "source": [
    "contract = c.w3.eth.contract(address=c.w3.to_checksum_address(contract), abi=ABI)"
   ]
  },
  {
   "cell_type": "code",
   "execution_count": 18,
   "id": "fc3efb6c",
   "metadata": {},
   "outputs": [
    {
     "name": "stdout",
     "output_type": "stream",
     "text": [
      "DEBUG:web3.RequestManager:Making request. Method: eth_getBalance\n",
      "DEBUG:web3.providers.HTTPProvider:Making request HTTP. URI: https://polygon-mainnet.g.alchemy.com/v2/gAqrZMYw25fyl7R7kJvSGUaXmzpDNM-d, Method: eth_getBalance\n",
      "DEBUG:urllib3.connectionpool:https://polygon-mainnet.g.alchemy.com:443 \"POST /v2/gAqrZMYw25fyl7R7kJvSGUaXmzpDNM-d HTTP/1.1\" 200 None\n",
      "DEBUG:web3.providers.HTTPProvider:Getting response HTTP. URI: https://polygon-mainnet.g.alchemy.com/v2/gAqrZMYw25fyl7R7kJvSGUaXmzpDNM-d, Method: eth_getBalance, Response: {'jsonrpc': '2.0', 'id': 1, 'result': '0x113c3f36d6bdda190'}\n"
     ]
    }
   ],
   "source": [
    "balance = c.w3.eth.get_balance('0xcA2713a8962677112902509Ce490Fb35f22452a2')\n"
   ]
  },
  {
   "cell_type": "code",
   "execution_count": 19,
   "id": "e35b5f41",
   "metadata": {},
   "outputs": [
    {
     "data": {
      "text/plain": [
       "19870993632175432080"
      ]
     },
     "execution_count": 19,
     "metadata": {},
     "output_type": "execute_result"
    }
   ],
   "source": [
    "balance"
   ]
  },
  {
   "cell_type": "code",
   "execution_count": null,
   "id": "d6b5555c",
   "metadata": {},
   "outputs": [],
   "source": []
  },
  {
   "cell_type": "code",
   "execution_count": 37,
   "id": "fcf0033f",
   "metadata": {},
   "outputs": [
    {
     "data": {
      "text/plain": [
       "1000000000000000000"
      ]
     },
     "execution_count": 37,
     "metadata": {},
     "output_type": "execute_result"
    }
   ],
   "source": [
    "c.w3.to_wei(1, 'ether')"
   ]
  },
  {
   "cell_type": "code",
   "execution_count": 45,
   "id": "cc61c964",
   "metadata": {},
   "outputs": [
    {
     "data": {
      "text/plain": [
       "Decimal('1.81260236')"
      ]
     },
     "execution_count": 45,
     "metadata": {},
     "output_type": "execute_result"
    }
   ],
   "source": [
    "c.w3.from_wei(1812602360, 'gwei')"
   ]
  },
  {
   "cell_type": "code",
   "execution_count": 21,
   "id": "a4712923",
   "metadata": {},
   "outputs": [
    {
     "name": "stdout",
     "output_type": "stream",
     "text": [
      "DEBUG:web3.RequestManager:Making request. Method: eth_call\n",
      "DEBUG:web3.RequestManager:Making request. Method: eth_chainId\n",
      "DEBUG:web3.providers.HTTPProvider:Making request HTTP. URI: https://polygon-mainnet.g.alchemy.com/v2/gAqrZMYw25fyl7R7kJvSGUaXmzpDNM-d, Method: eth_chainId\n",
      "DEBUG:urllib3.connectionpool:https://polygon-mainnet.g.alchemy.com:443 \"POST /v2/gAqrZMYw25fyl7R7kJvSGUaXmzpDNM-d HTTP/1.1\" 200 40\n",
      "DEBUG:web3.providers.HTTPProvider:Getting response HTTP. URI: https://polygon-mainnet.g.alchemy.com/v2/gAqrZMYw25fyl7R7kJvSGUaXmzpDNM-d, Method: eth_chainId, Response: {'jsonrpc': '2.0', 'id': 4, 'result': '0x89'}\n",
      "DEBUG:web3.providers.HTTPProvider:Making request HTTP. URI: https://polygon-mainnet.g.alchemy.com/v2/gAqrZMYw25fyl7R7kJvSGUaXmzpDNM-d, Method: eth_call\n",
      "DEBUG:urllib3.connectionpool:https://polygon-mainnet.g.alchemy.com:443 \"POST /v2/gAqrZMYw25fyl7R7kJvSGUaXmzpDNM-d HTTP/1.1\" 200 None\n",
      "DEBUG:web3.providers.HTTPProvider:Getting response HTTP. URI: https://polygon-mainnet.g.alchemy.com/v2/gAqrZMYw25fyl7R7kJvSGUaXmzpDNM-d, Method: eth_call, Response: {'jsonrpc': '2.0', 'id': 5, 'result': '0x00000000000000000000000000000000000000000000000000000017bf9727d8'}\n"
     ]
    },
    {
     "data": {
      "text/plain": [
       "101998602200"
      ]
     },
     "execution_count": 21,
     "metadata": {},
     "output_type": "execute_result"
    }
   ],
   "source": [
    "contract.functions.getAmountOutMin(\n",
    "    c.w3.to_checksum_address('0xa5e0829caced8ffdd4de3c43696c57f7d7a678ff'), \n",
    "    c.w3.to_checksum_address(conf['tokens']['wbtc']), \n",
    "    c.w3.to_checksum_address(conf['tokens']['usdc']), \n",
    "    int(1e18)).call()"
   ]
  },
  {
   "cell_type": "code",
   "execution_count": 22,
   "id": "fcccae5c",
   "metadata": {},
   "outputs": [],
   "source": [
    "# 1 satoshi = 154,637,261,274 wei\n",
    "# 1 btc = 100,000,000 satoshi\n",
    "btc = 154637261274 * 1e8 # wei"
   ]
  },
  {
   "cell_type": "code",
   "execution_count": 52,
   "id": "73c63898",
   "metadata": {},
   "outputs": [
    {
     "data": {
      "text/plain": [
       "1.54637261274e+19"
      ]
     },
     "execution_count": 52,
     "metadata": {},
     "output_type": "execute_result"
    }
   ],
   "source": [
    "btc"
   ]
  },
  {
   "cell_type": "code",
   "execution_count": 48,
   "id": "0537e555",
   "metadata": {},
   "outputs": [
    {
     "data": {
      "text/plain": [
       "1277.71927033"
      ]
     },
     "execution_count": 48,
     "metadata": {},
     "output_type": "execute_result"
    }
   ],
   "source": [
    "127771927033 / 1e8"
   ]
  },
  {
   "cell_type": "code",
   "execution_count": null,
   "id": "80ba1c64",
   "metadata": {},
   "outputs": [],
   "source": [
    "contract.functions.getAmount().call()"
   ]
  },
  {
   "cell_type": "code",
   "execution_count": 47,
   "id": "d3e4f2a1",
   "metadata": {},
   "outputs": [
    {
     "data": {
      "text/plain": [
       "2492.61797768"
      ]
     },
     "execution_count": 47,
     "metadata": {},
     "output_type": "execute_result"
    }
   ],
   "source": [
    "249261797768 / 1e8"
   ]
  },
  {
   "cell_type": "code",
   "execution_count": null,
   "id": "01d5eaed",
   "metadata": {},
   "outputs": [],
   "source": [
    "contract.functions.getAmountOutMin()"
   ]
  },
  {
   "cell_type": "code",
   "execution_count": null,
   "id": "f72d3362",
   "metadata": {},
   "outputs": [],
   "source": []
  }
 ],
 "metadata": {
  "kernelspec": {
   "display_name": "Python 3",
   "language": "python",
   "name": "python3"
  },
  "language_info": {
   "codemirror_mode": {
    "name": "ipython",
    "version": 3
   },
   "file_extension": ".py",
   "mimetype": "text/x-python",
   "name": "python",
   "nbconvert_exporter": "python",
   "pygments_lexer": "ipython3",
   "version": "3.8.8"
  }
 },
 "nbformat": 4,
 "nbformat_minor": 5
}
